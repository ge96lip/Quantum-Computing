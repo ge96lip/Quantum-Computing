{
 "cells": [
  {
   "cell_type": "code",
   "execution_count": 7,
   "metadata": {},
   "outputs": [
    {
     "name": "stdout",
     "output_type": "stream",
     "text": [
      "The autoreload extension is already loaded. To reload it, use:\n",
      "  %reload_ext autoreload\n"
     ]
    }
   ],
   "source": [
    "%load_ext autoreload\n",
    "%autoreload 2\n",
    "from qiskit_shor import *"
   ]
  },
  {
   "cell_type": "code",
   "execution_count": 8,
   "metadata": {},
   "outputs": [],
   "source": [
    "from qiskit_ibm_runtime import QiskitRuntimeService\n",
    "\n",
    "QiskitRuntimeService.save_account(channel=\"ibm_quantum\", token='09df633b74dd007ffcadc2567fe0a934235d150e0567890bc94888ce7e852767aff8a15e17af4b68013ee87bbd7cf07b01b477752eed996b2d4ed9b8163c3063', overwrite=True)\n",
    "service = QiskitRuntimeService()\n",
    "backend = service.backend('ibm_brisbane')\n",
    "shor_circuit = Shor(backend)"
   ]
  },
  {
   "cell_type": "code",
   "execution_count": 21,
   "metadata": {},
   "outputs": [],
   "source": [
    "N = 341\n",
    "a = 2\n",
    "resp = input('re-run? type yes')\n",
    "if resp == 'yes':\n",
    "    job, circuit = shor_circuit.factor(N, a)"
   ]
  },
  {
   "cell_type": "code",
   "execution_count": 22,
   "metadata": {},
   "outputs": [],
   "source": [
    "job = service.job('cwna01g40e000089g8jg')"
   ]
  },
  {
   "cell_type": "code",
   "execution_count": 23,
   "metadata": {},
   "outputs": [
    {
     "name": "stdout",
     "output_type": "stream",
     "text": [
      "[[11, 31]]\n"
     ]
    }
   ],
   "source": [
    "if job.done:\n",
    "    result = shor_circuit.package_result(job, N, a)\n",
    "    result.factors\n",
    "print(result.factors)"
   ]
  },
  {
   "cell_type": "code",
   "execution_count": 24,
   "metadata": {},
   "outputs": [
    {
     "name": "stdout",
     "output_type": "stream",
     "text": [
      "successful counts 12\n",
      "total counts 128\n",
      "percentage 0.09375\n"
     ]
    }
   ],
   "source": [
    "print('successful counts', result.successful_counts)\n",
    "print('total counts', result.total_counts)\n",
    "print('percentage', result.successful_counts/result.total_counts)"
   ]
  }
 ],
 "metadata": {
  "kernelspec": {
   "display_name": ".venv",
   "language": "python",
   "name": "python3"
  },
  "language_info": {
   "codemirror_mode": {
    "name": "ipython",
    "version": 3
   },
   "file_extension": ".py",
   "mimetype": "text/x-python",
   "name": "python",
   "nbconvert_exporter": "python",
   "pygments_lexer": "ipython3",
   "version": "3.12.5"
  }
 },
 "nbformat": 4,
 "nbformat_minor": 2
}
