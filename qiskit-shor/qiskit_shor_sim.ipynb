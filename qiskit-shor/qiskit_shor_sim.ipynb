{
 "cells": [
  {
   "cell_type": "code",
   "execution_count": 1,
   "metadata": {},
   "outputs": [],
   "source": [
    "%load_ext autoreload\n",
    "%autoreload 2\n",
    "from qiskit_shor import *\n"
   ]
  },
  {
   "cell_type": "code",
   "execution_count": 2,
   "metadata": {},
   "outputs": [],
   "source": [
    "from qiskit_aer import AerSimulator"
   ]
  },
  {
   "cell_type": "code",
   "execution_count": null,
   "metadata": {},
   "outputs": [],
   "source": [
    "from qiskit_ibm_runtime import QiskitRuntimeService\n",
    "\n",
    "QiskitRuntimeService.save_account(channel=\"ibm_quantum\", token='09df633b74dd007ffcadc2567fe0a934235d150e0567890bc94888ce7e852767aff8a15e17af4b68013ee87bbd7cf07b01b477752eed996b2d4ed9b8163c3063', overwrite=True)\n",
    "service = QiskitRuntimeService()\n",
    "backend = service.backend('ibm_brisbane')"
   ]
  },
  {
   "cell_type": "code",
   "execution_count": 3,
   "metadata": {},
   "outputs": [
    {
     "data": {
      "text/plain": [
       "'aer_simulator'"
      ]
     },
     "execution_count": 3,
     "metadata": {},
     "output_type": "execute_result"
    }
   ],
   "source": [
    "backend = AerSimulator().from_backend(backend)\n",
    "shor_circuit = Shor(backend)\n",
    "backend.name"
   ]
  },
  {
   "cell_type": "code",
   "execution_count": 4,
   "metadata": {},
   "outputs": [],
   "source": [
    "N = 33\n",
    "a = 2\n",
    "job, circuit, quantum_time = shor_circuit.factor(N, a)\n",
    "\n",
    "if job.done:\n",
    "    print(len(job.result()[0].data.m.get_counts()))\n",
    "\n",
    "    result = shor_circuit.package_result(job, N, a)\n",
    "    result.quantum_time = quantum_time"
   ]
  },
  {
   "cell_type": "code",
   "execution_count": 123,
   "metadata": {},
   "outputs": [
    {
     "name": "stdout",
     "output_type": "stream",
     "text": [
      "successful counts 9\n",
      "total counts 42\n",
      "percentage 0.21428571428571427\n",
      "quantum time 0.00899195671081543\n",
      "classical time 0.0005970001220703125\n"
     ]
    }
   ],
   "source": [
    "print('successful counts', result.successful_counts)\n",
    "print('total counts', result.total_counts)\n",
    "print('percentage', result.successful_counts/result.total_counts)\n",
    "print('quantum time', result.quantum_time)\n",
    "print('classical time', result.classical_time)"
   ]
  },
  {
   "cell_type": "code",
   "execution_count": 124,
   "metadata": {},
   "outputs": [],
   "source": [
    "# from qiskit.visualization import plot_histogram\n",
    "\n",
    "# plot_histogram(result.counts)"
   ]
  }
 ],
 "metadata": {
  "kernelspec": {
   "display_name": ".venv",
   "language": "python",
   "name": "python3"
  },
  "language_info": {
   "codemirror_mode": {
    "name": "ipython",
    "version": 3
   },
   "file_extension": ".py",
   "mimetype": "text/x-python",
   "name": "python",
   "nbconvert_exporter": "python",
   "pygments_lexer": "ipython3",
   "version": "3.12.5"
  }
 },
 "nbformat": 4,
 "nbformat_minor": 2
}
