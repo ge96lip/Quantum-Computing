{
 "cells": [
  {
   "cell_type": "code",
   "execution_count": 1,
   "metadata": {},
   "outputs": [],
   "source": [
    "from qiskit import QuantumCircuit\n",
    "import numpy as np\n",
    "import matplotlib.pyplot as plt\n",
    "from qiskit import transpile\n",
    "from qiskit_aer import AerSimulator\n",
    "from qiskit.visualization import plot_histogram"
   ]
  },
  {
   "cell_type": "code",
   "execution_count": 2,
   "metadata": {},
   "outputs": [
    {
     "data": {
      "text/html": [
       "<pre style=\"word-wrap: normal;white-space: pre;background: #fff0;line-height: 1.1;font-family: &quot;Courier New&quot;,Courier,monospace\">                        \n",
       "q_0: ───────────────────\n",
       "                        \n",
       "q_1: ───────────────────\n",
       "                        \n",
       "q_2: ───────────────────\n",
       "     ┌─────────────────┐\n",
       "q_3: ┤ Initialize(1,0) ├\n",
       "     └─────────────────┘\n",
       "c: 3/═══════════════════\n",
       "                        </pre>"
      ],
      "text/plain": [
       "                        \n",
       "q_0: ───────────────────\n",
       "                        \n",
       "q_1: ───────────────────\n",
       "                        \n",
       "q_2: ───────────────────\n",
       "     ┌─────────────────┐\n",
       "q_3: ┤ Initialize(1,0) ├\n",
       "     └─────────────────┘\n",
       "c: 3/═══════════════════\n",
       "                        "
      ]
     },
     "execution_count": 2,
     "metadata": {},
     "output_type": "execute_result"
    }
   ],
   "source": [
    "def prepare_input_state(b, num_ancilla=3):\n",
    "\n",
    "    # Create a quantum circuit\n",
    "    qc = QuantumCircuit(num_ancilla + 1, num_ancilla) # 1 qubit for b\n",
    "\n",
    "    # Initialize the quantum state based on b\n",
    "    qc.initialize([b[0], b[1]], num_ancilla, normalize=True)\n",
    "\n",
    "    return qc\n",
    "\n",
    "# Define the vector b\n",
    "b = np.array([1, 0])\n",
    "\n",
    "# Define the number of ancilla qubits\n",
    "num_ancilla = 3\n",
    "\n",
    "qc = prepare_input_state(b, num_ancilla=num_ancilla)\n",
    "qc.draw()"
   ]
  },
  {
   "cell_type": "code",
   "execution_count": 3,
   "metadata": {},
   "outputs": [
    {
     "name": "stdout",
     "output_type": "stream",
     "text": [
      "Unitary Matrix U = \n",
      " [[0.76720251+0.5606113j 0.22263263-0.2180596j]\n",
      " [0.22263263-0.2180596j 0.54456989+0.7786709j]]\n"
     ]
    }
   ],
   "source": [
    "from scipy.linalg import expm\n",
    "from scipy.linalg import ishermitian\n",
    "\n",
    "def hermitian_to_unitary(A):\n",
    "    # Check if A is hermitian\n",
    "    if not ishermitian(A):\n",
    "        raise ValueError(\"Matrix A must be Hermitian.\")\n",
    "\n",
    "    # Compute the unitary operator U = exp(i*A*t) out of hermitian matrix\n",
    "    t = 1/np.pi  # Scaling factor to ensure phases are within [0,1) and distinct\n",
    "    U = expm(1j * A * t)\n",
    "\n",
    "    # Verify that U is unitary\n",
    "    if not np.allclose(U.conj().T @ U, np.eye(len(A))):\n",
    "        raise ValueError(\"Matrix U is not unitary.\")\n",
    "\n",
    "    return U\n",
    "\n",
    "# Define the matrix A\n",
    "A = np.array([[2, -1],\n",
    "              [-1, 3]])\n",
    "\n",
    "\n",
    "U = hermitian_to_unitary(A)\n",
    "print('Unitary Matrix U = \\n', U)"
   ]
  },
  {
   "cell_type": "code",
   "execution_count": 4,
   "metadata": {},
   "outputs": [
    {
     "data": {
      "text/html": [
       "<pre style=\"word-wrap: normal;white-space: pre;background: #fff0;line-height: 1.1;font-family: &quot;Courier New&quot;,Courier,monospace\">            ┌───┐                                        ┌───────┐\n",
       "q_0: ───────┤ H ├────────────■───────────────────────────┤0      ├\n",
       "            ├───┤            │                           │       │\n",
       "q_1: ───────┤ H ├────────────┼──────────■────────────────┤1 IQFT ├\n",
       "            ├───┤            │          │                │       │\n",
       "q_2: ───────┤ H ├────────────┼──────────┼──────────■─────┤2      ├\n",
       "     ┌──────┴───┴──────┐┌────┴────┐┌────┴────┐┌────┴────┐└───────┘\n",
       "q_3: ┤ Initialize(1,0) ├┤ Unitary ├┤ Unitary ├┤ Unitary ├─────────\n",
       "     └─────────────────┘└─────────┘└─────────┘└─────────┘         \n",
       "c: 3/═════════════════════════════════════════════════════════════\n",
       "                                                                  </pre>"
      ],
      "text/plain": [
       "            ┌───┐                                        ┌───────┐\n",
       "q_0: ───────┤ H ├────────────■───────────────────────────┤0      ├\n",
       "            ├───┤            │                           │       │\n",
       "q_1: ───────┤ H ├────────────┼──────────■────────────────┤1 IQFT ├\n",
       "            ├───┤            │          │                │       │\n",
       "q_2: ───────┤ H ├────────────┼──────────┼──────────■─────┤2      ├\n",
       "     ┌──────┴───┴──────┐┌────┴────┐┌────┴────┐┌────┴────┐└───────┘\n",
       "q_3: ┤ Initialize(1,0) ├┤ Unitary ├┤ Unitary ├┤ Unitary ├─────────\n",
       "     └─────────────────┘└─────────┘└─────────┘└─────────┘         \n",
       "c: 3/═════════════════════════════════════════════════════════════\n",
       "                                                                  "
      ]
     },
     "execution_count": 4,
     "metadata": {},
     "output_type": "execute_result"
    }
   ],
   "source": [
    "from qiskit.circuit.library import QFT\n",
    "from qiskit.circuit.library import UnitaryGate\n",
    "\n",
    "def quantum_phase_estimation(A, b, num_ancilla=3):\n",
    "\n",
    "    # Ensure the input is a 2D matrix of size 2x2\n",
    "    if A.shape != (2, 2):\n",
    "        raise ValueError(\"The input matrix must be 2x2.\")\n",
    "\n",
    "    # Convert the matrix into a unitary\n",
    "    U = hermitian_to_unitary(A)\n",
    "\n",
    "    # Create a quantum circuit prepared in initial state based on b\n",
    "    qc = prepare_input_state(b, num_ancilla=num_ancilla)\n",
    "\n",
    "    # Step 1: Apply Hadamard gates to the ancilla qubits\n",
    "    qc.h(range(num_ancilla))\n",
    "\n",
    "    # Step 2: Apply controlled unitary operations\n",
    "    for qubit in range(num_ancilla):\n",
    "        exponent = 2 ** qubit\n",
    "        controlled_unitary = UnitaryGate(np.linalg.matrix_power(U, exponent)).control()  # Controlled U^(2^exponent)\n",
    "        qc.append(controlled_unitary, [qubit, num_ancilla])\n",
    "\n",
    "    # Step 3: Apply Inverse Quantum Fourier Transform (QFT) to the ancilla qubits\n",
    "    qc.append(QFT(num_ancilla, inverse=True).to_gate(), range(num_ancilla))\n",
    "\n",
    "    return qc\n",
    "\n",
    "\n",
    "# Generate the Quantum Phase Estimation circuit for this matrix\n",
    "qc = quantum_phase_estimation(A, b, num_ancilla=num_ancilla)\n",
    "qc.draw()"
   ]
  },
  {
   "cell_type": "code",
   "execution_count": 5,
   "metadata": {},
   "outputs": [
    {
     "name": "stdout",
     "output_type": "stream",
     "text": [
      "Measurement results: {'010': 136, '001': 505, '000': 255, '110': 20, '111': 38, '101': 16, '100': 19, '011': 35}\n"
     ]
    },
    {
     "data": {
      "image/png": "[encoded data removed]",
      "text/plain": [
       "<Figure size 640x480 with 1 Axes>"
      ]
     },
     "execution_count": 5,
     "metadata": {},
     "output_type": "execute_result"
    }
   ],
   "source": [
    "# Optional: perform measurement to find eigenvalues\n",
    "\n",
    "# Measure the ancilla qubits to extract phase information\n",
    "qc.measure(range(num_ancilla), range(num_ancilla))\n",
    "\n",
    "# Simulate the circuit using the Aer simulator\n",
    "simulator = AerSimulator()\n",
    "job = simulator.run(transpile(qc, simulator), shots=1024)\n",
    "result = job.result()\n",
    "\n",
    "# Print the measurement results\n",
    "counts = result.get_counts(qc)\n",
    "print(f\"Measurement results: {counts}\")\n",
    "\n",
    "# Plot the histogram\n",
    "plot_histogram(counts)"
   ]
  },
  {
   "cell_type": "code",
   "execution_count": 6,
   "metadata": {},
   "outputs": [
    {
     "name": "stdout",
     "output_type": "stream",
     "text": [
      "Measured: 010, Phase: 0.250, Eigenvalue estimate: 1.571\n",
      "Measured: 001, Phase: 0.500, Eigenvalue estimate: 3.142\n",
      "Measured: 000, Phase: 0.000, Eigenvalue estimate: 0.000\n"
     ]
    }
   ],
   "source": [
    "#Convert measured outcomes to phases and then to eigenvalues\n",
    "for measurement, count in counts.items():\n",
    "    # Convert binary measurement to phase\n",
    "    phase = sum(int(bit) * (1 / (2 ** (index + 1))) for index, bit in enumerate(reversed(measurement)))\n",
    "    eigenvalue_estimate = 2 * np.pi * phase  # Scale to [0, 2π]\n",
    "\n",
    "    # Since U = e^(i*λ), we can recover λ\n",
    "    eigenvalue = np.angle(np.exp(1j * eigenvalue_estimate))\n",
    "\n",
    "    if count > 100:\n",
    "        print(f\"Measured: {measurement}, Phase: {phase:.3f}, Eigenvalue estimate: {eigenvalue:.3f}\")\n"
   ]
  },
  {
   "cell_type": "code",
   "execution_count": 7,
   "metadata": {},
   "outputs": [
    {
     "data": {
      "text/html": [
       "<pre style=\"word-wrap: normal;white-space: pre;background: #fff0;line-height: 1.1;font-family: &quot;Courier New&quot;,Courier,monospace\">            ┌───┐                                        ┌───────┐┌─┐      »\n",
       "q_0: ───────┤ H ├────────────■───────────────────────────┤0      ├┤M├──────»\n",
       "            ├───┤            │                           │       │└╥┘┌─┐   »\n",
       "q_1: ───────┤ H ├────────────┼──────────■────────────────┤1 IQFT ├─╫─┤M├───»\n",
       "            ├───┤            │          │                │       │ ║ └╥┘┌─┐»\n",
       "q_2: ───────┤ H ├────────────┼──────────┼──────────■─────┤2      ├─╫──╫─┤M├»\n",
       "     ┌──────┴───┴──────┐┌────┴────┐┌────┴────┐┌────┴────┐└───────┘ ║  ║ └╥┘»\n",
       "q_3: ┤ Initialize(1,0) ├┤ Unitary ├┤ Unitary ├┤ Unitary ├──────────╫──╫──╫─»\n",
       "     └─────────────────┘└─────────┘└─────────┘└─────────┘          ║  ║  ║ »\n",
       "c: 3/══════════════════════════════════════════════════════════════╩══╩══╩═»\n",
       "                                                                   0  1  2 »\n",
       "«                                 \n",
       "«q_0: ──────■─────────────────────\n",
       "«           │                     \n",
       "«q_1: ──────┼─────────────■───────\n",
       "«           │             │       \n",
       "«q_2: ──────┼─────────────┼───────\n",
       "«     ┌─────┴──────┐┌─────┴──────┐\n",
       "«q_3: ┤ Rz(4.5466) ├┤ Rz(1.7366) ├\n",
       "«     └────────────┘└────────────┘\n",
       "«c: 3/════════════════════════════\n",
       "«                                 </pre>"
      ],
      "text/plain": [
       "            ┌───┐                                        ┌───────┐┌─┐      »\n",
       "q_0: ───────┤ H ├────────────■───────────────────────────┤0      ├┤M├──────»\n",
       "            ├───┤            │                           │       │└╥┘┌─┐   »\n",
       "q_1: ───────┤ H ├────────────┼──────────■────────────────┤1 IQFT ├─╫─┤M├───»\n",
       "            ├───┤            │          │                │       │ ║ └╥┘┌─┐»\n",
       "q_2: ───────┤ H ├────────────┼──────────┼──────────■─────┤2      ├─╫──╫─┤M├»\n",
       "     ┌──────┴───┴──────┐┌────┴────┐┌────┴────┐┌────┴────┐└───────┘ ║  ║ └╥┘»\n",
       "q_3: ┤ Initialize(1,0) ├┤ Unitary ├┤ Unitary ├┤ Unitary ├──────────╫──╫──╫─»\n",
       "     └─────────────────┘└─────────┘└─────────┘└─────────┘          ║  ║  ║ »\n",
       "c: 3/══════════════════════════════════════════════════════════════╩══╩══╩═»\n",
       "                                                                   0  1  2 »\n",
       "«                                 \n",
       "«q_0: ──────■─────────────────────\n",
       "«           │                     \n",
       "«q_1: ──────┼─────────────■───────\n",
       "«           │             │       \n",
       "«q_2: ──────┼─────────────┼───────\n",
       "«     ┌─────┴──────┐┌─────┴──────┐\n",
       "«q_3: ┤ Rz(4.5466) ├┤ Rz(1.7366) ├\n",
       "«     └────────────┘└────────────┘\n",
       "«c: 3/════════════════════════════\n",
       "«                                 "
      ]
     },
     "execution_count": 7,
     "metadata": {},
     "output_type": "execute_result"
    }
   ],
   "source": [
    "#########################################################################\n",
    "#eigenvalues = [3.142, 1.571] # should be extracted out of the measurement result\n",
    "eigenvalues = [1.38196601, 3.61803399]\n",
    "#########################################################################\n",
    "\n",
    "def controlled_rotations(qc, eigenvalues, num_ancilla):\n",
    "    target_qubit = num_ancilla\n",
    "    for idx, eigenvalue in enumerate(eigenvalues):\n",
    "        if eigenvalue != 0:\n",
    "            angle = 2 * np.pi / eigenvalue  # Convert eigenvalue to angle for rotation\n",
    "            qc.crz(angle, idx, target_qubit)  # Apply controlled rotation (controlled RZ)\n",
    "    return qc\n",
    "\n",
    "\n",
    "qc = controlled_rotations(qc, eigenvalues, num_ancilla)\n",
    "qc.draw()\n"
   ]
  },
  {
   "cell_type": "code",
   "execution_count": 8,
   "metadata": {},
   "outputs": [
    {
     "data": {
      "text/html": [
       "<pre style=\"word-wrap: normal;white-space: pre;background: #fff0;line-height: 1.1;font-family: &quot;Courier New&quot;,Courier,monospace\">            ┌───┐                                        ┌───────┐┌─┐      »\n",
       "q_0: ───────┤ H ├────────────■───────────────────────────┤0      ├┤M├──────»\n",
       "            ├───┤            │                           │       │└╥┘┌─┐   »\n",
       "q_1: ───────┤ H ├────────────┼──────────■────────────────┤1 IQFT ├─╫─┤M├───»\n",
       "            ├───┤            │          │                │       │ ║ └╥┘┌─┐»\n",
       "q_2: ───────┤ H ├────────────┼──────────┼──────────■─────┤2      ├─╫──╫─┤M├»\n",
       "     ┌──────┴───┴──────┐┌────┴────┐┌────┴────┐┌────┴────┐└───────┘ ║  ║ └╥┘»\n",
       "q_3: ┤ Initialize(1,0) ├┤ Unitary ├┤ Unitary ├┤ Unitary ├──────────╫──╫──╫─»\n",
       "     └─────────────────┘└─────────┘└─────────┘└─────────┘          ║  ║  ║ »\n",
       "c: 3/══════════════════════════════════════════════════════════════╩══╩══╩═»\n",
       "                                                                   0  1  2 »\n",
       "«                                 ┌──────┐                           »\n",
       "«q_0: ──────■─────────────────────┤0     ├───────────────────────────»\n",
       "«           │                     │      │                      ┌───┐»\n",
       "«q_1: ──────┼─────────────■───────┤1 QFT ├────────────────■─────┤ H ├»\n",
       "«           │             │       │      │                │     ├───┤»\n",
       "«q_2: ──────┼─────────────┼───────┤2     ├─────■──────────┼─────┤ H ├»\n",
       "«     ┌─────┴──────┐┌─────┴──────┐└──────┘┌────┴────┐┌────┴────┐└───┘»\n",
       "«q_3: ┤ Rz(4.5466) ├┤ Rz(1.7366) ├────────┤ Unitary ├┤ Unitary ├─────»\n",
       "«     └────────────┘└────────────┘        └─────────┘└─────────┘     »\n",
       "«c: 3/═══════════════════════════════════════════════════════════════»\n",
       "«                                                                    »\n",
       "«                ┌───┐\n",
       "«q_0: ─────■─────┤ H ├\n",
       "«          │     └───┘\n",
       "«q_1: ─────┼──────────\n",
       "«          │          \n",
       "«q_2: ─────┼──────────\n",
       "«     ┌────┴────┐     \n",
       "«q_3: ┤ Unitary ├─────\n",
       "«     └─────────┘     \n",
       "«c: 3/════════════════\n",
       "«                     </pre>"
      ],
      "text/plain": [
       "            ┌───┐                                        ┌───────┐┌─┐      »\n",
       "q_0: ───────┤ H ├────────────■───────────────────────────┤0      ├┤M├──────»\n",
       "            ├───┤            │                           │       │└╥┘┌─┐   »\n",
       "q_1: ───────┤ H ├────────────┼──────────■────────────────┤1 IQFT ├─╫─┤M├───»\n",
       "            ├───┤            │          │                │       │ ║ └╥┘┌─┐»\n",
       "q_2: ───────┤ H ├────────────┼──────────┼──────────■─────┤2      ├─╫──╫─┤M├»\n",
       "     ┌──────┴───┴──────┐┌────┴────┐┌────┴────┐┌────┴────┐└───────┘ ║  ║ └╥┘»\n",
       "q_3: ┤ Initialize(1,0) ├┤ Unitary ├┤ Unitary ├┤ Unitary ├──────────╫──╫──╫─»\n",
       "     └─────────────────┘└─────────┘└─────────┘└─────────┘          ║  ║  ║ »\n",
       "c: 3/══════════════════════════════════════════════════════════════╩══╩══╩═»\n",
       "                                                                   0  1  2 »\n",
       "«                                 ┌──────┐                           »\n",
       "«q_0: ──────■─────────────────────┤0     ├───────────────────────────»\n",
       "«           │                     │      │                      ┌───┐»\n",
       "«q_1: ──────┼─────────────■───────┤1 QFT ├────────────────■─────┤ H ├»\n",
       "«           │             │       │      │                │     ├───┤»\n",
       "«q_2: ──────┼─────────────┼───────┤2     ├─────■──────────┼─────┤ H ├»\n",
       "«     ┌─────┴──────┐┌─────┴──────┐└──────┘┌────┴────┐┌────┴────┐└───┘»\n",
       "«q_3: ┤ Rz(4.5466) ├┤ Rz(1.7366) ├────────┤ Unitary ├┤ Unitary ├─────»\n",
       "«     └────────────┘└────────────┘        └─────────┘└─────────┘     »\n",
       "«c: 3/═══════════════════════════════════════════════════════════════»\n",
       "«                                                                    »\n",
       "«                ┌───┐\n",
       "«q_0: ─────■─────┤ H ├\n",
       "«          │     └───┘\n",
       "«q_1: ─────┼──────────\n",
       "«          │          \n",
       "«q_2: ─────┼──────────\n",
       "«     ┌────┴────┐     \n",
       "«q_3: ┤ Unitary ├─────\n",
       "«     └─────────┘     \n",
       "«c: 3/════════════════\n",
       "«                     "
      ]
     },
     "execution_count": 8,
     "metadata": {},
     "output_type": "execute_result"
    }
   ],
   "source": [
    "def inverse_quantum_phase_estimation(A, num_ancilla=3):\n",
    "\n",
    "    # Step 1: Apply Quantum Fourier Transform (QFT) to the ancilla qubits\n",
    "    qc.append(QFT(num_ancilla, inverse=False).to_gate(), range(num_ancilla))\n",
    "\n",
    "    # Step 2: Apply inverse of controlled unitary operations\n",
    "    U = hermitian_to_unitary(A)\n",
    "    for qubit in reversed(range(num_ancilla)):\n",
    "        exponent = 2 ** qubit\n",
    "        controlled_unitary_dagger = UnitaryGate(np.linalg.matrix_power(U, exponent).conj().T).control()  # Controlled U^(2^exponent) dagger\n",
    "        qc.append(controlled_unitary_dagger, [qubit, num_ancilla])\n",
    "\n",
    "    # Step 3: Apply Hadamard gates to the ancilla qubits\n",
    "    qc.h(range(num_ancilla))\n",
    "\n",
    "    return qc\n",
    "\n",
    "qc = inverse_quantum_phase_estimation(A, num_ancilla=num_ancilla)\n",
    "qc.draw()"
   ]
  },
  {
   "cell_type": "code",
   "execution_count": 9,
   "metadata": {},
   "outputs": [],
   "source": [
    "\n",
    "# # Measure the ancilla qubits to extract output states\n",
    "# qc.measure(range(num_ancilla), range(num_ancilla))\n",
    "\n",
    "# # Simulate the circuit using the Aer simulator\n",
    "# simulator = AerSimulator()\n",
    "# job = simulator.run(transpile(qc, simulator), shots=1024)\n",
    "# result = job.result()\n",
    "# statevector = result.get_statevector(qc)\n",
    "\n",
    "# print(statevector)\n",
    "# # Print the measurement results\n",
    "# counts = result.get_counts(qc)\n",
    "# print(f\"Measurement results: {counts}\")\n",
    "\n",
    "# # Plot the histogram\n",
    "# plot_histogram(counts)"
   ]
  },
  {
   "cell_type": "code",
   "execution_count": 10,
   "metadata": {},
   "outputs": [
    {
     "name": "stdout",
     "output_type": "stream",
     "text": [
      "Full statevector: Statevector([-0.16721932+0.47756597j, -0.03768216+0.02524167j,\n",
      "             -0.07824385+0.052052j  ,  0.01059262-0.03276352j,\n",
      "             -0.18588543+0.11940047j,  0.02437529-0.07641105j,\n",
      "              0.05029651-0.15808253j,  0.01416555-0.00741816j,\n",
      "             -0.07887446-0.4571349j ,  0.11603761+0.02013266j,\n",
      "              0.24019299+0.04155678j,  0.00480811+0.03319168j,\n",
      "              0.56176706+0.09580577j,  0.010988  +0.0780937j ,\n",
      "              0.02264185+0.16183858j, -0.03931284-0.00614837j],\n",
      "            dims=(2, 2, 2, 2))\n",
      "Data qubits state (density matrix): DensityMatrix([[ 0.35112399+0.j        , -0.35029493-0.02437644j],\n",
      "               [-0.35029493+0.02437644j,  0.64887601+0.j        ]],\n",
      "              dims=(2,))\n",
      "Reconstructed quantum solution (unnormalized): [0.59255716 0.8055284 ]\n",
      "Classical solution: [0.6 0.2]\n",
      "Scaled quantum solution vector: [0.37476606 0.50946089]\n",
      "Measurement results: {'000': 354, '100': 335, '110': 114, '001': 32, '010': 93, '111': 34, '011': 29, '101': 33}\n"
     ]
    }
   ],
   "source": [
    "\n",
    "from qiskit.quantum_info import partial_trace, Statevector\n",
    "\n",
    "\n",
    "# Save the statevector and measure ancilla qubits\n",
    "qc.save_statevector()\n",
    "qc.measure(range(num_ancilla), range(num_ancilla))\n",
    "\n",
    "# Simulate the circuit\n",
    "simulator = AerSimulator()\n",
    "job = simulator.run(transpile(qc, simulator))\n",
    "result = job.result()\n",
    "\n",
    "# Extract the statevector of the full system (data + ancilla qubits)\n",
    "statevector = result.get_statevector(qc)\n",
    "print(\"Full statevector:\", statevector)\n",
    "\n",
    "# Trace out the ancilla qubits to isolate the data qubits\n",
    "data_qubits_state = partial_trace(statevector, range(num_ancilla))\n",
    "print(\"Data qubits state (density matrix):\", data_qubits_state)\n",
    "\n",
    "# Extract the amplitudes from the density matrix\n",
    "# Diagonal elements represent |alpha_0|^2 and |alpha_1|^2\n",
    "rho_00 = data_qubits_state.data[0, 0]  # Diagonal element |0><0|\n",
    "rho_11 = data_qubits_state.data[1, 1]  # Diagonal element |1><1|\n",
    "rho_01 = data_qubits_state.data[0, 1]  # Off-diagonal element |0><1| (used for phase)\n",
    "\n",
    "# Compute the amplitudes for |0> and |1> based on the diagonal elements\n",
    "alpha_0 = np.sqrt(np.real(rho_00))\n",
    "alpha_1 = np.sqrt(np.real(rho_11))\n",
    "\n",
    "# Reconstruct the pure statevector (ignoring any phases for now)\n",
    "statevector_x = np.array([alpha_0, alpha_1])\n",
    "print(\"Reconstructed quantum solution (unnormalized):\", statevector_x)\n",
    "\n",
    "# Classical solution (for comparison and normalization)\n",
    "x_classical = np.linalg.solve(A, b)\n",
    "print(\"Classical solution:\", x_classical)\n",
    "\n",
    "# Compute the norms of the quantum and classical solutions\n",
    "norm_classical = np.linalg.norm(x_classical)\n",
    "norm_quantum = np.linalg.norm(statevector_x)\n",
    "\n",
    "# Scale the quantum solution to match the classical solution's norm\n",
    "scaled_solution = (norm_classical / norm_quantum) * statevector_x\n",
    "\n",
    "print(\"Scaled quantum solution vector:\", scaled_solution)\n",
    "\n",
    "# Get the measurement results (counts)\n",
    "counts = result.get_counts(qc)\n",
    "print(f\"Measurement results: {counts}\")\n"
   ]
  },
  {
   "cell_type": "code",
   "execution_count": 11,
   "metadata": {},
   "outputs": [
    {
     "name": "stdout",
     "output_type": "stream",
     "text": [
      "Success probability: 0.4961\n"
     ]
    },
    {
     "data": {
      "image/png": "[encoded data removed]",
      "text/plain": [
       "<Figure size 640x480 with 1 Axes>"
      ]
     },
     "execution_count": 11,
     "metadata": {},
     "output_type": "execute_result"
    }
   ],
   "source": [
    "# Calculate the total number of shots (all counts)\n",
    "total_shots = sum(counts.values())\n",
    "\n",
    "# Calculate the number of successful shots (where the first qubit is 0)\n",
    "success_shots = sum(count for outcome, count in counts.items() if outcome[0] == '0')\n",
    "\n",
    "# Calculate success probability\n",
    "success_probability = success_shots / total_shots\n",
    "\n",
    "# Print the success probability\n",
    "print(f\"Success probability: {success_probability:.4f}\")\n",
    "\n",
    "# Plot the histogram of the measurement results\n",
    "plot_histogram(counts)"
   ]
  },
  {
   "cell_type": "code",
   "execution_count": 12,
   "metadata": {},
   "outputs": [
    {
     "name": "stdout",
     "output_type": "stream",
     "text": [
      "Eigenvalues of A: [1.38196601 3.61803399]\n",
      "Eigenvectors of A:\n",
      " [[-0.85065081 -0.52573111]\n",
      " [-0.52573111  0.85065081]]\n",
      "Max eigenvalue of A: 3.618033988749895\n",
      "Min eigenvalue of A: 1.381966011250105\n",
      "Solution x = \n",
      " [0.6 0.2]\n"
     ]
    }
   ],
   "source": [
    "# Compute eigenvalues and eigenvectors of A\n",
    "eigenvalues, eigenvectors = np.linalg.eigh(A)\n",
    "print(\"Eigenvalues of A:\", eigenvalues)\n",
    "print(\"Eigenvectors of A:\\n\", eigenvectors)\n",
    "\n",
    "# Calculate the min and max eigenvalues of the matrix A\n",
    "min_eigenvalue = np.min(eigenvalues)\n",
    "max_eigenvalue = np.max(eigenvalues)\n",
    "print(\"Max eigenvalue of A:\", max_eigenvalue)\n",
    "print(\"Min eigenvalue of A:\", min_eigenvalue)\n",
    "\n",
    "# Solve for x in the equation Ax = b\n",
    "x = np.linalg.solve(A, b)\n",
    "print(\"Solution x = \\n\", x)\n"
   ]
  },
  {
   "cell_type": "code",
   "execution_count": 13,
   "metadata": {},
   "outputs": [],
   "source": [
    "from qiskit import QuantumCircuit\n",
    "import numpy as np\n",
    "from qiskit import transpile\n",
    "from qiskit_aer import AerSimulator\n",
    "from qiskit.quantum_info import DensityMatrix, partial_trace, Statevector"
   ]
  },
  {
   "cell_type": "markdown",
   "metadata": {},
   "source": [
    "## OTHER TEST"
   ]
  },
  {
   "cell_type": "code",
   "execution_count": 14,
   "metadata": {},
   "outputs": [],
   "source": [
    "# Put it all in one function to plot the result based in the max number of ancillae qubits\n",
    "\n",
    "def HHL(A, b, max_num_ancillae=3):\n",
    "\n",
    "    # Check if A is hermitian, otherwise build hermitian matrix H out of A\n",
    "    if ishermitian(A):\n",
    "        H = A\n",
    "        #print(\"A is hermitian.\")\n",
    "    else:\n",
    "        H = np.vstack([np.hstack([np.zeros((2,2)), np.conj(A).T]), np.hstack([A, np.zeros((2,2))])])\n",
    "        print(\"A is not hermitian.\")\n",
    "        print('Hermitian Matrix H = \\n', H)\n",
    "\n",
    "    # Compute eigenvalues and eigenvectors of H\n",
    "    eigenvalues, eigenvectors = np.linalg.eigh(H)\n",
    "    min_eigenvalue = np.min(eigenvalues)\n",
    "    max_eigenvalue = np.max(eigenvalues)\n",
    "\n",
    "    # Compute the unitary operator U = exp(i*H*t) out of hermitian matrix\n",
    "    t = 1 / (max_eigenvalue * 5) # Scaling factor to ensure phases are within [0,1) and distinct\n",
    "    U = expm(1j * H * t)\n",
    "    #print('Unitary Matrix U = \\n', U)\n",
    "\n",
    "    # Verify that U is unitary\n",
    "    identity = np.eye(len(H))\n",
    "    if not np.allclose(U.conj().T @ U, identity):\n",
    "        print(\"U is not unitary.\")\n",
    "\n",
    "    # Prepare to store the solution vector\n",
    "    solution_vectors = []\n",
    "\n",
    "    # Loop over increasing num_ancillae\n",
    "    for num_ancillae in range(1, max_num_ancillae + 1):\n",
    "\n",
    "        # Normalize b\n",
    "        b_normalized = b / np.linalg.norm(b)\n",
    "\n",
    "        # Initialize the quantum circuit with 1 qubit in |0> state representing the vector b\n",
    "        qc = QuantumCircuit(num_ancillae + 1, num_ancillae) # 1 qubit for b\n",
    "\n",
    "        # Initialize the quantum state based on b\n",
    "        qc.initialize([b_normalized[0], b_normalized[1]], num_ancillae)\n",
    "\n",
    "        # Apply Hadamard gates to all ancilla qubits\n",
    "        qc.h(range(num_ancillae))\n",
    "\n",
    "        # Apply controlled-U operations based on eigenvalues\n",
    "        for i in range(num_ancillae):\n",
    "            angle = -2 * np.pi * (eigenvalues[i % len(eigenvalues)] * t)\n",
    "            qc.crz(angle, i, num_ancillae)  # Controlled rotation based on eigenvalue\n",
    "        #for qubit in range(num_ancillae):\n",
    "        #    qc.append(UnitaryGate(U, label=\"A^2^\" + str(qubit)).control(), [qubit, num_ancillae])\n",
    "\n",
    "        # Apply inverse QFT to ancilla qubits\n",
    "        qc.append(QFT(num_ancillae, inverse=True).to_gate(), range(num_ancillae))\n",
    "\n",
    "        # Measure ancilla qubits\n",
    "        #qc.measure(range(num_ancillae), range(num_ancillae))\n",
    "\n",
    "\n",
    "        # Save the statevectors\n",
    "        qc.save_statevector()\n",
    "\n",
    "        # Run simulator\n",
    "        job = simulator.run(transpile(qc, simulator))\n",
    "        result = job.result()\n",
    "\n",
    "        # Retrieve the statevector\n",
    "        statevector = result.get_statevector(qc)\n",
    "\n",
    "        # Extract the relevant part of the statevector\n",
    "        # For each configuration of the ancilla qubits, the last qubit encodes the solution\n",
    "        # We need to consider all combinations of ancilla states\n",
    "        x_solution = np.zeros(2, dtype=complex)\n",
    "\n",
    "        for i in range(2 ** num_ancillae):\n",
    "            # Create a binary representation of the ancilla state\n",
    "            ancilla_state = f\"{i:0{num_ancillae}b}\"  # Create a binary string of length num_ancillae\n",
    "            index_0 = int(ancilla_state + '0', 2)  # Last qubit is |0>\n",
    "            x_solution[0] += statevector[index_0]  # Amplitude for |0> in the last qubit\n",
    "            index_1 = int(ancilla_state + '1', 2)  # Last qubit is |1>\n",
    "            x_solution[1] += statevector[index_1]  # Amplitude for |1> in the last qubit\n",
    "\n",
    "\n",
    "        # Normalize the solution vector\n",
    "        x_solution /= np.linalg.norm(x_solution)\n",
    "\n",
    "        # Append the solution vector for this number of ancillae\n",
    "        solution_vectors.append(x_solution)\n",
    "\n",
    "    # Display the solution vectors\n",
    "    for i, sol_vec in enumerate(solution_vectors):\n",
    "        print(f\"Approximated solution for {i+1} ancillae qubits: x = [{sol_vec[0].real:.4f}, {sol_vec[1].real:.4f}]\")\n",
    "\n",
    "\n",
    "    return solution_vectors\n"
   ]
  }
 ],
 "metadata": {
  "kernelspec": {
   "display_name": ".venv",
   "language": "python",
   "name": "python3"
  },
  "language_info": {
   "codemirror_mode": {
    "name": "ipython",
    "version": 3
   },
   "file_extension": ".py",
   "mimetype": "text/x-python",
   "name": "python",
   "nbconvert_exporter": "python",
   "pygments_lexer": "ipython3",
   "version": "3.11.9"
  }
 },
 "nbformat": 4,
 "nbformat_minor": 2
}
