{
 "cells": [
  {
   "cell_type": "code",
   "execution_count": 1002,
   "metadata": {},
   "outputs": [],
   "source": [
    "from qiskit import QuantumCircuit\n",
    "import numpy as np\n",
    "import matplotlib.pyplot as plt\n",
    "from qiskit import transpile\n",
    "from qiskit_aer import AerSimulator\n",
    "from qiskit.visualization import plot_histogram"
   ]
  },
  {
   "cell_type": "code",
   "execution_count": 1003,
   "metadata": {},
   "outputs": [
    {
     "data": {
      "text/html": [
       "<pre style=\"word-wrap: normal;white-space: pre;background: #fff0;line-height: 1.1;font-family: &quot;Courier New&quot;,Courier,monospace\">                        \n",
       "q_0: ───────────────────\n",
       "                        \n",
       "q_1: ───────────────────\n",
       "                        \n",
       "q_2: ───────────────────\n",
       "     ┌─────────────────┐\n",
       "q_3: ┤ Initialize(1,0) ├\n",
       "     └─────────────────┘\n",
       "c: 3/═══════════════════\n",
       "                        </pre>"
      ],
      "text/plain": [
       "                        \n",
       "q_0: ───────────────────\n",
       "                        \n",
       "q_1: ───────────────────\n",
       "                        \n",
       "q_2: ───────────────────\n",
       "     ┌─────────────────┐\n",
       "q_3: ┤ Initialize(1,0) ├\n",
       "     └─────────────────┘\n",
       "c: 3/═══════════════════\n",
       "                        "
      ]
     },
     "execution_count": 1003,
     "metadata": {},
     "output_type": "execute_result"
    }
   ],
   "source": [
    "def prepare_input_state(b, num_ancilla=3):\n",
    "\n",
    "    # Create a quantum circuit\n",
    "    qc = QuantumCircuit(num_ancilla + 1, num_ancilla) # 1 qubit for b\n",
    "\n",
    "    # Initialize the quantum state based on b\n",
    "    qc.initialize([b[0], b[1]], num_ancilla, normalize=True)\n",
    "\n",
    "    return qc\n",
    "\n",
    "# Define the vector b\n",
    "b = np.array([1, 0])\n",
    "\n",
    "# Define the number of ancilla qubits\n",
    "num_ancilla = 3\n",
    "\n",
    "qc = prepare_input_state(b, num_ancilla=num_ancilla)\n",
    "qc.draw()"
   ]
  },
  {
   "cell_type": "code",
   "execution_count": 1004,
   "metadata": {},
   "outputs": [
    {
     "name": "stdout",
     "output_type": "stream",
     "text": [
      "Unitary Matrix U = \n",
      " [[0.76720251+0.5606113j 0.22263263-0.2180596j]\n",
      " [0.22263263-0.2180596j 0.54456989+0.7786709j]]\n"
     ]
    }
   ],
   "source": [
    "from scipy.linalg import expm\n",
    "from scipy.linalg import ishermitian\n",
    "\n",
    "def hermitian_to_unitary(A):\n",
    "    # Check if A is hermitian\n",
    "    if not ishermitian(A):\n",
    "        raise ValueError(\"Matrix A must be Hermitian.\")\n",
    "\n",
    "    # Compute the unitary operator U = exp(i*A*t) out of hermitian matrix\n",
    "    t = 1/np.pi  # Scaling factor to ensure phases are within [0,1) and distinct\n",
    "    U = expm(1j * A * t)\n",
    "\n",
    "    # Verify that U is unitary\n",
    "    if not np.allclose(U.conj().T @ U, np.eye(len(A))):\n",
    "        raise ValueError(\"Matrix U is not unitary.\")\n",
    "\n",
    "    return U\n",
    "\n",
    "# Define the matrix A\n",
    "A = np.array([[2, -1],\n",
    "              [-1, 3]])\n",
    "\n",
    "\n",
    "U = hermitian_to_unitary(A)\n",
    "print('Unitary Matrix U = \\n', U)"
   ]
  },
  {
   "cell_type": "code",
   "execution_count": 1005,
   "metadata": {},
   "outputs": [
    {
     "data": {
      "text/html": [
       "<pre style=\"word-wrap: normal;white-space: pre;background: #fff0;line-height: 1.1;font-family: &quot;Courier New&quot;,Courier,monospace\">            ┌───┐                                        ┌───────┐\n",
       "q_0: ───────┤ H ├────────────■───────────────────────────┤0      ├\n",
       "            ├───┤            │                           │       │\n",
       "q_1: ───────┤ H ├────────────┼──────────■────────────────┤1 IQFT ├\n",
       "            ├───┤            │          │                │       │\n",
       "q_2: ───────┤ H ├────────────┼──────────┼──────────■─────┤2      ├\n",
       "     ┌──────┴───┴──────┐┌────┴────┐┌────┴────┐┌────┴────┐└───────┘\n",
       "q_3: ┤ Initialize(1,0) ├┤ Unitary ├┤ Unitary ├┤ Unitary ├─────────\n",
       "     └─────────────────┘└─────────┘└─────────┘└─────────┘         \n",
       "c: 3/═════════════════════════════════════════════════════════════\n",
       "                                                                  </pre>"
      ],
      "text/plain": [
       "            ┌───┐                                        ┌───────┐\n",
       "q_0: ───────┤ H ├────────────■───────────────────────────┤0      ├\n",
       "            ├───┤            │                           │       │\n",
       "q_1: ───────┤ H ├────────────┼──────────■────────────────┤1 IQFT ├\n",
       "            ├───┤            │          │                │       │\n",
       "q_2: ───────┤ H ├────────────┼──────────┼──────────■─────┤2      ├\n",
       "     ┌──────┴───┴──────┐┌────┴────┐┌────┴────┐┌────┴────┐└───────┘\n",
       "q_3: ┤ Initialize(1,0) ├┤ Unitary ├┤ Unitary ├┤ Unitary ├─────────\n",
       "     └─────────────────┘└─────────┘└─────────┘└─────────┘         \n",
       "c: 3/═════════════════════════════════════════════════════════════\n",
       "                                                                  "
      ]
     },
     "execution_count": 1005,
     "metadata": {},
     "output_type": "execute_result"
    }
   ],
   "source": [
    "from qiskit.circuit.library import QFT\n",
    "from qiskit.circuit.library import UnitaryGate\n",
    "\n",
    "def quantum_phase_estimation(A, b, num_ancilla=3):\n",
    "\n",
    "    # Ensure the input is a 2D matrix of size 2x2\n",
    "    if A.shape != (2, 2):\n",
    "        raise ValueError(\"The input matrix must be 2x2.\")\n",
    "\n",
    "    # Convert the matrix into a unitary\n",
    "    U = hermitian_to_unitary(A)\n",
    "\n",
    "    # Create a quantum circuit prepared in initial state based on b\n",
    "    qc = prepare_input_state(b, num_ancilla=num_ancilla)\n",
    "\n",
    "    # Step 1: Apply Hadamard gates to the ancilla qubits\n",
    "    qc.h(range(num_ancilla))\n",
    "\n",
    "    # Step 2: Apply controlled unitary operations\n",
    "    for qubit in range(num_ancilla):\n",
    "        exponent = 2 ** qubit\n",
    "        controlled_unitary = UnitaryGate(np.linalg.matrix_power(U, exponent)).control()  # Controlled U^(2^exponent)\n",
    "        qc.append(controlled_unitary, [qubit, num_ancilla])\n",
    "\n",
    "    # Step 3: Apply Inverse Quantum Fourier Transform (QFT) to the ancilla qubits\n",
    "    qc.append(QFT(num_ancilla, inverse=True).to_gate(), range(num_ancilla))\n",
    "\n",
    "    return qc\n",
    "\n",
    "\n",
    "# Generate the Quantum Phase Estimation circuit for this matrix\n",
    "qc = quantum_phase_estimation(A, b, num_ancilla=num_ancilla)\n",
    "qc.draw()"
   ]
  },
  {
   "cell_type": "code",
   "execution_count": 1006,
   "metadata": {},
   "outputs": [
    {
     "name": "stdout",
     "output_type": "stream",
     "text": [
      "Measurement results: {'000': 260, '110': 27, '010': 137, '001': 492, '101': 18, '011': 35, '100': 17, '111': 38}\n"
     ]
    },
    {
     "data": {
      "image/png": "[encoded data removed]",
      "text/plain": [
       "<Figure size 640x480 with 1 Axes>"
      ]
     },
     "execution_count": 1006,
     "metadata": {},
     "output_type": "execute_result"
    }
   ],
   "source": [
    "# Optional: perform measurement to find eigenvalues\n",
    "\n",
    "# Measure the ancilla qubits to extract phase information\n",
    "qc.measure(range(num_ancilla), range(num_ancilla))\n",
    "\n",
    "# Simulate the circuit using the Aer simulator\n",
    "simulator = AerSimulator()\n",
    "job = simulator.run(transpile(qc, simulator), shots=1024)\n",
    "result = job.result()\n",
    "\n",
    "# Print the measurement results\n",
    "counts = result.get_counts(qc)\n",
    "print(f\"Measurement results: {counts}\")\n",
    "\n",
    "# Plot the histogram\n",
    "plot_histogram(counts)"
   ]
  },
  {
   "cell_type": "code",
   "execution_count": 1007,
   "metadata": {},
   "outputs": [
    {
     "name": "stdout",
     "output_type": "stream",
     "text": [
      "Measured: 000, Phase: 0.000, Eigenvalue estimate: 0.000\n",
      "Measured: 010, Phase: 0.250, Eigenvalue estimate: 1.571\n",
      "Measured: 001, Phase: 0.500, Eigenvalue estimate: 3.142\n"
     ]
    }
   ],
   "source": [
    "#Convert measured outcomes to phases and then to eigenvalues\n",
    "for measurement, count in counts.items():\n",
    "    # Convert binary measurement to phase\n",
    "    phase = sum(int(bit) * (1 / (2 ** (index + 1))) for index, bit in enumerate(reversed(measurement)))\n",
    "    eigenvalue_estimate = 2 * np.pi * phase  # Scale to [0, 2π]\n",
    "\n",
    "    # Since U = e^(i*λ), we can recover λ\n",
    "    eigenvalue = np.angle(np.exp(1j * eigenvalue_estimate))\n",
    "\n",
    "    if count > 100:\n",
    "        print(f\"Measured: {measurement}, Phase: {phase:.3f}, Eigenvalue estimate: {eigenvalue:.3f}\")\n"
   ]
  },
  {
   "cell_type": "code",
   "execution_count": 1008,
   "metadata": {},
   "outputs": [
    {
     "ename": "TypeError",
     "evalue": "controlled_rotations() missing 1 required positional argument: 'num_ancilla'",
     "output_type": "error",
     "traceback": [
      "\u001b[1;31m---------------------------------------------------------------------------\u001b[0m",
      "\u001b[1;31mTypeError\u001b[0m                                 Traceback (most recent call last)",
      "Cell \u001b[1;32mIn[1008], line 15\u001b[0m\n\u001b[0;32m     11\u001b[0m             qc\u001b[38;5;241m.\u001b[39mcrz(angle, idx, target_qubit)  \u001b[38;5;66;03m# Apply controlled rotation (controlled RZ)\u001b[39;00m\n\u001b[0;32m     12\u001b[0m     \u001b[38;5;28;01mreturn\u001b[39;00m qc\n\u001b[1;32m---> 15\u001b[0m qc \u001b[38;5;241m=\u001b[39m \u001b[43mcontrolled_rotations\u001b[49m\u001b[43m(\u001b[49m\u001b[43mqc\u001b[49m\u001b[43m,\u001b[49m\u001b[43m \u001b[49m\u001b[43meigenvalues\u001b[49m\u001b[43m)\u001b[49m\n\u001b[0;32m     16\u001b[0m qc\u001b[38;5;241m.\u001b[39mdraw()\n",
      "\u001b[1;31mTypeError\u001b[0m: controlled_rotations() missing 1 required positional argument: 'num_ancilla'"
     ]
    }
   ],
   "source": [
    "#########################################################################\n",
    "#eigenvalues = [3.142, 1.571] # should be extracted out of the measurement result\n",
    "eigenvalues = [1.38196601, 3.61803399]\n",
    "#########################################################################\n",
    "\n",
    "def controlled_rotations(qc, eigenvalues, num_ancilla):\n",
    "    target_qubit = num_ancilla\n",
    "    for idx, eigenvalue in enumerate(eigenvalues):\n",
    "        if eigenvalue != 0:\n",
    "            angle = 2 * np.pi / eigenvalue  # Convert eigenvalue to angle for rotation\n",
    "            qc.crz(angle, idx, target_qubit)  # Apply controlled rotation (controlled RZ)\n",
    "    return qc\n",
    "\n",
    "\n",
    "qc = controlled_rotations(qc, eigenvalues, num_ancilla)\n",
    "qc.draw()\n"
   ]
  },
  {
   "cell_type": "code",
   "execution_count": 996,
   "metadata": {},
   "outputs": [
    {
     "data": {
      "text/html": [
       "<pre style=\"word-wrap: normal;white-space: pre;background: #fff0;line-height: 1.1;font-family: &quot;Courier New&quot;,Courier,monospace\">            ┌───┐                                        ┌───────┐┌─┐      »\n",
       "q_0: ───────┤ H ├────────────■───────────────────────────┤0      ├┤M├──────»\n",
       "            ├───┤            │                           │       │└╥┘┌─┐   »\n",
       "q_1: ───────┤ H ├────────────┼──────────■────────────────┤1 IQFT ├─╫─┤M├───»\n",
       "            ├───┤            │          │                │       │ ║ └╥┘┌─┐»\n",
       "q_2: ───────┤ H ├────────────┼──────────┼──────────■─────┤2      ├─╫──╫─┤M├»\n",
       "     ┌──────┴───┴──────┐┌────┴────┐┌────┴────┐┌────┴────┐└───────┘ ║  ║ └╥┘»\n",
       "q_3: ┤ Initialize(1,0) ├┤ Unitary ├┤ Unitary ├┤ Unitary ├──────────╫──╫──╫─»\n",
       "     └─────────────────┘└─────────┘└─────────┘└─────────┘          ║  ║  ║ »\n",
       "c: 3/══════════════════════════════════════════════════════════════╩══╩══╩═»\n",
       "                                                                   0  1  2 »\n",
       "«                                 ┌──────┐                           »\n",
       "«q_0: ──────■─────────────────────┤0     ├───────────────────────────»\n",
       "«           │                     │      │                      ┌───┐»\n",
       "«q_1: ──────┼─────────────■───────┤1 QFT ├────────────────■─────┤ H ├»\n",
       "«           │             │       │      │                │     ├───┤»\n",
       "«q_2: ──────┼─────────────┼───────┤2     ├─────■──────────┼─────┤ H ├»\n",
       "«     ┌─────┴─────┐┌──────┴──────┐└──────┘┌────┴────┐┌────┴────┐└───┘»\n",
       "«q_3: ┤ Ry(1.618) ├┤ Ry(0.56008) ├────────┤ Unitary ├┤ Unitary ├─────»\n",
       "«     └───────────┘└─────────────┘        └─────────┘└─────────┘     »\n",
       "«c: 3/═══════════════════════════════════════════════════════════════»\n",
       "«                                                                    »\n",
       "«                ┌───┐\n",
       "«q_0: ─────■─────┤ H ├\n",
       "«          │     └───┘\n",
       "«q_1: ─────┼──────────\n",
       "«          │          \n",
       "«q_2: ─────┼──────────\n",
       "«     ┌────┴────┐     \n",
       "«q_3: ┤ Unitary ├─────\n",
       "«     └─────────┘     \n",
       "«c: 3/════════════════\n",
       "«                     </pre>"
      ],
      "text/plain": [
       "            ┌───┐                                        ┌───────┐┌─┐      »\n",
       "q_0: ───────┤ H ├────────────■───────────────────────────┤0      ├┤M├──────»\n",
       "            ├───┤            │                           │       │└╥┘┌─┐   »\n",
       "q_1: ───────┤ H ├────────────┼──────────■────────────────┤1 IQFT ├─╫─┤M├───»\n",
       "            ├───┤            │          │                │       │ ║ └╥┘┌─┐»\n",
       "q_2: ───────┤ H ├────────────┼──────────┼──────────■─────┤2      ├─╫──╫─┤M├»\n",
       "     ┌──────┴───┴──────┐┌────┴────┐┌────┴────┐┌────┴────┐└───────┘ ║  ║ └╥┘»\n",
       "q_3: ┤ Initialize(1,0) ├┤ Unitary ├┤ Unitary ├┤ Unitary ├──────────╫──╫──╫─»\n",
       "     └─────────────────┘└─────────┘└─────────┘└─────────┘          ║  ║  ║ »\n",
       "c: 3/══════════════════════════════════════════════════════════════╩══╩══╩═»\n",
       "                                                                   0  1  2 »\n",
       "«                                 ┌──────┐                           »\n",
       "«q_0: ──────■─────────────────────┤0     ├───────────────────────────»\n",
       "«           │                     │      │                      ┌───┐»\n",
       "«q_1: ──────┼─────────────■───────┤1 QFT ├────────────────■─────┤ H ├»\n",
       "«           │             │       │      │                │     ├───┤»\n",
       "«q_2: ──────┼─────────────┼───────┤2     ├─────■──────────┼─────┤ H ├»\n",
       "«     ┌─────┴─────┐┌──────┴──────┐└──────┘┌────┴────┐┌────┴────┐└───┘»\n",
       "«q_3: ┤ Ry(1.618) ├┤ Ry(0.56008) ├────────┤ Unitary ├┤ Unitary ├─────»\n",
       "«     └───────────┘└─────────────┘        └─────────┘└─────────┘     »\n",
       "«c: 3/═══════════════════════════════════════════════════════════════»\n",
       "«                                                                    »\n",
       "«                ┌───┐\n",
       "«q_0: ─────■─────┤ H ├\n",
       "«          │     └───┘\n",
       "«q_1: ─────┼──────────\n",
       "«          │          \n",
       "«q_2: ─────┼──────────\n",
       "«     ┌────┴────┐     \n",
       "«q_3: ┤ Unitary ├─────\n",
       "«     └─────────┘     \n",
       "«c: 3/════════════════\n",
       "«                     "
      ]
     },
     "execution_count": 996,
     "metadata": {},
     "output_type": "execute_result"
    }
   ],
   "source": [
    "def inverse_quantum_phase_estimation(A, num_ancilla=3):\n",
    "\n",
    "    # Step 1: Apply Quantum Fourier Transform (QFT) to the ancilla qubits\n",
    "    qc.append(QFT(num_ancilla, inverse=False).to_gate(), range(num_ancilla))\n",
    "\n",
    "    # Step 2: Apply inverse of controlled unitary operations\n",
    "    U = hermitian_to_unitary(A)\n",
    "    for qubit in reversed(range(num_ancilla)):\n",
    "        exponent = 2 ** qubit\n",
    "        controlled_unitary_dagger = UnitaryGate(np.linalg.matrix_power(U, exponent).conj().T).control()  # Controlled U^(2^exponent) dagger\n",
    "        qc.append(controlled_unitary_dagger, [qubit, num_ancilla])\n",
    "\n",
    "    # Step 3: Apply Hadamard gates to the ancilla qubits\n",
    "    qc.h(range(num_ancilla))\n",
    "\n",
    "    return qc\n",
    "\n",
    "qc = inverse_quantum_phase_estimation(A, num_ancilla=num_ancilla)\n",
    "qc.draw()"
   ]
  },
  {
   "cell_type": "code",
   "execution_count": 997,
   "metadata": {},
   "outputs": [],
   "source": [
    "\n",
    "# # Measure the ancilla qubits to extract output states\n",
    "# qc.measure(range(num_ancilla), range(num_ancilla))\n",
    "\n",
    "# # Simulate the circuit using the Aer simulator\n",
    "# simulator = AerSimulator()\n",
    "# job = simulator.run(transpile(qc, simulator), shots=1024)\n",
    "# result = job.result()\n",
    "# statevector = result.get_statevector(qc)\n",
    "\n",
    "# print(statevector)\n",
    "# # Print the measurement results\n",
    "# counts = result.get_counts(qc)\n",
    "# print(f\"Measurement results: {counts}\")\n",
    "\n",
    "# # Plot the histogram\n",
    "# plot_histogram(counts)"
   ]
  },
  {
   "cell_type": "code",
   "execution_count": 998,
   "metadata": {},
   "outputs": [
    {
     "name": "stdout",
     "output_type": "stream",
     "text": [
      "Full statevector: Statevector([ 0.53586006-0.15293336j,  0.01617238+0.01822339j,\n",
      "              0.03354213+0.03806482j, -0.03621229+0.01058597j,\n",
      "              0.07923163+0.09309809j, -0.08424846+0.0247237j ,\n",
      "             -0.17421418+0.05116358j, -0.00585838-0.00814672j,\n",
      "             -0.36337439+0.17191104j, -0.03934862-0.11737146j,\n",
      "             -0.08146248-0.24288077j,  0.02695903-0.01238399j,\n",
      "             -0.19067394-0.56718457j,  0.06363261-0.02910251j,\n",
      "              0.13195087-0.06029719j,  0.0134029 +0.03934382j],\n",
      "            dims=(2, 2, 2, 2))\n",
      "Data qubits state (density matrix): DensityMatrix([[ 0.3708486 +0.j        , -0.33733246-0.00780754j],\n",
      "               [-0.33733246+0.00780754j,  0.6291514 +0.j        ]],\n",
      "              dims=(2,))\n",
      "Reconstructed quantum solution (unnormalized): [0.6089734  0.79319064]\n",
      "Classical solution: [0.6 0.2]\n",
      "Scaled quantum solution vector: [0.3851486  0.50165781]\n",
      "Measurement results: {'000': 354, '110': 91, '001': 37, '111': 33, '100': 346, '010': 97, '101': 28, '011': 38}\n"
     ]
    }
   ],
   "source": [
    "\n",
    "from qiskit.quantum_info import partial_trace, Statevector\n",
    "\n",
    "\n",
    "# Save the statevector and measure ancilla qubits\n",
    "qc.save_statevector()\n",
    "qc.measure(range(num_ancilla), range(num_ancilla))\n",
    "\n",
    "# Simulate the circuit\n",
    "simulator = AerSimulator()\n",
    "job = simulator.run(transpile(qc, simulator))\n",
    "result = job.result()\n",
    "\n",
    "# Extract the statevector of the full system (data + ancilla qubits)\n",
    "statevector = result.get_statevector(qc)\n",
    "print(\"Full statevector:\", statevector)\n",
    "\n",
    "# Trace out the ancilla qubits to isolate the data qubits\n",
    "data_qubits_state = partial_trace(statevector, range(num_ancilla))\n",
    "print(\"Data qubits state (density matrix):\", data_qubits_state)\n",
    "\n",
    "# Extract the amplitudes from the density matrix\n",
    "# Diagonal elements represent |alpha_0|^2 and |alpha_1|^2\n",
    "rho_00 = data_qubits_state.data[0, 0]  # Diagonal element |0><0|\n",
    "rho_11 = data_qubits_state.data[1, 1]  # Diagonal element |1><1|\n",
    "rho_01 = data_qubits_state.data[0, 1]  # Off-diagonal element |0><1| (used for phase)\n",
    "\n",
    "# Compute the amplitudes for |0> and |1> based on the diagonal elements\n",
    "alpha_0 = np.sqrt(np.real(rho_00))\n",
    "alpha_1 = np.sqrt(np.real(rho_11))\n",
    "\n",
    "# Reconstruct the pure statevector (ignoring any phases for now)\n",
    "statevector_x = np.array([alpha_0, alpha_1])\n",
    "print(\"Reconstructed quantum solution (unnormalized):\", statevector_x)\n",
    "\n",
    "# Classical solution (for comparison and normalization)\n",
    "x_classical = np.linalg.solve(A, b)\n",
    "print(\"Classical solution:\", x_classical)\n",
    "\n",
    "# Compute the norms of the quantum and classical solutions\n",
    "norm_classical = np.linalg.norm(x_classical)\n",
    "norm_quantum = np.linalg.norm(statevector_x)\n",
    "\n",
    "# Scale the quantum solution to match the classical solution's norm\n",
    "scaled_solution = (norm_classical / norm_quantum) * statevector_x\n",
    "\n",
    "print(\"Scaled quantum solution vector:\", scaled_solution)\n",
    "\n",
    "# Get the measurement results (counts)\n",
    "counts = result.get_counts(qc)\n",
    "print(f\"Measurement results: {counts}\")\n"
   ]
  },
  {
   "cell_type": "code",
   "execution_count": 999,
   "metadata": {},
   "outputs": [
    {
     "name": "stdout",
     "output_type": "stream",
     "text": [
      "Success probability: 0.5137\n"
     ]
    },
    {
     "data": {
      "image/png": "[encoded data removed]",
      "text/plain": [
       "<Figure size 640x480 with 1 Axes>"
      ]
     },
     "execution_count": 999,
     "metadata": {},
     "output_type": "execute_result"
    }
   ],
   "source": [
    "# Calculate the total number of shots (all counts)\n",
    "total_shots = sum(counts.values())\n",
    "\n",
    "# Calculate the number of successful shots (where the first qubit is 0)\n",
    "success_shots = sum(count for outcome, count in counts.items() if outcome[0] == '0')\n",
    "\n",
    "# Calculate success probability\n",
    "success_probability = success_shots / total_shots\n",
    "\n",
    "# Print the success probability\n",
    "print(f\"Success probability: {success_probability:.4f}\")\n",
    "\n",
    "# Plot the histogram of the measurement results\n",
    "plot_histogram(counts)"
   ]
  },
  {
   "cell_type": "code",
   "execution_count": 1000,
   "metadata": {},
   "outputs": [
    {
     "name": "stdout",
     "output_type": "stream",
     "text": [
      "Eigenvalues of A: [1.38196601 3.61803399]\n",
      "Eigenvectors of A:\n",
      " [[-0.85065081 -0.52573111]\n",
      " [-0.52573111  0.85065081]]\n",
      "Max eigenvalue of A: 3.618033988749895\n",
      "Min eigenvalue of A: 1.381966011250105\n",
      "Solution x = \n",
      " [0.6 0.2]\n"
     ]
    }
   ],
   "source": [
    "# Compute eigenvalues and eigenvectors of A\n",
    "eigenvalues, eigenvectors = np.linalg.eigh(A)\n",
    "print(\"Eigenvalues of A:\", eigenvalues)\n",
    "print(\"Eigenvectors of A:\\n\", eigenvectors)\n",
    "\n",
    "# Calculate the min and max eigenvalues of the matrix A\n",
    "min_eigenvalue = np.min(eigenvalues)\n",
    "max_eigenvalue = np.max(eigenvalues)\n",
    "print(\"Max eigenvalue of A:\", max_eigenvalue)\n",
    "print(\"Min eigenvalue of A:\", min_eigenvalue)\n",
    "\n",
    "# Solve for x in the equation Ax = b\n",
    "x = np.linalg.solve(A, b)\n",
    "print(\"Solution x = \\n\", x)\n"
   ]
  },
  {
   "cell_type": "code",
   "execution_count": 1001,
   "metadata": {},
   "outputs": [],
   "source": [
    "from qiskit import QuantumCircuit\n",
    "import numpy as np\n",
    "from qiskit import transpile\n",
    "from qiskit_aer import AerSimulator\n",
    "from qiskit.quantum_info import DensityMatrix, partial_trace, Statevector"
   ]
  }
 ],
 "metadata": {
  "kernelspec": {
   "display_name": ".venv",
   "language": "python",
   "name": "python3"
  },
  "language_info": {
   "codemirror_mode": {
    "name": "ipython",
    "version": 3
   },
   "file_extension": ".py",
   "mimetype": "text/x-python",
   "name": "python",
   "nbconvert_exporter": "python",
   "pygments_lexer": "ipython3",
   "version": "3.11.9"
  }
 },
 "nbformat": 4,
 "nbformat_minor": 2
}
