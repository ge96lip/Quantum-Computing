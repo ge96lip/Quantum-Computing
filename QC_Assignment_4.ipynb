{
  "cells": [
    {
      "cell_type": "markdown",
      "metadata": {
        "id": "G7JX6HO5oTTx"
      },
      "source": [
        "# Prerequisites"
      ]
    },
    {
      "cell_type": "code",
      "execution_count": 258,
      "metadata": {
        "colab": {
          "base_uri": "https://localhost:8080/"
        },
        "id": "7FCxCNWiOsMv",
        "outputId": "5900f324-7b79-4986-cd54-954693e25f83"
      },
      "outputs": [
        {
          "name": "stdout",
          "output_type": "stream",
          "text": [
            "Requirement already satisfied: qiskit in c:\\users\\mvbon\\documents\\quantum-computing\\.venv\\lib\\site-packages (1.2.4)\n",
            "Requirement already satisfied: rustworkx>=0.15.0 in c:\\users\\mvbon\\documents\\quantum-computing\\.venv\\lib\\site-packages (from qiskit) (0.15.1)\n",
            "Requirement already satisfied: numpy<3,>=1.17 in c:\\users\\mvbon\\documents\\quantum-computing\\.venv\\lib\\site-packages (from qiskit) (2.1.2)\n",
            "Requirement already satisfied: scipy>=1.5 in c:\\users\\mvbon\\documents\\quantum-computing\\.venv\\lib\\site-packages (from qiskit) (1.14.1)\n",
            "Requirement already satisfied: sympy>=1.3 in c:\\users\\mvbon\\documents\\quantum-computing\\.venv\\lib\\site-packages (from qiskit) (1.13.3)\n",
            "Requirement already satisfied: dill>=0.3 in c:\\users\\mvbon\\documents\\quantum-computing\\.venv\\lib\\site-packages (from qiskit) (0.3.9)\n",
            "Requirement already satisfied: python-dateutil>=2.8.0 in c:\\users\\mvbon\\documents\\quantum-computing\\.venv\\lib\\site-packages (from qiskit) (2.9.0.post0)\n",
            "Requirement already satisfied: stevedore>=3.0.0 in c:\\users\\mvbon\\documents\\quantum-computing\\.venv\\lib\\site-packages (from qiskit) (5.3.0)\n",
            "Requirement already satisfied: typing-extensions in c:\\users\\mvbon\\documents\\quantum-computing\\.venv\\lib\\site-packages (from qiskit) (4.12.2)\n",
            "Requirement already satisfied: symengine<0.14,>=0.11 in c:\\users\\mvbon\\documents\\quantum-computing\\.venv\\lib\\site-packages (from qiskit) (0.13.0)\n",
            "Requirement already satisfied: six>=1.5 in c:\\users\\mvbon\\documents\\quantum-computing\\.venv\\lib\\site-packages (from python-dateutil>=2.8.0->qiskit) (1.16.0)\n",
            "Requirement already satisfied: pbr>=2.0.0 in c:\\users\\mvbon\\documents\\quantum-computing\\.venv\\lib\\site-packages (from stevedore>=3.0.0->qiskit) (6.1.0)\n",
            "Requirement already satisfied: mpmath<1.4,>=1.1.0 in c:\\users\\mvbon\\documents\\quantum-computing\\.venv\\lib\\site-packages (from sympy>=1.3->qiskit) (1.3.0)\n",
            "Requirement already satisfied: pylatexenc in c:\\users\\mvbon\\documents\\quantum-computing\\.venv\\lib\\site-packages (2.10)\n",
            "Requirement already satisfied: qiskit_aer in c:\\users\\mvbon\\documents\\quantum-computing\\.venv\\lib\\site-packages (0.15.1)\n",
            "Requirement already satisfied: qiskit>=1.1.0 in c:\\users\\mvbon\\documents\\quantum-computing\\.venv\\lib\\site-packages (from qiskit_aer) (1.2.4)\n",
            "Requirement already satisfied: numpy>=1.16.3 in c:\\users\\mvbon\\documents\\quantum-computing\\.venv\\lib\\site-packages (from qiskit_aer) (2.1.2)\n",
            "Requirement already satisfied: scipy>=1.0 in c:\\users\\mvbon\\documents\\quantum-computing\\.venv\\lib\\site-packages (from qiskit_aer) (1.14.1)\n",
            "Requirement already satisfied: psutil>=5 in c:\\users\\mvbon\\documents\\quantum-computing\\.venv\\lib\\site-packages (from qiskit_aer) (6.1.0)\n",
            "Requirement already satisfied: rustworkx>=0.15.0 in c:\\users\\mvbon\\documents\\quantum-computing\\.venv\\lib\\site-packages (from qiskit>=1.1.0->qiskit_aer) (0.15.1)\n",
            "Requirement already satisfied: sympy>=1.3 in c:\\users\\mvbon\\documents\\quantum-computing\\.venv\\lib\\site-packages (from qiskit>=1.1.0->qiskit_aer) (1.13.3)\n",
            "Requirement already satisfied: dill>=0.3 in c:\\users\\mvbon\\documents\\quantum-computing\\.venv\\lib\\site-packages (from qiskit>=1.1.0->qiskit_aer) (0.3.9)\n",
            "Requirement already satisfied: python-dateutil>=2.8.0 in c:\\users\\mvbon\\documents\\quantum-computing\\.venv\\lib\\site-packages (from qiskit>=1.1.0->qiskit_aer) (2.9.0.post0)\n",
            "Requirement already satisfied: stevedore>=3.0.0 in c:\\users\\mvbon\\documents\\quantum-computing\\.venv\\lib\\site-packages (from qiskit>=1.1.0->qiskit_aer) (5.3.0)\n",
            "Requirement already satisfied: typing-extensions in c:\\users\\mvbon\\documents\\quantum-computing\\.venv\\lib\\site-packages (from qiskit>=1.1.0->qiskit_aer) (4.12.2)\n",
            "Requirement already satisfied: symengine<0.14,>=0.11 in c:\\users\\mvbon\\documents\\quantum-computing\\.venv\\lib\\site-packages (from qiskit>=1.1.0->qiskit_aer) (0.13.0)\n",
            "Requirement already satisfied: six>=1.5 in c:\\users\\mvbon\\documents\\quantum-computing\\.venv\\lib\\site-packages (from python-dateutil>=2.8.0->qiskit>=1.1.0->qiskit_aer) (1.16.0)\n",
            "Requirement already satisfied: pbr>=2.0.0 in c:\\users\\mvbon\\documents\\quantum-computing\\.venv\\lib\\site-packages (from stevedore>=3.0.0->qiskit>=1.1.0->qiskit_aer) (6.1.0)\n",
            "Requirement already satisfied: mpmath<1.4,>=1.1.0 in c:\\users\\mvbon\\documents\\quantum-computing\\.venv\\lib\\site-packages (from sympy>=1.3->qiskit>=1.1.0->qiskit_aer) (1.3.0)\n"
          ]
        }
      ],
      "source": [
        "!pip install qiskit\n",
        "!pip install pylatexenc\n",
        "!pip install qiskit_aer"
      ]
    },
    {
      "cell_type": "code",
      "execution_count": 259,
      "metadata": {
        "id": "XLGbMU4ZPFui"
      },
      "outputs": [],
      "source": [
        "import numpy as np\n",
        "import matplotlib.pyplot as plt\n",
        "import matplotlib.patches as patches\n",
        "# Function to plot circle notation\n",
        "def plot_circle_notation(statevector, n_qubits, title='Quantum State'):\n",
        "    n_states = len(statevector)\n",
        "    # Compute amplitude and phase\n",
        "    amplitudes = np.abs(statevector)\n",
        "    phases = np.angle(statevector)\n",
        "    # Visualization parameters\n",
        "    rows = int(np.ceil(n_states / 8.0))\n",
        "    cols = min(n_states, 8)\n",
        "    fig, axs = plt.subplots(rows, cols, figsize=(2*cols, 2*rows))\n",
        "    axs = np.atleast_1d(axs)  # Ensure axs is iterable\n",
        "    for idx in range(n_states):\n",
        "        row = idx // cols\n",
        "        col = idx % cols\n",
        "        amp = amplitudes[idx]\n",
        "        phase = phases[idx]\n",
        "        # Create circles\n",
        "        circleExt = patches.Circle((0.5, 0.5), 0.5, color='gray', alpha=0.1)\n",
        "        circleInt = patches.Circle((0.5, 0.5), amp/2, color='b', alpha=0.3)\n",
        "        ax = axs[col] if rows == 1 else axs[row, col]\n",
        "        ax.add_patch(circleExt)\n",
        "        ax.add_patch(circleInt)\n",
        "        ax.set_aspect('equal')\n",
        "        state_number = \"|\" + format(idx, '0' + str(n_qubits) + 'b') + \">\"\n",
        "        ax.set_title('\\n' + state_number + '\\n')\n",
        "        xl = [0.5, 0.5 + 0.5 * amp * np.cos(phase + np.pi/2)]\n",
        "        yl = [0.5, 0.5 + 0.5 * amp * np.sin(phase + np.pi/2)]\n",
        "        ax.plot(xl, yl, 'r')\n",
        "        ax.axis('off')\n",
        "    plt.suptitle(title)\n",
        "    plt.show()"
      ]
    },
    {
      "cell_type": "markdown",
      "metadata": {
        "id": "M5GLZeFqoZyZ"
      },
      "source": [
        "# Bonus Exercise I - Quantum Escape Room with Grover’s Algorithm"
      ]
    },
    {
      "cell_type": "markdown",
      "metadata": {
        "id": "LsT1jkAQPtpb"
      },
      "source": [
        "## Task B1.1"
      ]
    },
    {
      "cell_type": "code",
      "execution_count": 260,
      "metadata": {
        "colab": {
          "base_uri": "https://localhost:8080/",
          "height": 0
        },
        "id": "iHLJ0ivmNpKk",
        "outputId": "a27e9448-d273-4da2-8dba-4617037a5db6"
      },
      "outputs": [
        {
          "data": {
            "image/png": "[encoded data removed]",
            "text/plain": [
              "<Figure size 203.885x367.889 with 1 Axes>"
            ]
          },
          "execution_count": 260,
          "metadata": {},
          "output_type": "execute_result"
        }
      ],
      "source": [
        "from qiskit import QuantumCircuit\n",
        "\n",
        "# Define the number of qubits\n",
        "num_qubits = 3  # You can change this value to any positive integer\n",
        "\n",
        "# Initialize the quantum circuit with n qubits\n",
        "qc = QuantumCircuit(num_qubits, num_qubits)\n",
        "\n",
        "# Apply the Hadamard gate to each qubit\n",
        "for qubit in range(num_qubits):\n",
        "    qc.h(qubit)\n",
        "\n",
        "# Visualize the quantum circuit\n",
        "qc.draw('mpl')"
      ]
    },
    {
      "cell_type": "markdown",
      "metadata": {
        "id": "3HtgGl2RPqkH"
      },
      "source": [
        "###After applying the Hadamard gates, what is the probability of Alice being in any of the rooms?\n",
        "The Hadamard transformation on all qubits creates a uniform probability distribution over all possible states.\n",
        "This principle holds true regardless of the number of qubits  n ; as  n  increases, the probability of finding Alice in any specific room decreases exponentially \\frac{1}{2^n}."
      ]
    },
    {
      "cell_type": "markdown",
      "metadata": {
        "id": "K-jBDMzdQGup"
      },
      "source": [
        "## Task B1.2"
      ]
    },
    {
      "cell_type": "code",
      "execution_count": 261,
      "metadata": {
        "id": "-yXwWBfARYUB"
      },
      "outputs": [],
      "source": [
        "def apply_oracle(qc, target_state):\n",
        "    num_qubits = qc.num_qubits\n",
        "    # Apply X gates to qubits where target_state is '0'\n",
        "    for qubit in range(num_qubits):\n",
        "        if target_state[num_qubits - qubit - 1] == '0':\n",
        "            qc.x(qubit)\n",
        "    # Apply multi-controlled Z gate\n",
        "    qc.h(num_qubits - 1)\n",
        "    qc.mcx(list(range(num_qubits - 1)), num_qubits - 1)\n",
        "    qc.h(num_qubits - 1)\n",
        "    # Reverse the X gates\n",
        "    for qubit in range(num_qubits):\n",
        "        if target_state[num_qubits - qubit - 1] == '0':\n",
        "            qc.x(qubit)"
      ]
    },
    {
      "cell_type": "code",
      "execution_count": 262,
      "metadata": {
        "id": "gLujkezRRZzU"
      },
      "outputs": [],
      "source": [
        "target_state = '110'  # Binary representation of the marked room\n",
        "apply_oracle(qc, target_state)"
      ]
    },
    {
      "cell_type": "code",
      "execution_count": 263,
      "metadata": {
        "colab": {
          "base_uri": "https://localhost:8080/"
        },
        "id": "HrCZzZ7fRchT",
        "outputId": "fd631b3f-4504-444f-8a02-e7023fad3147"
      },
      "outputs": [
        {
          "name": "stdout",
          "output_type": "stream",
          "text": [
            "Statevector after applying the oracle:\n",
            "Statevector([ 0.35355339+0.00000000e+00j,  0.35355339+0.00000000e+00j,\n",
            "              0.35355339-4.32978028e-17j,  0.35355339+0.00000000e+00j,\n",
            "              0.35355339+0.00000000e+00j,  0.35355339+0.00000000e+00j,\n",
            "             -0.35355339+4.32978028e-17j,  0.35355339+0.00000000e+00j],\n",
            "            dims=(2, 2, 2))\n"
          ]
        }
      ],
      "source": [
        "from qiskit import transpile\n",
        "from qiskit_aer import AerSimulator\n",
        "from qiskit.visualization import plot_state_qsphere\n",
        "import matplotlib.pyplot as plt\n",
        "from qiskit.quantum_info import Statevector\n",
        "\n",
        "simulator = AerSimulator()\n",
        "qc.save_statevector()\n",
        "\n",
        "job = simulator.run(transpile(qc, simulator))\n",
        "result = job.result()\n",
        "statevector = result.get_statevector(qc)\n",
        "\n",
        "print(\"Statevector after applying the oracle:\")\n",
        "print(statevector)\n"
      ]
    },
    {
      "cell_type": "code",
      "execution_count": 264,
      "metadata": {
        "colab": {
          "base_uri": "https://localhost:8080/",
          "height": 0
        },
        "id": "amoW2R9gRoA9",
        "outputId": "d4058bfb-561a-4388-9f88-e8aad47a93fe"
      },
      "outputs": [
        {
          "name": "stderr",
          "output_type": "stream",
          "text": [
            "C:\\Users\\mvbon\\AppData\\Local\\Temp\\ipykernel_10016\\2144181803.py:6: DeprecationWarning: The return type of saved statevectors has been changed from a `numpy.ndarray` to a `qiskit.quantum_info.Statevector` as of qiskit-aer 0.10. Accessing numpy array attributes is deprecated and will result in an error in a future release. To continue using saved result objects as arrays you can explicitly cast them using  `np.asarray(object)`.\n",
            "  n_states = len(statevector)\n"
          ]
        },
        {
          "data": {
            "image/png": "[encoded data removed]",
            "text/plain": [
              "<Figure size 1600x200 with 8 Axes>"
            ]
          },
          "metadata": {},
          "output_type": "display_data"
        }
      ],
      "source": [
        "\n",
        "# Retrieve the statevector\n",
        "statevector = result.get_statevector(qc)\n",
        "# Plot the quantum states using circle notation\n",
        "plot_circle_notation(statevector, num_qubits)\n"
      ]
    },
    {
      "cell_type": "markdown",
      "metadata": {
        "id": "WZTRTySrVYXR"
      },
      "source": [
        "## Task B1.3: Amplifying the Probability of the Key Room"
      ]
    },
    {
      "cell_type": "code",
      "execution_count": 265,
      "metadata": {
        "id": "n4FdWGD-VUtY"
      },
      "outputs": [],
      "source": [
        "# Define the diffusion operator function\n",
        "def apply_diffusion_operator(qc):\n",
        "    # Apply Hadamard gates to all qubits\n",
        "    qc.h(range(num_qubits))\n",
        "    # Apply X gates to all qubits\n",
        "    qc.x(range(num_qubits))\n",
        "    # Apply multi-controlled Z gate\n",
        "    qc.h(num_qubits - 1)  # Hadamard gate to change basis\n",
        "    qc.mcx(list(range(num_qubits - 1)), num_qubits - 1)  # Multi-controlled X gate\n",
        "    qc.h(num_qubits - 1)  # Hadamard gate to revert basis\n",
        "    # Apply X gates to all qubits\n",
        "    qc.x(range(num_qubits))\n",
        "    # Apply Hadamard gates to all qubits\n",
        "    qc.h(range(num_qubits))"
      ]
    },
    {
      "cell_type": "code",
      "execution_count": 266,
      "metadata": {
        "colab": {
          "base_uri": "https://localhost:8080/",
          "height": 0
        },
        "id": "R_q9Ig1VW7oF",
        "outputId": "7497e017-dfd9-484c-d443-c3854e0720da"
      },
      "outputs": [
        {
          "name": "stdout",
          "output_type": "stream",
          "text": [
            "Measurement results:\n",
            "{'110': 800, '011': 40, '010': 30, '001': 33, '100': 30, '000': 27, '111': 38, '101': 26}\n"
          ]
        },
        {
          "data": {
            "image/png": "[encoded data removed]",
            "text/plain": [
              "<Figure size 640x480 with 1 Axes>"
            ]
          },
          "execution_count": 266,
          "metadata": {},
          "output_type": "execute_result"
        }
      ],
      "source": [
        "from qiskit.visualization import plot_histogram\n",
        "\n",
        "# Apply the diffusion operator\n",
        "apply_diffusion_operator(qc)\n",
        "\n",
        "# Measure the qubits\n",
        "qc.measure(range(num_qubits), range(num_qubits))\n",
        "\n",
        "simulator = AerSimulator()\n",
        "\n",
        "\n",
        "job = simulator.run(transpile(qc, simulator))\n",
        "result = job.result()\n",
        "\n",
        "# Get the measurement results\n",
        "counts = result.get_counts(qc)\n",
        "print(\"Measurement results:\")\n",
        "print(counts)\n",
        "\n",
        "# Visualize the results\n",
        "plot_histogram(counts)"
      ]
    },
    {
      "cell_type": "markdown",
      "metadata": {
        "id": "q7vVrkQeZB7k"
      },
      "source": [
        "The expected probability is approximately 77.9% after 1 iteration. The measured probability (77% (788/1024)) closely matches the theoretical probability (~77.9%)."
      ]
    },
    {
      "cell_type": "markdown",
      "metadata": {
        "id": "t24d2HDPZS89"
      },
      "source": [
        "### How many iterations of amplitude amplification would be optimal for  rooms?\n",
        "Given  N  rooms, the optimal number of iterations is calculated as followed:\n",
        "\n",
        "\t1.\tCompute the Square Root of  N :\n",
        "\n",
        "\\sqrt{N}\n",
        "\n",
        "\t2.\tMultiply by  \\frac{\\pi}{4} :\n",
        "\n",
        "\\frac{\\pi}{4} \\sqrt{N}\n",
        "\n",
        "\t3.\tTake the Floor of the Result:\n",
        "\n",
        "k = \\left\\lfloor \\frac{\\pi}{4} \\sqrt{N} \\right\\rfloor\n",
        "\n",
        "Therefore, for  N = 8 , performing 2 iterations is optimal.\n"
      ]
    },
    {
      "cell_type": "code",
      "execution_count": 267,
      "metadata": {
        "colab": {
          "base_uri": "https://localhost:8080/"
        },
        "id": "ayB3oSFDazFK",
        "outputId": "8ac73d98-ab5f-4b8a-f073-730137ae9996"
      },
      "outputs": [
        {
          "name": "stdout",
          "output_type": "stream",
          "text": [
            "2\n"
          ]
        }
      ],
      "source": [
        "import math\n",
        "\n",
        "def optimal_iterations(N):\n",
        "    k = math.floor((math.pi / 4) * math.sqrt(N))\n",
        "    return k\n",
        "# Define the number of iterations\n",
        "k = optimal_iterations(2**num_qubits)  # Use the function from earlier to compute k\n",
        "\n",
        "print(k)\n"
      ]
    },
    {
      "cell_type": "markdown",
      "metadata": {
        "id": "PBPm2kX_aVay"
      },
      "source": [
        "## B1.4: Escaping the Quantum Maze - Running Grover’s Algorithm\n",
        "Here is the full implementation"
      ]
    },
    {
      "cell_type": "code",
      "execution_count": 268,
      "metadata": {
        "colab": {
          "base_uri": "https://localhost:8080/",
          "height": 0
        },
        "id": "CrYNmPKbaRcY",
        "outputId": "d9239c10-1498-4332-c476-ec8fd35fa61d"
      },
      "outputs": [
        {
          "name": "stderr",
          "output_type": "stream",
          "text": [
            "C:\\Users\\mvbon\\AppData\\Local\\Temp\\ipykernel_10016\\2144181803.py:6: DeprecationWarning: The return type of saved statevectors has been changed from a `numpy.ndarray` to a `qiskit.quantum_info.Statevector` as of qiskit-aer 0.10. Accessing numpy array attributes is deprecated and will result in an error in a future release. To continue using saved result objects as arrays you can explicitly cast them using  `np.asarray(object)`.\n",
            "  n_states = len(statevector)\n"
          ]
        },
        {
          "data": {
            "image/png": "[encoded data removed]",
            "text/plain": [
              "<Figure size 1600x200 with 8 Axes>"
            ]
          },
          "metadata": {},
          "output_type": "display_data"
        },
        {
          "name": "stdout",
          "output_type": "stream",
          "text": [
            "Statevector after applying the oracle:\n",
            "Statevector([0.+0.00000000e+00j, 0.+0.00000000e+00j, 0.-0.00000000e+00j,\n",
            "             0.+0.00000000e+00j, 0.+0.00000000e+00j, 0.+0.00000000e+00j,\n",
            "             1.+9.35184828e-16j, 0.+0.00000000e+00j],\n",
            "            dims=(2, 2, 2))\n",
            "Measurement results:\n",
            "{'110': 965, '001': 9, '100': 6, '101': 7, '010': 9, '011': 7, '000': 15, '111': 6}\n"
          ]
        },
        {
          "data": {
            "image/png": "[encoded data removed]",
            "text/plain": [
              "<Figure size 640x480 with 1 Axes>"
            ]
          },
          "execution_count": 268,
          "metadata": {},
          "output_type": "execute_result"
        }
      ],
      "source": [
        "# Initialize the quantum circuit\n",
        "qc = QuantumCircuit(num_qubits, num_qubits)\n",
        "\n",
        "# Apply Hadamard gates to all qubits to create a superposition\n",
        "qc.h(range(num_qubits))\n",
        "\n",
        "# Define your oracle and diffusion operator functions here\n",
        "# (assuming they are already defined as apply_oracle and apply_diffusion_operator)\n",
        "\n",
        "# Set the target state\n",
        "target_state = '110'  # Binary representation of the marked room\n",
        "\n",
        "# Apply k iterations of Grover's algorithm\n",
        "for _ in range(k):\n",
        "    # Apply the oracle\n",
        "    apply_oracle(qc, target_state)\n",
        "    # Apply the diffusion operator\n",
        "    apply_diffusion_operator(qc)\n",
        "\n",
        "# Measure the qubits\n",
        "qc.measure(range(num_qubits), range(num_qubits))\n",
        "\n",
        "# Simulate the circuit\n",
        "simulator = AerSimulator()\n",
        "qc.save_statevector()\n",
        "\n",
        "job = simulator.run(transpile(qc, simulator))\n",
        "result = job.result()\n",
        "statevector = result.get_statevector(qc)\n",
        "\n",
        "# Plot the quantum states using circle notation\n",
        "plot_circle_notation(statevector, num_qubits)\n",
        "\n",
        "print(\"Statevector after applying the oracle:\")\n",
        "print(statevector)\n",
        "\n",
        "# Get the measurement results\n",
        "counts = result.get_counts(qc)\n",
        "print(\"Measurement results:\")\n",
        "print(counts)\n",
        "\n",
        "# Visualize the results\n",
        "plot_histogram(counts)"
      ]
    },
    {
      "cell_type": "markdown",
      "metadata": {
        "id": "o9THT5s6cLej"
      },
      "source": [
        "### After running the simulation, which room was measured most frequently? Did Alice find the room with the key?\n",
        "The room |6> was measured most frequently, which is also the room with the key, therefore it works."
      ]
    },
    {
      "cell_type": "markdown",
      "metadata": {
        "id": "owXqbUNCc16I"
      },
      "source": [
        "## B1.5: Searching for Multiple Keys"
      ]
    },
    {
      "cell_type": "code",
      "execution_count": 269,
      "metadata": {
        "id": "0JD9uKvbc3JG"
      },
      "outputs": [],
      "source": [
        "# Modify the oracle to accept a list of target states\n",
        "def apply_oracle(qc, target_states):\n",
        "    num_qubits = qc.num_qubits\n",
        "    for target_state in target_states:\n",
        "        # Apply X gates to qubits where target_state is '0'\n",
        "        for qubit in range(num_qubits):\n",
        "            if target_state[num_qubits - qubit - 1] == '0':\n",
        "                qc.x(qubit)\n",
        "        # Apply multi-controlled Z gate\n",
        "        qc.h(num_qubits - 1)\n",
        "        qc.mcx(list(range(num_qubits - 1)), num_qubits - 1)\n",
        "        qc.h(num_qubits - 1)\n",
        "        # Reverse the X gates\n",
        "        for qubit in range(num_qubits):\n",
        "            if target_state[num_qubits - qubit - 1] == '0':\n",
        "                qc.x(qubit)"
      ]
    },
    {
      "cell_type": "code",
      "execution_count": 270,
      "metadata": {
        "id": "XB38PEpFduBC"
      },
      "outputs": [],
      "source": [
        "# Define the diffusion operator function\n",
        "def apply_diffusion_operator(qc):\n",
        "    # Apply Hadamard gates to all qubits\n",
        "    qc.h(range(num_qubits))\n",
        "    # Apply X gates to all qubits\n",
        "    qc.x(range(num_qubits))\n",
        "    # Apply multi-controlled Z gate\n",
        "    qc.h(num_qubits - 1)\n",
        "    qc.mcx(list(range(num_qubits - 1)), num_qubits - 1)\n",
        "    qc.h(num_qubits - 1)\n",
        "    # Apply X gates to all qubits\n",
        "    qc.x(range(num_qubits))\n",
        "    # Apply Hadamard gates to all qubits\n",
        "    qc.h(range(num_qubits))"
      ]
    },
    {
      "cell_type": "code",
      "execution_count": 271,
      "metadata": {
        "id": "MvPPEEcXdv4f"
      },
      "outputs": [],
      "source": [
        "# Define the optimal number of iterations function\n",
        "def optimal_iterations(N, M):\n",
        "    # Calculate the optimal number of iterations\n",
        "    k = max(1, math.floor((math.pi / 4) * math.sqrt(N / M)))\n",
        "    return k"
      ]
    },
    {
      "cell_type": "code",
      "execution_count": 272,
      "metadata": {
        "colab": {
          "base_uri": "https://localhost:8080/"
        },
        "id": "de_PT8urdx-l",
        "outputId": "3c6e4efb-903e-41d0-e9de-1a5192e59afe"
      },
      "outputs": [
        {
          "name": "stdout",
          "output_type": "stream",
          "text": [
            "Optimal number of iterations: 1\n"
          ]
        }
      ],
      "source": [
        "num_qubits = 3\n",
        "N = 2 ** num_qubits  # Total number of rooms\n",
        "\n",
        "# Define the target states (rooms with keys)\n",
        "target_states = ['110', '101']\n",
        "M = len(target_states)  # Number of marked states\n",
        "\n",
        "# Calculate the optimal number of iterations\n",
        "k = optimal_iterations(N, M)\n",
        "print(f\"Optimal number of iterations: {k}\")"
      ]
    },
    {
      "cell_type": "code",
      "execution_count": 273,
      "metadata": {
        "colab": {
          "base_uri": "https://localhost:8080/"
        },
        "id": "jYUio08cd3G9",
        "outputId": "ea1e4ee5-4649-48cb-ab3a-57b73af0ac72"
      },
      "outputs": [
        {
          "name": "stdout",
          "output_type": "stream",
          "text": [
            "\n",
            "Iteration 1:\n"
          ]
        },
        {
          "data": {
            "text/plain": [
              "<qiskit.circuit.instructionset.InstructionSet at 0x24122b11480>"
            ]
          },
          "execution_count": 273,
          "metadata": {},
          "output_type": "execute_result"
        }
      ],
      "source": [
        "\n",
        "# Initialize the quantum circuit with classical bits for measurement\n",
        "qc = QuantumCircuit(num_qubits, num_qubits)\n",
        "\n",
        "# Apply Hadamard gates to create a uniform superposition\n",
        "qc.h(range(num_qubits))\n",
        "\n",
        "# Apply k iterations of Grover's algorithm\n",
        "# Loop over the iterations\n",
        "for iteration in range(k):\n",
        "\n",
        "    print(f\"\\nIteration {iteration + 1}:\")\n",
        "    # Apply the oracle\n",
        "    apply_oracle(qc, target_states)\n",
        "\n",
        "    # Save the statevector after the oracle\n",
        "    qc.save_statevector(label=f'state_after_oracle_{iteration}')\n",
        "\n",
        "    # Apply the diffusion operator\n",
        "    apply_diffusion_operator(qc)\n",
        "\n",
        "# Measure all qubits\n",
        "qc.measure(range(num_qubits), range(num_qubits))"
      ]
    },
    {
      "cell_type": "code",
      "execution_count": 274,
      "metadata": {
        "colab": {
          "base_uri": "https://localhost:8080/"
        },
        "id": "lUhUmNIjeDYp",
        "outputId": "ef4bb355-de75-46a7-e16e-dc96c544dd5d"
      },
      "outputs": [
        {
          "name": "stdout",
          "output_type": "stream",
          "text": [
            "\n",
            "Statevector after oracle in iteration 1:\n",
            "Statevector([ 0.35355339+0.00000000e+00j,  0.35355339-4.32978028e-17j,\n",
            "              0.35355339-4.32978028e-17j,  0.35355339+0.00000000e+00j,\n",
            "              0.35355339+0.00000000e+00j, -0.35355339+4.32978028e-17j,\n",
            "             -0.35355339+4.32978028e-17j,  0.35355339+0.00000000e+00j],\n",
            "            dims=(2, 2, 2))\n",
            "Measurement results:\n",
            "{'101': 523, '110': 501}\n"
          ]
        }
      ],
      "source": [
        "\n",
        "\n",
        "# Simulate the circuit\n",
        "simulator = AerSimulator()\n",
        "qc.save_statevector()\n",
        "\n",
        "job = simulator.run(transpile(qc, simulator))\n",
        "result = job.result()\n",
        "statevector = result.get_statevector(qc)\n",
        "\n",
        "# Retrieve and print the statevectors after each oracle (optional)\n",
        "for iteration in range(k):\n",
        "    state_after_oracle = result.data(0)[f'state_after_oracle_{iteration}']\n",
        "    print(f\"\\nStatevector after oracle in iteration {iteration + 1}:\")\n",
        "    print(state_after_oracle)\n",
        "\n",
        "# Get the measurement results\n",
        "counts = result.get_counts(qc)\n",
        "print(\"Measurement results:\")\n",
        "print(counts)\n",
        "\n",
        "# Visualize the results\n",
        "plot_histogram(counts)\n",
        "plt.show()"
      ]
    },
    {
      "cell_type": "markdown",
      "metadata": {
        "id": "15Feimo1ghCR"
      },
      "source": [
        "### What do you observe in the measurement results when searching for two keys? Does Grover’s algorithm still provide an advantage?\n",
        "\n",
        "1. Only the two marked states, ‘101’ and ‘110’, were measured. Only the two marked states, ‘101’ and ‘110’, were measured.\n",
        "\n",
        "Yes, Grover’s algorithm provides a significant advantage even when searching for multiple keys.\n",
        "\n",
        "The algorithm reduces the number of steps (queries) required to find a marked state from  O\\left( \\frac{N}{M} \\right)  in classical search to  O\\left( \\sqrt{\\frac{N}{M}} \\right)  in quantum search."
      ]
    },
    {
      "cell_type": "markdown",
      "metadata": {
        "id": "jF1kIHq4mbup"
      },
      "source": [
        "# Bonus Exercise II - Solving Linear Systems with the HHL Algorithm\n",
        "The HHL algorithm follows these steps:\n",
        "\n",
        "1. Represent the vector b as a quantum state.\n",
        "2. Perform quantum phase estimation (QPE) on the matrix  A to find its eigenvalues.\n",
        "3. Apply controlled rotations based on the eigenvalues.\n",
        "4. Use the inverse of QPE and measure the quantum state to obtain the solution x."
      ]
    },
    {
      "cell_type": "markdown",
      "metadata": {
        "id": "aWlg-DBqmjqj"
      },
      "source": [
        "## Part 1 - Implementing the HHL algorithm in Qiskit\n",
        "Now, it's time to implement the HHL algorithm! We’ll focus on solving a simple 2x2 linear system of equations using Qiskit.\n",
        "\n",
        "We will solve the system: $Ax = b$\n",
        "\n",
        "where: $A=\\begin{pmatrix} 2 & -1\\\\ -1 & 3 \\end{pmatrix}$\n",
        "and $b=\\begin{pmatrix} 1\\\\ 0 \\end{pmatrix}$"
      ]
    },
    {
      "cell_type": "markdown",
      "metadata": {
        "id": "SEsVCP7PmvIH"
      },
      "source": [
        "### 1. Prepare the Input State\n",
        "Use Qiskit to prepare the quantum state b. This can be represented by initializing the qubits accordingly."
      ]
    },
    {
      "cell_type": "code",
      "execution_count": 275,
      "metadata": {
        "colab": {
          "base_uri": "https://localhost:8080/",
          "height": 186
        },
        "id": "UUj0cw7xJZzb",
        "outputId": "f7593ba2-2933-40ef-c897-ef6667652460"
      },
      "outputs": [
        {
          "data": {
            "text/html": [
              "<pre style=\"word-wrap: normal;white-space: pre;background: #fff0;line-height: 1.1;font-family: &quot;Courier New&quot;,Courier,monospace\">                        \n",
              "q_0: ───────────────────\n",
              "                        \n",
              "q_1: ───────────────────\n",
              "                        \n",
              "q_2: ───────────────────\n",
              "     ┌─────────────────┐\n",
              "q_3: ┤ Initialize(1,0) ├\n",
              "     └─────────────────┘\n",
              "c: 3/═══════════════════\n",
              "                        </pre>"
            ],
            "text/plain": [
              "                        \n",
              "q_0: ───────────────────\n",
              "                        \n",
              "q_1: ───────────────────\n",
              "                        \n",
              "q_2: ───────────────────\n",
              "     ┌─────────────────┐\n",
              "q_3: ┤ Initialize(1,0) ├\n",
              "     └─────────────────┘\n",
              "c: 3/═══════════════════\n",
              "                        "
            ]
          },
          "execution_count": 275,
          "metadata": {},
          "output_type": "execute_result"
        }
      ],
      "source": [
        "def prepare_input_state(b, num_ancilla=3):\n",
        "\n",
        "    # Create a quantum circuit\n",
        "    qc = QuantumCircuit(num_ancilla + 1, num_ancilla) # 1 qubit for b\n",
        "\n",
        "    # Initialize the quantum state based on b\n",
        "    qc.initialize([b[0], b[1]], num_ancilla, normalize=True)\n",
        "\n",
        "    return qc\n",
        "\n",
        "# Define the vector b\n",
        "b = np.array([1, 0])\n",
        "\n",
        "# Define the number of ancilla qubits\n",
        "num_ancilla = 3\n",
        "\n",
        "qc = prepare_input_state(b, num_ancilla=num_ancilla)\n",
        "qc.draw()"
      ]
    },
    {
      "cell_type": "markdown",
      "metadata": {
        "id": "2hhCvF2lm_pP"
      },
      "source": [
        "### 2. Quantum Phase Estimation (QPE)\n",
        "Implement the QPE part of the HHL algorithm on matrix A. You may use controlled unitary operations and ancilla qubits to perform the phase estimation."
      ]
    },
    {
      "cell_type": "code",
      "execution_count": 276,
      "metadata": {
        "colab": {
          "base_uri": "https://localhost:8080/"
        },
        "id": "DzDzIzmuKY7A",
        "outputId": "57126d3f-1d96-4dc2-ff71-e0ec36b50954"
      },
      "outputs": [
        {
          "name": "stdout",
          "output_type": "stream",
          "text": [
            "Unitary Matrix U = \n",
            " [[0.76720251+0.5606113j 0.22263263-0.2180596j]\n",
            " [0.22263263-0.2180596j 0.54456989+0.7786709j]]\n"
          ]
        }
      ],
      "source": [
        "from scipy.linalg import expm\n",
        "from scipy.linalg import ishermitian\n",
        "\n",
        "def hermitian_to_unitary(A):\n",
        "    # Check if A is hermitian\n",
        "    if not ishermitian(A):\n",
        "        raise ValueError(\"Matrix A must be Hermitian.\")\n",
        "\n",
        "    # Compute the unitary operator U = exp(i*A*t) out of hermitian matrix\n",
        "    t = 1/np.pi  # Scaling factor to ensure phases are within [0,1) and distinct\n",
        "    U = expm(1j * A * t)\n",
        "\n",
        "    # Verify that U is unitary\n",
        "    if not np.allclose(U.conj().T @ U, np.eye(len(A))):\n",
        "        raise ValueError(\"Matrix U is not unitary.\")\n",
        "\n",
        "    return U\n",
        "\n",
        "# Define the matrix A\n",
        "A = np.array([[2, -1],\n",
        "              [-1, 3]])\n",
        "\n",
        "U = hermitian_to_unitary(A)\n",
        "print('Unitary Matrix U = \\n', U)"
      ]
    },
    {
      "cell_type": "code",
      "execution_count": 277,
      "metadata": {
        "colab": {
          "base_uri": "https://localhost:8080/",
          "height": 186
        },
        "id": "5-wdR94keS7u",
        "outputId": "ceb7dc62-e3c7-48c0-b0bc-924e0584c7b2"
      },
      "outputs": [
        {
          "data": {
            "text/html": [
              "<pre style=\"word-wrap: normal;white-space: pre;background: #fff0;line-height: 1.1;font-family: &quot;Courier New&quot;,Courier,monospace\">            ┌───┐                                        ┌───────┐\n",
              "q_0: ───────┤ H ├────────────■───────────────────────────┤0      ├\n",
              "            ├───┤            │                           │       │\n",
              "q_1: ───────┤ H ├────────────┼──────────■────────────────┤1 IQFT ├\n",
              "            ├───┤            │          │                │       │\n",
              "q_2: ───────┤ H ├────────────┼──────────┼──────────■─────┤2      ├\n",
              "     ┌──────┴───┴──────┐┌────┴────┐┌────┴────┐┌────┴────┐└───────┘\n",
              "q_3: ┤ Initialize(1,0) ├┤ Unitary ├┤ Unitary ├┤ Unitary ├─────────\n",
              "     └─────────────────┘└─────────┘└─────────┘└─────────┘         \n",
              "c: 3/═════════════════════════════════════════════════════════════\n",
              "                                                                  </pre>"
            ],
            "text/plain": [
              "            ┌───┐                                        ┌───────┐\n",
              "q_0: ───────┤ H ├────────────■───────────────────────────┤0      ├\n",
              "            ├───┤            │                           │       │\n",
              "q_1: ───────┤ H ├────────────┼──────────■────────────────┤1 IQFT ├\n",
              "            ├───┤            │          │                │       │\n",
              "q_2: ───────┤ H ├────────────┼──────────┼──────────■─────┤2      ├\n",
              "     ┌──────┴───┴──────┐┌────┴────┐┌────┴────┐┌────┴────┐└───────┘\n",
              "q_3: ┤ Initialize(1,0) ├┤ Unitary ├┤ Unitary ├┤ Unitary ├─────────\n",
              "     └─────────────────┘└─────────┘└─────────┘└─────────┘         \n",
              "c: 3/═════════════════════════════════════════════════════════════\n",
              "                                                                  "
            ]
          },
          "execution_count": 277,
          "metadata": {},
          "output_type": "execute_result"
        }
      ],
      "source": [
        "from qiskit.circuit.library import QFT\n",
        "from qiskit.circuit.library import UnitaryGate\n",
        "\n",
        "def quantum_phase_estimation(A, b, num_ancilla=3):\n",
        "\n",
        "    # Ensure the input is a 2D matrix of size 2x2\n",
        "    if A.shape != (2, 2):\n",
        "        raise ValueError(\"The input matrix must be 2x2.\")\n",
        "\n",
        "    # Convert the matrix into a unitary\n",
        "    U = hermitian_to_unitary(A)\n",
        "\n",
        "    # Create a quantum circuit prepared in initial state based on b\n",
        "    qc = prepare_input_state(b, num_ancilla=num_ancilla)\n",
        "\n",
        "    # Step 1: Apply Hadamard gates to the ancilla qubits\n",
        "    qc.h(range(num_ancilla))\n",
        "\n",
        "    # Step 2: Apply controlled unitary operations\n",
        "    for qubit in range(num_ancilla):\n",
        "        exponent = 2 ** qubit\n",
        "        controlled_unitary = UnitaryGate(np.linalg.matrix_power(U, exponent)).control()  # Controlled U^(2^exponent)\n",
        "        qc.append(controlled_unitary, [qubit, num_ancilla])\n",
        "\n",
        "    # Step 3: Apply Inverse Quantum Fourier Transform (QFT) to the ancilla qubits\n",
        "    qc.append(QFT(num_ancilla, inverse=True).to_gate(), range(num_ancilla))\n",
        "\n",
        "    return qc\n",
        "\n",
        "\n",
        "# Generate the Quantum Phase Estimation circuit for this matrix\n",
        "qc = quantum_phase_estimation(A, b, num_ancilla=num_ancilla)\n",
        "qc.draw()"
      ]
    },
    {
      "cell_type": "code",
      "execution_count": 278,
      "metadata": {
        "colab": {
          "base_uri": "https://localhost:8080/",
          "height": 463
        },
        "id": "CI73ooZBniMp",
        "outputId": "ae5a8e29-badd-4b2a-a287-bfd6b6d6ec9c"
      },
      "outputs": [
        {
          "name": "stdout",
          "output_type": "stream",
          "text": [
            "Measurement results: {'000': 243, '001': 484, '010': 161, '101': 23, '111': 44, '011': 30, '100': 12, '110': 27}\n"
          ]
        },
        {
          "data": {
            "image/png": "[encoded data removed]",
            "text/plain": [
              "<Figure size 640x480 with 1 Axes>"
            ]
          },
          "execution_count": 278,
          "metadata": {},
          "output_type": "execute_result"
        }
      ],
      "source": [
        "# Measure the ancilla qubits to extract phase information\n",
        "qc.measure(range(num_ancilla), range(num_ancilla))\n",
        "\n",
        "# Simulate the circuit using the Aer simulator\n",
        "simulator = AerSimulator()\n",
        "job = simulator.run(transpile(qc, simulator), shots=1024)\n",
        "result = job.result()\n",
        "\n",
        "# Print the measurement results\n",
        "counts = result.get_counts(qc)\n",
        "print(f\"Measurement results: {counts}\")\n",
        "\n",
        "# Plot the histogram\n",
        "plot_histogram(counts)"
      ]
    },
    {
      "cell_type": "code",
      "execution_count": 279,
      "metadata": {
        "colab": {
          "base_uri": "https://localhost:8080/"
        },
        "id": "owYyU3Ths2l7",
        "outputId": "6994430a-f190-44a6-fca3-5441408f994a"
      },
      "outputs": [
        {
          "name": "stdout",
          "output_type": "stream",
          "text": [
            "Measured: 000, Phase: 0.000, Eigenvalue estimate: 0.000\n",
            "Measured: 001, Phase: 0.500, Eigenvalue estimate: 3.142\n",
            "Measured: 010, Phase: 0.250, Eigenvalue estimate: 1.571\n",
            "Measured: 101, Phase: 0.625, Eigenvalue estimate: -2.356\n",
            "Measured: 111, Phase: 0.875, Eigenvalue estimate: -0.785\n",
            "Measured: 011, Phase: 0.750, Eigenvalue estimate: -1.571\n",
            "Measured: 100, Phase: 0.125, Eigenvalue estimate: 0.785\n",
            "Measured: 110, Phase: 0.375, Eigenvalue estimate: 2.356\n"
          ]
        }
      ],
      "source": [
        "#Convert measured outcomes to phases and then to eigenvalues\n",
        "for measurement, count in counts.items():\n",
        "    # Convert binary measurement to phase\n",
        "    phase = sum(int(bit) * (1 / (2 ** (index + 1))) for index, bit in enumerate(reversed(measurement)))\n",
        "    eigenvalue_estimate = 2 * np.pi * phase  # Scale to [0, 2π]\n",
        "\n",
        "    # Since U = e^(i*λ), we can recover λ\n",
        "    eigenvalue = np.angle(np.exp(1j * eigenvalue_estimate))\n",
        "\n",
        "    print(f\"Measured: {measurement}, Phase: {phase:.3f}, Eigenvalue estimate: {eigenvalue:.3f}\")\n"
      ]
    },
    {
      "cell_type": "markdown",
      "metadata": {
        "id": "FT0qbeS7nZNn"
      },
      "source": [
        "### 3. Controlled Rotation\n",
        "Implement the controlled rotation in Qiskit based on the eigenvalues obtained from QPE."
      ]
    },
    {
      "cell_type": "code",
      "execution_count": 280,
      "metadata": {
        "colab": {
          "base_uri": "https://localhost:8080/",
          "height": 356
        },
        "id": "XgH8Oc4kB-FC",
        "outputId": "6a52b29a-608a-4af5-b61e-b47d2073629d"
      },
      "outputs": [
        {
          "data": {
            "text/html": [
              "<pre style=\"word-wrap: normal;white-space: pre;background: #fff0;line-height: 1.1;font-family: &quot;Courier New&quot;,Courier,monospace\">            ┌───┐                                        ┌───────┐┌─┐      »\n",
              "q_0: ───────┤ H ├────────────■───────────────────────────┤0      ├┤M├──────»\n",
              "            ├───┤            │                           │       │└╥┘┌─┐   »\n",
              "q_1: ───────┤ H ├────────────┼──────────■────────────────┤1 IQFT ├─╫─┤M├───»\n",
              "            ├───┤            │          │                │       │ ║ └╥┘┌─┐»\n",
              "q_2: ───────┤ H ├────────────┼──────────┼──────────■─────┤2      ├─╫──╫─┤M├»\n",
              "     ┌──────┴───┴──────┐┌────┴────┐┌────┴────┐┌────┴────┐└───────┘ ║  ║ └╥┘»\n",
              "q_3: ┤ Initialize(1,0) ├┤ Unitary ├┤ Unitary ├┤ Unitary ├──────────╫──╫──╫─»\n",
              "     └─────────────────┘└─────────┘└─────────┘└─────────┘          ║  ║  ║ »\n",
              "c: 3/══════════════════════════════════════════════════════════════╩══╩══╩═»\n",
              "                                                                   0  1  2 »\n",
              "«                                 \n",
              "«q_0: ────────────────────────────\n",
              "«                                 \n",
              "«q_1: ──────■─────────────────────\n",
              "«           │                     \n",
              "«q_2: ──────┼─────────────■───────\n",
              "«     ┌─────┴──────┐┌─────┴──────┐\n",
              "«q_3: ┤ Rz(1.9997) ├┤ Rz(3.9995) ├\n",
              "«     └────────────┘└────────────┘\n",
              "«c: 3/════════════════════════════\n",
              "«                                 </pre>"
            ],
            "text/plain": [
              "            ┌───┐                                        ┌───────┐┌─┐      »\n",
              "q_0: ───────┤ H ├────────────■───────────────────────────┤0      ├┤M├──────»\n",
              "            ├───┤            │                           │       │└╥┘┌─┐   »\n",
              "q_1: ───────┤ H ├────────────┼──────────■────────────────┤1 IQFT ├─╫─┤M├───»\n",
              "            ├───┤            │          │                │       │ ║ └╥┘┌─┐»\n",
              "q_2: ───────┤ H ├────────────┼──────────┼──────────■─────┤2      ├─╫──╫─┤M├»\n",
              "     ┌──────┴───┴──────┐┌────┴────┐┌────┴────┐┌────┴────┐└───────┘ ║  ║ └╥┘»\n",
              "q_3: ┤ Initialize(1,0) ├┤ Unitary ├┤ Unitary ├┤ Unitary ├──────────╫──╫──╫─»\n",
              "     └─────────────────┘└─────────┘└─────────┘└─────────┘          ║  ║  ║ »\n",
              "c: 3/══════════════════════════════════════════════════════════════╩══╩══╩═»\n",
              "                                                                   0  1  2 »\n",
              "«                                 \n",
              "«q_0: ────────────────────────────\n",
              "«                                 \n",
              "«q_1: ──────■─────────────────────\n",
              "«           │                     \n",
              "«q_2: ──────┼─────────────■───────\n",
              "«     ┌─────┴──────┐┌─────┴──────┐\n",
              "«q_3: ┤ Rz(1.9997) ├┤ Rz(3.9995) ├\n",
              "«     └────────────┘└────────────┘\n",
              "«c: 3/════════════════════════════\n",
              "«                                 "
            ]
          },
          "execution_count": 280,
          "metadata": {},
          "output_type": "execute_result"
        }
      ],
      "source": [
        "#########################################################################\n",
        "eigenvalues = [0, 3.142, 1.571] # should be extracted out of the measurement result\n",
        "#########################################################################\n",
        "\n",
        "def controlled_rotations(qc, eigenvalues, num_ancilla):\n",
        "    target_qubit = num_ancilla\n",
        "    for idx, eigenvalue in enumerate(eigenvalues):\n",
        "        if eigenvalue != 0:\n",
        "            angle = 2 * np.pi / eigenvalue  # Convert eigenvalue to angle for rotation\n",
        "            qc.crz(angle, idx, target_qubit)  # Apply controlled rotation (controlled RZ)\n",
        "    return qc\n",
        "\n",
        "\n",
        "qc = controlled_rotations(qc, eigenvalues, num_ancilla=num_ancilla)\n",
        "qc.draw()\n"
      ]
    },
    {
      "cell_type": "markdown",
      "metadata": {
        "id": "CF20G66anhCe"
      },
      "source": [
        "### 4. Inverse QPE and Measurement\n",
        "Implement the inverse QPE and measure the qubits to extract the result."
      ]
    },
    {
      "cell_type": "code",
      "execution_count": 281,
      "metadata": {
        "colab": {
          "base_uri": "https://localhost:8080/",
          "height": 356
        },
        "id": "WTH_9Y5cB-lb",
        "outputId": "e436b85f-28c9-4653-8a1d-fac5ec46d82b"
      },
      "outputs": [
        {
          "data": {
            "text/html": [
              "<pre style=\"word-wrap: normal;white-space: pre;background: #fff0;line-height: 1.1;font-family: &quot;Courier New&quot;,Courier,monospace\">            ┌───┐                                        ┌───────┐┌─┐      »\n",
              "q_0: ───────┤ H ├────────────■───────────────────────────┤0      ├┤M├──────»\n",
              "            ├───┤            │                           │       │└╥┘┌─┐   »\n",
              "q_1: ───────┤ H ├────────────┼──────────■────────────────┤1 IQFT ├─╫─┤M├───»\n",
              "            ├───┤            │          │                │       │ ║ └╥┘┌─┐»\n",
              "q_2: ───────┤ H ├────────────┼──────────┼──────────■─────┤2      ├─╫──╫─┤M├»\n",
              "     ┌──────┴───┴──────┐┌────┴────┐┌────┴────┐┌────┴────┐└───────┘ ║  ║ └╥┘»\n",
              "q_3: ┤ Initialize(1,0) ├┤ Unitary ├┤ Unitary ├┤ Unitary ├──────────╫──╫──╫─»\n",
              "     └─────────────────┘└─────────┘└─────────┘└─────────┘          ║  ║  ║ »\n",
              "c: 3/══════════════════════════════════════════════════════════════╩══╩══╩═»\n",
              "                                                                   0  1  2 »\n",
              "«                                 ┌──────┐                           »\n",
              "«q_0: ────────────────────────────┤0     ├───────────────────────────»\n",
              "«                                 │      │                      ┌───┐»\n",
              "«q_1: ──────■─────────────────────┤1 QFT ├────────────────■─────┤ H ├»\n",
              "«           │                     │      │                │     ├───┤»\n",
              "«q_2: ──────┼─────────────■───────┤2     ├─────■──────────┼─────┤ H ├»\n",
              "«     ┌─────┴──────┐┌─────┴──────┐└──────┘┌────┴────┐┌────┴────┐└───┘»\n",
              "«q_3: ┤ Rz(1.9997) ├┤ Rz(3.9995) ├────────┤ Unitary ├┤ Unitary ├─────»\n",
              "«     └────────────┘└────────────┘        └─────────┘└─────────┘     »\n",
              "«c: 3/═══════════════════════════════════════════════════════════════»\n",
              "«                                                                    »\n",
              "«                ┌───┐\n",
              "«q_0: ─────■─────┤ H ├\n",
              "«          │     └───┘\n",
              "«q_1: ─────┼──────────\n",
              "«          │          \n",
              "«q_2: ─────┼──────────\n",
              "«     ┌────┴────┐     \n",
              "«q_3: ┤ Unitary ├─────\n",
              "«     └─────────┘     \n",
              "«c: 3/════════════════\n",
              "«                     </pre>"
            ],
            "text/plain": [
              "            ┌───┐                                        ┌───────┐┌─┐      »\n",
              "q_0: ───────┤ H ├────────────■───────────────────────────┤0      ├┤M├──────»\n",
              "            ├───┤            │                           │       │└╥┘┌─┐   »\n",
              "q_1: ───────┤ H ├────────────┼──────────■────────────────┤1 IQFT ├─╫─┤M├───»\n",
              "            ├───┤            │          │                │       │ ║ └╥┘┌─┐»\n",
              "q_2: ───────┤ H ├────────────┼──────────┼──────────■─────┤2      ├─╫──╫─┤M├»\n",
              "     ┌──────┴───┴──────┐┌────┴────┐┌────┴────┐┌────┴────┐└───────┘ ║  ║ └╥┘»\n",
              "q_3: ┤ Initialize(1,0) ├┤ Unitary ├┤ Unitary ├┤ Unitary ├──────────╫──╫──╫─»\n",
              "     └─────────────────┘└─────────┘└─────────┘└─────────┘          ║  ║  ║ »\n",
              "c: 3/══════════════════════════════════════════════════════════════╩══╩══╩═»\n",
              "                                                                   0  1  2 »\n",
              "«                                 ┌──────┐                           »\n",
              "«q_0: ────────────────────────────┤0     ├───────────────────────────»\n",
              "«                                 │      │                      ┌───┐»\n",
              "«q_1: ──────■─────────────────────┤1 QFT ├────────────────■─────┤ H ├»\n",
              "«           │                     │      │                │     ├───┤»\n",
              "«q_2: ──────┼─────────────■───────┤2     ├─────■──────────┼─────┤ H ├»\n",
              "«     ┌─────┴──────┐┌─────┴──────┐└──────┘┌────┴────┐┌────┴────┐└───┘»\n",
              "«q_3: ┤ Rz(1.9997) ├┤ Rz(3.9995) ├────────┤ Unitary ├┤ Unitary ├─────»\n",
              "«     └────────────┘└────────────┘        └─────────┘└─────────┘     »\n",
              "«c: 3/═══════════════════════════════════════════════════════════════»\n",
              "«                                                                    »\n",
              "«                ┌───┐\n",
              "«q_0: ─────■─────┤ H ├\n",
              "«          │     └───┘\n",
              "«q_1: ─────┼──────────\n",
              "«          │          \n",
              "«q_2: ─────┼──────────\n",
              "«     ┌────┴────┐     \n",
              "«q_3: ┤ Unitary ├─────\n",
              "«     └─────────┘     \n",
              "«c: 3/════════════════\n",
              "«                     "
            ]
          },
          "execution_count": 281,
          "metadata": {},
          "output_type": "execute_result"
        }
      ],
      "source": [
        "def inverse_quantum_phase_estimation(A, num_ancilla=3):\n",
        "\n",
        "    # Step 1: Apply Quantum Fourier Transform (QFT) to the ancilla qubits\n",
        "    qc.append(QFT(num_ancilla, inverse=False).to_gate(), range(num_ancilla))\n",
        "\n",
        "    # Step 2: Apply inverse of controlled unitary operations\n",
        "    U = hermitian_to_unitary(A)\n",
        "    for qubit in reversed(range(num_ancilla)):\n",
        "        exponent = 2 ** qubit\n",
        "        controlled_unitary_dagger = UnitaryGate(np.linalg.matrix_power(U, exponent).conj().T).control()  # Controlled U^(2^exponent) dagger\n",
        "        qc.append(controlled_unitary_dagger, [qubit, num_ancilla])\n",
        "\n",
        "    # Step 3: Apply Hadamard gates to the ancilla qubits\n",
        "    qc.h(range(num_ancilla))\n",
        "\n",
        "    return qc\n",
        "\n",
        "qc = inverse_quantum_phase_estimation(A, num_ancilla=num_ancilla)\n",
        "qc.draw()"
      ]
    },
    {
      "cell_type": "markdown",
      "metadata": {
        "id": "MtPS9AmEnmZh"
      },
      "source": [
        "## Part 2: Analyze and Compare Results\n",
        "Now that you’ve implemented the HHL algorithm, it's time to compare the quantum solution with the classical one."
      ]
    },
    {
      "cell_type": "markdown",
      "metadata": {
        "id": "_U-IcrAspk8O"
      },
      "source": [
        "### Classical Solution\n",
        "\n",
        "Solve the system $Ax=b$ using classical methods (e.g., numpy's linear algebra solver)."
      ]
    },
    {
      "cell_type": "code",
      "execution_count": 282,
      "metadata": {
        "colab": {
          "base_uri": "https://localhost:8080/"
        },
        "id": "2bgqH4MVYdzG",
        "outputId": "616ed5ad-256c-4a4b-94ce-52defa03c9aa"
      },
      "outputs": [
        {
          "name": "stdout",
          "output_type": "stream",
          "text": [
            "Eigenvalues of A: [1.38196601 3.61803399]\n",
            "Eigenvectors of A:\n",
            " [[-0.85065081 -0.52573111]\n",
            " [-0.52573111  0.85065081]]\n",
            "Solution x = \n",
            " [0.6 0.2]\n"
          ]
        }
      ],
      "source": [
        "# Compute eigenvalues and eigenvectors of A\n",
        "eigenvalues, eigenvectors = np.linalg.eigh(A)\n",
        "print(\"Eigenvalues of A:\", eigenvalues)\n",
        "print(\"Eigenvectors of A:\\n\", eigenvectors)\n",
        "\n",
        "# Solve for x in the equation Ax = b\n",
        "x = np.linalg.solve(A, b)\n",
        "print(\"Solution x = \\n\", x)"
      ]
    },
    {
      "cell_type": "markdown",
      "metadata": {
        "id": "jiG4KBnQpl3n"
      },
      "source": [
        "### Quantum Solution\n",
        "\n",
        "Run your quantum circuit in Qiskit and extract the result from the measurement."
      ]
    },
    {
      "cell_type": "code",
      "execution_count": 283,
      "metadata": {
        "id": "aKlFD3jVAib0"
      },
      "outputs": [
        {
          "name": "stdout",
          "output_type": "stream",
          "text": [
            "Full statevector: Statevector([ 4.98972047e-01-4.98972047e-01j,\n",
            "             -4.06517535e-02-4.06517535e-02j,\n",
            "             -8.36600204e-02-8.36600204e-02j,\n",
            "             -3.24009895e-02+3.24009895e-02j,\n",
            "             -1.89882525e-01-1.89882525e-01j,\n",
            "             -7.48809837e-02+7.48809837e-02j,\n",
            "             -1.54641938e-01+1.54641938e-01j,\n",
            "              1.09706560e-02+1.09706560e-02j,\n",
            "              1.98420775e-02-1.98420775e-02j,\n",
            "             -7.85628260e-02-7.85628260e-02j,\n",
            "             -1.62378211e-01-1.62378211e-01j,\n",
            "              4.72246524e-04-4.72246524e-04j,\n",
            "             -3.76883151e-01-3.76883151e-01j,\n",
            "              1.78684497e-03-1.78684497e-03j,\n",
            "              3.97218392e-03-3.97218392e-03j,\n",
            "              2.52165749e-02+2.52165749e-02j],\n",
            "            dims=(2, 2, 2, 2))\n",
            "Classical solution: [0.6 0.2]\n",
            "Scaled quantum solution vector: [0.50940869 0.37483702]\n"
          ]
        },
        {
          "data": {
            "image/png": "[encoded data removed]",
            "text/plain": [
              "<Figure size 640x480 with 1 Axes>"
            ]
          },
          "execution_count": 283,
          "metadata": {},
          "output_type": "execute_result"
        }
      ],
      "source": [
        "from qiskit.quantum_info import partial_trace, Statevector\n",
        "\n",
        "\n",
        "# Save the statevector and measure ancilla qubits\n",
        "qc.save_statevector()\n",
        "qc.measure(range(num_ancilla), range(num_ancilla))\n",
        "\n",
        "# Simulate the circuit\n",
        "simulator = AerSimulator()\n",
        "job = simulator.run(transpile(qc, simulator))\n",
        "result = job.result()\n",
        "\n",
        "# Extract the statevector of the full system (data + ancilla qubits)\n",
        "statevector = result.get_statevector(qc)\n",
        "print(\"Full statevector:\", statevector)\n",
        "\n",
        "# Trace out the ancilla qubits to isolate the data qubits\n",
        "data_qubits_state = partial_trace(statevector, range(num_ancilla))\n",
        "\n",
        "# Extract the amplitudes from the density matrix\n",
        "# Diagonal elements represent |alpha_0|^2 and |alpha_1|^2\n",
        "rho_00 = data_qubits_state.data[0, 0]  # Diagonal element |0><0|\n",
        "rho_11 = data_qubits_state.data[1, 1]  # Diagonal element |1><1|\n",
        "rho_01 = data_qubits_state.data[0, 1]  # Off-diagonal element |0><1| (used for phase)\n",
        "\n",
        "# Compute the amplitudes for |0> and |1> based on the diagonal elements\n",
        "alpha_0 = np.sqrt(np.real(rho_00))\n",
        "alpha_1 = np.sqrt(np.real(rho_11))\n",
        "\n",
        "# Reconstruct the pure statevector (ignoring any phases for now)\n",
        "statevector_x = np.array([alpha_0, alpha_1])\n",
        "\n",
        "# Classical solution (for comparison and normalization)\n",
        "x_classical = np.linalg.solve(A, b)\n",
        "print(\"Classical solution:\", x_classical)\n",
        "\n",
        "# Compute the norms of the quantum and classical solutions\n",
        "norm_classical = np.linalg.norm(x_classical)\n",
        "norm_quantum = np.linalg.norm(statevector_x)\n",
        "\n",
        "# Scale the quantum solution to match the classical solution's norm\n",
        "scaled_solution = (norm_classical / norm_quantum) * statevector_x\n",
        "\n",
        "print(\"Scaled quantum solution vector:\", scaled_solution)\n",
        "\n",
        "# Get the measurement results (counts)\n",
        "counts = result.get_counts(qc)\n",
        "\n",
        "plot_histogram(counts)"
      ]
    },
    {
      "cell_type": "markdown",
      "metadata": {
        "id": "xKz4GpBGpm89"
      },
      "source": [
        "### Comparison\n",
        "Compare the quantum result with the classical result. How accurate is the quantum solution? What challenges did you face in implementing the HHL algorithm?"
      ]
    },
    {
      "cell_type": "markdown",
      "metadata": {},
      "source": [
        "The classical solution is [0.6 0.2] and our HHL implementation finds a solution that is close sometimes ([0.50940869 0.37483702]). It's unclear if our HHL algorithm is actually working. The solution extraction was very hard."
      ]
    }
  ],
  "metadata": {
    "colab": {
      "provenance": []
    },
    "kernelspec": {
      "display_name": "Python 3",
      "name": "python3"
    },
    "language_info": {
      "codemirror_mode": {
        "name": "ipython",
        "version": 3
      },
      "file_extension": ".py",
      "mimetype": "text/x-python",
      "name": "python",
      "nbconvert_exporter": "python",
      "pygments_lexer": "ipython3",
      "version": "3.11.9"
    }
  },
  "nbformat": 4,
  "nbformat_minor": 0
}
