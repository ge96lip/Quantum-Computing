{
  "nbformat": 4,
  "nbformat_minor": 0,
  "metadata": {
    "colab": {
      "provenance": [],
      "authorship_tag": "ABX9TyMULqlBVFkp5QR+7jD4sxHh",
      "include_colab_link": true
    },
    "kernelspec": {
      "name": "python3",
      "display_name": "Python 3"
    },
    "language_info": {
      "name": "python"
    }
  },
  "cells": [
    {
      "cell_type": "markdown",
      "metadata": {
        "id": "view-in-github",
        "colab_type": "text"
      },
      "source": [
        "<a href=\"https://colab.research.google.com/github/ge96lip/Quantum-Computing/blob/main/Programming_Assignment_II_Quantum_Instructions_%26_Gates.ipynb\" target=\"_parent\"><img src=\"https://colab.research.google.com/assets/colab-badge.svg\" alt=\"Open In Colab\"/></a>"
      ]
    },
    {
      "cell_type": "code",
      "execution_count": 1,
      "metadata": {
        "colab": {
          "base_uri": "https://localhost:8080/"
        },
        "id": "LoXWWlXj1lTI",
        "outputId": "519ca5b3-ebcb-4702-d097-0f20b3ab4ed3"
      },
      "outputs": [
        {
          "output_type": "stream",
          "name": "stdout",
          "text": [
            "Collecting qiskit\n",
            "  Downloading qiskit-1.2.0-cp38-abi3-manylinux_2_17_x86_64.manylinux2014_x86_64.whl.metadata (12 kB)\n",
            "Collecting rustworkx>=0.15.0 (from qiskit)\n",
            "  Downloading rustworkx-0.15.1-cp38-abi3-manylinux_2_17_x86_64.manylinux2014_x86_64.whl.metadata (9.9 kB)\n",
            "Requirement already satisfied: numpy<3,>=1.17 in /usr/local/lib/python3.10/dist-packages (from qiskit) (1.26.4)\n",
            "Requirement already satisfied: scipy>=1.5 in /usr/local/lib/python3.10/dist-packages (from qiskit) (1.13.1)\n",
            "Requirement already satisfied: sympy>=1.3 in /usr/local/lib/python3.10/dist-packages (from qiskit) (1.13.2)\n",
            "Collecting dill>=0.3 (from qiskit)\n",
            "  Downloading dill-0.3.8-py3-none-any.whl.metadata (10 kB)\n",
            "Requirement already satisfied: python-dateutil>=2.8.0 in /usr/local/lib/python3.10/dist-packages (from qiskit) (2.8.2)\n",
            "Collecting stevedore>=3.0.0 (from qiskit)\n",
            "  Downloading stevedore-5.3.0-py3-none-any.whl.metadata (2.3 kB)\n",
            "Requirement already satisfied: typing-extensions in /usr/local/lib/python3.10/dist-packages (from qiskit) (4.12.2)\n",
            "Collecting symengine>=0.11 (from qiskit)\n",
            "  Downloading symengine-0.11.0-cp310-cp310-manylinux_2_12_x86_64.manylinux2010_x86_64.whl.metadata (1.2 kB)\n",
            "Requirement already satisfied: six>=1.5 in /usr/local/lib/python3.10/dist-packages (from python-dateutil>=2.8.0->qiskit) (1.16.0)\n",
            "Collecting pbr>=2.0.0 (from stevedore>=3.0.0->qiskit)\n",
            "  Downloading pbr-6.1.0-py2.py3-none-any.whl.metadata (3.4 kB)\n",
            "Requirement already satisfied: mpmath<1.4,>=1.1.0 in /usr/local/lib/python3.10/dist-packages (from sympy>=1.3->qiskit) (1.3.0)\n",
            "Downloading qiskit-1.2.0-cp38-abi3-manylinux_2_17_x86_64.manylinux2014_x86_64.whl (4.8 MB)\n",
            "\u001b[2K   \u001b[90m━━━━━━━━━━━━━━━━━━━━━━━━━━━━━━━━━━━━━━━━\u001b[0m \u001b[32m4.8/4.8 MB\u001b[0m \u001b[31m18.1 MB/s\u001b[0m eta \u001b[36m0:00:00\u001b[0m\n",
            "\u001b[?25hDownloading dill-0.3.8-py3-none-any.whl (116 kB)\n",
            "\u001b[2K   \u001b[90m━━━━━━━━━━━━━━━━━━━━━━━━━━━━━━━━━━━━━━━━\u001b[0m \u001b[32m116.3/116.3 kB\u001b[0m \u001b[31m5.7 MB/s\u001b[0m eta \u001b[36m0:00:00\u001b[0m\n",
            "\u001b[?25hDownloading rustworkx-0.15.1-cp38-abi3-manylinux_2_17_x86_64.manylinux2014_x86_64.whl (2.0 MB)\n",
            "\u001b[2K   \u001b[90m━━━━━━━━━━━━━━━━━━━━━━━━━━━━━━━━━━━━━━━━\u001b[0m \u001b[32m2.0/2.0 MB\u001b[0m \u001b[31m28.1 MB/s\u001b[0m eta \u001b[36m0:00:00\u001b[0m\n",
            "\u001b[?25hDownloading stevedore-5.3.0-py3-none-any.whl (49 kB)\n",
            "\u001b[2K   \u001b[90m━━━━━━━━━━━━━━━━━━━━━━━━━━━━━━━━━━━━━━━━\u001b[0m \u001b[32m49.7/49.7 kB\u001b[0m \u001b[31m2.2 MB/s\u001b[0m eta \u001b[36m0:00:00\u001b[0m\n",
            "\u001b[?25hDownloading symengine-0.11.0-cp310-cp310-manylinux_2_12_x86_64.manylinux2010_x86_64.whl (39.4 MB)\n",
            "\u001b[2K   \u001b[90m━━━━━━━━━━━━━━━━━━━━━━━━━━━━━━━━━━━━━━━━\u001b[0m \u001b[32m39.4/39.4 MB\u001b[0m \u001b[31m20.6 MB/s\u001b[0m eta \u001b[36m0:00:00\u001b[0m\n",
            "\u001b[?25hDownloading pbr-6.1.0-py2.py3-none-any.whl (108 kB)\n",
            "\u001b[2K   \u001b[90m━━━━━━━━━━━━━━━━━━━━━━━━━━━━━━━━━━━━━━━━\u001b[0m \u001b[32m108.5/108.5 kB\u001b[0m \u001b[31m5.1 MB/s\u001b[0m eta \u001b[36m0:00:00\u001b[0m\n",
            "\u001b[?25hInstalling collected packages: symengine, rustworkx, pbr, dill, stevedore, qiskit\n",
            "Successfully installed dill-0.3.8 pbr-6.1.0 qiskit-1.2.0 rustworkx-0.15.1 stevedore-5.3.0 symengine-0.11.0\n",
            "Collecting qiskit_aer\n",
            "  Downloading qiskit_aer-0.15.0-cp310-cp310-manylinux_2_17_x86_64.manylinux2014_x86_64.whl.metadata (8.0 kB)\n",
            "Requirement already satisfied: qiskit>=1.1.0 in /usr/local/lib/python3.10/dist-packages (from qiskit_aer) (1.2.0)\n",
            "Requirement already satisfied: numpy>=1.16.3 in /usr/local/lib/python3.10/dist-packages (from qiskit_aer) (1.26.4)\n",
            "Requirement already satisfied: scipy>=1.0 in /usr/local/lib/python3.10/dist-packages (from qiskit_aer) (1.13.1)\n",
            "Requirement already satisfied: psutil>=5 in /usr/local/lib/python3.10/dist-packages (from qiskit_aer) (5.9.5)\n",
            "Requirement already satisfied: rustworkx>=0.15.0 in /usr/local/lib/python3.10/dist-packages (from qiskit>=1.1.0->qiskit_aer) (0.15.1)\n",
            "Requirement already satisfied: sympy>=1.3 in /usr/local/lib/python3.10/dist-packages (from qiskit>=1.1.0->qiskit_aer) (1.13.2)\n",
            "Requirement already satisfied: dill>=0.3 in /usr/local/lib/python3.10/dist-packages (from qiskit>=1.1.0->qiskit_aer) (0.3.8)\n",
            "Requirement already satisfied: python-dateutil>=2.8.0 in /usr/local/lib/python3.10/dist-packages (from qiskit>=1.1.0->qiskit_aer) (2.8.2)\n",
            "Requirement already satisfied: stevedore>=3.0.0 in /usr/local/lib/python3.10/dist-packages (from qiskit>=1.1.0->qiskit_aer) (5.3.0)\n",
            "Requirement already satisfied: typing-extensions in /usr/local/lib/python3.10/dist-packages (from qiskit>=1.1.0->qiskit_aer) (4.12.2)\n",
            "Requirement already satisfied: symengine>=0.11 in /usr/local/lib/python3.10/dist-packages (from qiskit>=1.1.0->qiskit_aer) (0.11.0)\n",
            "Requirement already satisfied: six>=1.5 in /usr/local/lib/python3.10/dist-packages (from python-dateutil>=2.8.0->qiskit>=1.1.0->qiskit_aer) (1.16.0)\n",
            "Requirement already satisfied: pbr>=2.0.0 in /usr/local/lib/python3.10/dist-packages (from stevedore>=3.0.0->qiskit>=1.1.0->qiskit_aer) (6.1.0)\n",
            "Requirement already satisfied: mpmath<1.4,>=1.1.0 in /usr/local/lib/python3.10/dist-packages (from sympy>=1.3->qiskit>=1.1.0->qiskit_aer) (1.3.0)\n",
            "Downloading qiskit_aer-0.15.0-cp310-cp310-manylinux_2_17_x86_64.manylinux2014_x86_64.whl (12.3 MB)\n",
            "\u001b[2K   \u001b[90m━━━━━━━━━━━━━━━━━━━━━━━━━━━━━━━━━━━━━━━━\u001b[0m \u001b[32m12.3/12.3 MB\u001b[0m \u001b[31m42.9 MB/s\u001b[0m eta \u001b[36m0:00:00\u001b[0m\n",
            "\u001b[?25hInstalling collected packages: qiskit_aer\n",
            "Successfully installed qiskit_aer-0.15.0\n"
          ]
        }
      ],
      "source": [
        "\n",
        "!pip install qiskit\n",
        "!pip install qiskit_aer\n",
        ""
      ]
    },
    {
      "cell_type": "code",
      "source": [
        "!pip install qiskit-ibm-runtime"
      ],
      "metadata": {
        "colab": {
          "base_uri": "https://localhost:8080/"
        },
        "id": "3DL79xhj2dp_",
        "outputId": "e517d11c-3acf-47a9-b9ac-17d5aac496cc"
      },
      "execution_count": 2,
      "outputs": [
        {
          "output_type": "stream",
          "name": "stdout",
          "text": [
            "Collecting qiskit-ibm-runtime\n",
            "  Downloading qiskit_ibm_runtime-0.29.0-py3-none-any.whl.metadata (19 kB)\n",
            "Requirement already satisfied: requests>=2.19 in /usr/local/lib/python3.10/dist-packages (from qiskit-ibm-runtime) (2.32.3)\n",
            "Collecting requests-ntlm>=1.1.0 (from qiskit-ibm-runtime)\n",
            "  Downloading requests_ntlm-1.3.0-py3-none-any.whl.metadata (2.4 kB)\n",
            "Requirement already satisfied: numpy>=1.13 in /usr/local/lib/python3.10/dist-packages (from qiskit-ibm-runtime) (1.26.4)\n",
            "Requirement already satisfied: urllib3>=1.21.1 in /usr/local/lib/python3.10/dist-packages (from qiskit-ibm-runtime) (2.0.7)\n",
            "Requirement already satisfied: python-dateutil>=2.8.0 in /usr/local/lib/python3.10/dist-packages (from qiskit-ibm-runtime) (2.8.2)\n",
            "Requirement already satisfied: websocket-client>=1.5.1 in /usr/local/lib/python3.10/dist-packages (from qiskit-ibm-runtime) (1.8.0)\n",
            "Collecting ibm-platform-services>=0.22.6 (from qiskit-ibm-runtime)\n",
            "  Downloading ibm_platform_services-0.57.0-py3-none-any.whl.metadata (9.1 kB)\n",
            "Requirement already satisfied: pydantic>=2.5.0 in /usr/local/lib/python3.10/dist-packages (from qiskit-ibm-runtime) (2.8.2)\n",
            "Requirement already satisfied: qiskit>=1.1.0 in /usr/local/lib/python3.10/dist-packages (from qiskit-ibm-runtime) (1.2.0)\n",
            "Collecting ibm-cloud-sdk-core<4.0.0,>=3.20.6 (from ibm-platform-services>=0.22.6->qiskit-ibm-runtime)\n",
            "  Downloading ibm_cloud_sdk_core-3.20.6-py3-none-any.whl.metadata (5.5 kB)\n",
            "Requirement already satisfied: annotated-types>=0.4.0 in /usr/local/lib/python3.10/dist-packages (from pydantic>=2.5.0->qiskit-ibm-runtime) (0.7.0)\n",
            "Requirement already satisfied: pydantic-core==2.20.1 in /usr/local/lib/python3.10/dist-packages (from pydantic>=2.5.0->qiskit-ibm-runtime) (2.20.1)\n",
            "Requirement already satisfied: typing-extensions>=4.6.1 in /usr/local/lib/python3.10/dist-packages (from pydantic>=2.5.0->qiskit-ibm-runtime) (4.12.2)\n",
            "Requirement already satisfied: six>=1.5 in /usr/local/lib/python3.10/dist-packages (from python-dateutil>=2.8.0->qiskit-ibm-runtime) (1.16.0)\n",
            "Requirement already satisfied: rustworkx>=0.15.0 in /usr/local/lib/python3.10/dist-packages (from qiskit>=1.1.0->qiskit-ibm-runtime) (0.15.1)\n",
            "Requirement already satisfied: scipy>=1.5 in /usr/local/lib/python3.10/dist-packages (from qiskit>=1.1.0->qiskit-ibm-runtime) (1.13.1)\n",
            "Requirement already satisfied: sympy>=1.3 in /usr/local/lib/python3.10/dist-packages (from qiskit>=1.1.0->qiskit-ibm-runtime) (1.13.2)\n",
            "Requirement already satisfied: dill>=0.3 in /usr/local/lib/python3.10/dist-packages (from qiskit>=1.1.0->qiskit-ibm-runtime) (0.3.8)\n",
            "Requirement already satisfied: stevedore>=3.0.0 in /usr/local/lib/python3.10/dist-packages (from qiskit>=1.1.0->qiskit-ibm-runtime) (5.3.0)\n",
            "Requirement already satisfied: symengine>=0.11 in /usr/local/lib/python3.10/dist-packages (from qiskit>=1.1.0->qiskit-ibm-runtime) (0.11.0)\n",
            "Requirement already satisfied: charset-normalizer<4,>=2 in /usr/local/lib/python3.10/dist-packages (from requests>=2.19->qiskit-ibm-runtime) (3.3.2)\n",
            "Requirement already satisfied: idna<4,>=2.5 in /usr/local/lib/python3.10/dist-packages (from requests>=2.19->qiskit-ibm-runtime) (3.8)\n",
            "Requirement already satisfied: certifi>=2017.4.17 in /usr/local/lib/python3.10/dist-packages (from requests>=2.19->qiskit-ibm-runtime) (2024.8.30)\n",
            "Requirement already satisfied: cryptography>=1.3 in /usr/local/lib/python3.10/dist-packages (from requests-ntlm>=1.1.0->qiskit-ibm-runtime) (43.0.0)\n",
            "Collecting pyspnego>=0.4.0 (from requests-ntlm>=1.1.0->qiskit-ibm-runtime)\n",
            "  Downloading pyspnego-0.11.1-py3-none-any.whl.metadata (5.4 kB)\n",
            "Requirement already satisfied: cffi>=1.12 in /usr/local/lib/python3.10/dist-packages (from cryptography>=1.3->requests-ntlm>=1.1.0->qiskit-ibm-runtime) (1.17.0)\n",
            "Collecting urllib3>=1.21.1 (from qiskit-ibm-runtime)\n",
            "  Downloading urllib3-2.2.2-py3-none-any.whl.metadata (6.4 kB)\n",
            "Requirement already satisfied: PyJWT<3.0.0,>=2.8.0 in /usr/local/lib/python3.10/dist-packages (from ibm-cloud-sdk-core<4.0.0,>=3.20.6->ibm-platform-services>=0.22.6->qiskit-ibm-runtime) (2.9.0)\n",
            "Requirement already satisfied: pbr>=2.0.0 in /usr/local/lib/python3.10/dist-packages (from stevedore>=3.0.0->qiskit>=1.1.0->qiskit-ibm-runtime) (6.1.0)\n",
            "Requirement already satisfied: mpmath<1.4,>=1.1.0 in /usr/local/lib/python3.10/dist-packages (from sympy>=1.3->qiskit>=1.1.0->qiskit-ibm-runtime) (1.3.0)\n",
            "Requirement already satisfied: pycparser in /usr/local/lib/python3.10/dist-packages (from cffi>=1.12->cryptography>=1.3->requests-ntlm>=1.1.0->qiskit-ibm-runtime) (2.22)\n",
            "Downloading qiskit_ibm_runtime-0.29.0-py3-none-any.whl (2.9 MB)\n",
            "\u001b[2K   \u001b[90m━━━━━━━━━━━━━━━━━━━━━━━━━━━━━━━━━━━━━━━━\u001b[0m \u001b[32m2.9/2.9 MB\u001b[0m \u001b[31m13.6 MB/s\u001b[0m eta \u001b[36m0:00:00\u001b[0m\n",
            "\u001b[?25hDownloading ibm_platform_services-0.57.0-py3-none-any.whl (343 kB)\n",
            "\u001b[2K   \u001b[90m━━━━━━━━━━━━━━━━━━━━━━━━━━━━━━━━━━━━━━━━\u001b[0m \u001b[32m343.3/343.3 kB\u001b[0m \u001b[31m24.1 MB/s\u001b[0m eta \u001b[36m0:00:00\u001b[0m\n",
            "\u001b[?25hDownloading requests_ntlm-1.3.0-py3-none-any.whl (6.6 kB)\n",
            "Downloading ibm_cloud_sdk_core-3.20.6-py3-none-any.whl (60 kB)\n",
            "\u001b[2K   \u001b[90m━━━━━━━━━━━━━━━━━━━━━━━━━━━━━━━━━━━━━━━━\u001b[0m \u001b[32m60.7/60.7 kB\u001b[0m \u001b[31m4.6 MB/s\u001b[0m eta \u001b[36m0:00:00\u001b[0m\n",
            "\u001b[?25hDownloading urllib3-2.2.2-py3-none-any.whl (121 kB)\n",
            "\u001b[2K   \u001b[90m━━━━━━━━━━━━━━━━━━━━━━━━━━━━━━━━━━━━━━━━\u001b[0m \u001b[32m121.4/121.4 kB\u001b[0m \u001b[31m9.7 MB/s\u001b[0m eta \u001b[36m0:00:00\u001b[0m\n",
            "\u001b[?25hDownloading pyspnego-0.11.1-py3-none-any.whl (130 kB)\n",
            "\u001b[2K   \u001b[90m━━━━━━━━━━━━━━━━━━━━━━━━━━━━━━━━━━━━━━━━\u001b[0m \u001b[32m130.5/130.5 kB\u001b[0m \u001b[31m10.8 MB/s\u001b[0m eta \u001b[36m0:00:00\u001b[0m\n",
            "\u001b[?25hInstalling collected packages: urllib3, pyspnego, ibm-cloud-sdk-core, requests-ntlm, ibm-platform-services, qiskit-ibm-runtime\n",
            "  Attempting uninstall: urllib3\n",
            "    Found existing installation: urllib3 2.0.7\n",
            "    Uninstalling urllib3-2.0.7:\n",
            "      Successfully uninstalled urllib3-2.0.7\n",
            "Successfully installed ibm-cloud-sdk-core-3.20.6 ibm-platform-services-0.57.0 pyspnego-0.11.1 qiskit-ibm-runtime-0.29.0 requests-ntlm-1.3.0 urllib3-2.2.2\n"
          ]
        }
      ]
    },
    {
      "cell_type": "code",
      "source": [
        "import numpy as np\n",
        "\n",
        "def initialize_state_vector():\n",
        "    # Initialize the state vector to |00⟩, which is [1, 0, 0, 0] in the computational basis\n",
        "    return np.array([1+0j, 0+0j, 0+0j, 0+0j])"
      ],
      "metadata": {
        "id": "cLb_CZEr2lNF"
      },
      "execution_count": 3,
      "outputs": []
    },
    {
      "cell_type": "code",
      "source": [
        "def hadamard_gate():\n",
        "    # Hadamard gate for a single qubit\n",
        "    H = (1/np.sqrt(2)) * np.array([[1,  1],\n",
        "                                   [1, -1]])\n",
        "    return H\n",
        "\n",
        "def cnot_gate():\n",
        "    # CNOT gate for two qubits\n",
        "    CNOT = np.array([[1, 0, 0, 0],\n",
        "                     [0, 1, 0, 0],\n",
        "                     [0, 0, 0, 1],\n",
        "                     [0, 0, 1, 0]])\n",
        "    return CNOT"
      ],
      "metadata": {
        "id": "Q9np2mmW2oKa"
      },
      "execution_count": 4,
      "outputs": []
    },
    {
      "cell_type": "code",
      "source": [
        "def simulate_bell_state():\n",
        "    # Initialize the state vector |00⟩\n",
        "    state_vector = initialize_state_vector()\n",
        "\n",
        "    # Apply Hadamard gate to the first qubit\n",
        "    H = hadamard_gate()\n",
        "    # Kronecker product: Hadamard to the first qubit and does nothing to the second qubit\n",
        "    H_full = np.kron(H, np.eye(2))\n",
        "    # Apply the Hadamard operation to the quantum state\n",
        "    state_vector = np.dot(H_full, state_vector)\n",
        "\n",
        "    # Apply CNOT gate\n",
        "    CNOT = cnot_gate()\n",
        "    state_vector = np.dot(CNOT, state_vector)\n",
        "\n",
        "    # Bell state where the second qubit is flipped when the first qubit is in state |1⟩.\n",
        "    return state_vector\n",
        "\n"
      ],
      "metadata": {
        "id": "DlLpVBic2zZJ"
      },
      "execution_count": 5,
      "outputs": []
    },
    {
      "cell_type": "code",
      "source": [
        "# Print the Final State Vector:\n",
        "final_state = simulate_bell_state()\n",
        "print(final_state)"
      ],
      "metadata": {
        "colab": {
          "base_uri": "https://localhost:8080/"
        },
        "id": "Juj5eh5_5PiX",
        "outputId": "6daa100b-febd-41a2-903d-70de9f801485"
      },
      "execution_count": 6,
      "outputs": [
        {
          "output_type": "stream",
          "name": "stdout",
          "text": [
            "[0.70710678+0.j 0.        +0.j 0.        +0.j 0.70710678+0.j]\n"
          ]
        }
      ]
    },
    {
      "cell_type": "markdown",
      "source": [
        "Since \\frac{1}{\\sqrt{2}} \\approx 0.70710678, the state vector should be:\n",
        "\n",
        "[0.70710678, 0, 0, 0.70710678].\n",
        "Each component has the form real_part + 0.j, meaning that the imaginary part is zero. This is should in deed be the case because the Bell state we simulated involves real-valued amplitudes for |00⟩ and |11⟩ with no imaginary components. Therefore the above result is verified and can be used for downward tasks."
      ],
      "metadata": {
        "id": "1wb_5LuD6g0-"
      }
    },
    {
      "cell_type": "code",
      "source": [
        "# Develop the Measurement Function\n",
        "from collections import Counter\n",
        "import matplotlib.pyplot as plt\n",
        "\n",
        "def measure_state(state_vector, num_samples=1000):\n",
        "    # Calculate probabilities by squaring the magnitude of the complex amplitudes\n",
        "    probabilities = np.abs(state_vector) ** 2\n",
        "    # Define the computational basis states\n",
        "    basis_states = ['00', '01', '10', '11']\n",
        "\n",
        "    # Sample based on the probabilities\n",
        "    measurements = np.random.choice(basis_states, size=num_samples, p=probabilities)\n",
        "\n",
        "    return Counter(measurements)\n",
        "\n",
        "# Perform the measurement and store results\n",
        "measurement_results = measure_state(final_state, num_samples=1000)\n",
        "print(measurement_results)"
      ],
      "metadata": {
        "colab": {
          "base_uri": "https://localhost:8080/"
        },
        "id": "7a8PF9ai5xjv",
        "outputId": "ca55aa64-37f3-4f0e-8b32-f4e7277b58d2"
      },
      "execution_count": 7,
      "outputs": [
        {
          "output_type": "stream",
          "name": "stdout",
          "text": [
            "Counter({'00': 505, '11': 495})\n"
          ]
        }
      ]
    },
    {
      "cell_type": "code",
      "source": [
        "# Plot the Results in a Histogram\n",
        "def plot_measurement_histogram(measurement_results):\n",
        "    # Plot a histogram of the measurement results\n",
        "    labels, counts = zip(*measurement_results.items())\n",
        "    plt.bar(labels, counts)\n",
        "    plt.xlabel('Measurement Outcome')\n",
        "    plt.ylabel('Count')\n",
        "    plt.title('Measurement Results')\n",
        "    plt.show()\n",
        "\n",
        "# Plot the histogram\n",
        "plot_measurement_histogram(measurement_results)"
      ],
      "metadata": {
        "colab": {
          "base_uri": "https://localhost:8080/",
          "height": 472
        },
        "id": "j8h58OiU57cm",
        "outputId": "5257bc23-8b12-4917-82f9-144c0ebd5f67"
      },
      "execution_count": 8,
      "outputs": [
        {
          "output_type": "display_data",
          "data": {
            "text/plain": [
              "<Figure size 640x480 with 1 Axes>"
            ],
            "image/png": "[encoded data removed]"
          },
          "metadata": {}
        }
      ]
    },
    {
      "cell_type": "markdown",
      "source": [
        "### Compare with Results from Assignment 1:\n",
        "The measuremnt outcome is nearly the same as it was in assignemnt 1 with the simulated AER function. One could say it is even more 50/50 for state |00> and |11> than it was in assignment 1. Which leads to assume that the simulation using the Bell Circuit is more accurate than using the AER simulator for QC simulation."
      ],
      "metadata": {
        "id": "BCB2h8bl7BZ2"
      }
    },
    {
      "cell_type": "markdown",
      "source": [
        "# Exercise 2: Quantum Random Number Generator\n",
        "We will use Qiski to implement this quantum random number generator (QRNG).\n",
        "To generate a random bit (0 or 1), we'll use a Hadamard gate to place a qubit into an equal superposition of |0⟩ and |1⟩. When we measure the qubit, it will collapse to either |0⟩ or |1⟩ with equal probability (50% chance for each outcome), making it a truly random event.\n",
        "\n",
        "For generating multiple random bits, we'll repeatedly apply the Hadamard gate and measure the qubit.\n"
      ],
      "metadata": {
        "id": "muZBauyG7fS4"
      }
    },
    {
      "cell_type": "code",
      "source": [
        "!pip install pylatexenc"
      ],
      "metadata": {
        "colab": {
          "base_uri": "https://localhost:8080/"
        },
        "id": "Z6G5zFpX8fu4",
        "outputId": "773adacc-9f8f-445e-a718-79e0de61d2bd"
      },
      "execution_count": 12,
      "outputs": [
        {
          "output_type": "stream",
          "name": "stdout",
          "text": [
            "Collecting pylatexenc\n",
            "  Downloading pylatexenc-2.10.tar.gz (162 kB)\n",
            "\u001b[?25l     \u001b[90m━━━━━━━━━━━━━━━━━━━━━━━━━━━━━━━━━━━━━━━━\u001b[0m \u001b[32m0.0/162.6 kB\u001b[0m \u001b[31m?\u001b[0m eta \u001b[36m-:--:--\u001b[0m\r\u001b[2K     \u001b[91m━━━━━━━━━━\u001b[0m\u001b[90m╺\u001b[0m\u001b[90m━━━━━━━━━━━━━━━━━━━━━━━━━━━━━\u001b[0m \u001b[32m41.0/162.6 kB\u001b[0m \u001b[31m1.1 MB/s\u001b[0m eta \u001b[36m0:00:01\u001b[0m\r\u001b[2K     \u001b[91m━━━━━━━━━━━━━━━━━━━━━━━━━━━\u001b[0m\u001b[91m╸\u001b[0m\u001b[90m━━━━━━━━━━━━\u001b[0m \u001b[32m112.6/162.6 kB\u001b[0m \u001b[31m1.5 MB/s\u001b[0m eta \u001b[36m0:00:01\u001b[0m\r\u001b[2K     \u001b[90m━━━━━━━━━━━━━━━━━━━━━━━━━━━━━━━━━━━━━━━━\u001b[0m \u001b[32m162.6/162.6 kB\u001b[0m \u001b[31m1.5 MB/s\u001b[0m eta \u001b[36m0:00:00\u001b[0m\n",
            "\u001b[?25h  Preparing metadata (setup.py) ... \u001b[?25l\u001b[?25hdone\n",
            "Building wheels for collected packages: pylatexenc\n",
            "  Building wheel for pylatexenc (setup.py) ... \u001b[?25l\u001b[?25hdone\n",
            "  Created wheel for pylatexenc: filename=pylatexenc-2.10-py3-none-any.whl size=136817 sha256=2b1b005960182d3704ecb15b89b2f3902b174222ab937e11c580741b63ef2e2f\n",
            "  Stored in directory: /root/.cache/pip/wheels/d3/31/8b/e09b0386afd80cfc556c00408c9aeea5c35c4d484a9c762fd5\n",
            "Successfully built pylatexenc\n",
            "Installing collected packages: pylatexenc\n",
            "Successfully installed pylatexenc-2.10\n"
          ]
        }
      ]
    },
    {
      "cell_type": "code",
      "source": [
        "from qiskit import QuantumCircuit, transpile, assemble\n",
        "from qiskit.visualization import plot_histogram\n",
        "from qiskit_aer import AerSimulator\n",
        "simulator = AerSimulator()\n",
        "\n",
        "def create_qrng_circuit():\n",
        "    # Create a quantum circuit with 1 qubit and 1 classical bit\n",
        "    # Qubit is used to generate the inherent randomness,\n",
        "    # while the classical bit is used to store the measurement result\n",
        "    qrng_circuit = QuantumCircuit(1, 1)\n",
        "\n",
        "    # Apply the Hadamard gate to create a superposition\n",
        "    qrng_circuit.h(0)\n",
        "\n",
        "    # Measure the qubit\n",
        "    qrng_circuit.measure(0, 0)\n",
        "\n",
        "    return qrng_circuit\n",
        "\n",
        "# Create the quantum circuit for QRNG\n",
        "qrng_circuit = create_qrng_circuit()\n",
        "\n",
        "# Draw the circuit in matplotlip drawing format\n",
        "qrng_circuit.draw('mpl')"
      ],
      "metadata": {
        "colab": {
          "base_uri": "https://localhost:8080/",
          "height": 191
        },
        "id": "zWqxmvBj79Jk",
        "outputId": "80c935ea-653c-40bc-e034-2ed68fd22ab8"
      },
      "execution_count": 1,
      "outputs": [
        {
          "output_type": "execute_result",
          "data": {
            "text/plain": [
              "<Figure size 269.064x200.667 with 1 Axes>"
            ],
            "image/png": "[encoded data removed]"
          },
          "metadata": {},
          "execution_count": 1
        }
      ]
    },
    {
      "cell_type": "code",
      "source": [
        "# Import required libraries\n",
        "from qiskit import QuantumCircuit, transpile\n",
        "from qiskit.visualization import plot_histogram\n",
        "import matplotlib.pyplot as plt\n",
        "from collections import Counter\n",
        "import numpy as np\n",
        "\n",
        "# Create an Aer simulator\n",
        "from qiskit_aer import Aer\n",
        "from qiskit_aer import AerSimulator\n",
        "from qiskit_ibm_runtime import Sampler\n",
        "\n",
        "# Task 2.1: Create a quantum circuit for QRNG\n",
        "def create_qrng_circuit():\n",
        "    # Create a quantum circuit with 1 qubit and 1 classical bit\n",
        "    qrng_circuit = QuantumCircuit(1, 1)\n",
        "\n",
        "    # Apply the Hadamard gate to create superposition\n",
        "    qrng_circuit.h(0)\n",
        "\n",
        "    # Measure the qubit\n",
        "    qrng_circuit.measure(0, 0)\n",
        "\n",
        "    return qrng_circuit\n",
        "\n",
        "# Task 2.2: Execute the quantum circuit on a simulator\n",
        "\n",
        "def run_qrng_simulator(qrng_circuit, num_shots=1024):\n",
        "\n",
        "  simulator = AerSimulator()\n",
        "\n",
        "  # Transpile the circuit for the simulator\n",
        "  compiled_circuit = transpile(qrng_circuit, simulator)\n",
        "\n",
        "  # Run the simulation\n",
        "  job = simulator.run(compiled_circuit)\n",
        "\n",
        "  # Get the results\n",
        "  result = job.result()\n",
        "  print(result.get_counts(qrng_circuit))\n",
        "  return result.get_counts(qrng_circuit)\n",
        "\n",
        "\n",
        "# Task 2.5: Perform statistical tests to assess randomness\n",
        "def randomness_assessment(counts):\n",
        "    # Frequency Test: Check for the uniformity of 0s and 1s\n",
        "    total_counts = sum(counts.values())\n",
        "    p_0 = counts.get('0', 0) / total_counts\n",
        "    p_1 = counts.get('1', 0) / total_counts\n",
        "\n",
        "    print(f\"Frequency Test Results: p(0) = {p_0}, p(1) = {p_1}\")\n",
        "\n",
        "    # Serial Test: Check for correlation between consecutive bits\n",
        "    random_bits = []\n",
        "    for bit, count in counts.items():\n",
        "        random_bits.extend([bit] * count)\n",
        "\n",
        "    # Perform the serial test: check if there is any correlation between consecutive bits\n",
        "    serial_test_result = all(random_bits[i] != random_bits[i+1] for i in range(len(random_bits)-1))\n",
        "\n",
        "    print(f\"Serial Test Result (no consecutive identical bits): {serial_test_result}\")\n",
        "\n",
        "\n"
      ],
      "metadata": {
        "id": "rtTWPutP9xv_"
      },
      "execution_count": 28,
      "outputs": []
    },
    {
      "cell_type": "code",
      "source": [
        "\n",
        "# Task 2.1: Create the QRNG circuit\n",
        "qrng_circuit = create_qrng_circuit()\n",
        "\n",
        "# Task 2.2: Run the quantum circuit on the simulator\n",
        "simulator_counts = run_qrng_simulator(qrng_circuit)\n",
        "print(f\"Simulator Results: {simulator_counts}\")\n"
      ],
      "metadata": {
        "colab": {
          "base_uri": "https://localhost:8080/"
        },
        "id": "SzPaFsUg_fvQ",
        "outputId": "7bc8e172-1501-4b82-86a4-a2fe00bfa59c"
      },
      "execution_count": 12,
      "outputs": [
        {
          "output_type": "stream",
          "name": "stdout",
          "text": [
            "{'0': 500, '1': 524}\n",
            "Simulator Results: {'0': 500, '1': 524}\n"
          ]
        }
      ]
    },
    {
      "cell_type": "code",
      "source": [
        "# Task 2.3: Plot the results from the simulator\n",
        "plot_histogram(simulator_counts)"
      ],
      "metadata": {
        "colab": {
          "base_uri": "https://localhost:8080/",
          "height": 446
        },
        "id": "u1QFNURh_n9g",
        "outputId": "c555200a-7d1a-4285-c769-e6a4680f90a2"
      },
      "execution_count": 15,
      "outputs": [
        {
          "output_type": "stream",
          "name": "stdout",
          "text": [
            "simulator_counts:  {'0': 500, '1': 524}\n"
          ]
        },
        {
          "output_type": "execute_result",
          "data": {
            "text/plain": [
              "<Figure size 640x480 with 1 Axes>"
            ],
            "image/png": "[encoded data removed]"
          },
          "metadata": {},
          "execution_count": 15
        }
      ]
    },
    {
      "cell_type": "code",
      "source": [
        "\n",
        "# Task 2.5: Perform randomness assessment on the simulator results\n",
        "randomness_assessment(simulator_counts)"
      ],
      "metadata": {
        "colab": {
          "base_uri": "https://localhost:8080/"
        },
        "id": "Ga2ojZUk_nj_",
        "outputId": "1da1e3ec-d9f1-4028-e494-445e0422f18b"
      },
      "execution_count": 16,
      "outputs": [
        {
          "output_type": "stream",
          "name": "stdout",
          "text": [
            "Frequency Test Results: p(0) = 0.48828125, p(1) = 0.51171875\n",
            "Serial Test Result (no consecutive identical bits): False\n"
          ]
        }
      ]
    },
    {
      "cell_type": "code",
      "source": [
        "\n",
        "from qiskit_ibm_runtime import QiskitRuntimeService\n",
        "\n",
        "QiskitRuntimeService.save_account(channel=\"ibm_quantum\", token='6af33505cb9a8ba8133690ae424119590cac857ffa29fab8997750494c984679d123e83f4a50587541c11d079396e927221ffe4334391cb07c7ebe16dbdddeb1', overwrite=True)\n",
        "\n",
        "# Load your saved account\n",
        "service = QiskitRuntimeService()\n",
        ""
      ],
      "metadata": {
        "id": "CjQi-uHYAOtK"
      },
      "execution_count": 18,
      "outputs": []
    },
    {
      "cell_type": "code",
      "source": [
        "# List available cloud backends\n",
        "print('\\nCloud backends:')\n",
        "for backend in service.backends():\n",
        "    print(backend.name)"
      ],
      "metadata": {
        "colab": {
          "base_uri": "https://localhost:8080/"
        },
        "id": "f-1i8TJAAKzM",
        "outputId": "a946b9ff-8c06-4950-e17e-db43c515431e"
      },
      "execution_count": 19,
      "outputs": [
        {
          "output_type": "stream",
          "name": "stdout",
          "text": [
            "\n",
            "Cloud backends:\n",
            "ibm_brisbane\n",
            "ibm_kyiv\n",
            "ibm_sherbrooke\n"
          ]
        }
      ]
    },
    {
      "cell_type": "code",
      "source": [
        "\n",
        "# Task 2.5: Compare randomness of simulator and real quantum computer (Optional)\n",
        "num_shots = 1000\n",
        "\n",
        "# Get a real quantum backend (replace 'ibmq_qasm_simulator' with a real device like 'ibmq_athens')\n",
        "service = QiskitRuntimeService()\n",
        "backend = service.get_backend('ibm_sherbrooke')  # Replace with a real quantum backend if available\n",
        "\n",
        "# Execute the circuit on the quantum computer\n",
        "\n",
        "transpiled_circuit = transpile(qrng_circuit, backend)\n",
        "sampler = Sampler(backend=backend)\n",
        "job = sampler.run([transpiled_circuit], shots=1000)\n",
        "\n",
        "# Wait for the job to complete\n",
        "job.result()  # This will wait for the job to complete\n",
        "\n",
        "# Get the results\n",
        "result = job.result()"
      ],
      "metadata": {
        "colab": {
          "base_uri": "https://localhost:8080/",
          "height": 295
        },
        "id": "niqAkmZUCcsw",
        "outputId": "e4187939-6545-4a30-9d60-adb5b5dfee91"
      },
      "execution_count": 31,
      "outputs": [
        {
          "output_type": "stream",
          "name": "stderr",
          "text": [
            "<ipython-input-31-25e21bacab99>:6: DeprecationWarning: The get_backend() method is deprecated as of qiskit-ibm-runtime 0.24 and will be removed no sooner than 3 months after the release date. Please use backend() instead.\n",
            "  backend = service.get_backend('ibm_sherbrooke')  # Replace with a real quantum backend if available\n",
            "<ipython-input-31-25e21bacab99>:11: DeprecationWarning: The 'backend' keyword arguments are deprecated as of qiskit-ibm-runtime 0.24.0 and will be removed no sooner than 3 months after the release date. Please use the 'mode' parameter instead.\n",
            "  sampler = Sampler(backend=backend)\n"
          ]
        },
        {
          "output_type": "error",
          "ename": "NameError",
          "evalue": "name 'results' is not defined",
          "traceback": [
            "\u001b[0;31m---------------------------------------------------------------------------\u001b[0m",
            "\u001b[0;31mNameError\u001b[0m                                 Traceback (most recent call last)",
            "\u001b[0;32m<ipython-input-31-25e21bacab99>\u001b[0m in \u001b[0;36m<cell line: 19>\u001b[0;34m()\u001b[0m\n\u001b[1;32m     17\u001b[0m \u001b[0;31m# Get the results\u001b[0m\u001b[0;34m\u001b[0m\u001b[0;34m\u001b[0m\u001b[0m\n\u001b[1;32m     18\u001b[0m \u001b[0mresult\u001b[0m \u001b[0;34m=\u001b[0m \u001b[0mjob\u001b[0m\u001b[0;34m.\u001b[0m\u001b[0mresult\u001b[0m\u001b[0;34m(\u001b[0m\u001b[0;34m)\u001b[0m\u001b[0;34m\u001b[0m\u001b[0;34m\u001b[0m\u001b[0m\n\u001b[0;32m---> 19\u001b[0;31m \u001b[0mprint\u001b[0m\u001b[0;34m(\u001b[0m\u001b[0mresults\u001b[0m\u001b[0;34m)\u001b[0m\u001b[0;34m\u001b[0m\u001b[0;34m\u001b[0m\u001b[0m\n\u001b[0m\u001b[1;32m     20\u001b[0m \u001b[0;34m\u001b[0m\u001b[0m\n\u001b[1;32m     21\u001b[0m \u001b[0;31m# Get the measurement results\u001b[0m\u001b[0;34m\u001b[0m\u001b[0;34m\u001b[0m\u001b[0m\n",
            "\u001b[0;31mNameError\u001b[0m: name 'results' is not defined"
          ]
        }
      ]
    },
    {
      "cell_type": "code",
      "source": [
        "print(result)"
      ],
      "metadata": {
        "colab": {
          "base_uri": "https://localhost:8080/"
        },
        "id": "xwlHYzPXC8RT",
        "outputId": "c553726a-d76f-43a0-e81e-ea43bf3dc939"
      },
      "execution_count": 32,
      "outputs": [
        {
          "output_type": "stream",
          "name": "stdout",
          "text": [
            "PrimitiveResult([PubResult(data=DataBin(c=BitArray(<shape=(), num_shots=1000, num_bits=1>)), metadata={'circuit_metadata': {}})], metadata={'version': 2})\n"
          ]
        }
      ]
    },
    {
      "cell_type": "code",
      "source": [
        "print(result[0].data)\n",
        "# Get the measurement results\n",
        "counts = result[0].data['c'].get_counts()"
      ],
      "metadata": {
        "colab": {
          "base_uri": "https://localhost:8080/"
        },
        "id": "emxrYNMUDC6S",
        "outputId": "6d6c5e94-607c-41d2-c55e-7397ecba1519"
      },
      "execution_count": 33,
      "outputs": [
        {
          "output_type": "stream",
          "name": "stdout",
          "text": [
            "DataBin(c=BitArray(<shape=(), num_shots=1000, num_bits=1>))\n"
          ]
        }
      ]
    },
    {
      "cell_type": "code",
      "source": [
        "print(f\"IBM Quantum Computer Results: {counts}\")"
      ],
      "metadata": {
        "colab": {
          "base_uri": "https://localhost:8080/"
        },
        "id": "UN04IhFOBcWE",
        "outputId": "dd9a0bdc-36d5-421e-8902-85efa3c05307"
      },
      "execution_count": 34,
      "outputs": [
        {
          "output_type": "stream",
          "name": "stdout",
          "text": [
            "IBM Quantum Computer Results: {'0': 500, '1': 500}\n"
          ]
        }
      ]
    },
    {
      "cell_type": "code",
      "source": [
        "plot_histogram(counts)\n",
        "randomness_assessment(counts)"
      ],
      "metadata": {
        "colab": {
          "base_uri": "https://localhost:8080/"
        },
        "id": "WD2AN7f4ADCi",
        "outputId": "668ab9ac-deaf-4bf4-a6dc-2a8dfb7dd729"
      },
      "execution_count": 35,
      "outputs": [
        {
          "output_type": "stream",
          "name": "stdout",
          "text": [
            "Frequency Test Results: p(0) = 0.5, p(1) = 0.5\n",
            "Serial Test Result (no consecutive identical bits): False\n"
          ]
        }
      ]
    },
    {
      "cell_type": "markdown",
      "source": [
        "# Bonus Exercise 1: Quantum State Comparison with the SWAP Test\n",
        "Objective:\n",
        "\n",
        "- Implement a multi-qubit quantum circuit using Qiskit or Cirq to compare two three-qubit quantum systems.\n",
        "- Explore the impact of superposition on quantum state comparison."
      ],
      "metadata": {
        "id": "mxB1GVlQFrGQ"
      }
    },
    {
      "cell_type": "code",
      "source": [
        "import random\n",
        "\n",
        "# Generate a random integer between 0 and 7 to select a basis state\n",
        "random_state_index = random.randint(0, 7)\n",
        "random_basis_state = f'{random_state_index:03b}'  # Convert to 3-bit binary string\n",
        "print(f\"Random basis state: |I{random_state_index}⟩ = |{random_basis_state}⟩\")"
      ],
      "metadata": {
        "colab": {
          "base_uri": "https://localhost:8080/"
        },
        "id": "3csqS1j7FzXw",
        "outputId": "51124d30-c619-43bd-f40f-6a1073df3531"
      },
      "execution_count": 37,
      "outputs": [
        {
          "output_type": "stream",
          "name": "stdout",
          "text": [
            "Random basis state: |I4⟩ = |100⟩\n"
          ]
        }
      ]
    },
    {
      "cell_type": "code",
      "source": [
        "from qiskit import QuantumCircuit\n",
        "\n",
        "def prepare_state_I5():\n",
        "    circuit = QuantumCircuit(3)  # Three qubits\n",
        "    # |I5⟩ = |101⟩, apply X (NOT) gates to qubits 0 and 2\n",
        "    circuit.x(0)  # Apply X to the first qubit to set it to 1\n",
        "    circuit.x(2)  # Apply X to the third qubit to set it to 1\n",
        "    return circuit\n",
        "\n",
        "# Create the |I5⟩ state circuit\n",
        "state_I5_circuit = prepare_state_I5()\n",
        "# use matplotlip to draw prettier circuits\n",
        "state_I5_circuit.draw('mpl')"
      ],
      "metadata": {
        "colab": {
          "base_uri": "https://localhost:8080/",
          "height": 255
        },
        "id": "MwdVnd4OGHkq",
        "outputId": "7a9fefb4-371e-451e-9efd-f6153da3c18a"
      },
      "execution_count": 38,
      "outputs": [
        {
          "output_type": "execute_result",
          "data": {
            "text/plain": [
              "<Figure size 203.885x284.278 with 1 Axes>"
            ],
            "image/png": "[encoded data removed]"
          },
          "metadata": {},
          "execution_count": 38
        }
      ]
    },
    {
      "cell_type": "code",
      "source": [
        "# SWAP test implementation\n",
        "def swap_test_circuit(random_state_index):\n",
        "    # Initialize a quantum circuit with 7 qubits (3 for each system + 1 ancillary)\n",
        "    qc = QuantumCircuit(7, 1)  # 7 qubits (3 for system 1, 3 for system 2, 1 ancilla)\n",
        "\n",
        "    # Step 1: Prepare the ancilla qubit in superposition (using Hadamard gate)\n",
        "    qc.h(0)\n",
        "\n",
        "    # Step 2: Prepare the random basis state |I_random⟩ on qubits 1, 2, 3\n",
        "    for i, bit in enumerate(f'{random_state_index:03b}'):\n",
        "        if bit == '1':\n",
        "            qc.x(i + 1)  # Apply X gate to prepare the random state\n",
        "\n",
        "    # Step 3: Prepare the known state |I5⟩ = |101⟩ on qubits 4, 5, 6\n",
        "     # (point 2 of the exercise \"Create a quantum circuit to prepare the state |I5⟩ for the second three-qubit system.\")\n",
        "    qc.x(4)  # Apply X to qubit 4 to prepare |101⟩\n",
        "    qc.x(6)  # Apply X to qubit 6 to prepare |101⟩\n",
        "\n",
        "    # Step 4: Apply the controlled SWAP operations\n",
        "    for i in range(3):\n",
        "        print(i)\n",
        "        qc.cswap(0, i + 1, i + 4)  # Control is ancilla (0), swapping between qubits i+1 and i+4\n",
        "\n",
        "    # Step 5: Apply Hadamard gate to the ancilla again\n",
        "    qc.h(0)\n",
        "\n",
        "    # Step 6: Measure the ancilla\n",
        "    qc.measure(0, 0)\n",
        "\n",
        "    return qc\n",
        "\n",
        "# Create the Swap Test circuit\n",
        "random_state_index = random.randint(0, 7)  # Random state\n",
        "swap_test_qc = swap_test_circuit(random_state_index)\n",
        "swap_test_qc.draw('mpl')"
      ],
      "metadata": {
        "colab": {
          "base_uri": "https://localhost:8080/",
          "height": 628
        },
        "id": "s1dizvpvGSRQ",
        "outputId": "416f2482-8d9d-49d2-f28d-95ebb0585162"
      },
      "execution_count": 39,
      "outputs": [
        {
          "output_type": "stream",
          "name": "stdout",
          "text": [
            "0\n",
            "1\n",
            "2\n"
          ]
        },
        {
          "output_type": "execute_result",
          "data": {
            "text/plain": [
              "<Figure size 621.941x702.333 with 1 Axes>"
            ],
            "image/png": "[encoded data removed]"
          },
          "metadata": {},
          "execution_count": 39
        }
      ]
    },
    {
      "cell_type": "markdown",
      "source": [
        "In this circuit:\n",
        "\n",
        "\t•\tAncilla qubit (qubit 0) controls the SWAP operation.\n",
        "\t•\tRandom quantum state is prepared on qubits 1, 2, 3.\n",
        "\t•\tKnown state (|I5⟩ is prepared on qubits 4, 5, 6.\n",
        "\t•\tControlled SWAP gates are applied between the corresponding qubits of the two systems.\n",
        "\t•\tAfter applying another Hadamard gate on the ancilla, the ancilla is measured. If the ancilla is in state |0⟩, the two states are likely identical.\n"
      ],
      "metadata": {
        "id": "IB1SGXArHTHf"
      }
    },
    {
      "cell_type": "code",
      "source": [
        "# Run the circuit on a simulator, to see if the two states are similar\n",
        "\n",
        "def run_swap_test(swap_test_qc):\n",
        "    # Use the qasm simulator\n",
        "    simulator = AerSimulator()\n",
        "    # Transpile the circuit for the simulator\n",
        "    compiled_circuit = transpile(swap_test_qc, simulator)\n",
        "    # Run the simulation\n",
        "    job = simulator.run(compiled_circuit, num_shots=1024)\n",
        "\n",
        "    # Get the results\n",
        "    result = job.result()\n",
        "\n",
        "    # Get the counts of measurement results\n",
        "    counts = result.get_counts(swap_test_qc)\n",
        "\n",
        "    return counts\n",
        "\n",
        "# Run the swap test and get the results\n",
        "counts = run_swap_test(swap_test_qc)\n",
        "print(\"Swap Test Results:\", counts)\n",
        "\n",
        "# Plot the results\n",
        "plot_histogram(counts)\n",
        "# The measurement will show how often the ancilla qubit is in the |0⟩ state (which suggests the states are identical) and how often it is in the |1⟩ state (suggesting the states are different)."
      ],
      "metadata": {
        "colab": {
          "base_uri": "https://localhost:8080/",
          "height": 446
        },
        "id": "CmmMBAVRHcnR",
        "outputId": "cc91bfba-405a-4fe2-f4f6-88d388d81874"
      },
      "execution_count": 42,
      "outputs": [
        {
          "output_type": "stream",
          "name": "stdout",
          "text": [
            "Swap Test Results: {'0': 531, '1': 493}\n"
          ]
        },
        {
          "output_type": "execute_result",
          "data": {
            "text/plain": [
              "<Figure size 640x480 with 1 Axes>"
            ],
            "image/png": "[encoded data removed]"
          },
          "metadata": {},
          "execution_count": 42
        }
      ]
    },
    {
      "cell_type": "code",
      "source": [
        "def evaluate_swap_test_accuracy(counts):\n",
        "    total_measurements = sum(counts.values())\n",
        "    zero_measurements = counts.get('0', 0)\n",
        "\n",
        "    # Accuracy as the proportion of |0⟩ measurements\n",
        "    accuracy = zero_measurements / total_measurements\n",
        "    print(f\"Swap Test Accuracy: {accuracy:.2f}\")\n",
        "\n",
        "# Evaluate the accuracy of the swap test\n",
        "evaluate_swap_test_accuracy(counts)"
      ],
      "metadata": {
        "colab": {
          "base_uri": "https://localhost:8080/"
        },
        "id": "XFTiUMgeISX7",
        "outputId": "dee87054-3fe1-4dd6-bdc5-8c43f2d469b1"
      },
      "execution_count": 43,
      "outputs": [
        {
          "output_type": "stream",
          "name": "stdout",
          "text": [
            "Swap Test Accuracy: 0.52\n"
          ]
        }
      ]
    },
    {
      "cell_type": "markdown",
      "source": [
        "This swap test accuracy suggests the two quantum states are not identical but somewhat close in terms of similarity. If the states were identical, we would expect a much higher percentage of |0⟩ results (close to 100%).\n"
      ],
      "metadata": {
        "id": "ccV61FHFIy3T"
      }
    },
    {
      "cell_type": "markdown",
      "source": [
        "# Bonus Task 2: Intorducing Superposition"
      ],
      "metadata": {
        "id": "eeKzQ2-YJVlb"
      }
    },
    {
      "cell_type": "code",
      "source": [
        "def swap_test_circuit_with_superposition(random_state_index):\n",
        "    # Initialize a quantum circuit with 7 qubits (3 for each system + 1 ancillary)\n",
        "    qc = QuantumCircuit(7, 1)  # 7 qubits (3 for system 1, 3 for system 2, 1 ancilla)\n",
        "\n",
        "    # Step 1: Prepare the ancilla qubit in superposition (using Hadamard gate)\n",
        "    qc.h(0)\n",
        "\n",
        "    # Step 2: Prepare the random basis state |I_random⟩ on qubits 1, 2, 3\n",
        "    for i, bit in enumerate(f'{random_state_index:03b}'):\n",
        "        if bit == '1':\n",
        "            qc.x(i + 1)  # Apply X gate to prepare the random state\n",
        "\n",
        "    # Step 2a: Apply a Hadamard gate to the first qubit (qubit 1) to introduce superposition\n",
        "    qc.h(1)  # Superposition on the first qubit of the random state\n",
        "\n",
        "    # Step 3: Prepare the known state |I5⟩ = |101⟩ on qubits 4, 5, 6\n",
        "    qc.x(4)  # Apply X to qubit 4 to prepare |101⟩\n",
        "    qc.x(6)  # Apply X to qubit 6 to prepare |101⟩\n",
        "\n",
        "    # Step 4: Apply the controlled SWAP operations\n",
        "    for i in range(3):\n",
        "        qc.cswap(0, i + 1, i + 4)  # Control is ancilla (0), swapping between qubits i+1 and i+4\n",
        "\n",
        "    # Step 5: Apply Hadamard gate to the ancilla again\n",
        "    qc.h(0)\n",
        "\n",
        "    # Step 6: Measure the ancilla\n",
        "    qc.measure(0, 0)\n",
        "\n",
        "    return qc\n",
        "\n",
        "# Create the modified Swap Test circuit with superposition\n",
        "random_state_index = random.randint(0, 7)  # Random state\n",
        "swap_test_superposition_qc = swap_test_circuit_with_superposition(random_state_index)\n",
        "swap_test_superposition_qc.draw('mpl')"
      ],
      "metadata": {
        "colab": {
          "base_uri": "https://localhost:8080/",
          "height": 577
        },
        "id": "Hlxxf-lMJVTO",
        "outputId": "bf2cf847-e3f4-4943-9ef1-abe5c409a4ac"
      },
      "execution_count": 44,
      "outputs": [
        {
          "output_type": "execute_result",
          "data": {
            "text/plain": [
              "<Figure size 705.552x702.333 with 1 Axes>"
            ],
            "image/png": "[encoded data removed]"
          },
          "metadata": {},
          "execution_count": 44
        }
      ]
    },
    {
      "cell_type": "code",
      "source": [
        "# Run the circuit on a simulator, to see if the two states are similar with superposition\n",
        "\n",
        "def run_swap_test(swap_test_qc):\n",
        "    # Use the qasm simulator\n",
        "    simulator = AerSimulator()\n",
        "    # Transpile the circuit for the simulator\n",
        "    compiled_circuit = transpile(swap_test_qc, simulator)\n",
        "    # Run the simulation\n",
        "    job = simulator.run(compiled_circuit, num_shots=1024)\n",
        "\n",
        "    # Get the results\n",
        "    result = job.result()\n",
        "\n",
        "    # Get the counts of measurement results\n",
        "    counts = result.get_counts(swap_test_qc)\n",
        "\n",
        "    return counts\n",
        "\n",
        "# Run the modified swap test and get the results\n",
        "counts_with_superposition = run_swap_test(swap_test_superposition_qc)\n",
        "print(\"Swap Test Results with Superposition:\", counts_with_superposition)\n",
        "\n",
        "# Plot the results\n",
        "plot_histogram(counts_with_superposition)"
      ],
      "metadata": {
        "colab": {
          "base_uri": "https://localhost:8080/",
          "height": 446
        },
        "id": "eyTlgCbVJyol",
        "outputId": "e52b5070-0891-4eca-cdf7-08098e185afd"
      },
      "execution_count": 45,
      "outputs": [
        {
          "output_type": "stream",
          "name": "stdout",
          "text": [
            "Swap Test Results with Superposition: {'0': 530, '1': 494}\n"
          ]
        },
        {
          "output_type": "execute_result",
          "data": {
            "text/plain": [
              "<Figure size 640x480 with 1 Axes>"
            ],
            "image/png": "[encoded data removed]"
          },
          "metadata": {},
          "execution_count": 45
        }
      ]
    },
    {
      "cell_type": "code",
      "source": [
        "# Function to evaluate the accuracy of the swap test\n",
        "def evaluate_swap_test_accuracy(counts):\n",
        "    total_measurements = sum(counts.values())\n",
        "    zero_measurements = counts.get('0', 0)\n",
        "\n",
        "    # Accuracy as the proportion of |0⟩ measurements\n",
        "    accuracy = zero_measurements / total_measurements\n",
        "    print(f\"Swap Test Accuracy: {accuracy:.2f}\")\n",
        "\n",
        "# Evaluate the accuracy of the swap test with superposition\n",
        "evaluate_swap_test_accuracy(counts_with_superposition)"
      ],
      "metadata": {
        "colab": {
          "base_uri": "https://localhost:8080/"
        },
        "id": "Vg9wGbQlJ33t",
        "outputId": "7c55ccaa-26c9-4de7-c844-5ea5d1df451f"
      },
      "execution_count": 46,
      "outputs": [
        {
          "output_type": "stream",
          "name": "stdout",
          "text": [
            "Swap Test Accuracy: 0.52\n"
          ]
        }
      ]
    }
  ]
}