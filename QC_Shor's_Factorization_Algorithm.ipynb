{
  "nbformat": 4,
  "nbformat_minor": 0,
  "metadata": {
    "colab": {
      "provenance": [],
      "authorship_tag": "ABX9TyN9RdE+lsO+cjU6lhNPcl1q",
      "include_colab_link": true
    },
    "kernelspec": {
      "name": "python3",
      "display_name": "Python 3"
    },
    "language_info": {
      "name": "python"
    }
  },
  "cells": [
    {
      "cell_type": "markdown",
      "metadata": {
        "id": "view-in-github",
        "colab_type": "text"
      },
      "source": [
        "<a href=\"https://colab.research.google.com/github/ge96lip/Quantum-Computing/blob/main/QC_Shor's_Factorization_Algorithm.ipynb\" target=\"_parent\"><img src=\"https://colab.research.google.com/assets/colab-badge.svg\" alt=\"Open In Colab\"/></a>"
      ]
    },
    {
      "cell_type": "markdown",
      "source": [
        "# Prerequisites"
      ],
      "metadata": {
        "id": "xmowIbjFBQqB"
      }
    },
    {
      "cell_type": "code",
      "execution_count": 114,
      "metadata": {
        "colab": {
          "base_uri": "https://localhost:8080/"
        },
        "collapsed": true,
        "id": "cWx09ZZAAs3A",
        "outputId": "287c7c1a-d384-48c5-bc62-cad55e371855"
      },
      "outputs": [
        {
          "output_type": "stream",
          "name": "stdout",
          "text": [
            "Requirement already satisfied: qiskit in /usr/local/lib/python3.10/dist-packages (1.2.4)\n",
            "Requirement already satisfied: rustworkx>=0.15.0 in /usr/local/lib/python3.10/dist-packages (from qiskit) (0.15.1)\n",
            "Requirement already satisfied: numpy<3,>=1.17 in /usr/local/lib/python3.10/dist-packages (from qiskit) (1.26.4)\n",
            "Requirement already satisfied: scipy>=1.5 in /usr/local/lib/python3.10/dist-packages (from qiskit) (1.13.1)\n",
            "Requirement already satisfied: sympy>=1.3 in /usr/local/lib/python3.10/dist-packages (from qiskit) (1.13.1)\n",
            "Requirement already satisfied: dill>=0.3 in /usr/local/lib/python3.10/dist-packages (from qiskit) (0.3.9)\n",
            "Requirement already satisfied: python-dateutil>=2.8.0 in /usr/local/lib/python3.10/dist-packages (from qiskit) (2.8.2)\n",
            "Requirement already satisfied: stevedore>=3.0.0 in /usr/local/lib/python3.10/dist-packages (from qiskit) (5.3.0)\n",
            "Requirement already satisfied: typing-extensions in /usr/local/lib/python3.10/dist-packages (from qiskit) (4.12.2)\n",
            "Requirement already satisfied: symengine<0.14,>=0.11 in /usr/local/lib/python3.10/dist-packages (from qiskit) (0.13.0)\n",
            "Requirement already satisfied: six>=1.5 in /usr/local/lib/python3.10/dist-packages (from python-dateutil>=2.8.0->qiskit) (1.16.0)\n",
            "Requirement already satisfied: pbr>=2.0.0 in /usr/local/lib/python3.10/dist-packages (from stevedore>=3.0.0->qiskit) (6.1.0)\n",
            "Requirement already satisfied: mpmath<1.4,>=1.1.0 in /usr/local/lib/python3.10/dist-packages (from sympy>=1.3->qiskit) (1.3.0)\n",
            "Requirement already satisfied: pylatexenc in /usr/local/lib/python3.10/dist-packages (2.10)\n",
            "Requirement already satisfied: qiskit_aer in /usr/local/lib/python3.10/dist-packages (0.15.1)\n",
            "Requirement already satisfied: qiskit>=1.1.0 in /usr/local/lib/python3.10/dist-packages (from qiskit_aer) (1.2.4)\n",
            "Requirement already satisfied: numpy>=1.16.3 in /usr/local/lib/python3.10/dist-packages (from qiskit_aer) (1.26.4)\n",
            "Requirement already satisfied: scipy>=1.0 in /usr/local/lib/python3.10/dist-packages (from qiskit_aer) (1.13.1)\n",
            "Requirement already satisfied: psutil>=5 in /usr/local/lib/python3.10/dist-packages (from qiskit_aer) (5.9.5)\n",
            "Requirement already satisfied: rustworkx>=0.15.0 in /usr/local/lib/python3.10/dist-packages (from qiskit>=1.1.0->qiskit_aer) (0.15.1)\n",
            "Requirement already satisfied: sympy>=1.3 in /usr/local/lib/python3.10/dist-packages (from qiskit>=1.1.0->qiskit_aer) (1.13.1)\n",
            "Requirement already satisfied: dill>=0.3 in /usr/local/lib/python3.10/dist-packages (from qiskit>=1.1.0->qiskit_aer) (0.3.9)\n",
            "Requirement already satisfied: python-dateutil>=2.8.0 in /usr/local/lib/python3.10/dist-packages (from qiskit>=1.1.0->qiskit_aer) (2.8.2)\n",
            "Requirement already satisfied: stevedore>=3.0.0 in /usr/local/lib/python3.10/dist-packages (from qiskit>=1.1.0->qiskit_aer) (5.3.0)\n",
            "Requirement already satisfied: typing-extensions in /usr/local/lib/python3.10/dist-packages (from qiskit>=1.1.0->qiskit_aer) (4.12.2)\n",
            "Requirement already satisfied: symengine<0.14,>=0.11 in /usr/local/lib/python3.10/dist-packages (from qiskit>=1.1.0->qiskit_aer) (0.13.0)\n",
            "Requirement already satisfied: six>=1.5 in /usr/local/lib/python3.10/dist-packages (from python-dateutil>=2.8.0->qiskit>=1.1.0->qiskit_aer) (1.16.0)\n",
            "Requirement already satisfied: pbr>=2.0.0 in /usr/local/lib/python3.10/dist-packages (from stevedore>=3.0.0->qiskit>=1.1.0->qiskit_aer) (6.1.0)\n",
            "Requirement already satisfied: mpmath<1.4,>=1.1.0 in /usr/local/lib/python3.10/dist-packages (from sympy>=1.3->qiskit>=1.1.0->qiskit_aer) (1.3.0)\n",
            "Requirement already satisfied: qiskit-ibm-runtime in /usr/local/lib/python3.10/dist-packages (0.32.0)\n",
            "Requirement already satisfied: requests>=2.19 in /usr/local/lib/python3.10/dist-packages (from qiskit-ibm-runtime) (2.32.3)\n",
            "Requirement already satisfied: requests-ntlm>=1.1.0 in /usr/local/lib/python3.10/dist-packages (from qiskit-ibm-runtime) (1.3.0)\n",
            "Requirement already satisfied: numpy>=1.13 in /usr/local/lib/python3.10/dist-packages (from qiskit-ibm-runtime) (1.26.4)\n",
            "Requirement already satisfied: urllib3>=1.21.1 in /usr/local/lib/python3.10/dist-packages (from qiskit-ibm-runtime) (2.2.3)\n",
            "Requirement already satisfied: python-dateutil>=2.8.0 in /usr/local/lib/python3.10/dist-packages (from qiskit-ibm-runtime) (2.8.2)\n",
            "Requirement already satisfied: websocket-client>=1.5.1 in /usr/local/lib/python3.10/dist-packages (from qiskit-ibm-runtime) (1.8.0)\n",
            "Requirement already satisfied: ibm-platform-services>=0.22.6 in /usr/local/lib/python3.10/dist-packages (from qiskit-ibm-runtime) (0.59.0)\n",
            "Requirement already satisfied: pydantic>=2.5.0 in /usr/local/lib/python3.10/dist-packages (from qiskit-ibm-runtime) (2.9.2)\n",
            "Requirement already satisfied: qiskit>=1.1.0 in /usr/local/lib/python3.10/dist-packages (from qiskit-ibm-runtime) (1.2.4)\n",
            "Requirement already satisfied: ibm-cloud-sdk-core<4.0.0,>=3.22.0 in /usr/local/lib/python3.10/dist-packages (from ibm-platform-services>=0.22.6->qiskit-ibm-runtime) (3.22.0)\n",
            "Requirement already satisfied: annotated-types>=0.6.0 in /usr/local/lib/python3.10/dist-packages (from pydantic>=2.5.0->qiskit-ibm-runtime) (0.7.0)\n",
            "Requirement already satisfied: pydantic-core==2.23.4 in /usr/local/lib/python3.10/dist-packages (from pydantic>=2.5.0->qiskit-ibm-runtime) (2.23.4)\n",
            "Requirement already satisfied: typing-extensions>=4.6.1 in /usr/local/lib/python3.10/dist-packages (from pydantic>=2.5.0->qiskit-ibm-runtime) (4.12.2)\n",
            "Requirement already satisfied: six>=1.5 in /usr/local/lib/python3.10/dist-packages (from python-dateutil>=2.8.0->qiskit-ibm-runtime) (1.16.0)\n",
            "Requirement already satisfied: rustworkx>=0.15.0 in /usr/local/lib/python3.10/dist-packages (from qiskit>=1.1.0->qiskit-ibm-runtime) (0.15.1)\n",
            "Requirement already satisfied: scipy>=1.5 in /usr/local/lib/python3.10/dist-packages (from qiskit>=1.1.0->qiskit-ibm-runtime) (1.13.1)\n",
            "Requirement already satisfied: sympy>=1.3 in /usr/local/lib/python3.10/dist-packages (from qiskit>=1.1.0->qiskit-ibm-runtime) (1.13.1)\n",
            "Requirement already satisfied: dill>=0.3 in /usr/local/lib/python3.10/dist-packages (from qiskit>=1.1.0->qiskit-ibm-runtime) (0.3.9)\n",
            "Requirement already satisfied: stevedore>=3.0.0 in /usr/local/lib/python3.10/dist-packages (from qiskit>=1.1.0->qiskit-ibm-runtime) (5.3.0)\n",
            "Requirement already satisfied: symengine<0.14,>=0.11 in /usr/local/lib/python3.10/dist-packages (from qiskit>=1.1.0->qiskit-ibm-runtime) (0.13.0)\n",
            "Requirement already satisfied: charset-normalizer<4,>=2 in /usr/local/lib/python3.10/dist-packages (from requests>=2.19->qiskit-ibm-runtime) (3.4.0)\n",
            "Requirement already satisfied: idna<4,>=2.5 in /usr/local/lib/python3.10/dist-packages (from requests>=2.19->qiskit-ibm-runtime) (3.10)\n",
            "Requirement already satisfied: certifi>=2017.4.17 in /usr/local/lib/python3.10/dist-packages (from requests>=2.19->qiskit-ibm-runtime) (2024.8.30)\n",
            "Requirement already satisfied: cryptography>=1.3 in /usr/local/lib/python3.10/dist-packages (from requests-ntlm>=1.1.0->qiskit-ibm-runtime) (43.0.3)\n",
            "Requirement already satisfied: pyspnego>=0.4.0 in /usr/local/lib/python3.10/dist-packages (from requests-ntlm>=1.1.0->qiskit-ibm-runtime) (0.11.1)\n",
            "Requirement already satisfied: cffi>=1.12 in /usr/local/lib/python3.10/dist-packages (from cryptography>=1.3->requests-ntlm>=1.1.0->qiskit-ibm-runtime) (1.17.1)\n",
            "Requirement already satisfied: PyJWT<3.0.0,>=2.8.0 in /usr/local/lib/python3.10/dist-packages (from ibm-cloud-sdk-core<4.0.0,>=3.22.0->ibm-platform-services>=0.22.6->qiskit-ibm-runtime) (2.9.0)\n",
            "Requirement already satisfied: pbr>=2.0.0 in /usr/local/lib/python3.10/dist-packages (from stevedore>=3.0.0->qiskit>=1.1.0->qiskit-ibm-runtime) (6.1.0)\n",
            "Requirement already satisfied: mpmath<1.4,>=1.1.0 in /usr/local/lib/python3.10/dist-packages (from sympy>=1.3->qiskit>=1.1.0->qiskit-ibm-runtime) (1.3.0)\n",
            "Requirement already satisfied: pycparser in /usr/local/lib/python3.10/dist-packages (from cffi>=1.12->cryptography>=1.3->requests-ntlm>=1.1.0->qiskit-ibm-runtime) (2.22)\n",
            "Requirement already satisfied: qiskit in /usr/local/lib/python3.10/dist-packages (1.2.4)\n",
            "Requirement already satisfied: qiskit-ibm-runtime in /usr/local/lib/python3.10/dist-packages (0.32.0)\n",
            "Requirement already satisfied: rustworkx>=0.15.0 in /usr/local/lib/python3.10/dist-packages (from qiskit) (0.15.1)\n",
            "Requirement already satisfied: numpy<3,>=1.17 in /usr/local/lib/python3.10/dist-packages (from qiskit) (1.26.4)\n",
            "Requirement already satisfied: scipy>=1.5 in /usr/local/lib/python3.10/dist-packages (from qiskit) (1.13.1)\n",
            "Requirement already satisfied: sympy>=1.3 in /usr/local/lib/python3.10/dist-packages (from qiskit) (1.13.1)\n",
            "Requirement already satisfied: dill>=0.3 in /usr/local/lib/python3.10/dist-packages (from qiskit) (0.3.9)\n",
            "Requirement already satisfied: python-dateutil>=2.8.0 in /usr/local/lib/python3.10/dist-packages (from qiskit) (2.8.2)\n",
            "Requirement already satisfied: stevedore>=3.0.0 in /usr/local/lib/python3.10/dist-packages (from qiskit) (5.3.0)\n",
            "Requirement already satisfied: typing-extensions in /usr/local/lib/python3.10/dist-packages (from qiskit) (4.12.2)\n",
            "Requirement already satisfied: symengine<0.14,>=0.11 in /usr/local/lib/python3.10/dist-packages (from qiskit) (0.13.0)\n",
            "Requirement already satisfied: requests>=2.19 in /usr/local/lib/python3.10/dist-packages (from qiskit-ibm-runtime) (2.32.3)\n",
            "Requirement already satisfied: requests-ntlm>=1.1.0 in /usr/local/lib/python3.10/dist-packages (from qiskit-ibm-runtime) (1.3.0)\n",
            "Requirement already satisfied: urllib3>=1.21.1 in /usr/local/lib/python3.10/dist-packages (from qiskit-ibm-runtime) (2.2.3)\n",
            "Requirement already satisfied: websocket-client>=1.5.1 in /usr/local/lib/python3.10/dist-packages (from qiskit-ibm-runtime) (1.8.0)\n",
            "Requirement already satisfied: ibm-platform-services>=0.22.6 in /usr/local/lib/python3.10/dist-packages (from qiskit-ibm-runtime) (0.59.0)\n",
            "Requirement already satisfied: pydantic>=2.5.0 in /usr/local/lib/python3.10/dist-packages (from qiskit-ibm-runtime) (2.9.2)\n",
            "Requirement already satisfied: ibm-cloud-sdk-core<4.0.0,>=3.22.0 in /usr/local/lib/python3.10/dist-packages (from ibm-platform-services>=0.22.6->qiskit-ibm-runtime) (3.22.0)\n",
            "Requirement already satisfied: annotated-types>=0.6.0 in /usr/local/lib/python3.10/dist-packages (from pydantic>=2.5.0->qiskit-ibm-runtime) (0.7.0)\n",
            "Requirement already satisfied: pydantic-core==2.23.4 in /usr/local/lib/python3.10/dist-packages (from pydantic>=2.5.0->qiskit-ibm-runtime) (2.23.4)\n",
            "Requirement already satisfied: six>=1.5 in /usr/local/lib/python3.10/dist-packages (from python-dateutil>=2.8.0->qiskit) (1.16.0)\n",
            "Requirement already satisfied: charset-normalizer<4,>=2 in /usr/local/lib/python3.10/dist-packages (from requests>=2.19->qiskit-ibm-runtime) (3.4.0)\n",
            "Requirement already satisfied: idna<4,>=2.5 in /usr/local/lib/python3.10/dist-packages (from requests>=2.19->qiskit-ibm-runtime) (3.10)\n",
            "Requirement already satisfied: certifi>=2017.4.17 in /usr/local/lib/python3.10/dist-packages (from requests>=2.19->qiskit-ibm-runtime) (2024.8.30)\n",
            "Requirement already satisfied: cryptography>=1.3 in /usr/local/lib/python3.10/dist-packages (from requests-ntlm>=1.1.0->qiskit-ibm-runtime) (43.0.3)\n",
            "Requirement already satisfied: pyspnego>=0.4.0 in /usr/local/lib/python3.10/dist-packages (from requests-ntlm>=1.1.0->qiskit-ibm-runtime) (0.11.1)\n",
            "Requirement already satisfied: pbr>=2.0.0 in /usr/local/lib/python3.10/dist-packages (from stevedore>=3.0.0->qiskit) (6.1.0)\n",
            "Requirement already satisfied: mpmath<1.4,>=1.1.0 in /usr/local/lib/python3.10/dist-packages (from sympy>=1.3->qiskit) (1.3.0)\n",
            "Requirement already satisfied: cffi>=1.12 in /usr/local/lib/python3.10/dist-packages (from cryptography>=1.3->requests-ntlm>=1.1.0->qiskit-ibm-runtime) (1.17.1)\n",
            "Requirement already satisfied: PyJWT<3.0.0,>=2.8.0 in /usr/local/lib/python3.10/dist-packages (from ibm-cloud-sdk-core<4.0.0,>=3.22.0->ibm-platform-services>=0.22.6->qiskit-ibm-runtime) (2.9.0)\n",
            "Requirement already satisfied: pycparser in /usr/local/lib/python3.10/dist-packages (from cffi>=1.12->cryptography>=1.3->requests-ntlm>=1.1.0->qiskit-ibm-runtime) (2.22)\n"
          ]
        }
      ],
      "source": [
        "!pip install qiskit\n",
        "!pip install pylatexenc\n",
        "!pip install qiskit_aer\n",
        "!pip install qiskit-ibm-runtime\n",
        "!pip install qiskit qiskit-ibm-runtime"
      ]
    },
    {
      "cell_type": "code",
      "source": [
        "from qiskit import QuantumCircuit, QuantumRegister, ClassicalRegister, transpile\n",
        "from qiskit.circuit import Qubit\n",
        "from qiskit.circuit.library import XGate, CSwapGate, QFT\n",
        "from qiskit import transpile\n",
        "from qiskit_aer import AerSimulator\n",
        "from qiskit_ibm_runtime import QiskitRuntimeService, Sampler\n",
        "from qiskit.visualization import plot_histogram\n",
        "\n",
        "import matplotlib.pyplot as plt\n",
        "import math\n",
        "import time"
      ],
      "metadata": {
        "id": "3o_owNOwTLfw"
      },
      "execution_count": 128,
      "outputs": []
    },
    {
      "cell_type": "code",
      "source": [
        "#!pip install qiskit-ibm-runtime\n",
        "\n",
        "from qiskit_ibm_runtime import QiskitRuntimeService\n",
        "service = QiskitRuntimeService.save_account(channel=\"ibm_quantum\", token=\"86ad51ed8e455dea40b8ac15c7b6359cf38cb674fdb3072f3d2e6211debf389fcfe547c54aad314614600bbe71f3d83572bc7059184a3bb11feae345ec347801\", overwrite=True)\n",
        "\n",
        "from qiskit_ibm_runtime import QiskitRuntimeService\n",
        "service = QiskitRuntimeService()\n",
        "\n",
        "from qiskit import QuantumCircuit\n",
        "bell = QuantumCircuit(2)\n",
        "\n",
        "bell.h(0)\n",
        "bell.cx(0, 1)\n",
        "bell.measure_all()\n",
        "\n",
        "print(bell.draw())\n",
        "\n",
        "backend = service.least_busy(operational=True, simulator=False, min_num_qubits=2)\n",
        "print(backend.name)\n",
        "\n",
        "from qiskit import transpile\n",
        "\n",
        "bell_transpiled = transpile(bell, backend, optimization_level=2)\n",
        "print(bell_transpiled.draw())\n",
        "\n",
        "from qiskit_ibm_runtime import SamplerV2 as Sampler\n",
        "sampler = Sampler(backend)\n",
        "bell_job = sampler.run([bell_transpiled], shots=1000)\n",
        "\n",
        "print(bell_job.result()[0].data.meas.get_counts())\n",
        "from qiskit.visualization import plot_histogram\n",
        "plot_histogram(bell_job.result()[0].data.meas.get_counts())"
      ],
      "metadata": {
        "id": "4luPMAvv3dhJ",
        "outputId": "9ec42fc0-dbe7-4c60-c4fe-5df917f8eb73",
        "colab": {
          "base_uri": "https://localhost:8080/",
          "height": 512
        }
      },
      "execution_count": 138,
      "outputs": [
        {
          "output_type": "stream",
          "name": "stdout",
          "text": [
            "        ┌───┐      ░ ┌─┐   \n",
            "   q_0: ┤ H ├──■───░─┤M├───\n",
            "        └───┘┌─┴─┐ ░ └╥┘┌─┐\n",
            "   q_1: ─────┤ X ├─░──╫─┤M├\n",
            "             └───┘ ░  ║ └╥┘\n",
            "meas: 2/══════════════╩══╩═\n",
            "                      0  1 \n",
            "ibm_brisbane\n"
          ]
        },
        {
          "output_type": "error",
          "ename": "TranspilerError",
          "evalue": "'Invalid plugin name ibm_dynamic_circuits for stage translation'",
          "traceback": [
            "\u001b[0;31m---------------------------------------------------------------------------\u001b[0m",
            "\u001b[0;31mTranspilerError\u001b[0m                           Traceback (most recent call last)",
            "\u001b[0;32m<ipython-input-138-a6d093c19f85>\u001b[0m in \u001b[0;36m<cell line: 23>\u001b[0;34m()\u001b[0m\n\u001b[1;32m     21\u001b[0m \u001b[0;32mfrom\u001b[0m \u001b[0mqiskit\u001b[0m \u001b[0;32mimport\u001b[0m \u001b[0mtranspile\u001b[0m\u001b[0;34m\u001b[0m\u001b[0;34m\u001b[0m\u001b[0m\n\u001b[1;32m     22\u001b[0m \u001b[0;34m\u001b[0m\u001b[0m\n\u001b[0;32m---> 23\u001b[0;31m \u001b[0mbell_transpiled\u001b[0m \u001b[0;34m=\u001b[0m \u001b[0mtranspile\u001b[0m\u001b[0;34m(\u001b[0m\u001b[0mbell\u001b[0m\u001b[0;34m,\u001b[0m \u001b[0mbackend\u001b[0m\u001b[0;34m,\u001b[0m \u001b[0moptimization_level\u001b[0m\u001b[0;34m=\u001b[0m\u001b[0;36m2\u001b[0m\u001b[0;34m)\u001b[0m\u001b[0;34m\u001b[0m\u001b[0;34m\u001b[0m\u001b[0m\n\u001b[0m\u001b[1;32m     24\u001b[0m \u001b[0mprint\u001b[0m\u001b[0;34m(\u001b[0m\u001b[0mbell_transpiled\u001b[0m\u001b[0;34m.\u001b[0m\u001b[0mdraw\u001b[0m\u001b[0;34m(\u001b[0m\u001b[0;34m)\u001b[0m\u001b[0;34m)\u001b[0m\u001b[0;34m\u001b[0m\u001b[0;34m\u001b[0m\u001b[0m\n\u001b[1;32m     25\u001b[0m \u001b[0;34m\u001b[0m\u001b[0m\n",
            "\u001b[0;32m/usr/local/lib/python3.10/dist-packages/qiskit/compiler/transpiler.py\u001b[0m in \u001b[0;36mtranspile\u001b[0;34m(circuits, backend, basis_gates, inst_map, coupling_map, backend_properties, initial_layout, layout_method, routing_method, translation_method, scheduling_method, instruction_durations, dt, approximation_degree, timing_constraints, seed_transpiler, optimization_level, callback, output_name, unitary_synthesis_method, unitary_synthesis_plugin_config, target, hls_config, init_method, optimization_method, ignore_backend_supplied_default_methods, num_processes)\u001b[0m\n\u001b[1;32m    364\u001b[0m     \u001b[0;31m# but we don't populate the passmanager config with loose constraints unless it's one of\u001b[0m\u001b[0;34m\u001b[0m\u001b[0;34m\u001b[0m\u001b[0m\n\u001b[1;32m    365\u001b[0m     \u001b[0;31m# the known edge cases to control the execution path.\u001b[0m\u001b[0;34m\u001b[0m\u001b[0;34m\u001b[0m\u001b[0m\n\u001b[0;32m--> 366\u001b[0;31m     pm = generate_preset_pass_manager(\n\u001b[0m\u001b[1;32m    367\u001b[0m         \u001b[0moptimization_level\u001b[0m\u001b[0;34m,\u001b[0m\u001b[0;34m\u001b[0m\u001b[0;34m\u001b[0m\u001b[0m\n\u001b[1;32m    368\u001b[0m         \u001b[0mtarget\u001b[0m\u001b[0;34m=\u001b[0m\u001b[0mtarget\u001b[0m\u001b[0;34m,\u001b[0m\u001b[0;34m\u001b[0m\u001b[0;34m\u001b[0m\u001b[0m\n",
            "\u001b[0;32m/usr/local/lib/python3.10/dist-packages/qiskit/transpiler/preset_passmanagers/generate_preset_pass_manager.py\u001b[0m in \u001b[0;36mgenerate_preset_pass_manager\u001b[0;34m(optimization_level, backend, target, basis_gates, inst_map, coupling_map, instruction_durations, backend_properties, timing_constraints, initial_layout, layout_method, routing_method, translation_method, scheduling_method, approximation_degree, seed_transpiler, unitary_synthesis_method, unitary_synthesis_plugin_config, hls_config, init_method, optimization_method, dt, _skip_target)\u001b[0m\n\u001b[1;32m    378\u001b[0m         \u001b[0mpm\u001b[0m \u001b[0;34m=\u001b[0m \u001b[0mlevel_1_pass_manager\u001b[0m\u001b[0;34m(\u001b[0m\u001b[0mpm_config\u001b[0m\u001b[0;34m)\u001b[0m\u001b[0;34m\u001b[0m\u001b[0;34m\u001b[0m\u001b[0m\n\u001b[1;32m    379\u001b[0m     \u001b[0;32melif\u001b[0m \u001b[0moptimization_level\u001b[0m \u001b[0;34m==\u001b[0m \u001b[0;36m2\u001b[0m\u001b[0;34m:\u001b[0m\u001b[0;34m\u001b[0m\u001b[0;34m\u001b[0m\u001b[0m\n\u001b[0;32m--> 380\u001b[0;31m         \u001b[0mpm\u001b[0m \u001b[0;34m=\u001b[0m \u001b[0mlevel_2_pass_manager\u001b[0m\u001b[0;34m(\u001b[0m\u001b[0mpm_config\u001b[0m\u001b[0;34m)\u001b[0m\u001b[0;34m\u001b[0m\u001b[0;34m\u001b[0m\u001b[0m\n\u001b[0m\u001b[1;32m    381\u001b[0m     \u001b[0;32melif\u001b[0m \u001b[0moptimization_level\u001b[0m \u001b[0;34m==\u001b[0m \u001b[0;36m3\u001b[0m\u001b[0;34m:\u001b[0m\u001b[0;34m\u001b[0m\u001b[0;34m\u001b[0m\u001b[0m\n\u001b[1;32m    382\u001b[0m         \u001b[0mpm\u001b[0m \u001b[0;34m=\u001b[0m \u001b[0mlevel_3_pass_manager\u001b[0m\u001b[0;34m(\u001b[0m\u001b[0mpm_config\u001b[0m\u001b[0;34m)\u001b[0m\u001b[0;34m\u001b[0m\u001b[0;34m\u001b[0m\u001b[0m\n",
            "\u001b[0;32m/usr/local/lib/python3.10/dist-packages/qiskit/transpiler/preset_passmanagers/level2.py\u001b[0m in \u001b[0;36mlevel_2_pass_manager\u001b[0;34m(pass_manager_config)\u001b[0m\n\u001b[1;32m     74\u001b[0m         \u001b[0mlayout\u001b[0m \u001b[0;34m=\u001b[0m \u001b[0;32mNone\u001b[0m\u001b[0;34m\u001b[0m\u001b[0;34m\u001b[0m\u001b[0m\n\u001b[1;32m     75\u001b[0m         \u001b[0mrouting\u001b[0m \u001b[0;34m=\u001b[0m \u001b[0;32mNone\u001b[0m\u001b[0;34m\u001b[0m\u001b[0;34m\u001b[0m\u001b[0m\n\u001b[0;32m---> 76\u001b[0;31m     translation = plugin_manager.get_passmanager_stage(\n\u001b[0m\u001b[1;32m     77\u001b[0m         \u001b[0;34m\"translation\"\u001b[0m\u001b[0;34m,\u001b[0m \u001b[0mtranslation_method\u001b[0m\u001b[0;34m,\u001b[0m \u001b[0mpass_manager_config\u001b[0m\u001b[0;34m,\u001b[0m \u001b[0moptimization_level\u001b[0m\u001b[0;34m=\u001b[0m\u001b[0;36m2\u001b[0m\u001b[0;34m\u001b[0m\u001b[0;34m\u001b[0m\u001b[0m\n\u001b[1;32m     78\u001b[0m     )\n",
            "\u001b[0;32m/usr/local/lib/python3.10/dist-packages/qiskit/transpiler/preset_passmanagers/plugin.py\u001b[0m in \u001b[0;36mget_passmanager_stage\u001b[0;34m(self, stage_name, plugin_name, pm_config, optimization_level)\u001b[0m\n\u001b[1;32m    253\u001b[0m             )\n\u001b[1;32m    254\u001b[0m         \u001b[0;32melif\u001b[0m \u001b[0mstage_name\u001b[0m \u001b[0;34m==\u001b[0m \u001b[0;34m\"translation\"\u001b[0m\u001b[0;34m:\u001b[0m\u001b[0;34m\u001b[0m\u001b[0;34m\u001b[0m\u001b[0m\n\u001b[0;32m--> 255\u001b[0;31m             return self._build_pm(\n\u001b[0m\u001b[1;32m    256\u001b[0m                 \u001b[0mself\u001b[0m\u001b[0;34m.\u001b[0m\u001b[0mtranslation_plugins\u001b[0m\u001b[0;34m,\u001b[0m \u001b[0mstage_name\u001b[0m\u001b[0;34m,\u001b[0m \u001b[0mplugin_name\u001b[0m\u001b[0;34m,\u001b[0m \u001b[0mpm_config\u001b[0m\u001b[0;34m,\u001b[0m \u001b[0moptimization_level\u001b[0m\u001b[0;34m\u001b[0m\u001b[0;34m\u001b[0m\u001b[0m\n\u001b[1;32m    257\u001b[0m             )\n",
            "\u001b[0;32m/usr/local/lib/python3.10/dist-packages/qiskit/transpiler/preset_passmanagers/plugin.py\u001b[0m in \u001b[0;36m_build_pm\u001b[0;34m(self, stage_obj, stage_name, plugin_name, pm_config, optimization_level)\u001b[0m\n\u001b[1;32m    276\u001b[0m     ):\n\u001b[1;32m    277\u001b[0m         \u001b[0;32mif\u001b[0m \u001b[0mplugin_name\u001b[0m \u001b[0;32mnot\u001b[0m \u001b[0;32min\u001b[0m \u001b[0mstage_obj\u001b[0m\u001b[0;34m:\u001b[0m\u001b[0;34m\u001b[0m\u001b[0;34m\u001b[0m\u001b[0m\n\u001b[0;32m--> 278\u001b[0;31m             \u001b[0;32mraise\u001b[0m \u001b[0mTranspilerError\u001b[0m\u001b[0;34m(\u001b[0m\u001b[0;34mf\"Invalid plugin name {plugin_name} for stage {stage_name}\"\u001b[0m\u001b[0;34m)\u001b[0m\u001b[0;34m\u001b[0m\u001b[0;34m\u001b[0m\u001b[0m\n\u001b[0m\u001b[1;32m    279\u001b[0m         \u001b[0mplugin_obj\u001b[0m \u001b[0;34m=\u001b[0m \u001b[0mstage_obj\u001b[0m\u001b[0;34m[\u001b[0m\u001b[0mplugin_name\u001b[0m\u001b[0;34m]\u001b[0m\u001b[0;34m\u001b[0m\u001b[0;34m\u001b[0m\u001b[0m\n\u001b[1;32m    280\u001b[0m         \u001b[0;32mreturn\u001b[0m \u001b[0mplugin_obj\u001b[0m\u001b[0;34m.\u001b[0m\u001b[0mobj\u001b[0m\u001b[0;34m.\u001b[0m\u001b[0mpass_manager\u001b[0m\u001b[0;34m(\u001b[0m\u001b[0mpm_config\u001b[0m\u001b[0;34m,\u001b[0m \u001b[0moptimization_level\u001b[0m\u001b[0;34m)\u001b[0m\u001b[0;34m\u001b[0m\u001b[0;34m\u001b[0m\u001b[0m\n",
            "\u001b[0;31mTranspilerError\u001b[0m: 'Invalid plugin name ibm_dynamic_circuits for stage translation'"
          ]
        }
      ]
    },
    {
      "cell_type": "code",
      "source": [
        "# Loading your IBM Q account\n",
        "QiskitRuntimeService.save_account(channel=\"ibm_quantum\", token='86ad51ed8e455dea40b8ac15c7b6359cf38cb674fdb3072f3d2e6211debf389fcfe547c54aad314614600bbe71f3d83572bc7059184a3bb11feae345ec347801', overwrite=True)\n",
        "\n",
        "# Run the circuit on a IBM quantum computer\n",
        "service = QiskitRuntimeService()\n",
        "#backend = service.least_busy(operational=True, simulator=False, min_num_qubits=20)\n",
        "backend = service.backend(\"ibm_sherbrooke\")\n",
        "print(\"Selected backend:\", backend.name)\n",
        "\n",
        "# Create a simple quantum circuit\n",
        "qc_test = QuantumCircuit(2)\n",
        "qc_test.h(0)\n",
        "qc_test.cx(0, 1)\n",
        "qc_test.measure_all()\n",
        "print(qc_test)\n",
        "\n",
        "# Transpile the circuit for the selected backend\n",
        "\n",
        "transpiled_qc = transpile(qc_test, backend, optimization_level=2)\n",
        "print(transpiled_qc.draw())\n",
        "\n",
        "#transpiled_qc = transpile(qc_test, backend)\n",
        "sampler = Sampler(session=backend)\n",
        "job = sampler.run([transpiled_qc], shots=1)\n",
        "\n"
      ],
      "metadata": {
        "id": "jun2w_o9eTVo",
        "outputId": "b03707af-e6f6-4b96-8914-1380def40b3a",
        "colab": {
          "base_uri": "https://localhost:8080/",
          "height": 512
        }
      },
      "execution_count": 135,
      "outputs": [
        {
          "output_type": "stream",
          "name": "stdout",
          "text": [
            "Selected backend: ibm_sherbrooke\n",
            "        ┌───┐      ░ ┌─┐   \n",
            "   q_0: ┤ H ├──■───░─┤M├───\n",
            "        └───┘┌─┴─┐ ░ └╥┘┌─┐\n",
            "   q_1: ─────┤ X ├─░──╫─┤M├\n",
            "             └───┘ ░  ║ └╥┘\n",
            "meas: 2/══════════════╩══╩═\n",
            "                      0  1 \n"
          ]
        },
        {
          "output_type": "error",
          "ename": "TranspilerError",
          "evalue": "'Invalid plugin name ibm_dynamic_circuits for stage translation'",
          "traceback": [
            "\u001b[0;31m---------------------------------------------------------------------------\u001b[0m",
            "\u001b[0;31mTranspilerError\u001b[0m                           Traceback (most recent call last)",
            "\u001b[0;32m<ipython-input-135-5b3c27538d74>\u001b[0m in \u001b[0;36m<cell line: 19>\u001b[0;34m()\u001b[0m\n\u001b[1;32m     17\u001b[0m \u001b[0;31m# Transpile the circuit for the selected backend\u001b[0m\u001b[0;34m\u001b[0m\u001b[0;34m\u001b[0m\u001b[0m\n\u001b[1;32m     18\u001b[0m \u001b[0;34m\u001b[0m\u001b[0m\n\u001b[0;32m---> 19\u001b[0;31m \u001b[0mtranspiled_qc\u001b[0m \u001b[0;34m=\u001b[0m \u001b[0mtranspile\u001b[0m\u001b[0;34m(\u001b[0m\u001b[0mqc_test\u001b[0m\u001b[0;34m,\u001b[0m \u001b[0mbackend\u001b[0m\u001b[0;34m,\u001b[0m \u001b[0moptimization_level\u001b[0m\u001b[0;34m=\u001b[0m\u001b[0;36m2\u001b[0m\u001b[0;34m)\u001b[0m\u001b[0;34m\u001b[0m\u001b[0;34m\u001b[0m\u001b[0m\n\u001b[0m\u001b[1;32m     20\u001b[0m \u001b[0mprint\u001b[0m\u001b[0;34m(\u001b[0m\u001b[0mtranspiled_qc\u001b[0m\u001b[0;34m.\u001b[0m\u001b[0mdraw\u001b[0m\u001b[0;34m(\u001b[0m\u001b[0;34m)\u001b[0m\u001b[0;34m)\u001b[0m\u001b[0;34m\u001b[0m\u001b[0;34m\u001b[0m\u001b[0m\n\u001b[1;32m     21\u001b[0m \u001b[0;34m\u001b[0m\u001b[0m\n",
            "\u001b[0;32m/usr/local/lib/python3.10/dist-packages/qiskit/compiler/transpiler.py\u001b[0m in \u001b[0;36mtranspile\u001b[0;34m(circuits, backend, basis_gates, inst_map, coupling_map, backend_properties, initial_layout, layout_method, routing_method, translation_method, scheduling_method, instruction_durations, dt, approximation_degree, timing_constraints, seed_transpiler, optimization_level, callback, output_name, unitary_synthesis_method, unitary_synthesis_plugin_config, target, hls_config, init_method, optimization_method, ignore_backend_supplied_default_methods, num_processes)\u001b[0m\n\u001b[1;32m    364\u001b[0m     \u001b[0;31m# but we don't populate the passmanager config with loose constraints unless it's one of\u001b[0m\u001b[0;34m\u001b[0m\u001b[0;34m\u001b[0m\u001b[0m\n\u001b[1;32m    365\u001b[0m     \u001b[0;31m# the known edge cases to control the execution path.\u001b[0m\u001b[0;34m\u001b[0m\u001b[0;34m\u001b[0m\u001b[0m\n\u001b[0;32m--> 366\u001b[0;31m     pm = generate_preset_pass_manager(\n\u001b[0m\u001b[1;32m    367\u001b[0m         \u001b[0moptimization_level\u001b[0m\u001b[0;34m,\u001b[0m\u001b[0;34m\u001b[0m\u001b[0;34m\u001b[0m\u001b[0m\n\u001b[1;32m    368\u001b[0m         \u001b[0mtarget\u001b[0m\u001b[0;34m=\u001b[0m\u001b[0mtarget\u001b[0m\u001b[0;34m,\u001b[0m\u001b[0;34m\u001b[0m\u001b[0;34m\u001b[0m\u001b[0m\n",
            "\u001b[0;32m/usr/local/lib/python3.10/dist-packages/qiskit/transpiler/preset_passmanagers/generate_preset_pass_manager.py\u001b[0m in \u001b[0;36mgenerate_preset_pass_manager\u001b[0;34m(optimization_level, backend, target, basis_gates, inst_map, coupling_map, instruction_durations, backend_properties, timing_constraints, initial_layout, layout_method, routing_method, translation_method, scheduling_method, approximation_degree, seed_transpiler, unitary_synthesis_method, unitary_synthesis_plugin_config, hls_config, init_method, optimization_method, dt, _skip_target)\u001b[0m\n\u001b[1;32m    378\u001b[0m         \u001b[0mpm\u001b[0m \u001b[0;34m=\u001b[0m \u001b[0mlevel_1_pass_manager\u001b[0m\u001b[0;34m(\u001b[0m\u001b[0mpm_config\u001b[0m\u001b[0;34m)\u001b[0m\u001b[0;34m\u001b[0m\u001b[0;34m\u001b[0m\u001b[0m\n\u001b[1;32m    379\u001b[0m     \u001b[0;32melif\u001b[0m \u001b[0moptimization_level\u001b[0m \u001b[0;34m==\u001b[0m \u001b[0;36m2\u001b[0m\u001b[0;34m:\u001b[0m\u001b[0;34m\u001b[0m\u001b[0;34m\u001b[0m\u001b[0m\n\u001b[0;32m--> 380\u001b[0;31m         \u001b[0mpm\u001b[0m \u001b[0;34m=\u001b[0m \u001b[0mlevel_2_pass_manager\u001b[0m\u001b[0;34m(\u001b[0m\u001b[0mpm_config\u001b[0m\u001b[0;34m)\u001b[0m\u001b[0;34m\u001b[0m\u001b[0;34m\u001b[0m\u001b[0m\n\u001b[0m\u001b[1;32m    381\u001b[0m     \u001b[0;32melif\u001b[0m \u001b[0moptimization_level\u001b[0m \u001b[0;34m==\u001b[0m \u001b[0;36m3\u001b[0m\u001b[0;34m:\u001b[0m\u001b[0;34m\u001b[0m\u001b[0;34m\u001b[0m\u001b[0m\n\u001b[1;32m    382\u001b[0m         \u001b[0mpm\u001b[0m \u001b[0;34m=\u001b[0m \u001b[0mlevel_3_pass_manager\u001b[0m\u001b[0;34m(\u001b[0m\u001b[0mpm_config\u001b[0m\u001b[0;34m)\u001b[0m\u001b[0;34m\u001b[0m\u001b[0;34m\u001b[0m\u001b[0m\n",
            "\u001b[0;32m/usr/local/lib/python3.10/dist-packages/qiskit/transpiler/preset_passmanagers/level2.py\u001b[0m in \u001b[0;36mlevel_2_pass_manager\u001b[0;34m(pass_manager_config)\u001b[0m\n\u001b[1;32m     74\u001b[0m         \u001b[0mlayout\u001b[0m \u001b[0;34m=\u001b[0m \u001b[0;32mNone\u001b[0m\u001b[0;34m\u001b[0m\u001b[0;34m\u001b[0m\u001b[0m\n\u001b[1;32m     75\u001b[0m         \u001b[0mrouting\u001b[0m \u001b[0;34m=\u001b[0m \u001b[0;32mNone\u001b[0m\u001b[0;34m\u001b[0m\u001b[0;34m\u001b[0m\u001b[0m\n\u001b[0;32m---> 76\u001b[0;31m     translation = plugin_manager.get_passmanager_stage(\n\u001b[0m\u001b[1;32m     77\u001b[0m         \u001b[0;34m\"translation\"\u001b[0m\u001b[0;34m,\u001b[0m \u001b[0mtranslation_method\u001b[0m\u001b[0;34m,\u001b[0m \u001b[0mpass_manager_config\u001b[0m\u001b[0;34m,\u001b[0m \u001b[0moptimization_level\u001b[0m\u001b[0;34m=\u001b[0m\u001b[0;36m2\u001b[0m\u001b[0;34m\u001b[0m\u001b[0;34m\u001b[0m\u001b[0m\n\u001b[1;32m     78\u001b[0m     )\n",
            "\u001b[0;32m/usr/local/lib/python3.10/dist-packages/qiskit/transpiler/preset_passmanagers/plugin.py\u001b[0m in \u001b[0;36mget_passmanager_stage\u001b[0;34m(self, stage_name, plugin_name, pm_config, optimization_level)\u001b[0m\n\u001b[1;32m    253\u001b[0m             )\n\u001b[1;32m    254\u001b[0m         \u001b[0;32melif\u001b[0m \u001b[0mstage_name\u001b[0m \u001b[0;34m==\u001b[0m \u001b[0;34m\"translation\"\u001b[0m\u001b[0;34m:\u001b[0m\u001b[0;34m\u001b[0m\u001b[0;34m\u001b[0m\u001b[0m\n\u001b[0;32m--> 255\u001b[0;31m             return self._build_pm(\n\u001b[0m\u001b[1;32m    256\u001b[0m                 \u001b[0mself\u001b[0m\u001b[0;34m.\u001b[0m\u001b[0mtranslation_plugins\u001b[0m\u001b[0;34m,\u001b[0m \u001b[0mstage_name\u001b[0m\u001b[0;34m,\u001b[0m \u001b[0mplugin_name\u001b[0m\u001b[0;34m,\u001b[0m \u001b[0mpm_config\u001b[0m\u001b[0;34m,\u001b[0m \u001b[0moptimization_level\u001b[0m\u001b[0;34m\u001b[0m\u001b[0;34m\u001b[0m\u001b[0m\n\u001b[1;32m    257\u001b[0m             )\n",
            "\u001b[0;32m/usr/local/lib/python3.10/dist-packages/qiskit/transpiler/preset_passmanagers/plugin.py\u001b[0m in \u001b[0;36m_build_pm\u001b[0;34m(self, stage_obj, stage_name, plugin_name, pm_config, optimization_level)\u001b[0m\n\u001b[1;32m    276\u001b[0m     ):\n\u001b[1;32m    277\u001b[0m         \u001b[0;32mif\u001b[0m \u001b[0mplugin_name\u001b[0m \u001b[0;32mnot\u001b[0m \u001b[0;32min\u001b[0m \u001b[0mstage_obj\u001b[0m\u001b[0;34m:\u001b[0m\u001b[0;34m\u001b[0m\u001b[0;34m\u001b[0m\u001b[0m\n\u001b[0;32m--> 278\u001b[0;31m             \u001b[0;32mraise\u001b[0m \u001b[0mTranspilerError\u001b[0m\u001b[0;34m(\u001b[0m\u001b[0;34mf\"Invalid plugin name {plugin_name} for stage {stage_name}\"\u001b[0m\u001b[0;34m)\u001b[0m\u001b[0;34m\u001b[0m\u001b[0;34m\u001b[0m\u001b[0m\n\u001b[0m\u001b[1;32m    279\u001b[0m         \u001b[0mplugin_obj\u001b[0m \u001b[0;34m=\u001b[0m \u001b[0mstage_obj\u001b[0m\u001b[0;34m[\u001b[0m\u001b[0mplugin_name\u001b[0m\u001b[0;34m]\u001b[0m\u001b[0;34m\u001b[0m\u001b[0;34m\u001b[0m\u001b[0m\n\u001b[1;32m    280\u001b[0m         \u001b[0;32mreturn\u001b[0m \u001b[0mplugin_obj\u001b[0m\u001b[0;34m.\u001b[0m\u001b[0mobj\u001b[0m\u001b[0;34m.\u001b[0m\u001b[0mpass_manager\u001b[0m\u001b[0;34m(\u001b[0m\u001b[0mpm_config\u001b[0m\u001b[0;34m,\u001b[0m \u001b[0moptimization_level\u001b[0m\u001b[0;34m)\u001b[0m\u001b[0;34m\u001b[0m\u001b[0;34m\u001b[0m\u001b[0m\n",
            "\u001b[0;31mTranspilerError\u001b[0m: 'Invalid plugin name ibm_dynamic_circuits for stage translation'"
          ]
        }
      ]
    },
    {
      "cell_type": "markdown",
      "source": [
        "# Shor's Factorization Algorithm"
      ],
      "metadata": {
        "id": "ooSH31CFBYPq"
      }
    },
    {
      "cell_type": "code",
      "source": [
        "def ShorLogic(N, repeat_period_candidates, coprime):\n",
        "    print('Repeat period candidates: '+str(repeat_period_candidates)+'\\n')\n",
        "    factor_candidates = []\n",
        "    for i in range(len(repeat_period_candidates)):\n",
        "        repeat_period = repeat_period_candidates[i];\n",
        "        # Given the repeat period, find the actual factors\n",
        "        ar2 = pow(coprime, repeat_period / 2.0)\n",
        "        factor1 = int(gcd(N, ar2 - 1))\n",
        "        factor2 = int(gcd(N, ar2 + 1))\n",
        "        factor_candidates.append([factor1, factor2])\n",
        "    return factor_candidates"
      ],
      "metadata": {
        "id": "cTQDmaU4Ibuj"
      },
      "execution_count": 99,
      "outputs": []
    },
    {
      "cell_type": "code",
      "source": [
        "def gcd(a, b):\n",
        "    # return the greatest common divisor of a,b\n",
        "    while b:\n",
        "        m = a % b\n",
        "        a = b\n",
        "        b = m\n",
        "    return a"
      ],
      "metadata": {
        "id": "PLxPMDgCHiXj"
      },
      "execution_count": 100,
      "outputs": []
    },
    {
      "cell_type": "code",
      "source": [
        "def check_result(N, factor_candidates):\n",
        "    for i in range(len(factor_candidates)):\n",
        "        factors = factor_candidates[i]\n",
        "        if factors[0] * factors[1] == N:\n",
        "            if factors[0] != 1 and factors[1] != 1:\n",
        "                # Success!\n",
        "                return factors\n",
        "    # Failure\n",
        "    return None"
      ],
      "metadata": {
        "id": "njs9DkmOHwMl"
      },
      "execution_count": 101,
      "outputs": []
    },
    {
      "cell_type": "code",
      "source": [
        "def Shor(N, coprime, classical=False, simulate=True, vis=False, opt_for_vis=False):\n",
        "    # Quantum part\n",
        "    if classical:\n",
        "        # Classical alternative for comparision\n",
        "        repeat_period = ShorNoQPU(N, coprime)\n",
        "    else:\n",
        "        # Quantum part\n",
        "        repeat_period = ShorQPU(N, coprime, simulate, vis, opt_for_vis)\n",
        "\n",
        "    # Classical part\n",
        "    factors = ShorLogic(N, repeat_period, coprime)\n",
        "\n",
        "    return check_result(N, factors)"
      ],
      "metadata": {
        "id": "KZrbOascPfbu"
      },
      "execution_count": 102,
      "outputs": []
    },
    {
      "cell_type": "code",
      "source": [
        "def ShorNoQPU(N, coprime):\n",
        "    # Classical replacement for the quantum part of Shor\n",
        "    repeat_period_candidates = []\n",
        "    work = 1\n",
        "    precision_bits = math.ceil(math.log2(N))\n",
        "    max_loops = pow(2, precision_bits)\n",
        "    for iter in range(max_loops):\n",
        "        work = (work * coprime) % N\n",
        "        if work == 1: # found a repeat period\n",
        "            repeat_period_candidates.append(iter + 1)\n",
        "    return repeat_period_candidates"
      ],
      "metadata": {
        "id": "HTkiSSIFGhTm"
      },
      "execution_count": 103,
      "outputs": []
    },
    {
      "cell_type": "code",
      "source": [
        "def ShorQPU(N, coprime, simulate=True, vis=False, opt_for_vis=False):\n",
        "    # Quantum part of Shor's algorithm\n",
        "    # For this implementation, the coprime must be 2.\n",
        "    coprime = 2;\n",
        "    return ShorQPU_WithModulo(N, coprime, simulate, vis, opt_for_vis)\n",
        "\n",
        "    '''\n",
        "    # For some numbers (like 15 and 21) the \"mod\" in a^xmod(N)\n",
        "    # is not needed, because a^x wraps neatly around. This makes the\n",
        "    # code simpler, and much easier to follow.\n",
        "    if N == 15 or N == 21:\n",
        "        return ShorQPU_WithoutModulo(N, coprime, simulate, opt_for_vis)\n",
        "    else:\n",
        "        return ShorQPU_WithModulo(N, coprime, simulate, vis, opt_for_vis)\n",
        "    '''"
      ],
      "metadata": {
        "id": "6PHtST12P5Yj"
      },
      "execution_count": 104,
      "outputs": []
    },
    {
      "cell_type": "code",
      "source": [
        "def RollLeft(qc, work, num_shifts, control):\n",
        "    # Ensure we're not out of range for work qubits\n",
        "    for j in range(work.size - num_shifts-1,-1,-1):\n",
        "        # Apply CSWAP between work[j] <-> work[j + num_shifts]\n",
        "        qc.append(CSwapGate(), [control, work[j], work[j + num_shifts]])\n",
        "    return qc"
      ],
      "metadata": {
        "id": "rOuXDLSvEahg"
      },
      "execution_count": 105,
      "outputs": []
    },
    {
      "cell_type": "code",
      "source": [
        "# In case our QPU read returns a \"signed\" negative value,\n",
        "# convert it to unsigned.\n",
        "def read_unsigned(qc, qreg, creg, simulate=True):\n",
        "    qc.measure(qreg, creg)\n",
        "\n",
        "    if simulate:\n",
        "        # Simulate the circuit using the Aer simulator\n",
        "        simulator = AerSimulator()\n",
        "        job = simulator.run(transpile(qc, simulator), shots=1)\n",
        "\n",
        "    else:\n",
        "        # Run the circuit on a IBM quantum computer\n",
        "        service = QiskitRuntimeService()\n",
        "        #backend = service.least_busy(operational=True, simulator=False, min_num_qubits=qc.num_qubits)\n",
        "        backend = service.backend(\"ibm_sherbrooke\")\n",
        "        print(backend.name)\n",
        "        sampler = Sampler(backend)\n",
        "        job = sampler.run([transpile(qc, backend)], shots=1)\n",
        "\n",
        "    result = job.result()\n",
        "    counts = result.get_counts(qc)\n",
        "\n",
        "    # Visualize the results\n",
        "    #print(\"Measurement results: \" + str(counts) + \"\\n\")\n",
        "    #fig = plot_histogram(counts)\n",
        "    #fig.show()\n",
        "\n",
        "    # Extract value of most likely measurement outcome\n",
        "    value = int(max(counts, key=counts.get),2)\n",
        "\n",
        "    return value & ((1 << qreg.size) - 1)"
      ],
      "metadata": {
        "id": "YQCVR2SPQLDF"
      },
      "execution_count": 139,
      "outputs": []
    },
    {
      "cell_type": "code",
      "source": [
        "def estimate_num_spikes(spike, spike_range):\n",
        "    if spike < spike_range / 2:\n",
        "        spike = spike_range - spike\n",
        "    best_error = 1.0\n",
        "    e0 = 0\n",
        "    e1 = 0\n",
        "    e2 = 0\n",
        "    actual = spike / spike_range\n",
        "    candidates = []\n",
        "    for denominator in range(1,spike):\n",
        "        numerator = round(denominator * actual)\n",
        "        estimated = numerator / denominator\n",
        "        error = abs(estimated - actual)\n",
        "        e0 = e1\n",
        "        e1 = e2\n",
        "        e2 = error\n",
        "        # Look for a local minimum which beats our current best error\n",
        "        if e1 <= best_error and e1 < e0 and e1 < e2:\n",
        "            repeat_period = denominator - 1\n",
        "            candidates.append(repeat_period)\n",
        "            best_error = e1\n",
        "    return candidates"
      ],
      "metadata": {
        "id": "JDLt9wXXBwQf"
      },
      "execution_count": 107,
      "outputs": []
    },
    {
      "cell_type": "code",
      "source": [
        "# This is the short/simple version of ShorQPU() where we can perform a^x and\n",
        "# don't need to be concerned with performing a quantum int modulus.\n",
        "\n",
        "def ShorQPU_WithoutModulo(N, coprime, simulate=True, vis=False, opt_for_vis=False):\n",
        "\n",
        "    # Define number of required qubits\n",
        "    N_bits = math.ceil(math.log2(N))\n",
        "    work_qubits = N_bits + 1\n",
        "    precision_qubits = N_bits\n",
        "\n",
        "    # Set up the QPU and the working registers\n",
        "    work = QuantumRegister(work_qubits, name=\"work\")\n",
        "    precision = QuantumRegister(precision_qubits, name=\"precision\")\n",
        "    classical = ClassicalRegister(precision_qubits, name=\"precision_measure\")\n",
        "    qc = QuantumCircuit(work, precision, classical)\n",
        "\n",
        "    # Initialization: set the working register to state |1>\n",
        "    # and the precision register to state |0>\n",
        "    # put the precision register into superposition using Hadamard gate\n",
        "    qc.initialize(1, work)\n",
        "    qc.initialize(0, precision)\n",
        "    qc.h(precision)\n",
        "\n",
        "    if opt_for_vis: qc.barrier()\n",
        "\n",
        "    # Perform 2^x for all possible values of x in superposition\n",
        "    for iter in range(precision_qubits):\n",
        "        num_shifts = 1 << iter\n",
        "        if num_shifts < work_qubits:\n",
        "            qc = RollLeft(qc, work, num_shifts, precision[iter])\n",
        "            if opt_for_vis: qc.barrier()\n",
        "\n",
        "    # Quantum Fourier Transform on precision register\n",
        "    qc.append(QFT(precision_qubits), precision)\n",
        "\n",
        "    if opt_for_vis: qc.barrier()\n",
        "\n",
        "    if vis: print(qc)\n",
        "\n",
        "    read_result = read_unsigned(qc, precision, classical, simulate)\n",
        "    print('QPU read result: '+str(read_result)+'\\n')\n",
        "    repeat_period_candidates = estimate_num_spikes(read_result, 1 << precision_qubits)\n",
        "\n",
        "    print('Circuit depth: ', qc.depth())\n",
        "    print('Number of qubits: ', qc.num_qubits)\n",
        "\n",
        "    return repeat_period_candidates"
      ],
      "metadata": {
        "id": "thwvwaPfQUwv"
      },
      "execution_count": 108,
      "outputs": []
    },
    {
      "cell_type": "code",
      "source": [
        "def add_int(qc, qreg, N, conditions):\n",
        "    reverse_to_subtract = False\n",
        "    if N == 0:\n",
        "        return\n",
        "    elif N < 0:\n",
        "        N = -N\n",
        "        reverse_to_subtract = True\n",
        "    ops = []\n",
        "    add_val = int(N)\n",
        "    condition_mask = (1 << len(qreg)) - 1\n",
        "\n",
        "    add_val_mask = 1\n",
        "    while add_val_mask <= add_val:\n",
        "        cmask = condition_mask & ~(add_val_mask - 1)\n",
        "        if add_val_mask & add_val:\n",
        "            add_shift_mask = 1 << (len(qreg) - 1)\n",
        "            while add_shift_mask >= add_val_mask:\n",
        "                cmask &= ~add_shift_mask\n",
        "                ops.append((add_shift_mask, cmask))\n",
        "                add_shift_mask >>= 1\n",
        "        condition_mask &= ~add_val_mask\n",
        "        add_val_mask <<= 1\n",
        "    if reverse_to_subtract:\n",
        "        ops.reverse()\n",
        "    for inst in ops:\n",
        "        op_qubits = []\n",
        "        for i in range(len(qreg)):\n",
        "            if inst[1] & (1 << i):\n",
        "                op_qubits.append(qreg[i])\n",
        "        for i in range(len(qreg)):\n",
        "            if inst[0] & (1 << i):\n",
        "                op_qubits.append(qreg[i])\n",
        "        qc = multi_cx(qc, op_qubits, conditions)\n",
        "\n",
        "    return qc\n",
        "\n",
        "\n",
        "def multi_cx(qc, qubits, conditions=None, do_cz=False):\n",
        "    ## This will perform a CCCCCX with as many conditions as we want\n",
        "    ## The last qubit in the list is the target.\n",
        "\n",
        "    target = qubits[-1]\n",
        "    conds = qubits[:-1]\n",
        "    ops = []\n",
        "\n",
        "    controll_qubits = []\n",
        "\n",
        "    for i in range(len(conds)):\n",
        "        controll_qubits.append(conds[i])\n",
        "    if conditions != None:\n",
        "        for i in range(len(conditions)):\n",
        "            controll_qubits.append(conditions[i])\n",
        "\n",
        "    if len(controll_qubits) == 0:\n",
        "        qc.x(target)\n",
        "    else:\n",
        "        qc.mcx(controll_qubits, target)\n",
        "\n",
        "    return qc"
      ],
      "metadata": {
        "id": "wtUCkc-TqYjk"
      },
      "execution_count": 109,
      "outputs": []
    },
    {
      "cell_type": "code",
      "source": [
        "# This is the complicated version of ShorQPU() where we DO\n",
        "# need to be concerned with performing a quantum int modulus.\n",
        "# That's a complicated operation, and it also requires us to\n",
        "# do the shifts one at a time.\n",
        "def ShorQPU_WithModulo(N, coprime, simulate=True, vis=False, opt_for_vis=False):\n",
        "    max_value = 1\n",
        "    mod_engaged = False\n",
        "\n",
        "    # Define number of required qubits\n",
        "    N_bits = math.ceil(math.log2(N))\n",
        "    work_qubits = N_bits + 1\n",
        "    precision_qubits = N_bits\n",
        "    scratch_qubits = 1\n",
        "\n",
        "    # Set up the QPU and the working registers\n",
        "    work = QuantumRegister(work_qubits, name=\"work\")\n",
        "    precision = QuantumRegister(precision_qubits, name=\"precision\")\n",
        "    scratch = QuantumRegister(scratch_qubits, name=\"scratch\")\n",
        "    classical = ClassicalRegister(precision_qubits, name=\"precision_measure\")\n",
        "    qc = QuantumCircuit(work, precision, scratch, classical)\n",
        "\n",
        "    # Initialization: set the working register to state |1>\n",
        "    # and the precision register to state |0>\n",
        "    # put the precision register into superposition using Hadamard gate\n",
        "    qc.initialize(1, work)\n",
        "    qc.initialize(0, precision)\n",
        "    qc.initialize(0, scratch)\n",
        "    qc.h(precision)\n",
        "\n",
        "    if opt_for_vis: qc.barrier()\n",
        "\n",
        "    N_sign_bit = work[work_qubits - 1]\n",
        "\n",
        "    for iter in range(precision_qubits):\n",
        "        condition_qubit = precision[iter]  # Get the condition qubit\n",
        "\n",
        "        shifts = 1 << iter\n",
        "        for shift in range(shifts):\n",
        "            qc = RollLeft(qc, work, 1, precision[iter]) # multiply by the coprime 2\n",
        "            if opt_for_vis: qc.barrier()\n",
        "            max_value <<= 1\n",
        "\n",
        "            if max_value >= N:\n",
        "                mod_engaged = True\n",
        "\n",
        "            if mod_engaged:\n",
        "                qc = add_int(qc, work, -N, [condition_qubit]) # Substract N from working register, causing this to go negative if work < N\n",
        "                if opt_for_vis: qc.barrier()\n",
        "                qc.ccx(N_sign_bit, condition_qubit, scratch) # Skim off the sign bit\n",
        "                if opt_for_vis: qc.barrier()\n",
        "                qc = add_int(qc, work, N, [scratch[0], condition_qubit]) # If we went negative, undo the subtraction by adding N\n",
        "                if opt_for_vis: qc.barrier()\n",
        "                qc.x(work[0])\n",
        "                qc.ccx(work[0], condition_qubit, scratch) # If it's odd, then we wrapped, so clear the wrap bit\n",
        "                qc.x(work[0])\n",
        "                if opt_for_vis: qc.barrier()\n",
        "\n",
        "    # Quantum Fourier Transform on precision register\n",
        "    qc.append(QFT(precision_qubits), precision)\n",
        "\n",
        "    if vis: print(qc)\n",
        "\n",
        "    read_result = read_unsigned(qc, precision, classical, simulate)\n",
        "    print('QPU read result: ', read_result)\n",
        "    repeat_period_candidates = estimate_num_spikes(read_result, 1 << precision_qubits)\n",
        "\n",
        "    print('Circuit depth: ', qc.depth())\n",
        "    print('Number of qubits: ', qc.num_qubits)\n",
        "\n",
        "    return repeat_period_candidates"
      ],
      "metadata": {
        "id": "lWToZ4ZCQ711"
      },
      "execution_count": 110,
      "outputs": []
    },
    {
      "cell_type": "markdown",
      "source": [
        "# Execution"
      ],
      "metadata": {
        "id": "Ryfe8smNvbAh"
      }
    },
    {
      "cell_type": "markdown",
      "source": [
        "**Here are some values of N to try:**\n",
        "\n",
        "15, 21, 33, 35, 39, 51, 55, 69, 77, 85, 87, 91, 93, 95, 111, 115, 117,\n",
        "119, 123, 133, 155, 187, 203, 221, 247, 259, 287, 341, 451\n",
        "\n",
        "**Larger numbers require more bits of precision.**\n",
        "\n",
        "N = 15    precision_bits >= 4\n",
        "\n",
        "N = 21    precision_bits >= 5\n",
        "\n",
        "N = 35    precision_bits >= 6\n",
        "\n",
        "N = 123   precision_bits >= 7\n",
        "\n",
        "N = 341   precision_bits >= 8  time: about 6 seconds\n",
        "\n",
        "N = 451   precision_bits >= 9  time: about 23 seconds"
      ],
      "metadata": {
        "id": "GpVdogd_OtJI"
      }
    },
    {
      "cell_type": "code",
      "source": [
        "def shor_sample(classical=False, simulate=True, vis=False, opt_for_vis=False):\n",
        "    N = 123             # The number we're factoring\n",
        "    coprime = 2        # Needs to be 2 in this implementation\n",
        "\n",
        "    max_iteration = 10\n",
        "    success = 0\n",
        "    calculation_time = []\n",
        "\n",
        "    for i in range(max_iteration):\n",
        "        start_time = time.time()\n",
        "        result = Shor(N, coprime, classical, simulate, vis, opt_for_vis)\n",
        "        end_time = time.time()\n",
        "        if result != None:\n",
        "            success += 1\n",
        "            calculation_time.append(end_time-start_time)\n",
        "            print('Iteration '+str(i+1)+': Successful'+'. Calculation time: '+str(\"{:.2f}\".format(end_time-start_time))+'s'+'. Success: '+str(success)+'/'+str(max_iteration))\n",
        "\n",
        "            if success == 1: # Store solution\n",
        "                solution = str(N)+'='+str(result[0])+'*'+str(result[1])\n",
        "        else:\n",
        "            print('Iteration '+str(i+1)+': Not Successful'+'. Success: '+str(success)+'/'+str(max_iteration))\n",
        "        print('-----------------------------------------------------------------------------------\\n')\n",
        "\n",
        "    if success == 0:\n",
        "        print('Failure: No non-trivial factors were found.\\n')\n",
        "    else:\n",
        "        success_rate = success/max_iteration\n",
        "        average_time = sum(calculation_time)/len(calculation_time)\n",
        "        print('Solution: '+solution+'\\nAccuracy: '+str(success_rate*100)+'%'+'\\nAverage calculation time: '+str(\"{:.2f}\".format(average_time))+'s')\n",
        "\n",
        "# 'classical=False' executes quantum part of algorithm\n",
        "# 'classical=True' executes classical alternative of quantum part for comparison\n",
        "# 'simulate=True' obtains the result by running the circuit on a simulator\n",
        "# 'simulate=False' obtains the result by running the circuit on a IBM quantum computer\n",
        "# 'vis=True' shows quantum circuit\n",
        "# 'vis=False' does not show quantum circuit\n",
        "# 'opt_for_vis=True' adds barriers to the circuit to improve readability\n",
        "# 'opt_for_vis=False' removes barriers in the circuit to improve performance\n",
        "shor_sample(classical=False, simulate=False, vis=False, opt_for_vis=False)"
      ],
      "metadata": {
        "id": "SEEbFUbRGmnY",
        "colab": {
          "base_uri": "https://localhost:8080/",
          "height": 356
        },
        "outputId": "683589f7-c97a-4eb7-bfe1-1fed6ba5b23c"
      },
      "execution_count": 140,
      "outputs": [
        {
          "output_type": "stream",
          "name": "stdout",
          "text": [
            "ibm_sherbrooke\n"
          ]
        },
        {
          "output_type": "error",
          "ename": "TranspilerError",
          "evalue": "'Invalid plugin name ibm_dynamic_circuits for stage translation'",
          "traceback": [
            "\u001b[0;31m---------------------------------------------------------------------------\u001b[0m",
            "\u001b[0;31mTranspilerError\u001b[0m                           Traceback (most recent call last)",
            "\u001b[0;32m<ipython-input-140-b6f49e644556>\u001b[0m in \u001b[0;36m<cell line: 39>\u001b[0;34m()\u001b[0m\n\u001b[1;32m     37\u001b[0m \u001b[0;31m# 'opt_for_vis=True' adds barriers to the circuit to improve readability\u001b[0m\u001b[0;34m\u001b[0m\u001b[0;34m\u001b[0m\u001b[0m\n\u001b[1;32m     38\u001b[0m \u001b[0;31m# 'opt_for_vis=False' removes barriers in the circuit to improve performance\u001b[0m\u001b[0;34m\u001b[0m\u001b[0;34m\u001b[0m\u001b[0m\n\u001b[0;32m---> 39\u001b[0;31m \u001b[0mshor_sample\u001b[0m\u001b[0;34m(\u001b[0m\u001b[0mclassical\u001b[0m\u001b[0;34m=\u001b[0m\u001b[0;32mFalse\u001b[0m\u001b[0;34m,\u001b[0m \u001b[0msimulate\u001b[0m\u001b[0;34m=\u001b[0m\u001b[0;32mFalse\u001b[0m\u001b[0;34m,\u001b[0m \u001b[0mvis\u001b[0m\u001b[0;34m=\u001b[0m\u001b[0;32mFalse\u001b[0m\u001b[0;34m,\u001b[0m \u001b[0mopt_for_vis\u001b[0m\u001b[0;34m=\u001b[0m\u001b[0;32mFalse\u001b[0m\u001b[0;34m)\u001b[0m\u001b[0;34m\u001b[0m\u001b[0;34m\u001b[0m\u001b[0m\n\u001b[0m",
            "\u001b[0;32m<ipython-input-140-b6f49e644556>\u001b[0m in \u001b[0;36mshor_sample\u001b[0;34m(classical, simulate, vis, opt_for_vis)\u001b[0m\n\u001b[1;32m      9\u001b[0m     \u001b[0;32mfor\u001b[0m \u001b[0mi\u001b[0m \u001b[0;32min\u001b[0m \u001b[0mrange\u001b[0m\u001b[0;34m(\u001b[0m\u001b[0mmax_iteration\u001b[0m\u001b[0;34m)\u001b[0m\u001b[0;34m:\u001b[0m\u001b[0;34m\u001b[0m\u001b[0;34m\u001b[0m\u001b[0m\n\u001b[1;32m     10\u001b[0m         \u001b[0mstart_time\u001b[0m \u001b[0;34m=\u001b[0m \u001b[0mtime\u001b[0m\u001b[0;34m.\u001b[0m\u001b[0mtime\u001b[0m\u001b[0;34m(\u001b[0m\u001b[0;34m)\u001b[0m\u001b[0;34m\u001b[0m\u001b[0;34m\u001b[0m\u001b[0m\n\u001b[0;32m---> 11\u001b[0;31m         \u001b[0mresult\u001b[0m \u001b[0;34m=\u001b[0m \u001b[0mShor\u001b[0m\u001b[0;34m(\u001b[0m\u001b[0mN\u001b[0m\u001b[0;34m,\u001b[0m \u001b[0mcoprime\u001b[0m\u001b[0;34m,\u001b[0m \u001b[0mclassical\u001b[0m\u001b[0;34m,\u001b[0m \u001b[0msimulate\u001b[0m\u001b[0;34m,\u001b[0m \u001b[0mvis\u001b[0m\u001b[0;34m,\u001b[0m \u001b[0mopt_for_vis\u001b[0m\u001b[0;34m)\u001b[0m\u001b[0;34m\u001b[0m\u001b[0;34m\u001b[0m\u001b[0m\n\u001b[0m\u001b[1;32m     12\u001b[0m         \u001b[0mend_time\u001b[0m \u001b[0;34m=\u001b[0m \u001b[0mtime\u001b[0m\u001b[0;34m.\u001b[0m\u001b[0mtime\u001b[0m\u001b[0;34m(\u001b[0m\u001b[0;34m)\u001b[0m\u001b[0;34m\u001b[0m\u001b[0;34m\u001b[0m\u001b[0m\n\u001b[1;32m     13\u001b[0m         \u001b[0;32mif\u001b[0m \u001b[0mresult\u001b[0m \u001b[0;34m!=\u001b[0m \u001b[0;32mNone\u001b[0m\u001b[0;34m:\u001b[0m\u001b[0;34m\u001b[0m\u001b[0;34m\u001b[0m\u001b[0m\n",
            "\u001b[0;32m<ipython-input-102-341cdd5788f0>\u001b[0m in \u001b[0;36mShor\u001b[0;34m(N, coprime, classical, simulate, vis, opt_for_vis)\u001b[0m\n\u001b[1;32m      6\u001b[0m     \u001b[0;32melse\u001b[0m\u001b[0;34m:\u001b[0m\u001b[0;34m\u001b[0m\u001b[0;34m\u001b[0m\u001b[0m\n\u001b[1;32m      7\u001b[0m         \u001b[0;31m# Quantum part\u001b[0m\u001b[0;34m\u001b[0m\u001b[0;34m\u001b[0m\u001b[0m\n\u001b[0;32m----> 8\u001b[0;31m         \u001b[0mrepeat_period\u001b[0m \u001b[0;34m=\u001b[0m \u001b[0mShorQPU\u001b[0m\u001b[0;34m(\u001b[0m\u001b[0mN\u001b[0m\u001b[0;34m,\u001b[0m \u001b[0mcoprime\u001b[0m\u001b[0;34m,\u001b[0m \u001b[0msimulate\u001b[0m\u001b[0;34m,\u001b[0m \u001b[0mvis\u001b[0m\u001b[0;34m,\u001b[0m \u001b[0mopt_for_vis\u001b[0m\u001b[0;34m)\u001b[0m\u001b[0;34m\u001b[0m\u001b[0;34m\u001b[0m\u001b[0m\n\u001b[0m\u001b[1;32m      9\u001b[0m \u001b[0;34m\u001b[0m\u001b[0m\n\u001b[1;32m     10\u001b[0m     \u001b[0;31m# Classical part\u001b[0m\u001b[0;34m\u001b[0m\u001b[0;34m\u001b[0m\u001b[0m\n",
            "\u001b[0;32m<ipython-input-104-0b1af2d9d1a7>\u001b[0m in \u001b[0;36mShorQPU\u001b[0;34m(N, coprime, simulate, vis, opt_for_vis)\u001b[0m\n\u001b[1;32m      3\u001b[0m     \u001b[0;31m# For this implementation, the coprime must be 2.\u001b[0m\u001b[0;34m\u001b[0m\u001b[0;34m\u001b[0m\u001b[0m\n\u001b[1;32m      4\u001b[0m     \u001b[0mcoprime\u001b[0m \u001b[0;34m=\u001b[0m \u001b[0;36m2\u001b[0m\u001b[0;34m;\u001b[0m\u001b[0;34m\u001b[0m\u001b[0;34m\u001b[0m\u001b[0m\n\u001b[0;32m----> 5\u001b[0;31m     \u001b[0;32mreturn\u001b[0m \u001b[0mShorQPU_WithModulo\u001b[0m\u001b[0;34m(\u001b[0m\u001b[0mN\u001b[0m\u001b[0;34m,\u001b[0m \u001b[0mcoprime\u001b[0m\u001b[0;34m,\u001b[0m \u001b[0msimulate\u001b[0m\u001b[0;34m,\u001b[0m \u001b[0mvis\u001b[0m\u001b[0;34m,\u001b[0m \u001b[0mopt_for_vis\u001b[0m\u001b[0;34m)\u001b[0m\u001b[0;34m\u001b[0m\u001b[0;34m\u001b[0m\u001b[0m\n\u001b[0m\u001b[1;32m      6\u001b[0m \u001b[0;34m\u001b[0m\u001b[0m\n\u001b[1;32m      7\u001b[0m     '''\n",
            "\u001b[0;32m<ipython-input-110-8b3eace4d1b0>\u001b[0m in \u001b[0;36mShorQPU_WithModulo\u001b[0;34m(N, coprime, simulate, vis, opt_for_vis)\u001b[0m\n\u001b[1;32m     61\u001b[0m     \u001b[0;32mif\u001b[0m \u001b[0mvis\u001b[0m\u001b[0;34m:\u001b[0m \u001b[0mprint\u001b[0m\u001b[0;34m(\u001b[0m\u001b[0mqc\u001b[0m\u001b[0;34m)\u001b[0m\u001b[0;34m\u001b[0m\u001b[0;34m\u001b[0m\u001b[0m\n\u001b[1;32m     62\u001b[0m \u001b[0;34m\u001b[0m\u001b[0m\n\u001b[0;32m---> 63\u001b[0;31m     \u001b[0mread_result\u001b[0m \u001b[0;34m=\u001b[0m \u001b[0mread_unsigned\u001b[0m\u001b[0;34m(\u001b[0m\u001b[0mqc\u001b[0m\u001b[0;34m,\u001b[0m \u001b[0mprecision\u001b[0m\u001b[0;34m,\u001b[0m \u001b[0mclassical\u001b[0m\u001b[0;34m,\u001b[0m \u001b[0msimulate\u001b[0m\u001b[0;34m)\u001b[0m\u001b[0;34m\u001b[0m\u001b[0;34m\u001b[0m\u001b[0m\n\u001b[0m\u001b[1;32m     64\u001b[0m     \u001b[0mprint\u001b[0m\u001b[0;34m(\u001b[0m\u001b[0;34m'QPU read result: '\u001b[0m\u001b[0;34m,\u001b[0m \u001b[0mread_result\u001b[0m\u001b[0;34m)\u001b[0m\u001b[0;34m\u001b[0m\u001b[0;34m\u001b[0m\u001b[0m\n\u001b[1;32m     65\u001b[0m     \u001b[0mrepeat_period_candidates\u001b[0m \u001b[0;34m=\u001b[0m \u001b[0mestimate_num_spikes\u001b[0m\u001b[0;34m(\u001b[0m\u001b[0mread_result\u001b[0m\u001b[0;34m,\u001b[0m \u001b[0;36m1\u001b[0m \u001b[0;34m<<\u001b[0m \u001b[0mprecision_qubits\u001b[0m\u001b[0;34m)\u001b[0m\u001b[0;34m\u001b[0m\u001b[0;34m\u001b[0m\u001b[0m\n",
            "\u001b[0;32m<ipython-input-139-6487b75bfd58>\u001b[0m in \u001b[0;36mread_unsigned\u001b[0;34m(qc, qreg, creg, simulate)\u001b[0m\n\u001b[1;32m     16\u001b[0m         \u001b[0mprint\u001b[0m\u001b[0;34m(\u001b[0m\u001b[0mbackend\u001b[0m\u001b[0;34m.\u001b[0m\u001b[0mname\u001b[0m\u001b[0;34m)\u001b[0m\u001b[0;34m\u001b[0m\u001b[0;34m\u001b[0m\u001b[0m\n\u001b[1;32m     17\u001b[0m         \u001b[0msampler\u001b[0m \u001b[0;34m=\u001b[0m \u001b[0mSampler\u001b[0m\u001b[0;34m(\u001b[0m\u001b[0mbackend\u001b[0m\u001b[0;34m)\u001b[0m\u001b[0;34m\u001b[0m\u001b[0;34m\u001b[0m\u001b[0m\n\u001b[0;32m---> 18\u001b[0;31m         \u001b[0mjob\u001b[0m \u001b[0;34m=\u001b[0m \u001b[0msampler\u001b[0m\u001b[0;34m.\u001b[0m\u001b[0mrun\u001b[0m\u001b[0;34m(\u001b[0m\u001b[0;34m[\u001b[0m\u001b[0mtranspile\u001b[0m\u001b[0;34m(\u001b[0m\u001b[0mqc\u001b[0m\u001b[0;34m,\u001b[0m \u001b[0mbackend\u001b[0m\u001b[0;34m)\u001b[0m\u001b[0;34m]\u001b[0m\u001b[0;34m,\u001b[0m \u001b[0mshots\u001b[0m\u001b[0;34m=\u001b[0m\u001b[0;36m1\u001b[0m\u001b[0;34m)\u001b[0m\u001b[0;34m\u001b[0m\u001b[0;34m\u001b[0m\u001b[0m\n\u001b[0m\u001b[1;32m     19\u001b[0m \u001b[0;34m\u001b[0m\u001b[0m\n\u001b[1;32m     20\u001b[0m     \u001b[0mresult\u001b[0m \u001b[0;34m=\u001b[0m \u001b[0mjob\u001b[0m\u001b[0;34m.\u001b[0m\u001b[0mresult\u001b[0m\u001b[0;34m(\u001b[0m\u001b[0;34m)\u001b[0m\u001b[0;34m\u001b[0m\u001b[0;34m\u001b[0m\u001b[0m\n",
            "\u001b[0;32m/usr/local/lib/python3.10/dist-packages/qiskit/compiler/transpiler.py\u001b[0m in \u001b[0;36mtranspile\u001b[0;34m(circuits, backend, basis_gates, inst_map, coupling_map, backend_properties, initial_layout, layout_method, routing_method, translation_method, scheduling_method, instruction_durations, dt, approximation_degree, timing_constraints, seed_transpiler, optimization_level, callback, output_name, unitary_synthesis_method, unitary_synthesis_plugin_config, target, hls_config, init_method, optimization_method, ignore_backend_supplied_default_methods, num_processes)\u001b[0m\n\u001b[1;32m    364\u001b[0m     \u001b[0;31m# but we don't populate the passmanager config with loose constraints unless it's one of\u001b[0m\u001b[0;34m\u001b[0m\u001b[0;34m\u001b[0m\u001b[0m\n\u001b[1;32m    365\u001b[0m     \u001b[0;31m# the known edge cases to control the execution path.\u001b[0m\u001b[0;34m\u001b[0m\u001b[0;34m\u001b[0m\u001b[0m\n\u001b[0;32m--> 366\u001b[0;31m     pm = generate_preset_pass_manager(\n\u001b[0m\u001b[1;32m    367\u001b[0m         \u001b[0moptimization_level\u001b[0m\u001b[0;34m,\u001b[0m\u001b[0;34m\u001b[0m\u001b[0;34m\u001b[0m\u001b[0m\n\u001b[1;32m    368\u001b[0m         \u001b[0mtarget\u001b[0m\u001b[0;34m=\u001b[0m\u001b[0mtarget\u001b[0m\u001b[0;34m,\u001b[0m\u001b[0;34m\u001b[0m\u001b[0;34m\u001b[0m\u001b[0m\n",
            "\u001b[0;32m/usr/local/lib/python3.10/dist-packages/qiskit/transpiler/preset_passmanagers/generate_preset_pass_manager.py\u001b[0m in \u001b[0;36mgenerate_preset_pass_manager\u001b[0;34m(optimization_level, backend, target, basis_gates, inst_map, coupling_map, instruction_durations, backend_properties, timing_constraints, initial_layout, layout_method, routing_method, translation_method, scheduling_method, approximation_degree, seed_transpiler, unitary_synthesis_method, unitary_synthesis_plugin_config, hls_config, init_method, optimization_method, dt, _skip_target)\u001b[0m\n\u001b[1;32m    376\u001b[0m         \u001b[0mpm\u001b[0m \u001b[0;34m=\u001b[0m \u001b[0mlevel_0_pass_manager\u001b[0m\u001b[0;34m(\u001b[0m\u001b[0mpm_config\u001b[0m\u001b[0;34m)\u001b[0m\u001b[0;34m\u001b[0m\u001b[0;34m\u001b[0m\u001b[0m\n\u001b[1;32m    377\u001b[0m     \u001b[0;32melif\u001b[0m \u001b[0moptimization_level\u001b[0m \u001b[0;34m==\u001b[0m \u001b[0;36m1\u001b[0m\u001b[0;34m:\u001b[0m\u001b[0;34m\u001b[0m\u001b[0;34m\u001b[0m\u001b[0m\n\u001b[0;32m--> 378\u001b[0;31m         \u001b[0mpm\u001b[0m \u001b[0;34m=\u001b[0m \u001b[0mlevel_1_pass_manager\u001b[0m\u001b[0;34m(\u001b[0m\u001b[0mpm_config\u001b[0m\u001b[0;34m)\u001b[0m\u001b[0;34m\u001b[0m\u001b[0;34m\u001b[0m\u001b[0m\n\u001b[0m\u001b[1;32m    379\u001b[0m     \u001b[0;32melif\u001b[0m \u001b[0moptimization_level\u001b[0m \u001b[0;34m==\u001b[0m \u001b[0;36m2\u001b[0m\u001b[0;34m:\u001b[0m\u001b[0;34m\u001b[0m\u001b[0;34m\u001b[0m\u001b[0m\n\u001b[1;32m    380\u001b[0m         \u001b[0mpm\u001b[0m \u001b[0;34m=\u001b[0m \u001b[0mlevel_2_pass_manager\u001b[0m\u001b[0;34m(\u001b[0m\u001b[0mpm_config\u001b[0m\u001b[0;34m)\u001b[0m\u001b[0;34m\u001b[0m\u001b[0;34m\u001b[0m\u001b[0m\n",
            "\u001b[0;32m/usr/local/lib/python3.10/dist-packages/qiskit/transpiler/preset_passmanagers/level1.py\u001b[0m in \u001b[0;36mlevel_1_pass_manager\u001b[0;34m(pass_manager_config)\u001b[0m\n\u001b[1;32m     75\u001b[0m         \u001b[0mrouting\u001b[0m \u001b[0;34m=\u001b[0m \u001b[0;32mNone\u001b[0m\u001b[0;34m\u001b[0m\u001b[0;34m\u001b[0m\u001b[0m\n\u001b[1;32m     76\u001b[0m \u001b[0;34m\u001b[0m\u001b[0m\n\u001b[0;32m---> 77\u001b[0;31m     translation = plugin_manager.get_passmanager_stage(\n\u001b[0m\u001b[1;32m     78\u001b[0m         \u001b[0;34m\"translation\"\u001b[0m\u001b[0;34m,\u001b[0m \u001b[0mtranslation_method\u001b[0m\u001b[0;34m,\u001b[0m \u001b[0mpass_manager_config\u001b[0m\u001b[0;34m,\u001b[0m \u001b[0moptimization_level\u001b[0m\u001b[0;34m=\u001b[0m\u001b[0;36m1\u001b[0m\u001b[0;34m\u001b[0m\u001b[0;34m\u001b[0m\u001b[0m\n\u001b[1;32m     79\u001b[0m     )\n",
            "\u001b[0;32m/usr/local/lib/python3.10/dist-packages/qiskit/transpiler/preset_passmanagers/plugin.py\u001b[0m in \u001b[0;36mget_passmanager_stage\u001b[0;34m(self, stage_name, plugin_name, pm_config, optimization_level)\u001b[0m\n\u001b[1;32m    253\u001b[0m             )\n\u001b[1;32m    254\u001b[0m         \u001b[0;32melif\u001b[0m \u001b[0mstage_name\u001b[0m \u001b[0;34m==\u001b[0m \u001b[0;34m\"translation\"\u001b[0m\u001b[0;34m:\u001b[0m\u001b[0;34m\u001b[0m\u001b[0;34m\u001b[0m\u001b[0m\n\u001b[0;32m--> 255\u001b[0;31m             return self._build_pm(\n\u001b[0m\u001b[1;32m    256\u001b[0m                 \u001b[0mself\u001b[0m\u001b[0;34m.\u001b[0m\u001b[0mtranslation_plugins\u001b[0m\u001b[0;34m,\u001b[0m \u001b[0mstage_name\u001b[0m\u001b[0;34m,\u001b[0m \u001b[0mplugin_name\u001b[0m\u001b[0;34m,\u001b[0m \u001b[0mpm_config\u001b[0m\u001b[0;34m,\u001b[0m \u001b[0moptimization_level\u001b[0m\u001b[0;34m\u001b[0m\u001b[0;34m\u001b[0m\u001b[0m\n\u001b[1;32m    257\u001b[0m             )\n",
            "\u001b[0;32m/usr/local/lib/python3.10/dist-packages/qiskit/transpiler/preset_passmanagers/plugin.py\u001b[0m in \u001b[0;36m_build_pm\u001b[0;34m(self, stage_obj, stage_name, plugin_name, pm_config, optimization_level)\u001b[0m\n\u001b[1;32m    276\u001b[0m     ):\n\u001b[1;32m    277\u001b[0m         \u001b[0;32mif\u001b[0m \u001b[0mplugin_name\u001b[0m \u001b[0;32mnot\u001b[0m \u001b[0;32min\u001b[0m \u001b[0mstage_obj\u001b[0m\u001b[0;34m:\u001b[0m\u001b[0;34m\u001b[0m\u001b[0;34m\u001b[0m\u001b[0m\n\u001b[0;32m--> 278\u001b[0;31m             \u001b[0;32mraise\u001b[0m \u001b[0mTranspilerError\u001b[0m\u001b[0;34m(\u001b[0m\u001b[0;34mf\"Invalid plugin name {plugin_name} for stage {stage_name}\"\u001b[0m\u001b[0;34m)\u001b[0m\u001b[0;34m\u001b[0m\u001b[0;34m\u001b[0m\u001b[0m\n\u001b[0m\u001b[1;32m    279\u001b[0m         \u001b[0mplugin_obj\u001b[0m \u001b[0;34m=\u001b[0m \u001b[0mstage_obj\u001b[0m\u001b[0;34m[\u001b[0m\u001b[0mplugin_name\u001b[0m\u001b[0;34m]\u001b[0m\u001b[0;34m\u001b[0m\u001b[0;34m\u001b[0m\u001b[0m\n\u001b[1;32m    280\u001b[0m         \u001b[0;32mreturn\u001b[0m \u001b[0mplugin_obj\u001b[0m\u001b[0;34m.\u001b[0m\u001b[0mobj\u001b[0m\u001b[0;34m.\u001b[0m\u001b[0mpass_manager\u001b[0m\u001b[0;34m(\u001b[0m\u001b[0mpm_config\u001b[0m\u001b[0;34m,\u001b[0m \u001b[0moptimization_level\u001b[0m\u001b[0;34m)\u001b[0m\u001b[0;34m\u001b[0m\u001b[0;34m\u001b[0m\u001b[0m\n",
            "\u001b[0;31mTranspilerError\u001b[0m: 'Invalid plugin name ibm_dynamic_circuits for stage translation'"
          ]
        }
      ]
    }
  ]
}