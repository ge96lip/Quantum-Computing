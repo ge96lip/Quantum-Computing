{
  "nbformat": 4,
  "nbformat_minor": 0,
  "metadata": {
    "colab": {
      "provenance": [],
      "authorship_tag": "ABX9TyMqfXCYEfNEYQ7poJ8+ErWo",
      "include_colab_link": true
    },
    "kernelspec": {
      "name": "python3",
      "display_name": "Python 3"
    },
    "language_info": {
      "name": "python"
    }
  },
  "cells": [
    {
      "cell_type": "markdown",
      "metadata": {
        "id": "view-in-github",
        "colab_type": "text"
      },
      "source": [
        "<a href=\"https://colab.research.google.com/github/ge96lip/Quantum-Computing/blob/main/QC_Shor's_Factorization_Algorithm.ipynb\" target=\"_parent\"><img src=\"https://colab.research.google.com/assets/colab-badge.svg\" alt=\"Open In Colab\"/></a>"
      ]
    },
    {
      "cell_type": "markdown",
      "source": [
        "# Prerequisites"
      ],
      "metadata": {
        "id": "xmowIbjFBQqB"
      }
    },
    {
      "cell_type": "code",
      "execution_count": 253,
      "metadata": {
        "colab": {
          "base_uri": "https://localhost:8080/"
        },
        "collapsed": true,
        "id": "cWx09ZZAAs3A",
        "outputId": "29dad639-bb15-445a-a119-92d726d42440"
      },
      "outputs": [
        {
          "output_type": "stream",
          "name": "stdout",
          "text": [
            "Requirement already satisfied: qiskit in /usr/local/lib/python3.10/dist-packages (1.2.4)\n",
            "Requirement already satisfied: rustworkx>=0.15.0 in /usr/local/lib/python3.10/dist-packages (from qiskit) (0.15.1)\n",
            "Requirement already satisfied: numpy<3,>=1.17 in /usr/local/lib/python3.10/dist-packages (from qiskit) (1.26.4)\n",
            "Requirement already satisfied: scipy>=1.5 in /usr/local/lib/python3.10/dist-packages (from qiskit) (1.13.1)\n",
            "Requirement already satisfied: sympy>=1.3 in /usr/local/lib/python3.10/dist-packages (from qiskit) (1.13.1)\n",
            "Requirement already satisfied: dill>=0.3 in /usr/local/lib/python3.10/dist-packages (from qiskit) (0.3.9)\n",
            "Requirement already satisfied: python-dateutil>=2.8.0 in /usr/local/lib/python3.10/dist-packages (from qiskit) (2.8.2)\n",
            "Requirement already satisfied: stevedore>=3.0.0 in /usr/local/lib/python3.10/dist-packages (from qiskit) (5.3.0)\n",
            "Requirement already satisfied: typing-extensions in /usr/local/lib/python3.10/dist-packages (from qiskit) (4.12.2)\n",
            "Requirement already satisfied: symengine<0.14,>=0.11 in /usr/local/lib/python3.10/dist-packages (from qiskit) (0.13.0)\n",
            "Requirement already satisfied: six>=1.5 in /usr/local/lib/python3.10/dist-packages (from python-dateutil>=2.8.0->qiskit) (1.16.0)\n",
            "Requirement already satisfied: pbr>=2.0.0 in /usr/local/lib/python3.10/dist-packages (from stevedore>=3.0.0->qiskit) (6.1.0)\n",
            "Requirement already satisfied: mpmath<1.4,>=1.1.0 in /usr/local/lib/python3.10/dist-packages (from sympy>=1.3->qiskit) (1.3.0)\n",
            "Requirement already satisfied: pylatexenc in /usr/local/lib/python3.10/dist-packages (2.10)\n",
            "Requirement already satisfied: qiskit_aer in /usr/local/lib/python3.10/dist-packages (0.15.1)\n",
            "Requirement already satisfied: qiskit>=1.1.0 in /usr/local/lib/python3.10/dist-packages (from qiskit_aer) (1.2.4)\n",
            "Requirement already satisfied: numpy>=1.16.3 in /usr/local/lib/python3.10/dist-packages (from qiskit_aer) (1.26.4)\n",
            "Requirement already satisfied: scipy>=1.0 in /usr/local/lib/python3.10/dist-packages (from qiskit_aer) (1.13.1)\n",
            "Requirement already satisfied: psutil>=5 in /usr/local/lib/python3.10/dist-packages (from qiskit_aer) (5.9.5)\n",
            "Requirement already satisfied: rustworkx>=0.15.0 in /usr/local/lib/python3.10/dist-packages (from qiskit>=1.1.0->qiskit_aer) (0.15.1)\n",
            "Requirement already satisfied: sympy>=1.3 in /usr/local/lib/python3.10/dist-packages (from qiskit>=1.1.0->qiskit_aer) (1.13.1)\n",
            "Requirement already satisfied: dill>=0.3 in /usr/local/lib/python3.10/dist-packages (from qiskit>=1.1.0->qiskit_aer) (0.3.9)\n",
            "Requirement already satisfied: python-dateutil>=2.8.0 in /usr/local/lib/python3.10/dist-packages (from qiskit>=1.1.0->qiskit_aer) (2.8.2)\n",
            "Requirement already satisfied: stevedore>=3.0.0 in /usr/local/lib/python3.10/dist-packages (from qiskit>=1.1.0->qiskit_aer) (5.3.0)\n",
            "Requirement already satisfied: typing-extensions in /usr/local/lib/python3.10/dist-packages (from qiskit>=1.1.0->qiskit_aer) (4.12.2)\n",
            "Requirement already satisfied: symengine<0.14,>=0.11 in /usr/local/lib/python3.10/dist-packages (from qiskit>=1.1.0->qiskit_aer) (0.13.0)\n",
            "Requirement already satisfied: six>=1.5 in /usr/local/lib/python3.10/dist-packages (from python-dateutil>=2.8.0->qiskit>=1.1.0->qiskit_aer) (1.16.0)\n",
            "Requirement already satisfied: pbr>=2.0.0 in /usr/local/lib/python3.10/dist-packages (from stevedore>=3.0.0->qiskit>=1.1.0->qiskit_aer) (6.1.0)\n",
            "Requirement already satisfied: mpmath<1.4,>=1.1.0 in /usr/local/lib/python3.10/dist-packages (from sympy>=1.3->qiskit>=1.1.0->qiskit_aer) (1.3.0)\n"
          ]
        }
      ],
      "source": [
        "!pip install qiskit\n",
        "!pip install pylatexenc\n",
        "!pip install qiskit_aer"
      ]
    },
    {
      "cell_type": "code",
      "source": [
        "from qiskit import QuantumCircuit, QuantumRegister, ClassicalRegister\n",
        "from qiskit.circuit import Qubit\n",
        "from qiskit.circuit.library import XGate, CSwapGate, QFT\n",
        "from qiskit import transpile\n",
        "from qiskit_aer import AerSimulator\n",
        "from qiskit.visualization import plot_histogram\n",
        "\n",
        "import matplotlib.pyplot as plt\n",
        "import math\n",
        "%matplotlib inline"
      ],
      "metadata": {
        "id": "3o_owNOwTLfw"
      },
      "execution_count": 254,
      "outputs": []
    },
    {
      "cell_type": "markdown",
      "source": [
        "# Shor's Factorization Algorithm"
      ],
      "metadata": {
        "id": "ooSH31CFBYPq"
      }
    },
    {
      "cell_type": "code",
      "source": [
        "def ShorLogic(N, repeat_period_candidates, coprime):\n",
        "    print('Repeat period candidates: '+str(repeat_period_candidates)+'\\n')\n",
        "    factor_candidates = []\n",
        "    for i in range(len(repeat_period_candidates)):\n",
        "        repeat_period = repeat_period_candidates[i];\n",
        "        # Given the repeat period, find the actual factors\n",
        "        ar2 = pow(coprime, repeat_period / 2.0)\n",
        "        factor1 = int(gcd(N, ar2 - 1))\n",
        "        factor2 = int(gcd(N, ar2 + 1))\n",
        "        factor_candidates.append([factor1, factor2])\n",
        "    return factor_candidates"
      ],
      "metadata": {
        "id": "cTQDmaU4Ibuj"
      },
      "execution_count": 257,
      "outputs": []
    },
    {
      "cell_type": "code",
      "source": [
        "def gcd(a, b):\n",
        "    # return the greatest common divisor of a,b\n",
        "    while b:\n",
        "        m = a % b\n",
        "        a = b\n",
        "        b = m\n",
        "    return a"
      ],
      "metadata": {
        "id": "PLxPMDgCHiXj"
      },
      "execution_count": 258,
      "outputs": []
    },
    {
      "cell_type": "code",
      "source": [
        "def check_result(N, factor_candidates):\n",
        "    for i in range(len(factor_candidates)):\n",
        "        factors = factor_candidates[i]\n",
        "        if factors[0] * factors[1] == N:\n",
        "            if factors[0] != 1 and factors[1] != 1:\n",
        "                # Success!\n",
        "                return factors\n",
        "    # Failure\n",
        "    return None"
      ],
      "metadata": {
        "id": "njs9DkmOHwMl"
      },
      "execution_count": 259,
      "outputs": []
    },
    {
      "cell_type": "code",
      "source": [
        "def Shor(N, precision_bits, coprime, classical=False, vis=False, opt_for_vis=False):\n",
        "    # Quantum part\n",
        "    if classical:\n",
        "        # Classical alternative for comparision\n",
        "        repeat_period = ShorNoQPU(N, precision_bits, coprime)\n",
        "    else:\n",
        "        # Quantum part\n",
        "        repeat_period = ShorQPU(N, precision_bits, coprime, vis, opt_for_vis)\n",
        "\n",
        "    # Classical part\n",
        "    factors = ShorLogic(N, repeat_period, coprime)\n",
        "\n",
        "    return check_result(N, factors)"
      ],
      "metadata": {
        "id": "KZrbOascPfbu"
      },
      "execution_count": 260,
      "outputs": []
    },
    {
      "cell_type": "code",
      "source": [
        "def ShorNoQPU(N, precision_bits, coprime):\n",
        "    # Classical replacement for the quantum part of Shor\n",
        "    repeat_period_candidates = []\n",
        "    work = 1\n",
        "    max_loops = pow(2, precision_bits)\n",
        "    for iter in range(max_loops):\n",
        "        work = (work * coprime) % N\n",
        "        if work == 1: # found a repeat period\n",
        "            repeat_period_candidates.append(iter + 1)\n",
        "    return repeat_period_candidates"
      ],
      "metadata": {
        "id": "HTkiSSIFGhTm"
      },
      "execution_count": 261,
      "outputs": []
    },
    {
      "cell_type": "code",
      "source": [
        "def ShorQPU(N, precision_bits, coprime, vis=False, opt_for_vis=False):\n",
        "    # Quantum part of Shor's algorithm\n",
        "    # For this implementation, the coprime must be 2.\n",
        "    coprime = 2;\n",
        "    return ShorQPU_WithModulo(N, precision_bits, coprime, vis, opt_for_vis)\n",
        "\n",
        "    '''\n",
        "    # For some numbers (like 15 and 21) the \"mod\" in a^xmod(N)\n",
        "    # is not needed, because a^x wraps neatly around. This makes the\n",
        "    # code simpler, and much easier to follow.\n",
        "    if N == 15 or N == 21:\n",
        "        return ShorQPU_WithoutModulo(N, precision_bits, coprime, opt_for_vis)\n",
        "    else:\n",
        "        return ShorQPU_WithModulo(N, precision_bits, coprime, vis, opt_for_vis)\n",
        "    '''"
      ],
      "metadata": {
        "id": "6PHtST12P5Yj"
      },
      "execution_count": 262,
      "outputs": []
    },
    {
      "cell_type": "code",
      "source": [
        "def RollLeft(qc, work, num_shifts, control):\n",
        "    # Ensure we're not out of range for work qubits\n",
        "    for j in range(work.size - num_shifts-1,-1,-1):\n",
        "        # Apply CSWAP between work[j] <-> work[j + num_shifts]\n",
        "        qc.append(CSwapGate(), [control, work[j], work[j + num_shifts]])\n",
        "    return qc"
      ],
      "metadata": {
        "id": "rOuXDLSvEahg"
      },
      "execution_count": 263,
      "outputs": []
    },
    {
      "cell_type": "code",
      "source": [
        "# In case our QPU read returns a \"signed\" negative value,\n",
        "# convert it to unsigned.\n",
        "def read_unsigned(qc, qreg, creg):\n",
        "    qc.measure(qreg, creg)\n",
        "\n",
        "    # Simulate the circuit using the Aer simulator\n",
        "    simulator = AerSimulator()\n",
        "    job = simulator.run(transpile(qc, simulator), shots=1)\n",
        "    result = job.result()\n",
        "    counts = result.get_counts(qc)\n",
        "\n",
        "    # Visualize the results\n",
        "    #print(\"Measurement results: \" + str(counts) + \"\\n\")\n",
        "    #fig = plot_histogram(counts)\n",
        "    #fig.show()\n",
        "\n",
        "    # Extract value of most likely measurement outcome\n",
        "    value = int(max(counts, key=counts.get),2)\n",
        "\n",
        "    return value & ((1 << qreg.size) - 1)"
      ],
      "metadata": {
        "id": "YQCVR2SPQLDF"
      },
      "execution_count": 277,
      "outputs": []
    },
    {
      "cell_type": "code",
      "source": [
        "def estimate_num_spikes(spike, spike_range):\n",
        "    if spike < spike_range / 2:\n",
        "        spike = spike_range - spike\n",
        "    best_error = 1.0\n",
        "    e0 = 0\n",
        "    e1 = 0\n",
        "    e2 = 0\n",
        "    actual = spike / spike_range\n",
        "    candidates = []\n",
        "    for denominator in range(1,spike):\n",
        "        numerator = round(denominator * actual)\n",
        "        estimated = numerator / denominator\n",
        "        error = abs(estimated - actual)\n",
        "        e0 = e1\n",
        "        e1 = e2\n",
        "        e2 = error\n",
        "        # Look for a local minimum which beats our current best error\n",
        "        if e1 <= best_error and e1 < e0 and e1 < e2:\n",
        "            repeat_period = denominator - 1\n",
        "            candidates.append(repeat_period)\n",
        "            best_error = e1\n",
        "    return candidates"
      ],
      "metadata": {
        "id": "JDLt9wXXBwQf"
      },
      "execution_count": 265,
      "outputs": []
    },
    {
      "cell_type": "code",
      "source": [
        "# This is the short/simple version of ShorQPU() where we can perform a^x and\n",
        "# don't need to be concerned with performing a quantum int modulus.\n",
        "\n",
        "def ShorQPU_WithoutModulo(N, precision_bits, coprime, vis=False, opt_for_vis=False):\n",
        "    N_bits = 1\n",
        "    while (1 << N_bits) < N:\n",
        "        N_bits +=1\n",
        "    if N != 15: # For this implementation, numbers other than 15 need an extra bit\n",
        "        N_bits +=1\n",
        "\n",
        "    # Set up the QPU and the working registers\n",
        "    work = QuantumRegister(N_bits, name=\"work\")\n",
        "    precision = QuantumRegister(precision_bits, name=\"precision\")\n",
        "    classical = ClassicalRegister(precision_bits, name=\"precision_measure\")\n",
        "    qc = QuantumCircuit(work, precision, classical)\n",
        "\n",
        "    # Initialization: set the working register to state |1>\n",
        "    # and the precision register to state |0>\n",
        "    # put the precision register into superposition using Hadamard gate\n",
        "    qc.initialize(1, work)\n",
        "    qc.initialize(0, precision)\n",
        "    qc.h(precision)\n",
        "\n",
        "    if opt_for_vis: qc.barrier()\n",
        "\n",
        "    # Perform 2^x for all possible values of x in superposition\n",
        "    for iter in range(precision_bits):\n",
        "        num_shifts = 1 << iter\n",
        "        if num_shifts < N_bits:\n",
        "            qc = RollLeft(qc, work, num_shifts, precision[iter])\n",
        "            if opt_for_vis: qc.barrier()\n",
        "\n",
        "    # Quantum Fourier Transform on precision register\n",
        "    qc.append(QFT(precision_bits), precision)\n",
        "\n",
        "    if opt_for_vis: qc.barrier()\n",
        "\n",
        "    if vis: print(qc)\n",
        "\n",
        "    read_result = read_unsigned(qc, precision, classical)\n",
        "    print('QPU read result: '+str(read_result)+'\\n')\n",
        "    repeat_period_candidates = estimate_num_spikes(read_result, 1 << precision_bits)\n",
        "\n",
        "    return repeat_period_candidates"
      ],
      "metadata": {
        "id": "thwvwaPfQUwv"
      },
      "execution_count": 266,
      "outputs": []
    },
    {
      "cell_type": "code",
      "source": [
        "def add_int(qc, qreg, N, conditions):\n",
        "    reverse_to_subtract = False\n",
        "    if N == 0:\n",
        "        return\n",
        "    elif N < 0:\n",
        "        N = -N\n",
        "        reverse_to_subtract = True\n",
        "    ops = []\n",
        "    add_val = int(N)\n",
        "    condition_mask = (1 << len(qreg)) - 1\n",
        "\n",
        "    add_val_mask = 1\n",
        "    while add_val_mask <= add_val:\n",
        "        cmask = condition_mask & ~(add_val_mask - 1)\n",
        "        if add_val_mask & add_val:\n",
        "            add_shift_mask = 1 << (len(qreg) - 1)\n",
        "            while add_shift_mask >= add_val_mask:\n",
        "                cmask &= ~add_shift_mask\n",
        "                ops.append((add_shift_mask, cmask))\n",
        "                add_shift_mask >>= 1\n",
        "        condition_mask &= ~add_val_mask\n",
        "        add_val_mask <<= 1\n",
        "    if reverse_to_subtract:\n",
        "        ops.reverse()\n",
        "    for inst in ops:\n",
        "        op_qubits = []\n",
        "        for i in range(len(qreg)):\n",
        "            if inst[1] & (1 << i):\n",
        "                op_qubits.append(qreg[i])\n",
        "        for i in range(len(qreg)):\n",
        "            if inst[0] & (1 << i):\n",
        "                op_qubits.append(qreg[i])\n",
        "        qc = multi_cx(qc, op_qubits, conditions)\n",
        "\n",
        "    return qc\n",
        "\n",
        "\n",
        "def multi_cx(qc, qubits, conditions=None, do_cz=False):\n",
        "    ## This will perform a CCCCCX with as many conditions as we want\n",
        "    ## The last qubit in the list is the target.\n",
        "\n",
        "    target = qubits[-1]\n",
        "    conds = qubits[:-1]\n",
        "    ops = []\n",
        "\n",
        "    controll_qubits = []\n",
        "\n",
        "    for i in range(len(conds)):\n",
        "        controll_qubits.append(conds[i])\n",
        "    if conditions != None:\n",
        "        for i in range(len(conditions)):\n",
        "            controll_qubits.append(conditions[i])\n",
        "\n",
        "    if len(controll_qubits) == 0:\n",
        "        qc.x(target)\n",
        "    else:\n",
        "        qc.mcx(controll_qubits, target)\n",
        "\n",
        "    return qc"
      ],
      "metadata": {
        "id": "wtUCkc-TqYjk"
      },
      "execution_count": 267,
      "outputs": []
    },
    {
      "cell_type": "code",
      "source": [
        "# This is the complicated version of ShorQPU() where we DO\n",
        "# need to be concerned with performing a quantum int modulus.\n",
        "# That's a complicated operation, and it also requires us to\n",
        "# do the shifts one at a time.\n",
        "def ShorQPU_WithModulo(N, precision_bits, coprime, vis=False, opt_for_vis=False):\n",
        "    scratch = None\n",
        "    max_value = 1\n",
        "    mod_engaged = False\n",
        "\n",
        "    N_bits = 1\n",
        "    scratch_bits = 0\n",
        "    while (1 << N_bits) < N:\n",
        "        N_bits +=1\n",
        "    if N != 15: # For this implementation, numbers other than 15 need an extra bit\n",
        "        N_bits +=1\n",
        "    scratch_bits = 1\n",
        "\n",
        "    # Set up the QPU and the working registers\n",
        "    work = QuantumRegister(N_bits, name=\"work\")\n",
        "    precision = QuantumRegister(precision_bits, name=\"precision\")\n",
        "    scratch = QuantumRegister(1, name=\"scratch\")\n",
        "    classical = ClassicalRegister(precision_bits, name=\"precision_measure\")\n",
        "    qc = QuantumCircuit(work, precision, scratch, classical)\n",
        "\n",
        "    # Initialization: set the working register to state |1>\n",
        "    # and the precision register to state |0>\n",
        "    # put the precision register into superposition using Hadamard gate\n",
        "    qc.initialize(1, work)\n",
        "    qc.initialize(0, precision)\n",
        "    qc.initialize(0, scratch)\n",
        "    qc.h(precision)\n",
        "\n",
        "    if opt_for_vis: qc.barrier()\n",
        "\n",
        "    N_sign_bit = work[N_bits - 1]\n",
        "\n",
        "    for iter in range(precision_bits):\n",
        "        condition_qubit = precision[iter]  # Get the condition qubit\n",
        "\n",
        "        shifts = 1 << iter\n",
        "        for shift in range(shifts):\n",
        "            qc = RollLeft(qc, work, 1, precision[iter]) # multiply by the coprime 2\n",
        "            if opt_for_vis: qc.barrier()\n",
        "            max_value <<= 1\n",
        "\n",
        "            if max_value >= N:\n",
        "                mod_engaged = True\n",
        "\n",
        "            if mod_engaged:\n",
        "                qc = add_int(qc, work, -N, [condition_qubit]) # Substract N from working register, causing this to go negative if work < N\n",
        "                if opt_for_vis: qc.barrier()\n",
        "                qc.ccx(N_sign_bit, condition_qubit, scratch) # Skim off the sign bit\n",
        "                if opt_for_vis: qc.barrier()\n",
        "                qc = add_int(qc, work, N, [scratch[0], condition_qubit]) # If we went negative, undo the subtraction by adding N\n",
        "                if opt_for_vis: qc.barrier()\n",
        "                qc.x(work[0])\n",
        "                qc.ccx(work[0], condition_qubit, scratch) # If it's odd, then we wrapped, so clear the wrap bit\n",
        "                qc.x(work[0])\n",
        "                if opt_for_vis: qc.barrier()\n",
        "\n",
        "    # Quantum Fourier Transform on precision register\n",
        "    qc.append(QFT(precision_bits), precision)\n",
        "\n",
        "    if vis: print(qc)\n",
        "\n",
        "    read_result = read_unsigned(qc, precision, classical)\n",
        "    print('QPU read result: ', read_result)\n",
        "    repeat_period_candidates = estimate_num_spikes(read_result, 1 << precision_bits)\n",
        "\n",
        "    print('Circuit depth: ', qc.depth())\n",
        "    return repeat_period_candidates"
      ],
      "metadata": {
        "id": "lWToZ4ZCQ711"
      },
      "execution_count": 268,
      "outputs": []
    },
    {
      "cell_type": "markdown",
      "source": [
        "# Execution"
      ],
      "metadata": {
        "id": "Ryfe8smNvbAh"
      }
    },
    {
      "cell_type": "markdown",
      "source": [
        "**Here are some values of N to try:**\n",
        "\n",
        "15, 21, 33, 35, 39, 51, 55, 69, 77, 85, 87, 91, 93, 95, 111, 115, 117,\n",
        "119, 123, 133, 155, 187, 203, 221, 247, 259, 287, 341, 451\n",
        "\n",
        "**Larger numbers require more bits of precision.**\n",
        "\n",
        "N = 15    precision_bits >= 4\n",
        "\n",
        "N = 21    precision_bits >= 5\n",
        "\n",
        "N = 35    precision_bits >= 6\n",
        "\n",
        "N = 123   precision_bits >= 7\n",
        "\n",
        "N = 341   precision_bits >= 8  time: about 6 seconds\n",
        "\n",
        "N = 451   precision_bits >= 9  time: about 23 seconds"
      ],
      "metadata": {
        "id": "GpVdogd_OtJI"
      }
    },
    {
      "cell_type": "code",
      "source": [
        "def shor_sample(classical=False, vis=False, opt_for_vis=False):\n",
        "    N = 35             # The number we're factoring\n",
        "    precision_bits = 6\n",
        "    coprime = 2        # Needs to be 2 in this implementation\n",
        "\n",
        "    result = Shor(N, precision_bits, coprime, classical, vis, opt_for_vis)\n",
        "\n",
        "    if result != None:\n",
        "        print('Success! '+str(N)+'='+str(result[0])+'*'+str(result[1])+'\\n');\n",
        "    else:\n",
        "        print('Failure: No non-trivial factors were found.\\n')\n",
        "\n",
        "# 'vis=True' shows quantum circuit\n",
        "# 'vis=False' does not show quantum circuit\n",
        "# 'opt_for_vis=True' adds barriers to the circuit to improve readability\n",
        "# 'opt_for_vis=False' removes barriers in the circuit to improve performance\n",
        "\n",
        "shor_sample(classical=False, vis=False, opt_for_vis=False)"
      ],
      "metadata": {
        "id": "SEEbFUbRGmnY",
        "colab": {
          "base_uri": "https://localhost:8080/"
        },
        "outputId": "fcced4fa-2635-41b8-bd68-c274258e6b1c"
      },
      "execution_count": 287,
      "outputs": [
        {
          "output_type": "stream",
          "name": "stdout",
          "text": [
            "QPU read result:  27\n",
            "Circuit depth:  2227\n",
            "Repeat period candidates: [2, 5, 7, 12, 19]\n",
            "\n",
            "Success! 35=7*5\n",
            "\n"
          ]
        }
      ]
    }
  ]
}