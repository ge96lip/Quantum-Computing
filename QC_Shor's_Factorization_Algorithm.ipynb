{
  "nbformat": 4,
  "nbformat_minor": 0,
  "metadata": {
    "colab": {
      "provenance": [],
      "authorship_tag": "ABX9TyNPH/RqOg8IOOxa65Q+dAdE",
      "include_colab_link": true
    },
    "kernelspec": {
      "name": "python3",
      "display_name": "Python 3"
    },
    "language_info": {
      "name": "python"
    }
  },
  "cells": [
    {
      "cell_type": "markdown",
      "metadata": {
        "id": "view-in-github",
        "colab_type": "text"
      },
      "source": [
        "<a href=\"https://colab.research.google.com/github/ge96lip/Quantum-Computing/blob/main/QC_Shor's_Factorization_Algorithm.ipynb\" target=\"_parent\"><img src=\"https://colab.research.google.com/assets/colab-badge.svg\" alt=\"Open In Colab\"/></a>"
      ]
    },
    {
      "cell_type": "markdown",
      "source": [
        "# Prerequisites"
      ],
      "metadata": {
        "id": "xmowIbjFBQqB"
      }
    },
    {
      "cell_type": "code",
      "execution_count": 238,
      "metadata": {
        "colab": {
          "base_uri": "https://localhost:8080/"
        },
        "collapsed": true,
        "id": "cWx09ZZAAs3A",
        "outputId": "73e99211-2987-47bd-9afb-9744d0130652"
      },
      "outputs": [
        {
          "output_type": "stream",
          "name": "stdout",
          "text": [
            "Requirement already satisfied: qiskit in /usr/local/lib/python3.10/dist-packages (1.2.4)\n",
            "Requirement already satisfied: rustworkx>=0.15.0 in /usr/local/lib/python3.10/dist-packages (from qiskit) (0.15.1)\n",
            "Requirement already satisfied: numpy<3,>=1.17 in /usr/local/lib/python3.10/dist-packages (from qiskit) (1.26.4)\n",
            "Requirement already satisfied: scipy>=1.5 in /usr/local/lib/python3.10/dist-packages (from qiskit) (1.13.1)\n",
            "Requirement already satisfied: sympy>=1.3 in /usr/local/lib/python3.10/dist-packages (from qiskit) (1.13.1)\n",
            "Requirement already satisfied: dill>=0.3 in /usr/local/lib/python3.10/dist-packages (from qiskit) (0.3.9)\n",
            "Requirement already satisfied: python-dateutil>=2.8.0 in /usr/local/lib/python3.10/dist-packages (from qiskit) (2.8.2)\n",
            "Requirement already satisfied: stevedore>=3.0.0 in /usr/local/lib/python3.10/dist-packages (from qiskit) (5.3.0)\n",
            "Requirement already satisfied: typing-extensions in /usr/local/lib/python3.10/dist-packages (from qiskit) (4.12.2)\n",
            "Requirement already satisfied: symengine<0.14,>=0.11 in /usr/local/lib/python3.10/dist-packages (from qiskit) (0.13.0)\n",
            "Requirement already satisfied: six>=1.5 in /usr/local/lib/python3.10/dist-packages (from python-dateutil>=2.8.0->qiskit) (1.16.0)\n",
            "Requirement already satisfied: pbr>=2.0.0 in /usr/local/lib/python3.10/dist-packages (from stevedore>=3.0.0->qiskit) (6.1.0)\n",
            "Requirement already satisfied: mpmath<1.4,>=1.1.0 in /usr/local/lib/python3.10/dist-packages (from sympy>=1.3->qiskit) (1.3.0)\n",
            "Requirement already satisfied: pylatexenc in /usr/local/lib/python3.10/dist-packages (2.10)\n",
            "Requirement already satisfied: qiskit_aer in /usr/local/lib/python3.10/dist-packages (0.15.1)\n",
            "Requirement already satisfied: qiskit>=1.1.0 in /usr/local/lib/python3.10/dist-packages (from qiskit_aer) (1.2.4)\n",
            "Requirement already satisfied: numpy>=1.16.3 in /usr/local/lib/python3.10/dist-packages (from qiskit_aer) (1.26.4)\n",
            "Requirement already satisfied: scipy>=1.0 in /usr/local/lib/python3.10/dist-packages (from qiskit_aer) (1.13.1)\n",
            "Requirement already satisfied: psutil>=5 in /usr/local/lib/python3.10/dist-packages (from qiskit_aer) (5.9.5)\n",
            "Requirement already satisfied: rustworkx>=0.15.0 in /usr/local/lib/python3.10/dist-packages (from qiskit>=1.1.0->qiskit_aer) (0.15.1)\n",
            "Requirement already satisfied: sympy>=1.3 in /usr/local/lib/python3.10/dist-packages (from qiskit>=1.1.0->qiskit_aer) (1.13.1)\n",
            "Requirement already satisfied: dill>=0.3 in /usr/local/lib/python3.10/dist-packages (from qiskit>=1.1.0->qiskit_aer) (0.3.9)\n",
            "Requirement already satisfied: python-dateutil>=2.8.0 in /usr/local/lib/python3.10/dist-packages (from qiskit>=1.1.0->qiskit_aer) (2.8.2)\n",
            "Requirement already satisfied: stevedore>=3.0.0 in /usr/local/lib/python3.10/dist-packages (from qiskit>=1.1.0->qiskit_aer) (5.3.0)\n",
            "Requirement already satisfied: typing-extensions in /usr/local/lib/python3.10/dist-packages (from qiskit>=1.1.0->qiskit_aer) (4.12.2)\n",
            "Requirement already satisfied: symengine<0.14,>=0.11 in /usr/local/lib/python3.10/dist-packages (from qiskit>=1.1.0->qiskit_aer) (0.13.0)\n",
            "Requirement already satisfied: six>=1.5 in /usr/local/lib/python3.10/dist-packages (from python-dateutil>=2.8.0->qiskit>=1.1.0->qiskit_aer) (1.16.0)\n",
            "Requirement already satisfied: pbr>=2.0.0 in /usr/local/lib/python3.10/dist-packages (from stevedore>=3.0.0->qiskit>=1.1.0->qiskit_aer) (6.1.0)\n",
            "Requirement already satisfied: mpmath<1.4,>=1.1.0 in /usr/local/lib/python3.10/dist-packages (from sympy>=1.3->qiskit>=1.1.0->qiskit_aer) (1.3.0)\n"
          ]
        }
      ],
      "source": [
        "!pip install qiskit\n",
        "!pip install pylatexenc\n",
        "!pip install qiskit_aer"
      ]
    },
    {
      "cell_type": "code",
      "source": [
        "from qiskit import QuantumCircuit, QuantumRegister, ClassicalRegister\n",
        "from qiskit.circuit.library import XGate, CSwapGate\n",
        "from qiskit import transpile\n",
        "from qiskit_aer import AerSimulator"
      ],
      "metadata": {
        "id": "3o_owNOwTLfw"
      },
      "execution_count": 239,
      "outputs": []
    },
    {
      "cell_type": "markdown",
      "source": [
        "# General Functions"
      ],
      "metadata": {
        "id": "pPNUHSVnzF2-"
      }
    },
    {
      "cell_type": "markdown",
      "source": [
        "**Here are some values of N to try:**\n",
        "\n",
        "15, 21, 35, 39, 51, 55, 69, 77, 85, 87, 91, 93, 95, 111, 115, 117,\n",
        "119, 123, 133, 155, 187, 203, 221, 247, 259, 287, 341, 451\n",
        "\n",
        "**Larger numbers require more bits of precision.**\n",
        "\n",
        "N = 15    precision_bits >= 4\n",
        "\n",
        "N = 21    precision_bits >= 5\n",
        "\n",
        "N = 35    precision_bits >= 6\n",
        "\n",
        "N = 123   precision_bits >= 7\n",
        "\n",
        "N = 341   precision_bits >= 8  time: about 6 seconds\n",
        "\n",
        "N = 451   precision_bits >= 9  time: about 23 seconds"
      ],
      "metadata": {
        "id": "GpVdogd_OtJI"
      }
    },
    {
      "cell_type": "code",
      "source": [
        "def shor_sample():\n",
        "    N = 15             # The number we're factoring\n",
        "    precision_bits = 4\n",
        "    coprime = 2\n",
        "\n",
        "    result = Shor(N, precision_bits, coprime)\n",
        "\n",
        "    if result != None:\n",
        "        print('Success! '+str(N)+'='+str(result[0])+'*'+str(result[1])+'\\n');\n",
        "    else:\n",
        "        print('Failure: No non-trivial factors were found.\\n')"
      ],
      "metadata": {
        "id": "SEEbFUbRGmnY"
      },
      "execution_count": 240,
      "outputs": []
    },
    {
      "cell_type": "code",
      "source": [
        "def ShorLogic(N, repeat_period_candidates, coprime):\n",
        "    print('Repeat period candidates: '+str(repeat_period_candidates)+'\\n')\n",
        "    factor_candidates = []\n",
        "    for i in range(len(repeat_period_candidates)):\n",
        "        repeat_period = repeat_period_candidates[i];\n",
        "        # Given the repeat period, find the actual factors\n",
        "        ar2 = pow(coprime, repeat_period / 2.0)\n",
        "        factor1 = int(gcd(N, ar2 - 1))\n",
        "        factor2 = int(gcd(N, ar2 + 1))\n",
        "        factor_candidates.append([factor1, factor2])\n",
        "    return factor_candidates"
      ],
      "metadata": {
        "id": "cTQDmaU4Ibuj"
      },
      "execution_count": 241,
      "outputs": []
    },
    {
      "cell_type": "code",
      "source": [
        "def gcd(a, b):\n",
        "    # return the greatest common divisor of a,b\n",
        "    while b:\n",
        "        m = a % b\n",
        "        a = b\n",
        "        b = m\n",
        "    return a"
      ],
      "metadata": {
        "id": "PLxPMDgCHiXj"
      },
      "execution_count": 242,
      "outputs": []
    },
    {
      "cell_type": "code",
      "source": [
        "def check_result(N, factor_candidates):\n",
        "    for i in range(len(factor_candidates)):\n",
        "        factors = factor_candidates[i]\n",
        "        if factors[0] * factors[1] == N:\n",
        "            if factors[0] != 1 and factors[1] != 1:\n",
        "                # Success!\n",
        "                return factors\n",
        "    # Failure\n",
        "    return None"
      ],
      "metadata": {
        "id": "njs9DkmOHwMl"
      },
      "execution_count": 243,
      "outputs": []
    },
    {
      "cell_type": "markdown",
      "source": [
        "# Classical Factorization Algorithm"
      ],
      "metadata": {
        "id": "ivQ4BCYDBhA5"
      }
    },
    {
      "cell_type": "code",
      "source": [
        "def Shor(N, precision_bits, coprime):\n",
        "    repeat_period = ShorNoQPU(N, precision_bits, coprime) # quantum part\n",
        "    factors = ShorLogic(N, repeat_period, coprime)        # classical part\n",
        "    return check_result(N, factors)"
      ],
      "metadata": {
        "id": "JZvqDY3qHUHn"
      },
      "execution_count": 245,
      "outputs": []
    },
    {
      "cell_type": "code",
      "source": [
        "def ShorNoQPU(N, precision_bits, coprime):\n",
        "    # Classical replacement for the quantum part of Shor\n",
        "    repeat_period_candidates = []\n",
        "    work = 1\n",
        "    max_loops = pow(2, precision_bits)\n",
        "    for iter in range(max_loops):\n",
        "        work = (work * coprime) % N\n",
        "        if work == 1: # found a repeat period\n",
        "            repeat_period_candidates.append(iter + 1)\n",
        "    return repeat_period_candidates"
      ],
      "metadata": {
        "id": "HTkiSSIFGhTm"
      },
      "execution_count": 246,
      "outputs": []
    },
    {
      "cell_type": "code",
      "source": [
        "shor_sample()"
      ],
      "metadata": {
        "colab": {
          "base_uri": "https://localhost:8080/"
        },
        "id": "_rn_w_hhI27B",
        "outputId": "2c90575f-b164-44e6-e5f3-82aeebc3b10a"
      },
      "execution_count": 247,
      "outputs": [
        {
          "output_type": "stream",
          "name": "stdout",
          "text": [
            "Repeat period candidates: [4, 8, 12, 16]\n",
            "\n",
            "Success! 15=3*5\n",
            "\n"
          ]
        }
      ]
    },
    {
      "cell_type": "markdown",
      "source": [
        "# Shor's Factorization Algorithm"
      ],
      "metadata": {
        "id": "ooSH31CFBYPq"
      }
    },
    {
      "cell_type": "code",
      "source": [
        "def Shor(N, precision_bits, coprime):\n",
        "    repeat_period = ShorQPU(N, precision_bits, coprime) # quantum part\n",
        "    factors = ShorLogic(N, repeat_period, coprime)      # classical part\n",
        "    return check_result(N, factors)"
      ],
      "metadata": {
        "id": "KZrbOascPfbu"
      },
      "execution_count": 248,
      "outputs": []
    },
    {
      "cell_type": "code",
      "source": [
        "def ShorQPU(N, precision_bits, coprime):\n",
        "    # Quantum part of Shor's algorithm\n",
        "    # For this implementation, the coprime must be 2.\n",
        "    coprime = 2;\n",
        "\n",
        "    # For some numbers (like 15 and 21) the \"mod\" in a^xmod(N)\n",
        "    # is not needed, because a^x wraps neatly around. This makes the\n",
        "    # code simpler, and much easier to follow.\n",
        "    if N == 15 or N == 21:\n",
        "        return ShorQPU_WithoutModulo(N, precision_bits, coprime)\n",
        "    else:\n",
        "        return ShorQPU_WithModulo(N, precision_bits, coprime)"
      ],
      "metadata": {
        "id": "6PHtST12P5Yj"
      },
      "execution_count": 249,
      "outputs": []
    },
    {
      "cell_type": "code",
      "source": [
        "def RollLeft(qc, work, num_shifts, control):\n",
        "    # Ensure we're not out of range for work qubits\n",
        "    for j in range(work.size - num_shifts-1,-1,-1):\n",
        "        # Apply CSWAP between work[j] <-> work[j + num_shifts]\n",
        "        qc.append(CSwapGate(), [control, work[j], work[j + num_shifts]])\n",
        "    return qc"
      ],
      "metadata": {
        "id": "rOuXDLSvEahg"
      },
      "execution_count": 250,
      "outputs": []
    },
    {
      "cell_type": "code",
      "source": [
        "# This is the short/simple version of ShorQPU() where we can perform a^x and\n",
        "# don't need to be concerned with performing a quantum int modulus.\n",
        "def ShorQPU_WithoutModulo(N, precision_bits, coprime):\n",
        "    N_bits = 1\n",
        "    while (1 << N_bits) < N:\n",
        "        N_bits +=1\n",
        "    if N != 15: # For this implementation, numbers other than 15 need an extra bit\n",
        "        N_bits +=1\n",
        "\n",
        "    # Set up the QPU and the working registers\n",
        "    work = QuantumRegister(N_bits, name=\"work\")\n",
        "    precision = QuantumRegister(precision_bits, name=\"precision\")\n",
        "    classical = ClassicalRegister(precision_bits, name=\"precision_measure\")\n",
        "    qc = QuantumCircuit(work, precision, classical)\n",
        "\n",
        "    # Initialization: set the working register to state |1>\n",
        "    # and the precision register to state |0>\n",
        "    # put the precision register into superposition using Hadamard gate\n",
        "    qc.initialize(1, work)\n",
        "    qc.initialize(0, precision)\n",
        "    qc.h(precision)\n",
        "\n",
        "    # Perform 2^x for all possible values of x in superposition\n",
        "    for iter in range(precision_bits):\n",
        "        num_shifts = 1 << iter\n",
        "        qc = RollLeft(qc, work, num_shifts, precision[iter])\n",
        "    print(qc)\n",
        "\n",
        "    read_result = read_unsigned(qc, precision, classical)\n",
        "    print('QPU read result: '+str(read_result)+'\\n')\n",
        "    repeat_period_candidates = estimate_num_spikes(read_result, 1 << precision_bits)\n",
        "\n",
        "    return repeat_period_candidates"
      ],
      "metadata": {
        "id": "thwvwaPfQUwv"
      },
      "execution_count": 251,
      "outputs": []
    },
    {
      "cell_type": "code",
      "source": [
        "################################################################################\n",
        "# This function is not working yet ! ###########################################\n",
        "################################################################################\n",
        "\n",
        "# This is the complicated version of ShorQPU() where we DO\n",
        "# need to be concerned with performing a quantum int modulus.\n",
        "# That's a complicated operation, and it also requires us to\n",
        "# do the shifts one at a time.\n",
        "def ShorQPU_WithModulo(N, precision_bits, coprime):\n",
        "    scratch = None\n",
        "    max_value = 1\n",
        "    mod_engaged = False\n",
        "\n",
        "    N_bits = 1\n",
        "    scratch_bits = 0\n",
        "    while (1 << N_bits) < N:\n",
        "        N_bits +=1\n",
        "    if N != 15: # For this implementation, numbers other than 15 need an extra bit\n",
        "        N_bits +=1\n",
        "    scratch_bits = 1\n",
        "    total_bits = N_bits + precision_bits + scratch_bits\n",
        "\n",
        "    # Set up the QPU and the working registers\n",
        "    work = QuantumRegister(N_bits, name=\"work\")\n",
        "    precision = QuantumRegister(precision_bits, name=\"precision\")\n",
        "    scratch = QuantumRegister(1, name=\"scratch\")\n",
        "    classical = ClassicalRegister(precision_bits, name=\"precision_measure\")\n",
        "    qc = QuantumCircuit(work, precision, scratch, classical)\n",
        "\n",
        "    # Initialization: set the working register to state |1>\n",
        "    # and the precision register to state |0>\n",
        "    # put the precision register into superposition using Hadamard gate\n",
        "    qc.initialize(1, work)\n",
        "    qc.initialize(0, precision)\n",
        "    qc.initialize(0, scratch)\n",
        "    qc.h(precision)\n",
        "\n",
        "    print(qc)\n",
        "\n",
        "    N_sign_bit_place = 1 << (N_bits - 1)\n",
        "    #N_sign_bit = num.bits(N_sign_bit_place)\n",
        "    for iter in range(precision_bits):\n",
        "        #condition = precision.bits(1 << iter)\n",
        "        #N_sign_bit_with_condition = num.bits(N_sign_bit_place)\n",
        "        #N_sign_bit_with_condition.orEquals(condition)\n",
        "\n",
        "        shifts = 1 << iter\n",
        "        for sh in range(shifts):\n",
        "            #qc.label('num *= coprime')\n",
        "            qc = RollLeft(qc, work, 1, precision[iter])\n",
        "            #for j in range(N_bits -2,-1,-1):\n",
        "                # Apply CSWAP with precision[iter] as control and work[j] <-> work[j + 1] as targets\n",
        "            #    qc.append(CSwapGate(), [precision[iter], num[j], num[j + 1]])\n",
        "\n",
        "            #num.rollLeft(1, condition)   # Multiply by the coprime\n",
        "            max_value <<= 1\n",
        "            if max_value >= N:\n",
        "                mod_engaged = True\n",
        "\n",
        "            if mod_engaged:\n",
        "                # Perform conditional subtraction and check for wrap\n",
        "                qc = append_modulo_N(qc, N, work, scratch, precision[iter])\n",
        "                qc.not_(work[0])\n",
        "                qc.cx(work[0], scratch[0])  # Controlled-NOT based on the sign bit\n",
        "                qc.not_(work[0])\n",
        "                '''\n",
        "                wrap_mask = scratch.bits()\n",
        "                wrap_mask_with_condition = scratch.bits()\n",
        "                wrap_mask_with_condition.orEquals(condition)\n",
        "\n",
        "                # Here's the modulo code.\n",
        "                num.subtract(N, condition) # subtract N, causing this to go negative if we HAVEN'T wrapped.\n",
        "                scratch.cnot(N_sign_bit_with_condition) # Skim off the sign bit\n",
        "                num.add(N, wrap_mask_with_condition) # If we went negative, undo the subtraction.\n",
        "                num.not(1)\n",
        "                scratch.cnot(num, 1, condition) # If it's odd, then we wrapped, so clear the wrap bit\n",
        "                num.not(1)\n",
        "                '''\n",
        "\n",
        "    # Quantum Fourier Transform on precision register\n",
        "    qc.qft(precision)\n",
        "\n",
        "    read_result = read_unsigned(precision)\n",
        "    print('QPU read result: '+str(read_result)+'\\n')\n",
        "    repeat_period_candidates = estimate_num_spikes(read_result, 1 << precision_bits)\n",
        "\n",
        "    return repeat_period_candidates"
      ],
      "metadata": {
        "id": "lWToZ4ZCQ711"
      },
      "execution_count": 253,
      "outputs": []
    },
    {
      "cell_type": "code",
      "source": [
        "# In case our QPU read returns a \"signed\" negative value,\n",
        "# convert it to unsigned.\n",
        "def read_unsigned(qc, qreg, creg):\n",
        "    qc.measure(qreg, creg) #value = qreg.read()\n",
        "\n",
        "    # Simulate the circuit using the Aer simulator\n",
        "    simulator = AerSimulator()\n",
        "    job = simulator.run(transpile(qc, simulator), shots=1024)\n",
        "    result = job.result()\n",
        "    counts = result.get_counts(qc)\n",
        "\n",
        "    # Extract value of most likely measurement outcome\n",
        "    value = int(max(counts, key=counts.get),2)\n",
        "\n",
        "    return value & ((1 << qreg.size) - 1)"
      ],
      "metadata": {
        "id": "YQCVR2SPQLDF"
      },
      "execution_count": 254,
      "outputs": []
    },
    {
      "cell_type": "code",
      "source": [
        "def estimate_num_spikes(spike, spike_range):\n",
        "    if spike < spike_range / 2:\n",
        "        spike = spike_range - spike\n",
        "    best_error = 1.0\n",
        "    e0 = 0\n",
        "    e1 = 0\n",
        "    e2 = 0\n",
        "    actual = spike / spike_range\n",
        "    candidates = []\n",
        "    for denominator in range(1,spike):\n",
        "        numerator = round(denominator * actual)\n",
        "        estimated = numerator / denominator\n",
        "        error = abs(estimated - actual)\n",
        "        e0 = e1\n",
        "        e1 = e2\n",
        "        e2 = error\n",
        "        # Look for a local minimum which beats our\n",
        "        # current best error\n",
        "        if e1 <= best_error or e1 < e0 or e1 < e2:\n",
        "            repeat_period = denominator - 1\n",
        "            candidates.append(repeat_period)\n",
        "            best_error = e1\n",
        "    return candidates"
      ],
      "metadata": {
        "id": "JDLt9wXXBwQf"
      },
      "execution_count": 255,
      "outputs": []
    },
    {
      "cell_type": "code",
      "source": [
        "################################################################################\n",
        "# This function is not working yet ! ###########################################\n",
        "################################################################################\n",
        "\n",
        "def append_modulo_N(qc, N, work, scratch, condition=None):\n",
        "    # Performs a controlled modular reduction on the 'work' register with\n",
        "    # respect to N, using the 'scratch' register to store the sign bit.\n",
        "\n",
        "    N_bits = work.size\n",
        "    N_binary = format(N, 'b').zfill(N_bits)  # Binary representation of N with padding to match work size\n",
        "\n",
        "    # Step 1: Conditionally subtract N (controlled by `condition` qubit)\n",
        "    # We use multi-controlled X gates to simulate the effect of conditional subtraction.\n",
        "    for i, bit in enumerate(reversed(N_binary)):\n",
        "        if bit == '1':  # Only operate on bits where N has a '1'\n",
        "            if condition:\n",
        "                # Apply controlled X gate if the condition qubit is set\n",
        "                qc.ccx(condition, work[i], scratch[0])  # Controlled-controlled-X for the i-th bit\n",
        "            else:\n",
        "                qc.cx(work[i], scratch[0])\n",
        "\n",
        "    # Step 2: Use the `scratch` qubit to store the sign bit\n",
        "    # Copy the most significant bit (MSB) of `work` to `scratch` to store the sign\n",
        "    qc.cx(work[-1], scratch[0])\n",
        "\n",
        "    # Step 3: Conditionally add N back if the sign bit (scratch) indicates overflow\n",
        "    # This is done if the scratch bit is set\n",
        "    for i, bit in enumerate(reversed(N_binary)):\n",
        "        if bit == '1':  # Add N back for each '1' bit in N's binary representation\n",
        "            # Apply addition based on the `scratch` bit as the control\n",
        "            qc.ccx(scratch[0], work[i], work[i])  # Double-controlled addition bitwise\n",
        "\n",
        "    # Step 4: Clear the wrap bit if necessary\n",
        "    # Here we conditionally reset `scratch` to 0 if `work` is odd.\n",
        "    qc.cx(work[0], scratch[0])  # Clear scratch based on the least significant bit (LSB) of `work`\n",
        "\n",
        "    return qc"
      ],
      "metadata": {
        "id": "urEmbeZ9Burr"
      },
      "execution_count": 256,
      "outputs": []
    },
    {
      "cell_type": "code",
      "source": [
        "shor_sample()"
      ],
      "metadata": {
        "colab": {
          "base_uri": "https://localhost:8080/"
        },
        "id": "EAdDAqGnRffS",
        "outputId": "1ceb9217-80c5-4d70-b704-9d98f651a68d"
      },
      "execution_count": 257,
      "outputs": [
        {
          "output_type": "stream",
          "name": "stdout",
          "text": [
            "                     ┌────────────────┐                    \n",
            "             work_0: ┤0               ├────────────X─────X─\n",
            "                     │                │            │     │ \n",
            "             work_1: ┤1               ├─────────X──X──X──┼─\n",
            "                     │  Initialize(1) │         │  │  │  │ \n",
            "             work_2: ┤2               ├──────X──X──┼──┼──X─\n",
            "                     │                │      │  │  │  │  │ \n",
            "             work_3: ┤3               ├──────X──┼──┼──X──┼─\n",
            "                     ├────────────────┤┌───┐ │  │  │  │  │ \n",
            "        precision_0: ┤0               ├┤ H ├─■──■──■──┼──┼─\n",
            "                     │                │├───┤          │  │ \n",
            "        precision_1: ┤1               ├┤ H ├──────────■──■─\n",
            "                     │  Initialize(0) │├───┤               \n",
            "        precision_2: ┤2               ├┤ H ├───────────────\n",
            "                     │                │├───┤               \n",
            "        precision_3: ┤3               ├┤ H ├───────────────\n",
            "                     └────────────────┘└───┘               \n",
            "precision_measure: 4/══════════════════════════════════════\n",
            "                                                           \n",
            "QPU read result: 5\n",
            "\n",
            "Repeat period candidates: [0, 2, 3, 4, 6, 7, 9]\n",
            "\n",
            "Success! 15=3*5\n",
            "\n"
          ]
        }
      ]
    }
  ]
}