{
  "nbformat": 4,
  "nbformat_minor": 0,
  "metadata": {
    "colab": {
      "provenance": []
    },
    "kernelspec": {
      "name": "python3",
      "display_name": "Python 3"
    },
    "language_info": {
      "name": "python"
    }
  },
  "cells": [
    {
      "cell_type": "markdown",
      "source": [
        "# Prerequisites"
      ],
      "metadata": {
        "id": "G7JX6HO5oTTx"
      }
    },
    {
      "cell_type": "code",
      "source": [
        "!pip install qiskit\n",
        "!pip install pylatexenc\n",
        "!pip install qiskit_aer"
      ],
      "metadata": {
        "colab": {
          "base_uri": "https://localhost:8080/"
        },
        "id": "7FCxCNWiOsMv",
        "outputId": "5900f324-7b79-4986-cd54-954693e25f83"
      },
      "execution_count": 1,
      "outputs": [
        {
          "output_type": "stream",
          "name": "stdout",
          "text": [
            "Collecting qiskit\n",
            "  Downloading qiskit-1.2.4-cp38-abi3-manylinux_2_17_x86_64.manylinux2014_x86_64.whl.metadata (12 kB)\n",
            "Collecting rustworkx>=0.15.0 (from qiskit)\n",
            "  Downloading rustworkx-0.15.1-cp38-abi3-manylinux_2_17_x86_64.manylinux2014_x86_64.whl.metadata (9.9 kB)\n",
            "Requirement already satisfied: numpy<3,>=1.17 in /usr/local/lib/python3.10/dist-packages (from qiskit) (1.26.4)\n",
            "Requirement already satisfied: scipy>=1.5 in /usr/local/lib/python3.10/dist-packages (from qiskit) (1.13.1)\n",
            "Requirement already satisfied: sympy>=1.3 in /usr/local/lib/python3.10/dist-packages (from qiskit) (1.13.3)\n",
            "Collecting dill>=0.3 (from qiskit)\n",
            "  Downloading dill-0.3.9-py3-none-any.whl.metadata (10 kB)\n",
            "Requirement already satisfied: python-dateutil>=2.8.0 in /usr/local/lib/python3.10/dist-packages (from qiskit) (2.8.2)\n",
            "Collecting stevedore>=3.0.0 (from qiskit)\n",
            "  Downloading stevedore-5.3.0-py3-none-any.whl.metadata (2.3 kB)\n",
            "Requirement already satisfied: typing-extensions in /usr/local/lib/python3.10/dist-packages (from qiskit) (4.12.2)\n",
            "Collecting symengine<0.14,>=0.11 (from qiskit)\n",
            "  Downloading symengine-0.13.0-cp310-cp310-manylinux_2_17_x86_64.manylinux2014_x86_64.whl.metadata (1.2 kB)\n",
            "Requirement already satisfied: six>=1.5 in /usr/local/lib/python3.10/dist-packages (from python-dateutil>=2.8.0->qiskit) (1.16.0)\n",
            "Collecting pbr>=2.0.0 (from stevedore>=3.0.0->qiskit)\n",
            "  Downloading pbr-6.1.0-py2.py3-none-any.whl.metadata (3.4 kB)\n",
            "Requirement already satisfied: mpmath<1.4,>=1.1.0 in /usr/local/lib/python3.10/dist-packages (from sympy>=1.3->qiskit) (1.3.0)\n",
            "Downloading qiskit-1.2.4-cp38-abi3-manylinux_2_17_x86_64.manylinux2014_x86_64.whl (4.8 MB)\n",
            "\u001b[2K   \u001b[90m━━━━━━━━━━━━━━━━━━━━━━━━━━━━━━━━━━━━━━━━\u001b[0m \u001b[32m4.8/4.8 MB\u001b[0m \u001b[31m15.5 MB/s\u001b[0m eta \u001b[36m0:00:00\u001b[0m\n",
            "\u001b[?25hDownloading dill-0.3.9-py3-none-any.whl (119 kB)\n",
            "\u001b[2K   \u001b[90m━━━━━━━━━━━━━━━━━━━━━━━━━━━━━━━━━━━━━━━━\u001b[0m \u001b[32m119.4/119.4 kB\u001b[0m \u001b[31m5.4 MB/s\u001b[0m eta \u001b[36m0:00:00\u001b[0m\n",
            "\u001b[?25hDownloading rustworkx-0.15.1-cp38-abi3-manylinux_2_17_x86_64.manylinux2014_x86_64.whl (2.0 MB)\n",
            "\u001b[2K   \u001b[90m━━━━━━━━━━━━━━━━━━━━━━━━━━━━━━━━━━━━━━━━\u001b[0m \u001b[32m2.0/2.0 MB\u001b[0m \u001b[31m33.4 MB/s\u001b[0m eta \u001b[36m0:00:00\u001b[0m\n",
            "\u001b[?25hDownloading stevedore-5.3.0-py3-none-any.whl (49 kB)\n",
            "\u001b[2K   \u001b[90m━━━━━━━━━━━━━━━━━━━━━━━━━━━━━━━━━━━━━━━━\u001b[0m \u001b[32m49.7/49.7 kB\u001b[0m \u001b[31m2.7 MB/s\u001b[0m eta \u001b[36m0:00:00\u001b[0m\n",
            "\u001b[?25hDownloading symengine-0.13.0-cp310-cp310-manylinux_2_17_x86_64.manylinux2014_x86_64.whl (49.7 MB)\n",
            "\u001b[2K   \u001b[90m━━━━━━━━━━━━━━━━━━━━━━━━━━━━━━━━━━━━━━━━\u001b[0m \u001b[32m49.7/49.7 MB\u001b[0m \u001b[31m13.5 MB/s\u001b[0m eta \u001b[36m0:00:00\u001b[0m\n",
            "\u001b[?25hDownloading pbr-6.1.0-py2.py3-none-any.whl (108 kB)\n",
            "\u001b[2K   \u001b[90m━━━━━━━━━━━━━━━━━━━━━━━━━━━━━━━━━━━━━━━━\u001b[0m \u001b[32m108.5/108.5 kB\u001b[0m \u001b[31m5.3 MB/s\u001b[0m eta \u001b[36m0:00:00\u001b[0m\n",
            "\u001b[?25hInstalling collected packages: symengine, rustworkx, pbr, dill, stevedore, qiskit\n",
            "Successfully installed dill-0.3.9 pbr-6.1.0 qiskit-1.2.4 rustworkx-0.15.1 stevedore-5.3.0 symengine-0.13.0\n",
            "Collecting pylatexenc\n",
            "  Downloading pylatexenc-2.10.tar.gz (162 kB)\n",
            "\u001b[2K     \u001b[90m━━━━━━━━━━━━━━━━━━━━━━━━━━━━━━━━━━━━━━━━\u001b[0m \u001b[32m162.6/162.6 kB\u001b[0m \u001b[31m5.2 MB/s\u001b[0m eta \u001b[36m0:00:00\u001b[0m\n",
            "\u001b[?25h  Preparing metadata (setup.py) ... \u001b[?25l\u001b[?25hdone\n",
            "Building wheels for collected packages: pylatexenc\n",
            "  Building wheel for pylatexenc (setup.py) ... \u001b[?25l\u001b[?25hdone\n",
            "  Created wheel for pylatexenc: filename=pylatexenc-2.10-py3-none-any.whl size=136817 sha256=a62071c5c7a1678fa943ea92557de66ecce64ec55efa4fd9477667d4ff356c3f\n",
            "  Stored in directory: /root/.cache/pip/wheels/d3/31/8b/e09b0386afd80cfc556c00408c9aeea5c35c4d484a9c762fd5\n",
            "Successfully built pylatexenc\n",
            "Installing collected packages: pylatexenc\n",
            "Successfully installed pylatexenc-2.10\n",
            "Collecting qiskit_aer\n",
            "  Downloading qiskit_aer-0.15.1-cp310-cp310-manylinux_2_17_x86_64.manylinux2014_x86_64.whl.metadata (8.0 kB)\n",
            "Requirement already satisfied: qiskit>=1.1.0 in /usr/local/lib/python3.10/dist-packages (from qiskit_aer) (1.2.4)\n",
            "Requirement already satisfied: numpy>=1.16.3 in /usr/local/lib/python3.10/dist-packages (from qiskit_aer) (1.26.4)\n",
            "Requirement already satisfied: scipy>=1.0 in /usr/local/lib/python3.10/dist-packages (from qiskit_aer) (1.13.1)\n",
            "Requirement already satisfied: psutil>=5 in /usr/local/lib/python3.10/dist-packages (from qiskit_aer) (5.9.5)\n",
            "Requirement already satisfied: rustworkx>=0.15.0 in /usr/local/lib/python3.10/dist-packages (from qiskit>=1.1.0->qiskit_aer) (0.15.1)\n",
            "Requirement already satisfied: sympy>=1.3 in /usr/local/lib/python3.10/dist-packages (from qiskit>=1.1.0->qiskit_aer) (1.13.3)\n",
            "Requirement already satisfied: dill>=0.3 in /usr/local/lib/python3.10/dist-packages (from qiskit>=1.1.0->qiskit_aer) (0.3.9)\n",
            "Requirement already satisfied: python-dateutil>=2.8.0 in /usr/local/lib/python3.10/dist-packages (from qiskit>=1.1.0->qiskit_aer) (2.8.2)\n",
            "Requirement already satisfied: stevedore>=3.0.0 in /usr/local/lib/python3.10/dist-packages (from qiskit>=1.1.0->qiskit_aer) (5.3.0)\n",
            "Requirement already satisfied: typing-extensions in /usr/local/lib/python3.10/dist-packages (from qiskit>=1.1.0->qiskit_aer) (4.12.2)\n",
            "Requirement already satisfied: symengine<0.14,>=0.11 in /usr/local/lib/python3.10/dist-packages (from qiskit>=1.1.0->qiskit_aer) (0.13.0)\n",
            "Requirement already satisfied: six>=1.5 in /usr/local/lib/python3.10/dist-packages (from python-dateutil>=2.8.0->qiskit>=1.1.0->qiskit_aer) (1.16.0)\n",
            "Requirement already satisfied: pbr>=2.0.0 in /usr/local/lib/python3.10/dist-packages (from stevedore>=3.0.0->qiskit>=1.1.0->qiskit_aer) (6.1.0)\n",
            "Requirement already satisfied: mpmath<1.4,>=1.1.0 in /usr/local/lib/python3.10/dist-packages (from sympy>=1.3->qiskit>=1.1.0->qiskit_aer) (1.3.0)\n",
            "Downloading qiskit_aer-0.15.1-cp310-cp310-manylinux_2_17_x86_64.manylinux2014_x86_64.whl (12.3 MB)\n",
            "\u001b[2K   \u001b[90m━━━━━━━━━━━━━━━━━━━━━━━━━━━━━━━━━━━━━━━━\u001b[0m \u001b[32m12.3/12.3 MB\u001b[0m \u001b[31m95.5 MB/s\u001b[0m eta \u001b[36m0:00:00\u001b[0m\n",
            "\u001b[?25hInstalling collected packages: qiskit_aer\n",
            "Successfully installed qiskit_aer-0.15.1\n"
          ]
        }
      ]
    },
    {
      "cell_type": "code",
      "source": [
        "import numpy as np\n",
        "import matplotlib.pyplot as plt\n",
        "import matplotlib.patches as patches\n",
        "# Function to plot circle notation\n",
        "def plot_circle_notation(statevector, n_qubits, title='Quantum State'):\n",
        "    n_states = len(statevector)\n",
        "    # Compute amplitude and phase\n",
        "    amplitudes = np.abs(statevector)\n",
        "    phases = np.angle(statevector)\n",
        "    # Visualization parameters\n",
        "    rows = int(np.ceil(n_states / 8.0))\n",
        "    cols = min(n_states, 8)\n",
        "    fig, axs = plt.subplots(rows, cols, figsize=(2*cols, 2*rows))\n",
        "    axs = np.atleast_1d(axs)  # Ensure axs is iterable\n",
        "    for idx in range(n_states):\n",
        "        row = idx // cols\n",
        "        col = idx % cols\n",
        "        amp = amplitudes[idx]\n",
        "        phase = phases[idx]\n",
        "        # Create circles\n",
        "        circleExt = patches.Circle((0.5, 0.5), 0.5, color='gray', alpha=0.1)\n",
        "        circleInt = patches.Circle((0.5, 0.5), amp/2, color='b', alpha=0.3)\n",
        "        ax = axs[col] if rows == 1 else axs[row, col]\n",
        "        ax.add_patch(circleExt)\n",
        "        ax.add_patch(circleInt)\n",
        "        ax.set_aspect('equal')\n",
        "        state_number = \"|\" + format(idx, '0' + str(n_qubits) + 'b') + \">\"\n",
        "        ax.set_title('\\n' + state_number + '\\n')\n",
        "        xl = [0.5, 0.5 + 0.5 * amp * np.cos(phase + np.pi/2)]\n",
        "        yl = [0.5, 0.5 + 0.5 * amp * np.sin(phase + np.pi/2)]\n",
        "        ax.plot(xl, yl, 'r')\n",
        "        ax.axis('off')\n",
        "    plt.suptitle(title)\n",
        "    plt.show()"
      ],
      "metadata": {
        "id": "XLGbMU4ZPFui"
      },
      "execution_count": 2,
      "outputs": []
    },
    {
      "cell_type": "markdown",
      "source": [
        "# Bonus Exercise I - Quantum Escape Room with Grover’s Algorithm"
      ],
      "metadata": {
        "id": "M5GLZeFqoZyZ"
      }
    },
    {
      "cell_type": "markdown",
      "source": [
        "## Task B1.1"
      ],
      "metadata": {
        "id": "LsT1jkAQPtpb"
      }
    },
    {
      "cell_type": "code",
      "execution_count": 3,
      "metadata": {
        "colab": {
          "base_uri": "https://localhost:8080/",
          "height": 0
        },
        "id": "iHLJ0ivmNpKk",
        "outputId": "a27e9448-d273-4da2-8dba-4617037a5db6"
      },
      "outputs": [
        {
          "output_type": "execute_result",
          "data": {
            "text/plain": [
              "<Figure size 203.885x367.889 with 1 Axes>"
            ],
            "image/png": "[encoded data removed]"
          },
          "metadata": {},
          "execution_count": 3
        }
      ],
      "source": [
        "from qiskit import QuantumCircuit\n",
        "\n",
        "# Define the number of qubits\n",
        "num_qubits = 3  # You can change this value to any positive integer\n",
        "\n",
        "# Initialize the quantum circuit with n qubits\n",
        "qc = QuantumCircuit(num_qubits, num_qubits)\n",
        "\n",
        "# Apply the Hadamard gate to each qubit\n",
        "for qubit in range(num_qubits):\n",
        "    qc.h(qubit)\n",
        "\n",
        "# Visualize the quantum circuit\n",
        "qc.draw('mpl')"
      ]
    },
    {
      "cell_type": "markdown",
      "source": [
        "###After applying the Hadamard gates, what is the probability of Alice being in any of the rooms?\n",
        "The Hadamard transformation on all qubits creates a uniform probability distribution over all possible states.\n",
        "This principle holds true regardless of the number of qubits  n ; as  n  increases, the probability of finding Alice in any specific room decreases exponentially \\frac{1}{2^n}."
      ],
      "metadata": {
        "id": "3HtgGl2RPqkH"
      }
    },
    {
      "cell_type": "markdown",
      "source": [
        "## Task B1.2"
      ],
      "metadata": {
        "id": "K-jBDMzdQGup"
      }
    },
    {
      "cell_type": "code",
      "source": [
        "def apply_oracle(qc, target_state):\n",
        "    num_qubits = qc.num_qubits\n",
        "    # Apply X gates to qubits where target_state is '0'\n",
        "    for qubit in range(num_qubits):\n",
        "        if target_state[num_qubits - qubit - 1] == '0':\n",
        "            qc.x(qubit)\n",
        "    # Apply multi-controlled Z gate\n",
        "    qc.h(num_qubits - 1)\n",
        "    qc.mcx(list(range(num_qubits - 1)), num_qubits - 1)\n",
        "    qc.h(num_qubits - 1)\n",
        "    # Reverse the X gates\n",
        "    for qubit in range(num_qubits):\n",
        "        if target_state[num_qubits - qubit - 1] == '0':\n",
        "            qc.x(qubit)"
      ],
      "metadata": {
        "id": "-yXwWBfARYUB"
      },
      "execution_count": 4,
      "outputs": []
    },
    {
      "cell_type": "code",
      "source": [
        "target_state = '110'  # Binary representation of the marked room\n",
        "apply_oracle(qc, target_state)"
      ],
      "metadata": {
        "id": "gLujkezRRZzU"
      },
      "execution_count": 5,
      "outputs": []
    },
    {
      "cell_type": "code",
      "source": [
        "from qiskit import transpile\n",
        "from qiskit_aer import AerSimulator\n",
        "from qiskit.visualization import plot_state_qsphere\n",
        "import matplotlib.pyplot as plt\n",
        "from qiskit.quantum_info import Statevector\n",
        "\n",
        "simulator = AerSimulator()\n",
        "qc.save_statevector()\n",
        "\n",
        "job = simulator.run(transpile(qc, simulator))\n",
        "result = job.result()\n",
        "statevector = result.get_statevector(qc)\n",
        "\n",
        "print(\"Statevector after applying the oracle:\")\n",
        "print(statevector)\n"
      ],
      "metadata": {
        "colab": {
          "base_uri": "https://localhost:8080/"
        },
        "id": "HrCZzZ7fRchT",
        "outputId": "fd631b3f-4504-444f-8a02-e7023fad3147"
      },
      "execution_count": 6,
      "outputs": [
        {
          "output_type": "stream",
          "name": "stdout",
          "text": [
            "Statevector after applying the oracle:\n",
            "Statevector([ 0.35355339+0.00000000e+00j,  0.35355339+0.00000000e+00j,\n",
            "              0.35355339-4.32978028e-17j,  0.35355339+0.00000000e+00j,\n",
            "              0.35355339+0.00000000e+00j,  0.35355339+0.00000000e+00j,\n",
            "             -0.35355339+4.32978028e-17j,  0.35355339+0.00000000e+00j],\n",
            "            dims=(2, 2, 2))\n"
          ]
        }
      ]
    },
    {
      "cell_type": "code",
      "source": [
        "\n",
        "# Retrieve the statevector\n",
        "statevector = result.get_statevector(qc)\n",
        "# Plot the quantum states using circle notation\n",
        "plot_circle_notation(statevector, num_qubits)\n"
      ],
      "metadata": {
        "colab": {
          "base_uri": "https://localhost:8080/",
          "height": 0
        },
        "id": "amoW2R9gRoA9",
        "outputId": "d4058bfb-561a-4388-9f88-e8aad47a93fe"
      },
      "execution_count": 7,
      "outputs": [
        {
          "output_type": "stream",
          "name": "stderr",
          "text": [
            "<ipython-input-2-7323f4bfa4d9>:6: DeprecationWarning: The return type of saved statevectors has been changed from a `numpy.ndarray` to a `qiskit.quantum_info.Statevector` as of qiskit-aer 0.10. Accessing numpy array attributes is deprecated and will result in an error in a future release. To continue using saved result objects as arrays you can explicitly cast them using  `np.asarray(object)`.\n",
            "  n_states = len(statevector)\n"
          ]
        },
        {
          "output_type": "display_data",
          "data": {
            "text/plain": [
              "<Figure size 1600x200 with 8 Axes>"
            ],
            "image/png": "[encoded data removed]"
          },
          "metadata": {}
        }
      ]
    },
    {
      "cell_type": "markdown",
      "source": [
        "## Task B1.3: Amplifying the Probability of the Key Room"
      ],
      "metadata": {
        "id": "WZTRTySrVYXR"
      }
    },
    {
      "cell_type": "code",
      "source": [
        "# Define the diffusion operator function\n",
        "def apply_diffusion_operator(qc):\n",
        "    # Apply Hadamard gates to all qubits\n",
        "    qc.h(range(num_qubits))\n",
        "    # Apply X gates to all qubits\n",
        "    qc.x(range(num_qubits))\n",
        "    # Apply multi-controlled Z gate\n",
        "    qc.h(num_qubits - 1)  # Hadamard gate to change basis\n",
        "    qc.mcx(list(range(num_qubits - 1)), num_qubits - 1)  # Multi-controlled X gate\n",
        "    qc.h(num_qubits - 1)  # Hadamard gate to revert basis\n",
        "    # Apply X gates to all qubits\n",
        "    qc.x(range(num_qubits))\n",
        "    # Apply Hadamard gates to all qubits\n",
        "    qc.h(range(num_qubits))"
      ],
      "metadata": {
        "id": "n4FdWGD-VUtY"
      },
      "execution_count": 8,
      "outputs": []
    },
    {
      "cell_type": "code",
      "source": [
        "from qiskit.visualization import plot_histogram\n",
        "\n",
        "# Apply the diffusion operator\n",
        "apply_diffusion_operator(qc)\n",
        "\n",
        "# Measure the qubits\n",
        "qc.measure(range(num_qubits), range(num_qubits))\n",
        "\n",
        "simulator = AerSimulator()\n",
        "\n",
        "\n",
        "job = simulator.run(transpile(qc, simulator))\n",
        "result = job.result()\n",
        "\n",
        "# Get the measurement results\n",
        "counts = result.get_counts(qc)\n",
        "print(\"Measurement results:\")\n",
        "print(counts)\n",
        "\n",
        "# Visualize the results\n",
        "plot_histogram(counts)"
      ],
      "metadata": {
        "colab": {
          "base_uri": "https://localhost:8080/",
          "height": 0
        },
        "id": "R_q9Ig1VW7oF",
        "outputId": "7497e017-dfd9-484c-d443-c3854e0720da"
      },
      "execution_count": 9,
      "outputs": [
        {
          "output_type": "stream",
          "name": "stdout",
          "text": [
            "Measurement results:\n",
            "{'100': 33, '001': 22, '000': 33, '010': 40, '111': 28, '011': 30, '101': 36, '110': 802}\n"
          ]
        },
        {
          "output_type": "execute_result",
          "data": {
            "text/plain": [
              "<Figure size 640x480 with 1 Axes>"
            ],
            "image/png": "[encoded data removed]"
          },
          "metadata": {},
          "execution_count": 9
        }
      ]
    },
    {
      "cell_type": "markdown",
      "source": [
        "The expected probability is approximately 77.9% after 1 iteration. The measured probability (77% (788/1024)) closely matches the theoretical probability (~77.9%)."
      ],
      "metadata": {
        "id": "q7vVrkQeZB7k"
      }
    },
    {
      "cell_type": "markdown",
      "source": [
        "### How many iterations of amplitude amplification would be optimal for  rooms?\n",
        "Given  N  rooms, the optimal number of iterations is calculated as followed:\n",
        "\n",
        "\t1.\tCompute the Square Root of  N :\n",
        "\n",
        "\\sqrt{N}\n",
        "\n",
        "\t2.\tMultiply by  \\frac{\\pi}{4} :\n",
        "\n",
        "\\frac{\\pi}{4} \\sqrt{N}\n",
        "\n",
        "\t3.\tTake the Floor of the Result:\n",
        "\n",
        "k = \\left\\lfloor \\frac{\\pi}{4} \\sqrt{N} \\right\\rfloor\n",
        "\n",
        "Therefore, for  N = 8 , performing 2 iterations is optimal.\n"
      ],
      "metadata": {
        "id": "t24d2HDPZS89"
      }
    },
    {
      "cell_type": "code",
      "source": [
        "import math\n",
        "\n",
        "def optimal_iterations(N):\n",
        "    k = math.floor((math.pi / 4) * math.sqrt(N))\n",
        "    return k\n",
        "# Define the number of iterations\n",
        "k = optimal_iterations(2**num_qubits)  # Use the function from earlier to compute k\n",
        "\n",
        "print(k)\n"
      ],
      "metadata": {
        "colab": {
          "base_uri": "https://localhost:8080/"
        },
        "id": "ayB3oSFDazFK",
        "outputId": "8ac73d98-ab5f-4b8a-f073-730137ae9996"
      },
      "execution_count": 10,
      "outputs": [
        {
          "output_type": "stream",
          "name": "stdout",
          "text": [
            "2\n"
          ]
        }
      ]
    },
    {
      "cell_type": "markdown",
      "source": [
        "## B1.4: Escaping the Quantum Maze - Running Grover’s Algorithm\n",
        "Here is the full implementation"
      ],
      "metadata": {
        "id": "PBPm2kX_aVay"
      }
    },
    {
      "cell_type": "code",
      "source": [
        "# Initialize the quantum circuit\n",
        "qc = QuantumCircuit(num_qubits, num_qubits)\n",
        "\n",
        "# Apply Hadamard gates to all qubits to create a superposition\n",
        "qc.h(range(num_qubits))\n",
        "\n",
        "# Define your oracle and diffusion operator functions here\n",
        "# (assuming they are already defined as apply_oracle and apply_diffusion_operator)\n",
        "\n",
        "# Set the target state\n",
        "target_state = '110'  # Binary representation of the marked room\n",
        "\n",
        "# Apply k iterations of Grover's algorithm\n",
        "for _ in range(k):\n",
        "    # Apply the oracle\n",
        "    apply_oracle(qc, target_state)\n",
        "    # Apply the diffusion operator\n",
        "    apply_diffusion_operator(qc)\n",
        "\n",
        "# Measure the qubits\n",
        "qc.measure(range(num_qubits), range(num_qubits))\n",
        "\n",
        "# Simulate the circuit\n",
        "simulator = AerSimulator()\n",
        "qc.save_statevector()\n",
        "\n",
        "job = simulator.run(transpile(qc, simulator))\n",
        "result = job.result()\n",
        "statevector = result.get_statevector(qc)\n",
        "\n",
        "# Plot the quantum states using circle notation\n",
        "plot_circle_notation(statevector, num_qubits)\n",
        "\n",
        "print(\"Statevector after applying the oracle:\")\n",
        "print(statevector)\n",
        "\n",
        "# Get the measurement results\n",
        "counts = result.get_counts(qc)\n",
        "print(\"Measurement results:\")\n",
        "print(counts)\n",
        "\n",
        "# Visualize the results\n",
        "plot_histogram(counts)"
      ],
      "metadata": {
        "colab": {
          "base_uri": "https://localhost:8080/",
          "height": 0
        },
        "id": "CrYNmPKbaRcY",
        "outputId": "d9239c10-1498-4332-c476-ec8fd35fa61d"
      },
      "execution_count": 11,
      "outputs": [
        {
          "output_type": "stream",
          "name": "stderr",
          "text": [
            "<ipython-input-2-7323f4bfa4d9>:6: DeprecationWarning: The return type of saved statevectors has been changed from a `numpy.ndarray` to a `qiskit.quantum_info.Statevector` as of qiskit-aer 0.10. Accessing numpy array attributes is deprecated and will result in an error in a future release. To continue using saved result objects as arrays you can explicitly cast them using  `np.asarray(object)`.\n",
            "  n_states = len(statevector)\n"
          ]
        },
        {
          "output_type": "display_data",
          "data": {
            "text/plain": [
              "<Figure size 1600x200 with 8 Axes>"
            ],
            "image/png": "[encoded data removed]"
          },
          "metadata": {}
        },
        {
          "output_type": "stream",
          "name": "stdout",
          "text": [
            "Statevector after applying the oracle:\n",
            "Statevector([ 0.+0.00000000e+00j,  0.-0.00000000e+00j,  0.+0.00000000e+00j,\n",
            "              0.+0.00000000e+00j,  0.+0.00000000e+00j, -1.-9.79717439e-16j,\n",
            "              0.+0.00000000e+00j,  0.+0.00000000e+00j],\n",
            "            dims=(2, 2, 2))\n",
            "Measurement results:\n",
            "{'100': 8, '001': 5, '011': 7, '111': 9, '010': 4, '000': 4, '101': 12, '110': 975}\n"
          ]
        },
        {
          "output_type": "execute_result",
          "data": {
            "text/plain": [
              "<Figure size 640x480 with 1 Axes>"
            ],
            "image/png": "[encoded data removed]"
          },
          "metadata": {},
          "execution_count": 11
        }
      ]
    },
    {
      "cell_type": "markdown",
      "source": [
        "### After running the simulation, which room was measured most frequently? Did Alice find the room with the key?\n",
        "The room |6> was measured most frequently, which is also the room with the key, therefore it works."
      ],
      "metadata": {
        "id": "o9THT5s6cLej"
      }
    },
    {
      "cell_type": "markdown",
      "source": [
        "## B1.5: Searching for Multiple Keys"
      ],
      "metadata": {
        "id": "owXqbUNCc16I"
      }
    },
    {
      "cell_type": "code",
      "source": [
        "# Modify the oracle to accept a list of target states\n",
        "def apply_oracle(qc, target_states):\n",
        "    num_qubits = qc.num_qubits\n",
        "    for target_state in target_states:\n",
        "        # Apply X gates to qubits where target_state is '0'\n",
        "        for qubit in range(num_qubits):\n",
        "            if target_state[num_qubits - qubit - 1] == '0':\n",
        "                qc.x(qubit)\n",
        "        # Apply multi-controlled Z gate\n",
        "        qc.h(num_qubits - 1)\n",
        "        qc.mcx(list(range(num_qubits - 1)), num_qubits - 1)\n",
        "        qc.h(num_qubits - 1)\n",
        "        # Reverse the X gates\n",
        "        for qubit in range(num_qubits):\n",
        "            if target_state[num_qubits - qubit - 1] == '0':\n",
        "                qc.x(qubit)"
      ],
      "metadata": {
        "id": "0JD9uKvbc3JG"
      },
      "execution_count": 12,
      "outputs": []
    },
    {
      "cell_type": "code",
      "source": [
        "# Define the diffusion operator function\n",
        "def apply_diffusion_operator(qc):\n",
        "    # Apply Hadamard gates to all qubits\n",
        "    qc.h(range(num_qubits))\n",
        "    # Apply X gates to all qubits\n",
        "    qc.x(range(num_qubits))\n",
        "    # Apply multi-controlled Z gate\n",
        "    qc.h(num_qubits - 1)\n",
        "    qc.mcx(list(range(num_qubits - 1)), num_qubits - 1)\n",
        "    qc.h(num_qubits - 1)\n",
        "    # Apply X gates to all qubits\n",
        "    qc.x(range(num_qubits))\n",
        "    # Apply Hadamard gates to all qubits\n",
        "    qc.h(range(num_qubits))"
      ],
      "metadata": {
        "id": "XB38PEpFduBC"
      },
      "execution_count": 13,
      "outputs": []
    },
    {
      "cell_type": "code",
      "source": [
        "# Define the optimal number of iterations function\n",
        "def optimal_iterations(N, M):\n",
        "    # Calculate the optimal number of iterations\n",
        "    k = max(1, math.floor((math.pi / 4) * math.sqrt(N / M)))\n",
        "    return k"
      ],
      "metadata": {
        "id": "MvPPEEcXdv4f"
      },
      "execution_count": 14,
      "outputs": []
    },
    {
      "cell_type": "code",
      "source": [
        "num_qubits = 3\n",
        "N = 2 ** num_qubits  # Total number of rooms\n",
        "\n",
        "# Define the target states (rooms with keys)\n",
        "target_states = ['110', '101']\n",
        "M = len(target_states)  # Number of marked states\n",
        "\n",
        "# Calculate the optimal number of iterations\n",
        "k = optimal_iterations(N, M)\n",
        "print(f\"Optimal number of iterations: {k}\")"
      ],
      "metadata": {
        "colab": {
          "base_uri": "https://localhost:8080/"
        },
        "id": "de_PT8urdx-l",
        "outputId": "3c6e4efb-903e-41d0-e9de-1a5192e59afe"
      },
      "execution_count": 15,
      "outputs": [
        {
          "output_type": "stream",
          "name": "stdout",
          "text": [
            "Optimal number of iterations: 1\n"
          ]
        }
      ]
    },
    {
      "cell_type": "code",
      "source": [
        "\n",
        "# Initialize the quantum circuit with classical bits for measurement\n",
        "qc = QuantumCircuit(num_qubits, num_qubits)\n",
        "\n",
        "# Apply Hadamard gates to create a uniform superposition\n",
        "qc.h(range(num_qubits))\n",
        "\n",
        "# Apply k iterations of Grover's algorithm\n",
        "# Loop over the iterations\n",
        "for iteration in range(k):\n",
        "\n",
        "    print(f\"\\nIteration {iteration + 1}:\")\n",
        "    # Apply the oracle\n",
        "    apply_oracle(qc, target_states)\n",
        "\n",
        "    # Save the statevector after the oracle\n",
        "    qc.save_statevector(label=f'state_after_oracle_{iteration}')\n",
        "\n",
        "    # Apply the diffusion operator\n",
        "    apply_diffusion_operator(qc)\n",
        "\n",
        "# Measure all qubits\n",
        "qc.measure(range(num_qubits), range(num_qubits))"
      ],
      "metadata": {
        "colab": {
          "base_uri": "https://localhost:8080/"
        },
        "id": "jYUio08cd3G9",
        "outputId": "ea1e4ee5-4649-48cb-ab3a-57b73af0ac72"
      },
      "execution_count": 16,
      "outputs": [
        {
          "output_type": "stream",
          "name": "stdout",
          "text": [
            "\n",
            "Iteration 1:\n"
          ]
        },
        {
          "output_type": "execute_result",
          "data": {
            "text/plain": [
              "<qiskit.circuit.instructionset.InstructionSet at 0x7ef3aca9f6a0>"
            ]
          },
          "metadata": {},
          "execution_count": 16
        }
      ]
    },
    {
      "cell_type": "code",
      "source": [
        "\n",
        "\n",
        "# Simulate the circuit\n",
        "simulator = AerSimulator()\n",
        "qc.save_statevector()\n",
        "\n",
        "job = simulator.run(transpile(qc, simulator))\n",
        "result = job.result()\n",
        "statevector = result.get_statevector(qc)\n",
        "\n",
        "# Retrieve and print the statevectors after each oracle (optional)\n",
        "for iteration in range(k):\n",
        "    state_after_oracle = result.data(0)[f'state_after_oracle_{iteration}']\n",
        "    print(f\"\\nStatevector after oracle in iteration {iteration + 1}:\")\n",
        "    print(state_after_oracle)\n",
        "\n",
        "# Get the measurement results\n",
        "counts = result.get_counts(qc)\n",
        "print(\"Measurement results:\")\n",
        "print(counts)\n",
        "\n",
        "# Visualize the results\n",
        "plot_histogram(counts)\n",
        "plt.show()"
      ],
      "metadata": {
        "colab": {
          "base_uri": "https://localhost:8080/"
        },
        "id": "lUhUmNIjeDYp",
        "outputId": "ef4bb355-de75-46a7-e16e-dc96c544dd5d"
      },
      "execution_count": 17,
      "outputs": [
        {
          "output_type": "stream",
          "name": "stdout",
          "text": [
            "\n",
            "Statevector after oracle in iteration 1:\n",
            "Statevector([ 0.35355339+0.00000000e+00j,  0.35355339-4.32978028e-17j,\n",
            "              0.35355339-4.32978028e-17j,  0.35355339+0.00000000e+00j,\n",
            "              0.35355339+0.00000000e+00j, -0.35355339+4.32978028e-17j,\n",
            "             -0.35355339+4.32978028e-17j,  0.35355339+0.00000000e+00j],\n",
            "            dims=(2, 2, 2))\n",
            "Measurement results:\n",
            "{'101': 496, '110': 528}\n"
          ]
        }
      ]
    },
    {
      "cell_type": "markdown",
      "source": [
        "### What do you observe in the measurement results when searching for two keys? Does Grover’s algorithm still provide an advantage?\n",
        "\n",
        "1. Only the two marked states, ‘101’ and ‘110’, were measured. Only the two marked states, ‘101’ and ‘110’, were measured.\n",
        "\n",
        "Yes, Grover’s algorithm provides a significant advantage even when searching for multiple keys.\n",
        "\n",
        "The algorithm reduces the number of steps (queries) required to find a marked state from  O\\left( \\frac{N}{M} \\right)  in classical search to  O\\left( \\sqrt{\\frac{N}{M}} \\right)  in quantum search."
      ],
      "metadata": {
        "id": "15Feimo1ghCR"
      }
    },
    {
      "cell_type": "markdown",
      "source": [
        "# Bonus Exercise II - Solving Linear Systems with the HHL Algorithm\n",
        "The HHL algorithm follows these steps:\n",
        "\n",
        "1. Represent the vector b as a quantum state.\n",
        "2. Perform quantum phase estimation (QPE) on the matrix  A to find its eigenvalues.\n",
        "3. Apply controlled rotations based on the eigenvalues.\n",
        "4. Use the inverse of QPE and measure the quantum state to obtain the solution x."
      ],
      "metadata": {
        "id": "jF1kIHq4mbup"
      }
    },
    {
      "cell_type": "markdown",
      "source": [
        "## Part 1 - Implementing the HHL algorithm in Qiskit\n",
        "Now, it's time to implement the HHL algorithm! We’ll focus on solving a simple 2x2 linear system of equations using Qiskit.\n",
        "\n",
        "We will solve the system: $Ax = b$\n",
        "\n",
        "where: $A=\\begin{pmatrix} 1 & 2\\\\ 2 & 1 \\end{pmatrix}$\n",
        "and $b=\\begin{pmatrix} 1\\\\ 0 \\end{pmatrix}$"
      ],
      "metadata": {
        "id": "aWlg-DBqmjqj"
      }
    },
    {
      "cell_type": "markdown",
      "source": [
        "### 1. Prepare the Input State\n",
        "Use Qiskit to prepare the quantum state b. This can be represented by initializing the qubits accordingly."
      ],
      "metadata": {
        "id": "SEsVCP7PmvIH"
      }
    },
    {
      "cell_type": "code",
      "source": [
        "def prepare_input_state(b, num_ancilla=3):\n",
        "\n",
        "    # Create a quantum circuit\n",
        "    qc = QuantumCircuit(num_ancilla + 1, num_ancilla) # 1 qubit for b\n",
        "\n",
        "    # Initialize the quantum state based on b\n",
        "    qc.initialize([b[0], b[1]], num_ancilla, normalize=True)\n",
        "\n",
        "    return qc\n",
        "\n",
        "# Define the vector b\n",
        "b = np.array([1, 0])\n",
        "\n",
        "# Define the number of ancilla qubits\n",
        "num_ancilla = 3\n",
        "\n",
        "qc = prepare_input_state(b, num_ancilla=num_ancilla)\n",
        "qc.draw()"
      ],
      "metadata": {
        "id": "UUj0cw7xJZzb",
        "outputId": "f7593ba2-2933-40ef-c897-ef6667652460",
        "colab": {
          "base_uri": "https://localhost:8080/",
          "height": 186
        }
      },
      "execution_count": 148,
      "outputs": [
        {
          "output_type": "execute_result",
          "data": {
            "text/plain": [
              "                        \n",
              "q_0: ───────────────────\n",
              "                        \n",
              "q_1: ───────────────────\n",
              "                        \n",
              "q_2: ───────────────────\n",
              "     ┌─────────────────┐\n",
              "q_3: ┤ Initialize(1,0) ├\n",
              "     └─────────────────┘\n",
              "c: 3/═══════════════════\n",
              "                        "
            ],
            "text/html": [
              "<pre style=\"word-wrap: normal;white-space: pre;background: #fff0;line-height: 1.1;font-family: &quot;Courier New&quot;,Courier,monospace\">                        \n",
              "q_0: ───────────────────\n",
              "                        \n",
              "q_1: ───────────────────\n",
              "                        \n",
              "q_2: ───────────────────\n",
              "     ┌─────────────────┐\n",
              "q_3: ┤ Initialize(1,0) ├\n",
              "     └─────────────────┘\n",
              "c: 3/═══════════════════\n",
              "                        </pre>"
            ]
          },
          "metadata": {},
          "execution_count": 148
        }
      ]
    },
    {
      "cell_type": "markdown",
      "source": [
        "### 2. Quantum Phase Estimation (QPE)\n",
        "Implement the QPE part of the HHL algorithm on matrix A. You may use controlled unitary operations and ancilla qubits to perform the phase estimation."
      ],
      "metadata": {
        "id": "2hhCvF2lm_pP"
      }
    },
    {
      "cell_type": "code",
      "source": [
        "from scipy.linalg import expm\n",
        "from scipy.linalg import ishermitian\n",
        "\n",
        "def hermitian_to_unitary(A):\n",
        "    # Check if A is hermitian\n",
        "    if not ishermitian(A):\n",
        "        raise ValueError(\"Matrix A must be Hermitian.\")\n",
        "\n",
        "    # Compute the unitary operator U = exp(i*A*t) out of hermitian matrix\n",
        "    t = 1/5  # Scaling factor to ensure phases are within [0,1) and distinct\n",
        "    U = expm(1j * A * t)\n",
        "\n",
        "    # Verify that U is unitary\n",
        "    if not np.allclose(U.conj().T @ U, np.eye(len(A))):\n",
        "        raise ValueError(\"Matrix U is not unitary.\")\n",
        "\n",
        "    return U\n",
        "\n",
        "# Define the matrix A\n",
        "A = np.array([[1, 2],\n",
        "              [2, 1]])\n",
        "\n",
        "U = hermitian_to_unitary(A)\n",
        "print('Unitary Matrix U = \\n', U)"
      ],
      "metadata": {
        "id": "DzDzIzmuKY7A",
        "outputId": "57126d3f-1d96-4dc2-ff71-e0ec36b50954",
        "colab": {
          "base_uri": "https://localhost:8080/"
        }
      },
      "execution_count": 149,
      "outputs": [
        {
          "output_type": "stream",
          "name": "stdout",
          "text": [
            "Unitary Matrix U = \n",
            " [[ 0.9027011 +0.18298657j -0.07736548+0.3816559j ]\n",
            " [-0.07736548+0.3816559j   0.9027011 +0.18298657j]]\n"
          ]
        }
      ]
    },
    {
      "cell_type": "code",
      "source": [
        "from qiskit.circuit.library import QFT\n",
        "from qiskit.circuit.library import UnitaryGate\n",
        "\n",
        "def quantum_phase_estimation(A, b, num_ancilla=3):\n",
        "\n",
        "    # Ensure the input is a 2D matrix of size 2x2\n",
        "    if A.shape != (2, 2):\n",
        "        raise ValueError(\"The input matrix must be 2x2.\")\n",
        "\n",
        "    # Convert the matrix into a unitary\n",
        "    U = hermitian_to_unitary(A)\n",
        "\n",
        "    # Create a quantum circuit prepared in initial state based on b\n",
        "    qc = prepare_input_state(b, num_ancilla=num_ancilla)\n",
        "\n",
        "    # Step 1: Apply Hadamard gates to the ancilla qubits\n",
        "    qc.h(range(num_ancilla))\n",
        "\n",
        "    # Step 2: Apply controlled unitary operations\n",
        "    for qubit in range(num_ancilla):\n",
        "        exponent = 2 ** qubit\n",
        "        controlled_unitary = UnitaryGate(np.linalg.matrix_power(U, exponent)).control()  # Controlled U^(2^exponent)\n",
        "        qc.append(controlled_unitary, [qubit, num_ancilla])\n",
        "\n",
        "    # Step 3: Apply Inverse Quantum Fourier Transform (QFT) to the ancilla qubits\n",
        "    qc.append(QFT(num_ancilla, inverse=True).to_gate(), range(num_ancilla))\n",
        "\n",
        "    return qc\n",
        "\n",
        "\n",
        "# Generate the Quantum Phase Estimation circuit for this matrix\n",
        "qc = quantum_phase_estimation(A, b, num_ancilla=num_ancilla)\n",
        "qc.draw()"
      ],
      "metadata": {
        "id": "5-wdR94keS7u",
        "outputId": "ceb7dc62-e3c7-48c0-b0bc-924e0584c7b2",
        "colab": {
          "base_uri": "https://localhost:8080/",
          "height": 186
        }
      },
      "execution_count": 150,
      "outputs": [
        {
          "output_type": "execute_result",
          "data": {
            "text/plain": [
              "            ┌───┐                                        ┌───────┐\n",
              "q_0: ───────┤ H ├────────────■───────────────────────────┤0      ├\n",
              "            ├───┤            │                           │       │\n",
              "q_1: ───────┤ H ├────────────┼──────────■────────────────┤1 IQFT ├\n",
              "            ├───┤            │          │                │       │\n",
              "q_2: ───────┤ H ├────────────┼──────────┼──────────■─────┤2      ├\n",
              "     ┌──────┴───┴──────┐┌────┴────┐┌────┴────┐┌────┴────┐└───────┘\n",
              "q_3: ┤ Initialize(1,0) ├┤ Unitary ├┤ Unitary ├┤ Unitary ├─────────\n",
              "     └─────────────────┘└─────────┘└─────────┘└─────────┘         \n",
              "c: 3/═════════════════════════════════════════════════════════════\n",
              "                                                                  "
            ],
            "text/html": [
              "<pre style=\"word-wrap: normal;white-space: pre;background: #fff0;line-height: 1.1;font-family: &quot;Courier New&quot;,Courier,monospace\">            ┌───┐                                        ┌───────┐\n",
              "q_0: ───────┤ H ├────────────■───────────────────────────┤0      ├\n",
              "            ├───┤            │                           │       │\n",
              "q_1: ───────┤ H ├────────────┼──────────■────────────────┤1 IQFT ├\n",
              "            ├───┤            │          │                │       │\n",
              "q_2: ───────┤ H ├────────────┼──────────┼──────────■─────┤2      ├\n",
              "     ┌──────┴───┴──────┐┌────┴────┐┌────┴────┐┌────┴────┐└───────┘\n",
              "q_3: ┤ Initialize(1,0) ├┤ Unitary ├┤ Unitary ├┤ Unitary ├─────────\n",
              "     └─────────────────┘└─────────┘└─────────┘└─────────┘         \n",
              "c: 3/═════════════════════════════════════════════════════════════\n",
              "                                                                  </pre>"
            ]
          },
          "metadata": {},
          "execution_count": 150
        }
      ]
    },
    {
      "cell_type": "code",
      "source": [
        "# Optional: perform measurement to find eigenvalues\n",
        "\n",
        "# Measure the ancilla qubits to extract phase information\n",
        "qc.measure(range(num_ancilla), range(num_ancilla))\n",
        "\n",
        "# Simulate the circuit using the Aer simulator\n",
        "simulator = AerSimulator()\n",
        "job = simulator.run(transpile(qc, simulator), shots=1024)\n",
        "result = job.result()\n",
        "\n",
        "# Print the measurement results\n",
        "counts = result.get_counts(qc)\n",
        "print(f\"Measurement results: {counts}\")\n",
        "\n",
        "# Plot the histogram\n",
        "plot_histogram(counts)"
      ],
      "metadata": {
        "id": "CI73ooZBniMp",
        "outputId": "ae5a8e29-badd-4b2a-a287-bfd6b6d6ec9c",
        "colab": {
          "base_uri": "https://localhost:8080/",
          "height": 463
        }
      },
      "execution_count": 145,
      "outputs": [
        {
          "output_type": "stream",
          "name": "stdout",
          "text": [
            "Measurement results: {'100': 5, '101': 12, '110': 16, '011': 10, '111': 83, '010': 22, '000': 435, '001': 441}\n"
          ]
        },
        {
          "output_type": "execute_result",
          "data": {
            "text/plain": [
              "<Figure size 640x480 with 1 Axes>"
            ],
            "image/png": "[encoded data removed]"
          },
          "metadata": {},
          "execution_count": 145
        }
      ]
    },
    {
      "cell_type": "code",
      "source": [
        "#Convert measured outcomes to phases and then to eigenvalues\n",
        "for measurement, count in counts.items():\n",
        "    # Convert binary measurement to phase\n",
        "    phase = sum(int(bit) * (1 / (2 ** (index + 1))) for index, bit in enumerate(reversed(measurement)))\n",
        "    eigenvalue_estimate = 2 * np.pi * phase  # Scale to [0, 2π]\n",
        "\n",
        "    # Since U = e^(i*λ), we can recover λ\n",
        "    eigenvalue = np.angle(np.exp(1j * eigenvalue_estimate))\n",
        "\n",
        "    print(f\"Measured: {measurement}, Phase: {phase:.3f}, Eigenvalue estimate: {eigenvalue:.3f}\")\n"
      ],
      "metadata": {
        "id": "owYyU3Ths2l7",
        "outputId": "6994430a-f190-44a6-fca3-5441408f994a",
        "colab": {
          "base_uri": "https://localhost:8080/"
        }
      },
      "execution_count": 146,
      "outputs": [
        {
          "output_type": "stream",
          "name": "stdout",
          "text": [
            "Measured: 100, Phase: 0.125, Eigenvalue estimate: 0.785\n",
            "Measured: 101, Phase: 0.625, Eigenvalue estimate: -2.356\n",
            "Measured: 110, Phase: 0.375, Eigenvalue estimate: 2.356\n",
            "Measured: 011, Phase: 0.750, Eigenvalue estimate: -1.571\n",
            "Measured: 111, Phase: 0.875, Eigenvalue estimate: -0.785\n",
            "Measured: 010, Phase: 0.250, Eigenvalue estimate: 1.571\n",
            "Measured: 000, Phase: 0.000, Eigenvalue estimate: 0.000\n",
            "Measured: 001, Phase: 0.500, Eigenvalue estimate: 3.142\n"
          ]
        }
      ]
    },
    {
      "cell_type": "markdown",
      "source": [
        "### 3. Controlled Rotation\n",
        "Implement the controlled rotation in Qiskit based on the eigenvalues obtained from QPE."
      ],
      "metadata": {
        "id": "FT0qbeS7nZNn"
      }
    },
    {
      "cell_type": "code",
      "source": [
        "#########################################################################\n",
        "eigenvalues = [-1, 3] # should be extracted out of the measurement result\n",
        "#########################################################################\n",
        "\n",
        "def controlled_rotations(qc, eigenvalues, num_ancilla):\n",
        "    target_qubit = num_ancilla\n",
        "    for idx, eigenvalue in enumerate(eigenvalues):\n",
        "        if eigenvalue != 0:\n",
        "            angle = 2 * np.pi / eigenvalue  # Convert eigenvalue to angle for rotation\n",
        "            qc.crz(angle, idx, target_qubit)  # Apply controlled rotation (controlled RZ)\n",
        "    return qc\n",
        "\n",
        "\n",
        "qc = controlled_rotations(qc, eigenvalues, num_ancilla=num_ancilla)\n",
        "qc.draw()\n"
      ],
      "metadata": {
        "id": "XgH8Oc4kB-FC",
        "outputId": "6a52b29a-608a-4af5-b61e-b47d2073629d",
        "colab": {
          "base_uri": "https://localhost:8080/",
          "height": 356
        }
      },
      "execution_count": 151,
      "outputs": [
        {
          "output_type": "execute_result",
          "data": {
            "text/plain": [
              "            ┌───┐                                        ┌───────┐           »\n",
              "q_0: ───────┤ H ├────────────■───────────────────────────┤0      ├─────■─────»\n",
              "            ├───┤            │                           │       │     │     »\n",
              "q_1: ───────┤ H ├────────────┼──────────■────────────────┤1 IQFT ├─────┼─────»\n",
              "            ├───┤            │          │                │       │     │     »\n",
              "q_2: ───────┤ H ├────────────┼──────────┼──────────■─────┤2      ├─────┼─────»\n",
              "     ┌──────┴───┴──────┐┌────┴────┐┌────┴────┐┌────┴────┐└───────┘┌────┴────┐»\n",
              "q_3: ┤ Initialize(1,0) ├┤ Unitary ├┤ Unitary ├┤ Unitary ├─────────┤ Rz(-2π) ├»\n",
              "     └─────────────────┘└─────────┘└─────────┘└─────────┘         └─────────┘»\n",
              "c: 3/════════════════════════════════════════════════════════════════════════»\n",
              "                                                                             »\n",
              "«                 \n",
              "«q_0: ────────────\n",
              "«                 \n",
              "«q_1: ─────■──────\n",
              "«          │      \n",
              "«q_2: ─────┼──────\n",
              "«     ┌────┴─────┐\n",
              "«q_3: ┤ Rz(2π/3) ├\n",
              "«     └──────────┘\n",
              "«c: 3/════════════\n",
              "«                 "
            ],
            "text/html": [
              "<pre style=\"word-wrap: normal;white-space: pre;background: #fff0;line-height: 1.1;font-family: &quot;Courier New&quot;,Courier,monospace\">            ┌───┐                                        ┌───────┐           »\n",
              "q_0: ───────┤ H ├────────────■───────────────────────────┤0      ├─────■─────»\n",
              "            ├───┤            │                           │       │     │     »\n",
              "q_1: ───────┤ H ├────────────┼──────────■────────────────┤1 IQFT ├─────┼─────»\n",
              "            ├───┤            │          │                │       │     │     »\n",
              "q_2: ───────┤ H ├────────────┼──────────┼──────────■─────┤2      ├─────┼─────»\n",
              "     ┌──────┴───┴──────┐┌────┴────┐┌────┴────┐┌────┴────┐└───────┘┌────┴────┐»\n",
              "q_3: ┤ Initialize(1,0) ├┤ Unitary ├┤ Unitary ├┤ Unitary ├─────────┤ Rz(-2π) ├»\n",
              "     └─────────────────┘└─────────┘└─────────┘└─────────┘         └─────────┘»\n",
              "c: 3/════════════════════════════════════════════════════════════════════════»\n",
              "                                                                             »\n",
              "«                 \n",
              "«q_0: ────────────\n",
              "«                 \n",
              "«q_1: ─────■──────\n",
              "«          │      \n",
              "«q_2: ─────┼──────\n",
              "«     ┌────┴─────┐\n",
              "«q_3: ┤ Rz(2π/3) ├\n",
              "«     └──────────┘\n",
              "«c: 3/════════════\n",
              "«                 </pre>"
            ]
          },
          "metadata": {},
          "execution_count": 151
        }
      ]
    },
    {
      "cell_type": "markdown",
      "source": [
        "### 4. Inverse QPE and Measurement\n",
        "Implement the inverse QPE and measure the qubits to extract the result."
      ],
      "metadata": {
        "id": "CF20G66anhCe"
      }
    },
    {
      "cell_type": "code",
      "source": [
        "def inverse_quantum_phase_estimation(A, num_ancilla=3):\n",
        "\n",
        "    # Step 1: Apply Quantum Fourier Transform (QFT) to the ancilla qubits\n",
        "    qc.append(QFT(num_ancilla, inverse=False).to_gate(), range(num_ancilla))\n",
        "\n",
        "    # Step 2: Apply inverse of controlled unitary operations\n",
        "    U = hermitian_to_unitary(A)\n",
        "    for qubit in reversed(range(num_ancilla)):\n",
        "        exponent = 2 ** qubit\n",
        "        controlled_unitary_dagger = UnitaryGate(np.linalg.matrix_power(U, exponent).conj().T).control()  # Controlled U^(2^exponent) dagger\n",
        "        qc.append(controlled_unitary_dagger, [qubit, num_ancilla])\n",
        "\n",
        "    # Step 3: Apply Hadamard gates to the ancilla qubits\n",
        "    qc.h(range(num_ancilla))\n",
        "\n",
        "    return qc\n",
        "\n",
        "qc = inverse_quantum_phase_estimation(A, num_ancilla=num_ancilla)\n",
        "qc.draw()"
      ],
      "metadata": {
        "id": "WTH_9Y5cB-lb",
        "outputId": "e436b85f-28c9-4653-8a1d-fac5ec46d82b",
        "colab": {
          "base_uri": "https://localhost:8080/",
          "height": 356
        }
      },
      "execution_count": 152,
      "outputs": [
        {
          "output_type": "execute_result",
          "data": {
            "text/plain": [
              "            ┌───┐                                        ┌───────┐           »\n",
              "q_0: ───────┤ H ├────────────■───────────────────────────┤0      ├─────■─────»\n",
              "            ├───┤            │                           │       │     │     »\n",
              "q_1: ───────┤ H ├────────────┼──────────■────────────────┤1 IQFT ├─────┼─────»\n",
              "            ├───┤            │          │                │       │     │     »\n",
              "q_2: ───────┤ H ├────────────┼──────────┼──────────■─────┤2      ├─────┼─────»\n",
              "     ┌──────┴───┴──────┐┌────┴────┐┌────┴────┐┌────┴────┐└───────┘┌────┴────┐»\n",
              "q_3: ┤ Initialize(1,0) ├┤ Unitary ├┤ Unitary ├┤ Unitary ├─────────┤ Rz(-2π) ├»\n",
              "     └─────────────────┘└─────────┘└─────────┘└─────────┘         └─────────┘»\n",
              "c: 3/════════════════════════════════════════════════════════════════════════»\n",
              "                                                                             »\n",
              "«                 ┌──────┐                                      ┌───┐\n",
              "«q_0: ────────────┤0     ├────────────────────────────────■─────┤ H ├\n",
              "«                 │      │                      ┌───┐     │     └───┘\n",
              "«q_1: ─────■──────┤1 QFT ├────────────────■─────┤ H ├─────┼──────────\n",
              "«          │      │      │                │     ├───┤     │          \n",
              "«q_2: ─────┼──────┤2     ├─────■──────────┼─────┤ H ├─────┼──────────\n",
              "«     ┌────┴─────┐└──────┘┌────┴────┐┌────┴────┐└───┘┌────┴────┐     \n",
              "«q_3: ┤ Rz(2π/3) ├────────┤ Unitary ├┤ Unitary ├─────┤ Unitary ├─────\n",
              "«     └──────────┘        └─────────┘└─────────┘     └─────────┘     \n",
              "«c: 3/═══════════════════════════════════════════════════════════════\n",
              "«                                                                    "
            ],
            "text/html": [
              "<pre style=\"word-wrap: normal;white-space: pre;background: #fff0;line-height: 1.1;font-family: &quot;Courier New&quot;,Courier,monospace\">            ┌───┐                                        ┌───────┐           »\n",
              "q_0: ───────┤ H ├────────────■───────────────────────────┤0      ├─────■─────»\n",
              "            ├───┤            │                           │       │     │     »\n",
              "q_1: ───────┤ H ├────────────┼──────────■────────────────┤1 IQFT ├─────┼─────»\n",
              "            ├───┤            │          │                │       │     │     »\n",
              "q_2: ───────┤ H ├────────────┼──────────┼──────────■─────┤2      ├─────┼─────»\n",
              "     ┌──────┴───┴──────┐┌────┴────┐┌────┴────┐┌────┴────┐└───────┘┌────┴────┐»\n",
              "q_3: ┤ Initialize(1,0) ├┤ Unitary ├┤ Unitary ├┤ Unitary ├─────────┤ Rz(-2π) ├»\n",
              "     └─────────────────┘└─────────┘└─────────┘└─────────┘         └─────────┘»\n",
              "c: 3/════════════════════════════════════════════════════════════════════════»\n",
              "                                                                             »\n",
              "«                 ┌──────┐                                      ┌───┐\n",
              "«q_0: ────────────┤0     ├────────────────────────────────■─────┤ H ├\n",
              "«                 │      │                      ┌───┐     │     └───┘\n",
              "«q_1: ─────■──────┤1 QFT ├────────────────■─────┤ H ├─────┼──────────\n",
              "«          │      │      │                │     ├───┤     │          \n",
              "«q_2: ─────┼──────┤2     ├─────■──────────┼─────┤ H ├─────┼──────────\n",
              "«     ┌────┴─────┐└──────┘┌────┴────┐┌────┴────┐└───┘┌────┴────┐     \n",
              "«q_3: ┤ Rz(2π/3) ├────────┤ Unitary ├┤ Unitary ├─────┤ Unitary ├─────\n",
              "«     └──────────┘        └─────────┘└─────────┘     └─────────┘     \n",
              "«c: 3/═══════════════════════════════════════════════════════════════\n",
              "«                                                                    </pre>"
            ]
          },
          "metadata": {},
          "execution_count": 152
        }
      ]
    },
    {
      "cell_type": "code",
      "source": [
        "#Optional: Perform measurement to find solution vector\n",
        "\n",
        "# Measure the ancilla qubits to extract output states\n",
        "qc.measure(range(num_ancilla), range(num_ancilla))\n",
        "\n",
        "# Simulate the circuit using the Aer simulator\n",
        "simulator = AerSimulator()\n",
        "job = simulator.run(transpile(qc, simulator), shots=1024)\n",
        "result = job.result()\n",
        "\n",
        "# Print the measurement results\n",
        "counts = result.get_counts(qc)\n",
        "print(f\"Measurement results: {counts}\")\n",
        "\n",
        "# Plot the histogram\n",
        "plot_histogram(counts)"
      ],
      "metadata": {
        "id": "yNvNU0P4ILs3",
        "outputId": "845f660f-6206-4100-991b-0fa803261520",
        "colab": {
          "base_uri": "https://localhost:8080/",
          "height": 463
        }
      },
      "execution_count": 141,
      "outputs": [
        {
          "output_type": "stream",
          "name": "stdout",
          "text": [
            "Measurement results: {'101': 2, '011': 8, '110': 26, '100': 390, '010': 40, '000': 558}\n"
          ]
        },
        {
          "output_type": "execute_result",
          "data": {
            "text/plain": [
              "<Figure size 640x480 with 1 Axes>"
            ],
            "image/png": "[encoded data removed]"
          },
          "metadata": {},
          "execution_count": 141
        }
      ]
    },
    {
      "cell_type": "markdown",
      "source": [
        "## Part 2: Analyze and Compare Results\n",
        "Now that you’ve implemented the HHL algorithm, it's time to compare the quantum solution with the classical one."
      ],
      "metadata": {
        "id": "MtPS9AmEnmZh"
      }
    },
    {
      "cell_type": "markdown",
      "source": [
        "### Classical Solution\n",
        "\n",
        "Solve the system $Ax=b$ using classical methods (e.g., numpy's linear algebra solver)."
      ],
      "metadata": {
        "id": "_U-IcrAspk8O"
      }
    },
    {
      "cell_type": "code",
      "source": [
        "# Compute eigenvalues and eigenvectors of A\n",
        "eigenvalues, eigenvectors = np.linalg.eigh(A)\n",
        "print(\"Eigenvalues of A:\", eigenvalues)\n",
        "print(\"Eigenvectors of A:\\n\", eigenvectors)\n",
        "\n",
        "# Calculate the min and max eigenvalues of the matrix A\n",
        "min_eigenvalue = np.min(eigenvalues)\n",
        "max_eigenvalue = np.max(eigenvalues)\n",
        "print(\"Max eigenvalue of A:\", max_eigenvalue)\n",
        "print(\"Min eigenvalue of A:\", min_eigenvalue)\n"
      ],
      "metadata": {
        "id": "2bgqH4MVYdzG",
        "outputId": "616ed5ad-256c-4a4b-94ce-52defa03c9aa",
        "colab": {
          "base_uri": "https://localhost:8080/"
        }
      },
      "execution_count": 88,
      "outputs": [
        {
          "output_type": "stream",
          "name": "stdout",
          "text": [
            "Eigenvalues of A: [-1.  3.]\n",
            "Eigenvectors of A:\n",
            " [[-0.70710678  0.70710678]\n",
            " [ 0.70710678  0.70710678]]\n",
            "Max eigenvalue of A: 3.0\n",
            "Min eigenvalue of A: -1.0\n"
          ]
        }
      ]
    },
    {
      "cell_type": "code",
      "source": [
        "# Solve for x in the equation Ax = b\n",
        "x = np.linalg.solve(A, b)\n",
        "print(\"Solution x = \\n\", x)"
      ],
      "metadata": {
        "id": "bEjNkxGFplbw",
        "outputId": "18c7a5f6-2e96-4512-f26d-ad439a4e18bf",
        "colab": {
          "base_uri": "https://localhost:8080/"
        }
      },
      "execution_count": 89,
      "outputs": [
        {
          "output_type": "stream",
          "name": "stdout",
          "text": [
            "Solution x = \n",
            " [-0.33333333  0.66666667]\n"
          ]
        }
      ]
    },
    {
      "cell_type": "markdown",
      "source": [
        "### Quantum Solution\n",
        "\n",
        "Run your quantum circuit in Qiskit and extract the result from the measurement."
      ],
      "metadata": {
        "id": "jiG4KBnQpl3n"
      }
    },
    {
      "cell_type": "code",
      "source": [],
      "metadata": {
        "id": "aKlFD3jVAib0"
      },
      "execution_count": null,
      "outputs": []
    },
    {
      "cell_type": "markdown",
      "source": [
        "### Comparison\n",
        "Compare the quantum result with the classical result. How accurate is the quantum solution? What challenges did you face in implementing the HHL algorithm?"
      ],
      "metadata": {
        "id": "xKz4GpBGpm89"
      }
    },
    {
      "cell_type": "markdown",
      "source": [
        "# Playground"
      ],
      "metadata": {
        "id": "uheST8GgAjKC"
      }
    },
    {
      "cell_type": "code",
      "source": [
        "# Define the vector b\n",
        "b = np.array([1, 0])\n",
        "\n",
        "# Initialize the quantum state based on b\n",
        "qc_b = QuantumCircuit(1)\n",
        "qc_b.initialize([b[0], b[1]], 0, normalize=True)\n",
        "\n",
        "# Number of ancilla qubits\n",
        "num_ancillae = 3\n",
        "\n",
        "# Total qubits: ancilla + target\n",
        "total_qubits = num_ancillae + 1 # Target is a two-dimensional vector, hence only 1 qubit required\n",
        "\n",
        "# Create a quantum circuit with ancilla and target qubits\n",
        "qc = QuantumCircuit(total_qubits, num_ancillae)\n",
        "\n",
        "# Add the b_circuit to the new circuit\n",
        "qc.compose(qc_b, qubits=num_ancillae, inplace=True)\n",
        "\n",
        "# Initialize the target qubit in one of the eigenstates of A\n",
        "# For eigenvalue 3: |+> = (|0> + |1>)/sqrt(2) --> apply h gate\n",
        "# For eigenvalue -1: |-> = (|0> - |1>)/sqrt(2) --> apply x, h and x gate\n",
        "#qc.x(num_ancillae) # only for eigenvalue -1\n",
        "#qc.h(num_ancillae)\n",
        "#qc.x(num_ancillae) # only for eigenvalue -1\n",
        "\n",
        "# Apply Hadamard gates to all ancilla qubits\n",
        "qc.h(range(num_ancillae))\n",
        "\n",
        "# Visualize the quantum circuit\n",
        "qc.draw('mpl')"
      ],
      "metadata": {
        "id": "glGq1AB08sk5",
        "outputId": "787b1b0e-14eb-44a6-e1a9-9b63a4d3430f",
        "colab": {
          "base_uri": "https://localhost:8080/",
          "height": 384
        }
      },
      "execution_count": 81,
      "outputs": [
        {
          "output_type": "execute_result",
          "data": {
            "text/plain": [
              "<Figure size 203.885x451.5 with 1 Axes>"
            ],
            "image/png": "[encoded data removed]"
          },
          "metadata": {},
          "execution_count": 81
        }
      ]
    },
    {
      "cell_type": "code",
      "source": [
        "from qiskit.visualization import plot_histogram\n",
        "from qiskit.circuit.library import QFT\n",
        "from qiskit.circuit.library import UnitaryGate\n",
        "\n",
        "# Create Unitary Gates for U, U^2, U^4\n",
        "t = 1 / 5\n",
        "U_gate = UnitaryGate(U, label='U')\n",
        "U2 = expm(1j * A * t * 2)  # U^2 = exp(i*A*t*2)\n",
        "U2_gate = UnitaryGate(U2, label='U2')\n",
        "U4 = expm(1j * A * t * 4)  # U^4 = exp(i*A*t*4)\n",
        "U4_gate = UnitaryGate(U4, label='U4')\n",
        "\n",
        "# Add controlled-U gates\n",
        "qc.append(U_gate.control(), [0, num_ancillae])\n",
        "qc.append(U2_gate.control(), [1, num_ancillae])\n",
        "qc.append(U4_gate.control(), [2, num_ancillae])\n",
        "\n",
        "# Visualize the quantum circuit\n",
        "qc.draw('mpl')"
      ],
      "metadata": {
        "id": "KHYSTUfanexm",
        "outputId": "f2ed262d-fea6-42f3-bb35-2f39f860b833",
        "colab": {
          "base_uri": "https://localhost:8080/",
          "height": 384
        }
      },
      "execution_count": 85,
      "outputs": [
        {
          "output_type": "execute_result",
          "data": {
            "text/plain": [
              "<Figure size 454.719x451.5 with 1 Axes>"
            ],
            "image/png": "[encoded data removed]"
          },
          "metadata": {},
          "execution_count": 85
        }
      ]
    },
    {
      "cell_type": "code",
      "source": [
        "# Apply inverse QFT to ancilla qubits\n",
        "qc.append(QFT(num_ancillae, inverse=True).to_gate(), range(num_ancillae))\n",
        "\n",
        "# Measure ancilla qubits\n",
        "qc.measure(range(num_ancillae), range(num_ancillae))\n",
        "\n",
        "# Draw the quantum circuit\n",
        "qc.draw('mpl')"
      ],
      "metadata": {
        "id": "p7HjFEATnmAr",
        "outputId": "3163e175-c881-456a-9d90-a411c19454a9",
        "colab": {
          "base_uri": "https://localhost:8080/",
          "height": 384
        }
      },
      "execution_count": 86,
      "outputs": [
        {
          "output_type": "execute_result",
          "data": {
            "text/plain": [
              "<Figure size 789.163x451.5 with 1 Axes>"
            ],
            "image/png": "[encoded data removed]"
          },
          "metadata": {},
          "execution_count": 86
        }
      ]
    },
    {
      "cell_type": "code",
      "source": [
        "# Execute the circuit with a number of shots\n",
        "shots = 1024\n",
        "job = simulator.run(transpile(qc, simulator), shots=shots)\n",
        "\n",
        "# Get the results\n",
        "result = job.result()\n",
        "counts = result.get_counts(qc)\n",
        "\n",
        "print(\"Measurement Results:\", counts)\n",
        "\n",
        "\n",
        "# Calculate eigenvalues from measurement results\n",
        "eigenvalue_estimates = {}\n",
        "for bitstring, count in counts.items():\n",
        "    # Convert bitstring to decimal\n",
        "    m = int(bitstring, 2)\n",
        "    # Calculate eigenvalue estimate\n",
        "    eigenvalue_estimate = (m / (2 ** num_ancillae)) * (max_eigenvalue - min_eigenvalue) + min_eigenvalue\n",
        "    eigenvalue_estimates[eigenvalue_estimate] = count\n",
        "\n",
        "# Display the eigenvalue estimates with their frequencies\n",
        "print(\"Eigenvalue Estimates:\")\n",
        "for eigenvalue, freq in eigenvalue_estimates.items():\n",
        "    print(f\"Eigenvalue: {eigenvalue:.4f}, Frequency: {freq}\")\n",
        "\n",
        "# Plot the histogram\n",
        "plot_histogram(counts)"
      ],
      "metadata": {
        "id": "3mSKkmZWGd8g",
        "outputId": "0bc71985-9245-4df4-e0ee-ec0d95ae9f4b",
        "colab": {
          "base_uri": "https://localhost:8080/",
          "height": 620
        }
      },
      "execution_count": 90,
      "outputs": [
        {
          "output_type": "stream",
          "name": "stdout",
          "text": [
            "Measurement Results: {'100': 7, '110': 16, '101': 10, '011': 12, '111': 67, '001': 450, '010': 24, '000': 438}\n",
            "Eigenvalue Estimates:\n",
            "Eigenvalue: 1.0000, Frequency: 7\n",
            "Eigenvalue: 2.0000, Frequency: 16\n",
            "Eigenvalue: 1.5000, Frequency: 10\n",
            "Eigenvalue: 0.5000, Frequency: 12\n",
            "Eigenvalue: 2.5000, Frequency: 67\n",
            "Eigenvalue: -0.5000, Frequency: 450\n",
            "Eigenvalue: 0.0000, Frequency: 24\n",
            "Eigenvalue: -1.0000, Frequency: 438\n"
          ]
        },
        {
          "output_type": "execute_result",
          "data": {
            "text/plain": [
              "<Figure size 640x480 with 1 Axes>"
            ],
            "image/png": "[encoded data removed]"
          },
          "metadata": {},
          "execution_count": 90
        }
      ]
    },
    {
      "cell_type": "markdown",
      "source": [
        "The measurement results show the eigenvalues but not the solution vector x.\n",
        "That's why in the following we try to extract the statevector directly instead of performing a measurement.\n",
        "Ideally, x can be calculated out of the statevector"
      ],
      "metadata": {
        "id": "SlR4GLsaHq5j"
      }
    },
    {
      "cell_type": "code",
      "source": [
        "# Put it all in one function to plot the result based in the max number of ancillae qubits\n",
        "\n",
        "def HHL(A, b, max_num_ancillae=3):\n",
        "\n",
        "    # Check if A is hermitian, otherwise build hermitian matrix H out of A\n",
        "    if ishermitian(A):\n",
        "        H = A\n",
        "        #print(\"A is hermitian.\")\n",
        "    else:\n",
        "        H = np.vstack([np.hstack([np.zeros((2,2)), np.conj(A).T]), np.hstack([A, np.zeros((2,2))])])\n",
        "        print(\"A is not hermitian.\")\n",
        "        print('Hermitian Matrix H = \\n', H)\n",
        "\n",
        "    # Compute eigenvalues and eigenvectors of H\n",
        "    eigenvalues, eigenvectors = np.linalg.eigh(H)\n",
        "    min_eigenvalue = np.min(eigenvalues)\n",
        "    max_eigenvalue = np.max(eigenvalues)\n",
        "\n",
        "    # Compute the unitary operator U = exp(i*H*t) out of hermitian matrix\n",
        "    t = 1 / (max_eigenvalue * 5) # Scaling factor to ensure phases are within [0,1) and distinct\n",
        "    U = expm(1j * H * t)\n",
        "    #print('Unitary Matrix U = \\n', U)\n",
        "\n",
        "    # Verify that U is unitary\n",
        "    identity = np.eye(len(H))\n",
        "    if not np.allclose(U.conj().T @ U, identity):\n",
        "        print(\"U is not unitary.\")\n",
        "\n",
        "    # Prepare to store the solution vector\n",
        "    solution_vectors = []\n",
        "\n",
        "    # Loop over increasing num_ancillae\n",
        "    for num_ancillae in range(1, max_num_ancillae + 1):\n",
        "\n",
        "        # Normalize b\n",
        "        b_normalized = b / np.linalg.norm(b)\n",
        "\n",
        "        # Initialize the quantum circuit with 1 qubit in |0> state representing the vector b\n",
        "        qc = QuantumCircuit(num_ancillae + 1, num_ancillae) # 1 qubit for b\n",
        "\n",
        "        # Initialize the quantum state based on b\n",
        "        qc.initialize([b_normalized[0], b_normalized[1]], num_ancillae)\n",
        "\n",
        "        # Apply Hadamard gates to all ancilla qubits\n",
        "        qc.h(range(num_ancillae))\n",
        "\n",
        "        # Apply controlled-U operations based on eigenvalues\n",
        "        for i in range(num_ancillae):\n",
        "            angle = -2 * np.pi * (eigenvalues[i % len(eigenvalues)] * t)\n",
        "            qc.crz(angle, i, num_ancillae)  # Controlled rotation based on eigenvalue\n",
        "        #for qubit in range(num_ancillae):\n",
        "        #    qc.append(UnitaryGate(U, label=\"A^2^\" + str(qubit)).control(), [qubit, num_ancillae])\n",
        "\n",
        "        # Apply inverse QFT to ancilla qubits\n",
        "        qc.append(QFT(num_ancillae, inverse=True).to_gate(), range(num_ancillae))\n",
        "\n",
        "        # Measure ancilla qubits\n",
        "        #qc.measure(range(num_ancillae), range(num_ancillae))\n",
        "\n",
        "\n",
        "        # Save the statevectors\n",
        "        qc.save_statevector()\n",
        "\n",
        "        # Run simulator\n",
        "        job = simulator.run(transpile(qc, simulator))\n",
        "        result = job.result()\n",
        "\n",
        "        # Retrieve the statevector\n",
        "        statevector = result.get_statevector(qc)\n",
        "\n",
        "        # Extract the relevant part of the statevector\n",
        "        # For each configuration of the ancilla qubits, the last qubit encodes the solution\n",
        "        # We need to consider all combinations of ancilla states\n",
        "        x_solution = np.zeros(2, dtype=complex)\n",
        "\n",
        "        for i in range(2 ** num_ancillae):\n",
        "            # Create a binary representation of the ancilla state\n",
        "            ancilla_state = f\"{i:0{num_ancillae}b}\"  # Create a binary string of length num_ancillae\n",
        "            index_0 = int(ancilla_state + '0', 2)  # Last qubit is |0>\n",
        "            x_solution[0] += statevector[index_0]  # Amplitude for |0> in the last qubit\n",
        "            index_1 = int(ancilla_state + '1', 2)  # Last qubit is |1>\n",
        "            x_solution[1] += statevector[index_1]  # Amplitude for |1> in the last qubit\n",
        "\n",
        "\n",
        "        # Normalize the solution vector\n",
        "        x_solution /= np.linalg.norm(x_solution)\n",
        "\n",
        "        # Append the solution vector for this number of ancillae\n",
        "        solution_vectors.append(x_solution)\n",
        "\n",
        "    # Display the solution vectors\n",
        "    for i, sol_vec in enumerate(solution_vectors):\n",
        "        print(f\"Approximated solution for {i+1} ancillae qubits: x = [{sol_vec[0].real:.4f}, {sol_vec[1].real:.4f}]\")\n",
        "\n",
        "\n",
        "    return solution_vectors\n"
      ],
      "metadata": {
        "id": "bldB3PvXpmax"
      },
      "execution_count": 91,
      "outputs": []
    },
    {
      "cell_type": "code",
      "source": [
        "solution_vectors = HHL(A, b, max_num_ancillae=10)"
      ],
      "metadata": {
        "id": "COTfwUGBdKeg",
        "outputId": "32252343-1b9b-44e8-e4e3-f7a6a7fc8180",
        "colab": {
          "base_uri": "https://localhost:8080/"
        }
      },
      "execution_count": 92,
      "outputs": [
        {
          "output_type": "stream",
          "name": "stdout",
          "text": [
            "Approximated solution for 1 ancillae qubits: x = [0.9891, 0.0109]\n",
            "Approximated solution for 2 ancillae qubits: x = [0.9045, 0.0955]\n",
            "Approximated solution for 3 ancillae qubits: x = [0.9891, 0.0109]\n",
            "Approximated solution for 4 ancillae qubits: x = [0.9045, 0.0955]\n",
            "Approximated solution for 5 ancillae qubits: x = [0.9891, 0.0109]\n",
            "Approximated solution for 6 ancillae qubits: x = [0.9045, 0.0955]\n",
            "Approximated solution for 7 ancillae qubits: x = [0.9891, 0.0109]\n",
            "Approximated solution for 8 ancillae qubits: x = [0.9045, 0.0955]\n",
            "Approximated solution for 9 ancillae qubits: x = [0.9891, 0.0109]\n",
            "Approximated solution for 10 ancillae qubits: x = [0.9045, 0.0955]\n"
          ]
        }
      ]
    },
    {
      "cell_type": "code",
      "source": [
        "import numpy as np\n",
        "from qiskit import QuantumCircuit, transpile\n",
        "from qiskit.circuit.library import QFT\n",
        "from scipy.linalg import expm\n",
        "from qiskit_aer import AerSimulator\n",
        "\n",
        "# Define helper function to check for Hermitian matrix\n",
        "def ishermitian(matrix):\n",
        "    \"\"\"Check if a matrix is Hermitian.\"\"\"\n",
        "    return np.allclose(matrix, np.conj(matrix.T))\n",
        "\n",
        "# Function to implement HHL\n",
        "def HHL(A, b, max_num_ancillae=3):\n",
        "\n",
        "    # Check if A is hermitian\n",
        "    if not ishermitian(A):\n",
        "        raise ValueError(\"Matrix A must be Hermitian.\")\n",
        "\n",
        "    # Compute the eigenvalues and eigenvectors of A\n",
        "    eigenvalues, eigenvectors = np.linalg.eigh(A)\n",
        "    min_eigenvalue = np.min(eigenvalues)\n",
        "    max_eigenvalue = np.max(eigenvalues)\n",
        "\n",
        "    # Prepare to store solution vectors\n",
        "    solution_vectors = []\n",
        "\n",
        "    # Initialize the simulator\n",
        "    simulator = AerSimulator()\n",
        "\n",
        "    # Loop over increasing num_ancillae\n",
        "    for num_ancillae in range(1, max_num_ancillae + 1):\n",
        "\n",
        "        # Normalize b\n",
        "        b_normalized = b / np.linalg.norm(b)\n",
        "\n",
        "        # Initialize the quantum circuit with num_ancillae qubits for ancilla and 1 qubit for b\n",
        "        qc = QuantumCircuit(num_ancillae + 1, num_ancillae)  # 1 qubit for b\n",
        "\n",
        "        # Initialize the quantum state based on b in the last qubit\n",
        "        qc.initialize([b_normalized[0], b_normalized[1]], num_ancillae)\n",
        "\n",
        "        # Apply Hadamard gates to all ancilla qubits\n",
        "        qc.h(range(num_ancillae))\n",
        "\n",
        "        # Apply controlled rotations based on eigenvalues\n",
        "        for i in range(num_ancillae):\n",
        "            if i < len(eigenvalues):  # Ensure we don't exceed the number of eigenvalues\n",
        "                angle = 2 * np.pi * (eigenvalues[i % len(eigenvalues)] / max_eigenvalue)\n",
        "                qc.crz(angle, i, num_ancillae)  # Controlled rotation based on eigenvalue\n",
        "\n",
        "        # Apply inverse QFT to ancilla qubits\n",
        "        qc.append(QFT(num_ancillae, inverse=True).to_gate(), range(num_ancillae))\n",
        "\n",
        "        # Save the statevector\n",
        "        qc.save_statevector()\n",
        "\n",
        "        # Run the simulator\n",
        "        job = simulator.run(transpile(qc, simulator))\n",
        "        result = job.result()\n",
        "\n",
        "        # Retrieve the statevector\n",
        "        statevector = result.get_statevector(qc)\n",
        "\n",
        "        # Extract the relevant part of the statevector\n",
        "        # Prepare to extract solution coefficients\n",
        "        x_solution = np.zeros(2, dtype=complex)  # Initialize complex solution vector\n",
        "\n",
        "        for i in range(2 ** num_ancillae):\n",
        "            # Create a binary representation of the ancilla state\n",
        "            ancilla_state = f\"{i:0{num_ancillae}b}\"  # Create binary string of length num_ancillae\n",
        "\n",
        "            # Retrieve the coefficients for |0> and |1> states of the last qubit\n",
        "            index_0 = int(ancilla_state + '0', 2)  # Last qubit is |0>\n",
        "            x_solution[0] += statevector[index_0]  # Amplitude for |0>\n",
        "\n",
        "            index_1 = int(ancilla_state + '1', 2)  # Last qubit is |1>\n",
        "            x_solution[1] += statevector[index_1]  # Amplitude for |1>\n",
        "\n",
        "        # Normalize the solution vector\n",
        "        print(x_solution)\n",
        "        #x_solution = np.abs(x_solution)\n",
        "        print(x_solution)\n",
        "        x_solution /= np.linalg.norm(x_solution)\n",
        "        print(x_solution)\n",
        "\n",
        "        # Append the solution vector for this number of ancillae\n",
        "        solution_vectors.append(x_solution)\n",
        "\n",
        "    # Display the solution vectors\n",
        "    for i, sol_vec in enumerate(solution_vectors):\n",
        "        print(f\"Approximated solution for {i+1} ancillae qubits: x = [{sol_vec[0].real:.4f}, {sol_vec[1].real:.4f}]\")\n",
        "\n",
        "    return solution_vectors\n",
        "\n",
        "# Define matrix A and vector b\n",
        "A = np.array([[1, 2], [2, 1]])  # Matrix A\n",
        "b = np.array([1, 0])  # Vector b\n",
        "\n",
        "# Run HHL to get solution vectors\n",
        "solution_vectors = HHL(A, b, max_num_ancillae=3)\n"
      ],
      "metadata": {
        "id": "EPspBuHCAB0i",
        "outputId": "83103fb2-db2e-4517-ee3e-838460ab3263",
        "colab": {
          "base_uri": "https://localhost:8080/"
        }
      },
      "execution_count": 93,
      "outputs": [
        {
          "output_type": "stream",
          "name": "stdout",
          "text": [
            "[0.75+0.4330127j 0.25-0.4330127j]\n",
            "[0.75+0.4330127j 0.25-0.4330127j]\n",
            "[0.75+0.4330127j 0.25-0.4330127j]\n",
            "[1.57009246e-16-1.23259516e-32j 1.00000000e+00+5.55111512e-17j]\n",
            "[1.57009246e-16-1.23259516e-32j 1.00000000e+00+5.55111512e-17j]\n",
            "[1.57009246e-16-1.23259516e-32j 1.00000000e+00+5.55111512e-17j]\n",
            "[1.00000000e+00-5.55111512e-17j 1.23259516e-32+6.12323400e-17j]\n",
            "[1.00000000e+00-5.55111512e-17j 1.23259516e-32+6.12323400e-17j]\n",
            "[1.00000000e+00-5.55111512e-17j 1.23259516e-32+6.12323400e-17j]\n",
            "Approximated solution for 1 ancillae qubits: x = [0.7500, 0.2500]\n",
            "Approximated solution for 2 ancillae qubits: x = [0.0000, 1.0000]\n",
            "Approximated solution for 3 ancillae qubits: x = [1.0000, 0.0000]\n"
          ]
        }
      ]
    },
    {
      "cell_type": "code",
      "source": [
        "HHL(A, b, num_ancillae=4)"
      ],
      "metadata": {
        "id": "cgB5iCuykivH",
        "outputId": "d4f397c4-a15d-4b9b-97fd-73f06d9247b7",
        "colab": {
          "base_uri": "https://localhost:8080/",
          "height": 644
        }
      },
      "execution_count": 64,
      "outputs": [
        {
          "output_type": "stream",
          "name": "stdout",
          "text": [
            "Measurement Results: {'1010': 14, '0110': 6, '1101': 6, '1100': 165, '0101': 6, '1110': 39, '1111': 5, '0001': 19, '0100': 184, '0010': 105, '0000': 475}\n"
          ]
        },
        {
          "output_type": "display_data",
          "data": {
            "text/plain": [
              "<Figure size 1000x600 with 1 Axes>"
            ],
            "image/png": "[encoded data removed]"
          },
          "metadata": {}
        }
      ]
    },
    {
      "cell_type": "code",
      "source": [
        "HHL(A, b, num_ancillae=5)"
      ],
      "metadata": {
        "id": "syMpxFZalALK",
        "outputId": "e2fac155-75ad-4cf9-e9d2-a32607e14285",
        "colab": {
          "base_uri": "https://localhost:8080/",
          "height": 644
        }
      },
      "execution_count": 65,
      "outputs": [
        {
          "output_type": "stream",
          "name": "stdout",
          "text": [
            "Measurement Results: {'01101': 1, '01011': 1, '11111': 1, '00110': 3, '00011': 1, '01110': 1, '11101': 17, '00100': 148, '00000': 462, '00010': 95, '10101': 3, '11100': 150, '00001': 26, '10010': 2, '01100': 31, '11110': 35, '01010': 5, '11010': 13, '01001': 1, '00101': 8, '10100': 20}\n"
          ]
        },
        {
          "output_type": "display_data",
          "data": {
            "text/plain": [
              "<Figure size 1000x600 with 1 Axes>"
            ],
            "image/png": "[encoded data removed]"
          },
          "metadata": {}
        }
      ]
    },
    {
      "cell_type": "markdown",
      "source": [],
      "metadata": {
        "id": "6TWE8wY5p94l"
      }
    }
  ]
}